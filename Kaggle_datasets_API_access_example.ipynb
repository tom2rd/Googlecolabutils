{
  "nbformat": 4,
  "nbformat_minor": 0,
  "metadata": {
    "colab": {
      "name": "Kaggle datasets API access example.ipynb",
      "provenance": [],
      "collapsed_sections": [],
      "include_colab_link": true
    },
    "kernelspec": {
      "name": "python3",
      "display_name": "Python 3"
    }
  },
  "cells": [
    {
      "cell_type": "markdown",
      "metadata": {
        "id": "view-in-github",
        "colab_type": "text"
      },
      "source": [
        "<a href=\"https://colab.research.google.com/github/tom2rd/Googlecolabutils/blob/master/Kaggle_datasets_API_access_example.ipynb\" target=\"_parent\"><img src=\"https://colab.research.google.com/assets/colab-badge.svg\" alt=\"Open In Colab\"/></a>"
      ]
    },
    {
      "cell_type": "markdown",
      "metadata": {
        "id": "kbWZxJka-V-y",
        "colab_type": "text"
      },
      "source": [
        "https://www.it-swarm.net/ja/dataset/google-colab%E3%81%A7kaggle%E3%83%87%E3%83%BC%E3%82%BF%E3%82%BB%E3%83%83%E3%83%88%E3%82%92%E4%BD%BF%E7%94%A8%E3%81%99%E3%82%8B/837623590/\n",
        "\n",
        "https://www.codexa.net/ml-dataset-list/\n",
        "\n",
        "https://sites.google.com/site/datasciencehiro/datasets\n",
        "\n",
        "https://www.tableau.com/ja-jp/about/blog/2019/2/public-data-sets-102221\n",
        "\n",
        "\n",
        "https://qiita.com/daisuke-team-ai/items/f8e3275f1d3ca7e9bfcd\n"
      ]
    },
    {
      "cell_type": "code",
      "metadata": {
        "id": "akJ8fvsfGVdn",
        "colab_type": "code",
        "colab": {}
      },
      "source": [
        "# Run this cell and select the kaggle.json file downloaded\n",
        "# from the Kaggle account settings page.\n",
        "from google.colab import files\n",
        "files.upload()"
      ],
      "execution_count": 0,
      "outputs": []
    },
    {
      "cell_type": "code",
      "metadata": {
        "id": "cDLXrqcNGlU7",
        "colab_type": "code",
        "outputId": "b70482fd-eb0f-43ac-a8bf-ad529e2367a7",
        "colab": {
          "base_uri": "https://localhost:8080/",
          "height": 34
        }
      },
      "source": [
        "# Let's make sure the kaggle.json file is present.\n",
        "!ls -lha kaggle.json"
      ],
      "execution_count": 0,
      "outputs": [
        {
          "output_type": "stream",
          "text": [
            "-rw-r--r-- 1 root root 71 Nov 12 04:07 kaggle.json\n"
          ],
          "name": "stdout"
        }
      ]
    },
    {
      "cell_type": "code",
      "metadata": {
        "id": "QITWh1N5GoqG",
        "colab_type": "code",
        "colab": {}
      },
      "source": [
        "# Next, install the Kaggle API client.\n",
        "!pip install -q kaggle"
      ],
      "execution_count": 0,
      "outputs": []
    },
    {
      "cell_type": "code",
      "metadata": {
        "id": "KixiXyagGy7Y",
        "colab_type": "code",
        "colab": {}
      },
      "source": [
        "# The Kaggle API client expects this file to be in ~/.kaggle,\n",
        "# so move it there.\n",
        "!mkdir -p ~/.kaggle\n",
        "!cp kaggle.json ~/.kaggle/\n",
        "\n",
        "# This permissions change avoids a warning on Kaggle tool startup.\n",
        "!chmod 600 ~/.kaggle/kaggle.json"
      ],
      "execution_count": 0,
      "outputs": []
    },
    {
      "cell_type": "code",
      "metadata": {
        "id": "rPZaJ7oOGuyh",
        "colab_type": "code",
        "outputId": "7fb7a573-6d39-46a8-dbac-b397c17987c9",
        "colab": {
          "base_uri": "https://localhost:8080/",
          "height": 408
        }
      },
      "source": [
        "# List available datasets.\n",
        "!kaggle datasets list"
      ],
      "execution_count": 0,
      "outputs": [
        {
          "output_type": "stream",
          "text": [
            "Warning: Looks like you're using an outdated API Version, please consider updating (server 1.5.6 / client 1.5.4)\n",
            "ref                                                      title                                               size  lastUpdated          downloadCount  \n",
            "-------------------------------------------------------  -------------------------------------------------  -----  -------------------  -------------  \n",
            "rajeevw/ufcdata                                          UFC-Fight historical data from 1993 to 2019          3MB  2019-07-05 09:58:02           7098  \n",
            "gustavomodelli/forest-fires-in-brazil                    Forest Fires in Brazil                              31KB  2019-08-24 16:09:16          13008  \n",
            "chirin/africa-economic-banking-and-systemic-crisis-data  Africa Economic, Banking and Systemic Crisis Data   14KB  2019-07-21 02:00:17           4352  \n",
            "shuyangli94/food-com-recipes-and-user-interactions       Food.com Recipes and Interactions                  267MB  2019-11-08 01:18:21           3897  \n",
            "ruslankl/european-union-lgbt-survey-2012                 EU LGBT Survey                                     610KB  2019-07-19 11:15:25           1803  \n",
            "akhilv11/border-crossing-entry-data                      Border Crossing Entry Data                           4MB  2019-08-21 14:51:34           5601  \n",
            "kapilverma/hindi-bible                                   Hindi Bible                                          5MB  2019-09-07 18:04:35            394  \n",
            "tristan581/17k-apple-app-store-strategy-games            17K Mobile Strategy Games                            8MB  2019-08-26 08:22:16          11838  \n",
            "hmavrodiev/sofia-air-quality-dataset                     Sofia air quality dataset                            3GB  2019-09-14 05:48:09           1486  \n",
            "mabusalah/brent-oil-prices                               Brent Oil Prices                                    38KB  2019-10-14 12:31:05           1835  \n",
            "grikomsn/amazon-cell-phones-reviews                      Amazon Cell Phones Reviews                          10MB  2019-09-29 02:26:48           2921  \n",
            "pascalbliem/european-social-survey-ess-8-ed21-201617     European Social Survey (ESS) 8 ed2.1 (2016/17)      10MB  2019-09-29 07:30:37            754  \n",
            "srikantsahu/co2-and-ghg-emission-data                    CO2 and GHG emission data                           91KB  2019-09-26 20:10:59           2014  \n",
            "brkurzawa/us-breweries                                   US Breweries                                        76KB  2019-10-02 03:15:27           2264  \n",
            "irinachuchueva/russian-wholesale-electricity-market      Russian Wholesale Electricity Market                 1MB  2019-10-09 08:20:57            760  \n",
            "nitinsss/military-expenditure-of-countries-19602019      Military Spending of Countries (1960-2019)          55KB  2019-10-10 12:17:37           3309  \n",
            "smid80/canadian-federal-election-results-timeseries      Canadian Federal Election Results (Timeseries)      18MB  2019-10-09 11:08:29            753  \n",
            "jojoker/singapore-airbnb                                 Singapore Airbnb                                   350KB  2019-09-25 22:05:44           2587  \n",
            "hmavrodiev/london-bike-sharing-dataset                   London bike sharing dataset                        165KB  2019-10-10 12:49:37           3688  \n",
            "valentynsichkar/traffic-signs-preprocessed               Traffic Signs Preprocessed                            0B  2019-08-31 18:22:11           1536  \n"
          ],
          "name": "stdout"
        }
      ]
    },
    {
      "cell_type": "code",
      "metadata": {
        "id": "Wm60HzKQ1PVI",
        "colab_type": "code",
        "outputId": "56eb7a76-3393-4bf9-aea4-4f6ea00ae107",
        "colab": {
          "base_uri": "https://localhost:8080/",
          "height": 408
        }
      },
      "source": [
        "!kaggle competitions list"
      ],
      "execution_count": 0,
      "outputs": [
        {
          "output_type": "stream",
          "text": [
            "Warning: Looks like you're using an outdated API Version, please consider updating (server 1.5.6 / client 1.5.4)\n",
            "ref                                            deadline             category            reward  teamCount  userHasEntered  \n",
            "---------------------------------------------  -------------------  ---------------  ---------  ---------  --------------  \n",
            "digit-recognizer                               2030-01-01 00:00:00  Getting Started  Knowledge       2432           False  \n",
            "titanic                                        2030-01-01 00:00:00  Getting Started  Knowledge      14566           False  \n",
            "house-prices-advanced-regression-techniques    2030-01-01 00:00:00  Getting Started  Knowledge       5109           False  \n",
            "imagenet-object-localization-challenge         2029-12-31 07:00:00  Research         Knowledge         57           False  \n",
            "tensorflow2-question-answering                 2020-01-22 23:59:00  Featured           $50,000        417           False  \n",
            "data-science-bowl-2019                         2020-01-22 23:59:00  Featured          $160,000        781           False  \n",
            "pku-autonomous-driving                         2020-01-21 23:59:00  Featured           $25,000        198           False  \n",
            "competitive-data-science-predict-future-sales  2019-12-31 23:59:00  Playground           Kudos       4774           False  \n",
            "ashrae-energy-prediction                       2019-12-19 23:59:00  Featured           $25,000       1995           False  \n",
            "Kannada-MNIST                                  2019-12-17 23:59:00  Playground       Knowledge        698           False  \n",
            "bigquery-geotab-intersection-congestion        2019-12-12 23:59:00  Playground           Kudos        367           False  \n",
            "cat-in-the-dat                                 2019-12-09 23:59:00  Playground            Swag       1048           False  \n",
            "kaggle-survey-2019                             2019-12-02 23:59:00  Analytics          $30,000          0           False  \n",
            "nfl-big-data-bowl-2020                         2019-11-27 23:59:00  Featured           $75,000       1483           False  \n",
            "understanding_cloud_organization               2019-11-18 23:59:00  Research           $10,000       1395           False  \n",
            "rsna-intracranial-hemorrhage-detection         2019-11-13 23:59:00  Featured           $25,000        343           False  \n",
            "3d-object-detection-for-autonomous-vehicles    2019-11-12 23:59:00  Featured           $25,000        546           False  \n",
            "severstal-steel-defect-detection               2019-10-24 23:59:00  Featured          $120,000       2433           False  \n",
            "kuzushiji-recognition                          2019-10-14 23:59:00  Playground         $15,000        293           False  \n",
            "youtube8m-2019                                 2019-10-11 23:59:00  Research           $25,000        283           False  \n"
          ],
          "name": "stdout"
        }
      ]
    },
    {
      "cell_type": "code",
      "metadata": {
        "id": "K9Tzxa-81wcJ",
        "colab_type": "code",
        "outputId": "4e43c0a0-842e-4075-9244-501a376a0bbc",
        "colab": {
          "base_uri": "https://localhost:8080/",
          "height": 408
        }
      },
      "source": [
        "!kaggle datasets list --sort-by votes"
      ],
      "execution_count": 0,
      "outputs": [
        {
          "output_type": "stream",
          "text": [
            "Warning: Looks like you're using an outdated API Version, please consider updating (server 1.5.6 / client 1.5.4)\n",
            "ref                                                       title                                           size  lastUpdated          downloadCount  \n",
            "--------------------------------------------------------  ---------------------------------------------  -----  -------------------  -------------  \n",
            "mlg-ulb/creditcardfraud                                   Credit Card Fraud Detection                     66MB  2018-03-23 01:17:27         175371  \n",
            "ronitf/heart-disease-uci                                  Heart Disease UCI                                3KB  2018-06-25 11:33:56          96484  \n",
            "lava18/google-play-store-apps                             Google Play Store Apps                           2MB  2019-02-03 13:55:47          96729  \n",
            "hugomathien/soccer                                        European Soccer Database                        33MB  2016-10-23 22:31:38          95313  \n",
            "zynicide/wine-reviews                                     Wine Reviews                                    51MB  2017-11-27 17:08:04          84891  \n",
            "tmdb/tmdb-movie-metadata                                  TMDB 5000 Movie Dataset                          9MB  2017-09-28 01:09:12         105953  \n",
            "karangadiya/fifa19                                        FIFA 19 complete player dataset                  2MB  2018-12-21 03:52:59          64649  \n",
            "datasnaek/youtube-new                                     Trending YouTube Video Statistics              201MB  2019-06-03 00:56:47          67081  \n",
            "START-UMD/gtd                                             Global Terrorism Database                       29MB  2018-09-10 18:22:18          54649  \n",
            "russellyates88/suicide-rates-overview-1985-to-2016        Suicide Rates Overview 1985 to 2016            397KB  2018-12-01 19:18:25          62523  \n",
            "mczielinski/bitcoin-historical-data                       Bitcoin Historical Data                        125MB  2019-08-15 14:31:32          51324  \n",
            "borismarjanovic/price-volume-data-for-all-us-stocks-etfs  Huge Stock Market Dataset                      492MB  2017-11-16 14:53:29          44551  \n",
            "unsdsn/world-happiness                                    World Happiness Report                          29KB  2017-06-14 20:41:45          84822  \n",
            "uciml/iris                                                Iris Species                                     4KB  2016-09-27 07:38:05          84573  \n",
            "rounakbanik/the-movies-dataset                            The Movies Dataset                             228MB  2017-11-10 02:40:38          67157  \n",
            "abcsds/pokemon                                            Pokemon with stats                              15KB  2016-08-29 06:01:43          40433  \n",
            "wendykan/lending-club-loan-data                           Lending Club Loan Data                         720MB  2019-03-18 18:43:12          65022  \n",
            "worldbank/world-development-indicators                    World Development Indicators                   369MB  2017-05-01 17:50:44          42729  \n",
            "mohansacharya/graduate-admissions                         Graduate Admission 2                            10KB  2018-12-28 10:07:14          36989  \n",
            "uciml/breast-cancer-wisconsin-data                        Breast Cancer Wisconsin (Diagnostic) Data Set   49KB  2016-09-25 10:49:04          71077  \n"
          ],
          "name": "stdout"
        }
      ]
    },
    {
      "cell_type": "code",
      "metadata": {
        "id": "0hyJ4Rb5HMwH",
        "colab_type": "code",
        "outputId": "3d84d698-e265-4f41-88f2-767f67199a3d",
        "colab": {
          "base_uri": "https://localhost:8080/",
          "height": 68
        }
      },
      "source": [
        "# Copy the stackoverflow data set locally.\n",
        "!kaggle datasets download -d datasnaek/youtube-new"
      ],
      "execution_count": 0,
      "outputs": [
        {
          "output_type": "stream",
          "text": [
            "Downloading youtube-new.zip to /content\n",
            " 99% 198M/201M [00:05<00:00, 23.7MB/s]\n",
            "100% 201M/201M [00:05<00:00, 37.1MB/s]\n"
          ],
          "name": "stdout"
        }
      ]
    },
    {
      "cell_type": "code",
      "metadata": {
        "id": "VO9nM8Hs2vpP",
        "colab_type": "code",
        "outputId": "d00f5a89-32eb-4b27-c294-90daedf75902",
        "colab": {
          "base_uri": "https://localhost:8080/",
          "height": 221
        }
      },
      "source": [
        "!ls"
      ],
      "execution_count": 0,
      "outputs": [
        {
          "output_type": "stream",
          "text": [
            "CA_category_id.json  kaggle.json\n",
            "CAvideos.csv\t     KR_category_id.json\n",
            "DE_category_id.json  KRvideos.csv\n",
            "DEvideos.csv\t     MX_category_id.json\n",
            "FR_category_id.json  MXvideos.csv\n",
            "FRvideos.csv\t     RU_category_id.json\n",
            "GB_category_id.json  RUvideos.csv\n",
            "GBvideos.csv\t     sample_data\n",
            "IN_category_id.json  stack-overflow-2018-developer-survey.zip\n",
            "INvideos.csv\t     US_category_id.json\n",
            "JP_category_id.json  USvideos.csv\n",
            "JPvideos.csv\t     youtube-new.zip\n"
          ],
          "name": "stdout"
        }
      ]
    },
    {
      "cell_type": "markdown",
      "metadata": {
        "id": "Xg1wIudM390Y",
        "colab_type": "text"
      },
      "source": [
        "#Zip 解答"
      ]
    },
    {
      "cell_type": "code",
      "metadata": {
        "id": "EHQoRBmb3C9v",
        "colab_type": "code",
        "outputId": "5448b9e1-4e7d-4805-ee6e-e30d1cfbbb68",
        "colab": {
          "base_uri": "https://localhost:8080/",
          "height": 34
        }
      },
      "source": [
        "from zipfile import ZipFile\n",
        "file_name = 'youtube-new.zip'#ここに解凍したいファイルの名前を入れてください。\n",
        "\n",
        "with ZipFile(file_name , 'r') as zip_file:\n",
        "  zip_file.extractall()\n",
        "  print('done')"
      ],
      "execution_count": 0,
      "outputs": [
        {
          "output_type": "stream",
          "text": [
            "done\n"
          ],
          "name": "stdout"
        }
      ]
    },
    {
      "cell_type": "code",
      "metadata": {
        "id": "IQFb3qKc4DBC",
        "colab_type": "code",
        "outputId": "eae14e8b-ab25-4f69-f92d-bb612bf4a9b2",
        "colab": {
          "base_uri": "https://localhost:8080/",
          "height": 221
        }
      },
      "source": [
        "!ls"
      ],
      "execution_count": 0,
      "outputs": [
        {
          "output_type": "stream",
          "text": [
            "CA_category_id.json  kaggle.json\n",
            "CAvideos.csv\t     KR_category_id.json\n",
            "DE_category_id.json  KRvideos.csv\n",
            "DEvideos.csv\t     MX_category_id.json\n",
            "FR_category_id.json  MXvideos.csv\n",
            "FRvideos.csv\t     RU_category_id.json\n",
            "GB_category_id.json  RUvideos.csv\n",
            "GBvideos.csv\t     sample_data\n",
            "IN_category_id.json  stack-overflow-2018-developer-survey.zip\n",
            "INvideos.csv\t     US_category_id.json\n",
            "JP_category_id.json  USvideos.csv\n",
            "JPvideos.csv\t     youtube-new.zip\n"
          ],
          "name": "stdout"
        }
      ]
    },
    {
      "cell_type": "code",
      "metadata": {
        "id": "8FgC4GlvHZQ1",
        "colab_type": "code",
        "colab": {}
      },
      "source": [
        "!head CAvideos.csv"
      ],
      "execution_count": 0,
      "outputs": []
    },
    {
      "cell_type": "markdown",
      "metadata": {
        "id": "lu0LlPw_4OG5",
        "colab_type": "text"
      },
      "source": [
        "#JSONファイルの読み込み"
      ]
    },
    {
      "cell_type": "code",
      "metadata": {
        "id": "s4PRAZpD4SKu",
        "colab_type": "code",
        "colab": {}
      },
      "source": [
        "import pandas as pd\n",
        "import json\n",
        "\n",
        "df = pd.read_json('JP_category_id.json')\n",
        "df"
      ],
      "execution_count": 0,
      "outputs": []
    },
    {
      "cell_type": "code",
      "metadata": {
        "id": "wFMboaBj4lf9",
        "colab_type": "code",
        "colab": {}
      },
      "source": [
        "df.kind"
      ],
      "execution_count": 0,
      "outputs": []
    },
    {
      "cell_type": "code",
      "metadata": {
        "id": "QudC5dii5BdN",
        "colab_type": "code",
        "outputId": "c9058cf5-109a-419a-9d97-75478c2b2aee",
        "colab": {
          "base_uri": "https://localhost:8080/",
          "height": 255
        }
      },
      "source": [
        "import pandas as pd\n",
        "df2 = pd.read_csv('CAvideos.csv') \n",
        "print(df2)"
      ],
      "execution_count": 0,
      "outputs": [
        {
          "output_type": "stream",
          "text": [
            "          video_id  ...                                        description\n",
            "0      n1WpP7iowLc  ...  Eminem's new track Walk on Water ft. Beyoncé i...\n",
            "1      0dBIkQ4Mz1M  ...  STill got a lot of packages. Probably will las...\n",
            "2      5qpjK5DgCt4  ...  WATCH MY PREVIOUS VIDEO ▶ \\n\\nSUBSCRIBE ► http...\n",
            "3      d380meD0W0M  ...  I know it's been a while since we did this sho...\n",
            "4      2Vv-BfVoq4g  ...  🎧: https://ad.gt/yt-perfect\\n💰: https://atlant...\n",
            "...            ...  ...                                                ...\n",
            "40876  sGolxsMSGfQ  ...  🚨 NEW MERCH! http://amzn.to/annoyingorange 🚨➤ ...\n",
            "40877  8HNuRNi8t70  ...  ► Retrouvez vos programmes préférés : https://...\n",
            "40878  GWlKEM3m2EE  ...  Find out more about Kingdom Hearts 3: https://...\n",
            "40879  lbMKLzQ4cNQ  ...  Peter Navarro isn’t talking so tough now. Ana ...\n",
            "40880  POTgw38-m58  ...  藝人：李妍瑾、玉兔、班傑、LaLa、小優、少少專家：陳筱屏(律師)、Wendy(心理師)、羅...\n",
            "\n",
            "[40881 rows x 16 columns]\n"
          ],
          "name": "stdout"
        }
      ]
    },
    {
      "cell_type": "code",
      "metadata": {
        "id": "AuhCknMN6VzA",
        "colab_type": "code",
        "outputId": "4384b356-371f-4764-be63-6e23540e7b20",
        "colab": {
          "base_uri": "https://localhost:8080/",
          "height": 595
        }
      },
      "source": [
        "df.items"
      ],
      "execution_count": 0,
      "outputs": [
        {
          "output_type": "execute_result",
          "data": {
            "text/plain": [
              "<bound method DataFrame.items of                                  kind  ...                                              items\n",
              "0   youtube#videoCategoryListResponse  ...  {'kind': 'youtube#videoCategory', 'etag': '\"XI...\n",
              "1   youtube#videoCategoryListResponse  ...  {'kind': 'youtube#videoCategory', 'etag': '\"XI...\n",
              "2   youtube#videoCategoryListResponse  ...  {'kind': 'youtube#videoCategory', 'etag': '\"XI...\n",
              "3   youtube#videoCategoryListResponse  ...  {'kind': 'youtube#videoCategory', 'etag': '\"XI...\n",
              "4   youtube#videoCategoryListResponse  ...  {'kind': 'youtube#videoCategory', 'etag': '\"XI...\n",
              "5   youtube#videoCategoryListResponse  ...  {'kind': 'youtube#videoCategory', 'etag': '\"XI...\n",
              "6   youtube#videoCategoryListResponse  ...  {'kind': 'youtube#videoCategory', 'etag': '\"XI...\n",
              "7   youtube#videoCategoryListResponse  ...  {'kind': 'youtube#videoCategory', 'etag': '\"XI...\n",
              "8   youtube#videoCategoryListResponse  ...  {'kind': 'youtube#videoCategory', 'etag': '\"XI...\n",
              "9   youtube#videoCategoryListResponse  ...  {'kind': 'youtube#videoCategory', 'etag': '\"XI...\n",
              "10  youtube#videoCategoryListResponse  ...  {'kind': 'youtube#videoCategory', 'etag': '\"XI...\n",
              "11  youtube#videoCategoryListResponse  ...  {'kind': 'youtube#videoCategory', 'etag': '\"XI...\n",
              "12  youtube#videoCategoryListResponse  ...  {'kind': 'youtube#videoCategory', 'etag': '\"XI...\n",
              "13  youtube#videoCategoryListResponse  ...  {'kind': 'youtube#videoCategory', 'etag': '\"XI...\n",
              "14  youtube#videoCategoryListResponse  ...  {'kind': 'youtube#videoCategory', 'etag': '\"XI...\n",
              "15  youtube#videoCategoryListResponse  ...  {'kind': 'youtube#videoCategory', 'etag': '\"XI...\n",
              "16  youtube#videoCategoryListResponse  ...  {'kind': 'youtube#videoCategory', 'etag': '\"XI...\n",
              "17  youtube#videoCategoryListResponse  ...  {'kind': 'youtube#videoCategory', 'etag': '\"XI...\n",
              "18  youtube#videoCategoryListResponse  ...  {'kind': 'youtube#videoCategory', 'etag': '\"XI...\n",
              "19  youtube#videoCategoryListResponse  ...  {'kind': 'youtube#videoCategory', 'etag': '\"XI...\n",
              "20  youtube#videoCategoryListResponse  ...  {'kind': 'youtube#videoCategory', 'etag': '\"XI...\n",
              "21  youtube#videoCategoryListResponse  ...  {'kind': 'youtube#videoCategory', 'etag': '\"XI...\n",
              "22  youtube#videoCategoryListResponse  ...  {'kind': 'youtube#videoCategory', 'etag': '\"XI...\n",
              "23  youtube#videoCategoryListResponse  ...  {'kind': 'youtube#videoCategory', 'etag': '\"XI...\n",
              "24  youtube#videoCategoryListResponse  ...  {'kind': 'youtube#videoCategory', 'etag': '\"XI...\n",
              "25  youtube#videoCategoryListResponse  ...  {'kind': 'youtube#videoCategory', 'etag': '\"XI...\n",
              "26  youtube#videoCategoryListResponse  ...  {'kind': 'youtube#videoCategory', 'etag': '\"XI...\n",
              "27  youtube#videoCategoryListResponse  ...  {'kind': 'youtube#videoCategory', 'etag': '\"XI...\n",
              "28  youtube#videoCategoryListResponse  ...  {'kind': 'youtube#videoCategory', 'etag': '\"XI...\n",
              "29  youtube#videoCategoryListResponse  ...  {'kind': 'youtube#videoCategory', 'etag': '\"XI...\n",
              "30  youtube#videoCategoryListResponse  ...  {'kind': 'youtube#videoCategory', 'etag': '\"XI...\n",
              "\n",
              "[31 rows x 3 columns]>"
            ]
          },
          "metadata": {
            "tags": []
          },
          "execution_count": 35
        }
      ]
    }
  ]
}