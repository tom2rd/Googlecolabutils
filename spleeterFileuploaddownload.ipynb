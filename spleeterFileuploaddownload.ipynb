{
  "nbformat": 4,
  "nbformat_minor": 0,
  "metadata": {
    "colab": {
      "name": "spleeterFileuploaddownload.ipynb ",
      "provenance": [],
      "include_colab_link": true
    },
    "kernelspec": {
      "display_name": "Python 3",
      "name": "python3"
    }
  },
  "cells": [
    {
      "cell_type": "markdown",
      "metadata": {
        "id": "view-in-github",
        "colab_type": "text"
      },
      "source": [
        "<a href=\"https://colab.research.google.com/github/tom2rd/Googlecolabutils/blob/master/spleeterFileuploaddownload.ipynb\" target=\"_parent\"><img src=\"https://colab.research.google.com/assets/colab-badge.svg\" alt=\"Open In Colab\"/></a>"
      ]
    },
    {
      "cell_type": "markdown",
      "metadata": {
        "colab_type": "text",
        "id": "K6mcSc0mmp3i"
      },
      "source": [
        "# Install spleeter"
      ]
    },
    {
      "cell_type": "code",
      "metadata": {
        "colab_type": "code",
        "id": "f8Brdfh6mzEz",
        "colab": {}
      },
      "source": [
        "!apt install ffmpeg"
      ],
      "execution_count": 0,
      "outputs": []
    },
    {
      "cell_type": "code",
      "metadata": {
        "colab_type": "code",
        "id": "V_6Ram1lmc1F",
        "colab": {}
      },
      "source": [
        "pip install spleeter\n",
        "# successfully と出た後にWorningが出ますが、気にしなくていいです"
      ],
      "execution_count": 0,
      "outputs": []
    },
    {
      "cell_type": "code",
      "metadata": {
        "colab_type": "code",
        "id": "W0LktyMypXqE",
        "colab": {}
      },
      "source": [
        "from IPython.display import Audio"
      ],
      "execution_count": 0,
      "outputs": []
    },
    {
      "cell_type": "markdown",
      "metadata": {
        "colab_type": "text",
        "id": "afbcUSken16L"
      },
      "source": [
        "# Separate from command line"
      ]
    },
    {
      "cell_type": "code",
      "metadata": {
        "colab_type": "code",
        "id": "O1kQaoJSoAD0",
        "colab": {}
      },
      "source": [
        "!wget https://github.com/deezer/spleeter/raw/master/audio_example.mp3"
      ],
      "execution_count": 0,
      "outputs": []
    },
    {
      "cell_type": "code",
      "metadata": {
        "colab_type": "code",
        "id": "ibG6uF55p4lH",
        "colab": {}
      },
      "source": [
        "Audio('audio_example.mp3')"
      ],
      "execution_count": 0,
      "outputs": []
    },
    {
      "cell_type": "code",
      "metadata": {
        "colab_type": "code",
        "id": "kOAqBcPhn6IU",
        "colab": {}
      },
      "source": [
        "!spleeter separate -h"
      ],
      "execution_count": 0,
      "outputs": []
    },
    {
      "cell_type": "code",
      "metadata": {
        "colab_type": "code",
        "id": "dGL-k5xxoKbu",
        "colab": {}
      },
      "source": [
        "!spleeter separate -i audio_example.mp3 -o output/"
      ],
      "execution_count": 0,
      "outputs": []
    },
    {
      "cell_type": "code",
      "metadata": {
        "colab_type": "code",
        "id": "IDuPWcAMoZP_",
        "colab": {}
      },
      "source": [
        "!ls output/audio_example"
      ],
      "execution_count": 0,
      "outputs": []
    },
    {
      "cell_type": "code",
      "metadata": {
        "colab_type": "code",
        "id": "e7CHpyiloxrk",
        "colab": {}
      },
      "source": [
        "Audio('output/audio_example/vocals.wav')"
      ],
      "execution_count": 0,
      "outputs": []
    },
    {
      "cell_type": "code",
      "metadata": {
        "colab_type": "code",
        "id": "ibXd-WCTpT0w",
        "colab": {}
      },
      "source": [
        "Audio('output/audio_example/accompaniment.wav')"
      ],
      "execution_count": 0,
      "outputs": []
    },
    {
      "cell_type": "markdown",
      "metadata": {
        "id": "Bm0bdziTLb1p",
        "colab_type": "text"
      },
      "source": [
        "## ファイルをアップロードして使ってみる\n"
      ]
    },
    {
      "cell_type": "code",
      "metadata": {
        "id": "Pv6XVwy3Lyr3",
        "colab_type": "code",
        "colab": {}
      },
      "source": [
        "from google.colab import files"
      ],
      "execution_count": 0,
      "outputs": []
    },
    {
      "cell_type": "code",
      "metadata": {
        "id": "ITT0p4lqL38F",
        "colab_type": "code",
        "colab": {}
      },
      "source": [
        "#ファイル選択してアップロードする　mp3とかの音楽ファイルですよ！\n",
        "uploaded = files.upload()"
      ],
      "execution_count": 0,
      "outputs": []
    },
    {
      "cell_type": "code",
      "metadata": {
        "id": "5DmmV3euL37H",
        "colab_type": "code",
        "colab": {}
      },
      "source": [
        "# ファイル名の確認 ファイル名が出たらそれをコピペすれば使えるよ\n",
        "!ls"
      ],
      "execution_count": 0,
      "outputs": []
    },
    {
      "cell_type": "code",
      "metadata": {
        "id": "Vib9VNnANp1h",
        "colab_type": "code",
        "colab": {}
      },
      "source": [
        "!spleeter separate -i filename.mp3 -o output/"
      ],
      "execution_count": 0,
      "outputs": []
    },
    {
      "cell_type": "code",
      "metadata": {
        "id": "0JPG98OjRyia",
        "colab_type": "code",
        "colab": {
          "base_uri": "https://localhost:8080/",
          "height": 34
        },
        "outputId": "2bffba89-eaee-477e-b455-025cc4a6a924"
      },
      "source": [
        "!ls output/filename"
      ],
      "execution_count": 20,
      "outputs": [
        {
          "output_type": "stream",
          "text": [
            "accompaniment.wav  vocals.wav\n"
          ],
          "name": "stdout"
        }
      ]
    },
    {
      "cell_type": "code",
      "metadata": {
        "id": "tGbcvbTiSIq6",
        "colab_type": "code",
        "colab": {}
      },
      "source": [
        "files.download('output/filename/vocals.wav')"
      ],
      "execution_count": 0,
      "outputs": []
    },
    {
      "cell_type": "code",
      "metadata": {
        "id": "z7gmMWAzSqqw",
        "colab_type": "code",
        "colab": {}
      },
      "source": [
        "files.download('output/filename/accompaniment.wav')"
      ],
      "execution_count": 0,
      "outputs": []
    }
  ]
}