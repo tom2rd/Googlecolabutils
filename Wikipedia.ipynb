{
  "nbformat": 4,
  "nbformat_minor": 0,
  "metadata": {
    "colab": {
      "name": "Wikipedia.ipynb",
      "provenance": [],
      "include_colab_link": true
    },
    "kernelspec": {
      "name": "python3",
      "display_name": "Python 3"
    }
  },
  "cells": [
    {
      "cell_type": "markdown",
      "metadata": {
        "id": "view-in-github",
        "colab_type": "text"
      },
      "source": [
        "<a href=\"https://colab.research.google.com/github/tom2rd/Googlecolabutils/blob/master/Wikipedia.ipynb\" target=\"_parent\"><img src=\"https://colab.research.google.com/assets/colab-badge.svg\" alt=\"Open In Colab\"/></a>"
      ]
    },
    {
      "cell_type": "markdown",
      "metadata": {
        "id": "JByV9PICU7qp",
        "colab_type": "text"
      },
      "source": [
        "#wikipedia\n",
        "* https://wikipedia.readthedocs.io/en/latest/\n",
        "* https://github.com/goldsmith/Wikipedia\n",
        "* https://wikipedia.readthedocs.io/en/latest/quickstart.html#quickstart\n",
        "\n",
        "[MediaWiki.org](https://www.mediawiki.org/wiki/API:Main_page)のラッパーのようです。取得できる内容は、MediaWiki.org APIを参照するといいです。\n",
        "\n",
        "\n",
        "https://commons.wikimedia.org\n",
        "\n",
        "を探すようです。"
      ]
    },
    {
      "cell_type": "code",
      "metadata": {
        "id": "LwJFhBHISrVc",
        "colab_type": "code",
        "colab": {
          "base_uri": "https://localhost:8080/",
          "height": 281
        },
        "outputId": "a7320c65-48a6-4382-b9e3-aa1cfc5b7599"
      },
      "source": [
        "!pip install wikipedia"
      ],
      "execution_count": 1,
      "outputs": [
        {
          "output_type": "stream",
          "text": [
            "Collecting wikipedia\n",
            "  Downloading https://files.pythonhosted.org/packages/67/35/25e68fbc99e672127cc6fbb14b8ec1ba3dfef035bf1e4c90f78f24a80b7d/wikipedia-1.4.0.tar.gz\n",
            "Requirement already satisfied: beautifulsoup4 in /usr/local/lib/python3.6/dist-packages (from wikipedia) (4.6.3)\n",
            "Requirement already satisfied: requests<3.0.0,>=2.0.0 in /usr/local/lib/python3.6/dist-packages (from wikipedia) (2.21.0)\n",
            "Requirement already satisfied: urllib3<1.25,>=1.21.1 in /usr/local/lib/python3.6/dist-packages (from requests<3.0.0,>=2.0.0->wikipedia) (1.24.3)\n",
            "Requirement already satisfied: idna<2.9,>=2.5 in /usr/local/lib/python3.6/dist-packages (from requests<3.0.0,>=2.0.0->wikipedia) (2.8)\n",
            "Requirement already satisfied: certifi>=2017.4.17 in /usr/local/lib/python3.6/dist-packages (from requests<3.0.0,>=2.0.0->wikipedia) (2019.9.11)\n",
            "Requirement already satisfied: chardet<3.1.0,>=3.0.2 in /usr/local/lib/python3.6/dist-packages (from requests<3.0.0,>=2.0.0->wikipedia) (3.0.4)\n",
            "Building wheels for collected packages: wikipedia\n",
            "  Building wheel for wikipedia (setup.py) ... \u001b[?25l\u001b[?25hdone\n",
            "  Created wheel for wikipedia: filename=wikipedia-1.4.0-cp36-none-any.whl size=11686 sha256=600b84035748610801519377d2a37420745167bbe7478f057de349e3800e8a7c\n",
            "  Stored in directory: /root/.cache/pip/wheels/87/2a/18/4e471fd96d12114d16fe4a446d00c3b38fb9efcb744bd31f4a\n",
            "Successfully built wikipedia\n",
            "Installing collected packages: wikipedia\n",
            "Successfully installed wikipedia-1.4.0\n"
          ],
          "name": "stdout"
        }
      ]
    },
    {
      "cell_type": "markdown",
      "metadata": {
        "id": "D2-_iJLMTveT",
        "colab_type": "text"
      },
      "source": [
        "jp.wiki にアクセスする場合は、言語を日本語にしておきましょう"
      ]
    },
    {
      "cell_type": "code",
      "metadata": {
        "id": "YljL-DydU8IU",
        "colab_type": "code",
        "colab": {}
      },
      "source": [
        "import wikipedia \n",
        "wikipedia.set_lang(\"jp\")"
      ],
      "execution_count": 0,
      "outputs": []
    },
    {
      "cell_type": "markdown",
      "metadata": {
        "id": "6z2XW9z6XRCQ",
        "colab_type": "text"
      },
      "source": [
        "シビックテックって言葉を例えば、Wikipediaで検索したら。。"
      ]
    },
    {
      "cell_type": "code",
      "metadata": {
        "id": "TdMuPFb7U8Gx",
        "colab_type": "code",
        "colab": {
          "base_uri": "https://localhost:8080/",
          "height": 193
        },
        "outputId": "74bed41c-5bff-4c14-878e-0839407e30e6"
      },
      "source": [
        "wikipedia.search('シビックテック')"
      ],
      "execution_count": 7,
      "outputs": [
        {
          "output_type": "execute_result",
          "data": {
            "text/plain": [
              "['Code for Japan',\n",
              " 'Code for Kanazawa',\n",
              " 'Code for Nagoya',\n",
              " '本田技研工業',\n",
              " 'ホンダ・インテグラSJ',\n",
              " '自動車の車種名一覧',\n",
              " 'VTEC',\n",
              " 'ホンダ・オデッセイ',\n",
              " '中嶋企画',\n",
              " 'M-TEC']"
            ]
          },
          "metadata": {
            "tags": []
          },
          "execution_count": 7
        }
      ]
    },
    {
      "cell_type": "markdown",
      "metadata": {
        "id": "XyIHrKiDXZzu",
        "colab_type": "text"
      },
      "source": [
        "言語が日本語のまま、CivicTechにしたら。。"
      ]
    },
    {
      "cell_type": "code",
      "metadata": {
        "id": "Zgg77jfVWOfr",
        "colab_type": "code",
        "colab": {
          "base_uri": "https://localhost:8080/",
          "height": 193
        },
        "outputId": "4e149af0-b011-4fb9-b516-6ddc68eb07cb"
      },
      "source": [
        "wikipedia.search('Civic Tech')"
      ],
      "execution_count": 8,
      "outputs": [
        {
          "output_type": "execute_result",
          "data": {
            "text/plain": [
              "['Mashup Awards',\n",
              " 'テイ・エス テック',\n",
              " '2006年のイギリスツーリングカー選手権',\n",
              " '2002年のイギリスツーリングカー選手権',\n",
              " '2010年のイギリスツーリングカー選手権',\n",
              " '2009年のイギリスツーリングカー選手権',\n",
              " '2007年のイギリスツーリングカー選手権',\n",
              " '気筒休止エンジン',\n",
              " '2011年のイギリスツーリングカー選手権',\n",
              " 'バージニアビーチ']"
            ]
          },
          "metadata": {
            "tags": []
          },
          "execution_count": 8
        }
      ]
    },
    {
      "cell_type": "markdown",
      "metadata": {
        "id": "wgXnvErpXgCW",
        "colab_type": "text"
      },
      "source": [
        "英語に変更してみたら"
      ]
    },
    {
      "cell_type": "code",
      "metadata": {
        "id": "KRJwf2hKWOeh",
        "colab_type": "code",
        "colab": {
          "base_uri": "https://localhost:8080/",
          "height": 193
        },
        "outputId": "b4b15639-4525-4069-b18b-e62b9f7ea433"
      },
      "source": [
        "wikipedia.set_lang(\"en\")\n",
        "wikipedia.search('Civic Tech')"
      ],
      "execution_count": 9,
      "outputs": [
        {
          "output_type": "execute_result",
          "data": {
            "text/plain": [
              "['Civic technology',\n",
              " 'Honda Civic',\n",
              " 'Civic technology companies',\n",
              " 'Catherine Bracy',\n",
              " 'Honda Civic Si',\n",
              " 'Chan Zuckerberg Initiative',\n",
              " 'MySociety',\n",
              " 'Coding it Forward',\n",
              " 'Amira Yahyaoui',\n",
              " 'Voter apathy']"
            ]
          },
          "metadata": {
            "tags": []
          },
          "execution_count": 9
        }
      ]
    },
    {
      "cell_type": "markdown",
      "metadata": {
        "id": "a7FqId0nbAIo",
        "colab_type": "text"
      },
      "source": [
        "シビックテックを日本語で検索すると、一番近いCode for Japan の結果が返ってきます。"
      ]
    },
    {
      "cell_type": "code",
      "metadata": {
        "id": "vOYNOnOpScvf",
        "colab_type": "code",
        "outputId": "b328b456-3d02-42e6-b167-7a411d841ef8",
        "colab": {
          "base_uri": "https://localhost:8080/",
          "height": 1000
        }
      },
      "source": [
        "wikipedia.set_lang(\"jp\")\n",
        "result = wikipedia.page('シビックテック')\n",
        "print(\"Title:\", result.title)\n",
        "print(\"Original Title:\", result.original_title)\n",
        "print(\"Summary;\",result.summary) \n",
        "print('-----------Link')\n",
        "for link in result.links: print(link)\n",
        "print('-----------Section')\n",
        "for section in result.sections: print(section.title)\n",
        "print('-----------Category')\n",
        "for category in result.categories:print(category)\n",
        "print('-----------images')\n",
        "for image in result.images: print(image)\n",
        "print('-----------references')\n",
        "for reference in result.references: print(reference)\n",
        "print('Url',result.url)"
      ],
      "execution_count": 14,
      "outputs": [
        {
          "output_type": "stream",
          "text": [
            "Title: Code for Japan\n",
            "Original Title: Code for Japan\n",
            "Summary; Code for Japan（コード・フォー・ジャパン）は、IT技術を活用した地域課題の解決をめざす非営利団体。市民主体で課題解決を行うコミュニティ作りの支援や、自治体への民間人材派遣などの事業に取り組む一般社団法人である。\n",
            "-----------Link\n",
            "ICT\n",
            "IT\n",
            "Portable Document Format\n",
            "Wikipedia\n",
            "ウェブサイト\n",
            "エンジニア\n",
            "オープンガバメント\n",
            "オープンデータ\n",
            "シビックテック\n",
            "デザイナー\n",
            "一般社団法人\n",
            "千葉市\n",
            "文京区\n",
            "新潟国際情報大学\n",
            "新潟市\n",
            "日本\n",
            "本郷 (文京区)\n",
            "東京大学\n",
            "東京都\n",
            "横浜市\n",
            "神戸市\n",
            "神田外語大学\n",
            "衆議院議員総選挙\n",
            "裾野市\n",
            "豊島区\n",
            "金沢区\n",
            "静岡県\n",
            "非営利団体\n",
            "鯖江市\n",
            "-----------Section\n",
            "-----------Category\n",
            "出典を必要とする記事/2018年5月\n",
            "外部リンクがリンク切れになっている記事/2018年12月\n",
            "市民活動\n",
            "非営利組織\n",
            "-----------images\n",
            "https://upload.wikimedia.org/wikipedia/commons/6/64/Question_book-4.svg\n",
            "https://upload.wikimedia.org/wikipedia/commons/archive/6/64/20080911004436%21Question_book-4.svg\n",
            "https://upload.wikimedia.org/wikipedia/commons/archive/6/64/20080911003710%21Question_book-4.svg\n",
            "https://upload.wikimedia.org/wikipedia/commons/archive/6/64/20080529213108%21Question_book-4.svg\n",
            "https://upload.wikimedia.org/wikipedia/commons/archive/6/64/20080529212202%21Question_book-4.svg\n",
            "https://upload.wikimedia.org/wikipedia/commons/archive/6/64/20080529211922%21Question_book-4.svg\n",
            "-----------references\n",
            "http://www.fujitsu.com/jp/Images/no452.pdf\n",
            "http://fukitama.info/data/pdf/paper/ismail_codefor_c_201407_dicimo2014.pdf\n",
            "http://www.niigata-nippo.co.jp/news/local/20180921420761.html\n",
            "http://tech.nikkeibp.co.jp/it/atcl/news/15/010700067/\n",
            "http://tech.nikkeibp.co.jp/it/atcl/news/17/101002423/\n",
            "http://www.nikkeibp.co.jp/atcl/tk/15/434169/111100053/\n",
            "http://www.nikkeibp.co.jp/atcl/tk/PPP/news/121500123/\n",
            "http://www.nikkeibp.co.jp/atcl/tk/PPP/report/121400021/\n",
            "http://www.soumu.go.jp/main_content/000553208.pdf\n",
            "http://www.vled.or.jp/committee/docs/88253453e9d645f252629312db0f648ad2fe4465.pdf\n",
            "https://japan.cnet.com/article/35108831/\n",
            "https://codezine.jp/article/detail/8411\n",
            "https://ict-enews.net/2019/09/25code-for-japan/\n",
            "https://www.code4japan.org/\n",
            "https://www.code4japan.org/aboutus/\n",
            "https://www.code4japan.org/brigade/\n",
            "Url https://ja.wikipedia.org/wiki/Code_for_Japan\n"
          ],
          "name": "stdout"
        }
      ]
    },
    {
      "cell_type": "code",
      "metadata": {
        "id": "3JUxy3k1ZMSf",
        "colab_type": "code",
        "outputId": "d675a80b-2f0c-4876-b4bd-b2cfd98b5bff",
        "colab": {
          "base_uri": "https://localhost:8080/",
          "height": 54
        }
      },
      "source": [
        "result.html()"
      ],
      "execution_count": 3,
      "outputs": [
        {
          "output_type": "execute_result",
          "data": {
            "text/plain": [
              "'<div class=\"mw-parser-output\"><table class=\"plainlinks ambox ambox-content\" role=\"presentation\"><tbody><tr><td class=\"mbox-image\"><div style=\"width:52px\"><img alt=\"Question book-4.svg\" src=\"//upload.wikimedia.org/wikipedia/commons/thumb/6/64/Question_book-4.svg/50px-Question_book-4.svg.png\" decoding=\"async\" width=\"50\" height=\"39\" srcset=\"//upload.wikimedia.org/wikipedia/commons/thumb/6/64/Question_book-4.svg/75px-Question_book-4.svg.png 1.5x, //upload.wikimedia.org/wikipedia/commons/thumb/6/64/Question_book-4.svg/100px-Question_book-4.svg.png 2x\" data-file-width=\"262\" data-file-height=\"204\" /></div></td><td class=\"mbox-text\"><div class=\"mbox-text-span\"><b>この記事は<a href=\"/wiki/Wikipedia:%E6%A4%9C%E8%A8%BC%E5%8F%AF%E8%83%BD%E6%80%A7\" title=\"Wikipedia:検証可能性\">検証可能</a>な<a href=\"/wiki/Wikipedia:%E4%BF%A1%E9%A0%BC%E3%81%A7%E3%81%8D%E3%82%8B%E6%83%85%E5%A0%B1%E6%BA%90\" title=\"Wikipedia:信頼できる情報源\">参考文献や出典</a>が全く示されていないか、不十分です。</b><br /><a href=\"/wiki/Wikipedia:%E5%87%BA%E5%85%B8%E3%82%92%E6%98%8E%E8%A8%98%E3%81%99%E3%82%8B\" title=\"Wikipedia:出典を明記する\">出典を追加</a>して記事の信頼性向上にご協力ください。<small>（<span title=\"2018年5月\">2018年5月</span>）</small><span class=\"hide-when-compact\"></span><span class=\"hide-when-compact\"></span></div></td></tr></tbody></table>\\n<table class=\"infobox\" style=\"width:22em;\"><caption itemprop=\"name\" class=\"\" style=\"\">Code for Japan</caption><tbody><tr class=\"\" style=\"\" itemprop=\"\"><th scope=\"row\" style=\"text-align:left; white-space:nowrap;\">創立者</th><td class=\"\" style=\"\" itemprop=\"\">\\n関治之</td></tr><tr class=\"\" style=\"\" itemprop=\"\"><th scope=\"row\" style=\"text-align:left; white-space:nowrap;\">団体種類</th><td class=\"\" style=\"\" itemprop=\"\">\\n<a href=\"/wiki/%E9%9D%9E%E5%96%B6%E5%88%A9%E5%9B%A3%E4%BD%93\" title=\"非営利団体\">非営利団体</a></td></tr><tr class=\"\" style=\"\" itemprop=\"\"><th scope=\"row\" style=\"text-align:left; white-space:nowrap;\">設立</th><td class=\"\" style=\"\" itemprop=\"\">\\n2013年10月25日</td></tr><tr class=\"\" style=\"\" itemprop=\"\"><th scope=\"row\" style=\"text-align:left; white-space:nowrap;\">所在地</th><td class=\"\" style=\"\" itemprop=\"\">\\n<a href=\"/wiki/%E6%9D%B1%E4%BA%AC%E9%83%BD\" title=\"東京都\">東京都</a><a href=\"/wiki/%E6%96%87%E4%BA%AC%E5%8C%BA\" title=\"文京区\">文京区</a><a href=\"/wiki/%E6%9C%AC%E9%83%B7_(%E6%96%87%E4%BA%AC%E5%8C%BA)\" title=\"本郷 (文京区)\">本郷</a>三丁目40番10号の三翔ビル本郷</td></tr><tr class=\"\" style=\"\" itemprop=\"\"><th scope=\"row\" style=\"text-align:left; white-space:nowrap;\">活動地域</th><td class=\"\" style=\"\" itemprop=\"\">\\n<a href=\"/wiki/%E6%97%A5%E6%9C%AC\" title=\"日本\">日本</a>全域</td></tr><tr class=\"\" style=\"\" itemprop=\"\"><th scope=\"row\" style=\"text-align:left; white-space:nowrap;\">活動内容</th><td class=\"\" style=\"\" itemprop=\"\">\\n市民主体で課題解決を行うコミュニティ作りの支援や、自治体への民間人材派遣などの事業</td></tr><tr class=\"\" style=\"\" itemprop=\"\"><th scope=\"row\" style=\"text-align:left; white-space:nowrap;\"><a href=\"/wiki/%E3%82%A6%E3%82%A7%E3%83%96%E3%82%B5%E3%82%A4%E3%83%88\" title=\"ウェブサイト\">ウェブサイト</a></th><td class=\"\" style=\"\" itemprop=\"\">\\n<a rel=\"nofollow\" class=\"external text\" href=\"https://www.code4japan.org/\">Code for Japan</a></td></tr><tr class=\"noprint\"><td colspan=\"2\" style=\"text-align:right; font-size:85%;\"><a href=\"/wiki/Template:%E5%9F%BA%E7%A4%8E%E6%83%85%E5%A0%B1_%E9%9D%9E%E5%96%B6%E5%88%A9%E5%9B%A3%E4%BD%93\" title=\"Template:基礎情報 非営利団体\">テンプレートを表示</a></td></tr></tbody></table>\\n<p><b>Code for Japan</b>（コード・フォー・ジャパン）は、<a href=\"/wiki/IT\" class=\"mw-disambig\" title=\"IT\">IT</a>技術を活用した地域課題の解決をめざす<a href=\"/wiki/%E9%9D%9E%E5%96%B6%E5%88%A9%E5%9B%A3%E4%BD%93\" title=\"非営利団体\">非営利団体</a><sup id=\"cite_ref-1\" class=\"reference\"><a href=\"#cite_note-1\">&#91;1&#93;</a></sup>。市民主体で課題解決を行うコミュニティ作りの支援や、自治体への民間人材派遣などの事業に取り組む<a href=\"/wiki/%E4%B8%80%E8%88%AC%E7%A4%BE%E5%9B%A3%E6%B3%95%E4%BA%BA\" title=\"一般社団法人\">一般社団法人</a>である<sup id=\"cite_ref-団体概要_2-0\" class=\"reference\"><a href=\"#cite_note-団体概要-2\">&#91;2&#93;</a></sup><sup id=\"cite_ref-f-soken_3-0\" class=\"reference\"><a href=\"#cite_note-f-soken-3\">&#91;3&#93;</a></sup>。\\n</p>\\n<div id=\"toc\" class=\"toc\"><input type=\"checkbox\" role=\"button\" id=\"toctogglecheckbox\" class=\"toctogglecheckbox\" style=\"display:none\" /><div class=\"toctitle\" lang=\"ja\" dir=\"ltr\"><h2>目次</h2><span class=\"toctogglespan\"><label class=\"toctogglelabel\" for=\"toctogglecheckbox\"></label></span></div>\\n<ul>\\n<li class=\"toclevel-1 tocsection-1\"><a href=\"#概要\"><span class=\"tocnumber\">1</span> <span class=\"toctext\">概要</span></a></li>\\n<li class=\"toclevel-1 tocsection-2\"><a href=\"#活動\"><span class=\"tocnumber\">2</span> <span class=\"toctext\">活動</span></a>\\n<ul>\\n<li class=\"toclevel-2 tocsection-3\"><a href=\"#Code_for_Japan_Summit\"><span class=\"tocnumber\">2.1</span> <span class=\"toctext\">Code for Japan Summit</span></a></li>\\n<li class=\"toclevel-2 tocsection-4\"><a href=\"#地域フィールドラボ\"><span class=\"tocnumber\">2.2</span> <span class=\"toctext\">地域フィールドラボ</span></a></li>\\n<li class=\"toclevel-2 tocsection-5\"><a href=\"#Code_for_選挙\"><span class=\"tocnumber\">2.3</span> <span class=\"toctext\">Code for 選挙</span></a></li>\\n<li class=\"toclevel-2 tocsection-6\"><a href=\"#データアカデミー\"><span class=\"tocnumber\">2.4</span> <span class=\"toctext\">データアカデミー</span></a></li>\\n<li class=\"toclevel-2 tocsection-7\"><a href=\"#ソーシャル・テクノロジー・オフィサー\"><span class=\"tocnumber\">2.5</span> <span class=\"toctext\">ソーシャル・テクノロジー・オフィサー</span></a></li>\\n<li class=\"toclevel-2 tocsection-8\"><a href=\"#ブリゲードのネットワーク・連携\"><span class=\"tocnumber\">2.6</span> <span class=\"toctext\">ブリゲードのネットワーク・連携</span></a></li>\\n</ul>\\n</li>\\n<li class=\"toclevel-1 tocsection-9\"><a href=\"#脚注\"><span class=\"tocnumber\">3</span> <span class=\"toctext\">脚注</span></a></li>\\n<li class=\"toclevel-1 tocsection-10\"><a href=\"#公式サイト\"><span class=\"tocnumber\">4</span> <span class=\"toctext\">公式サイト</span></a></li>\\n</ul>\\n</div>\\n\\n<h2><span id=\".E6.A6.82.E8.A6.81\"></span><span class=\"mw-headline\" id=\"概要\">概要</span><span class=\"mw-editsection\"><span class=\"mw-editsection-bracket\">[</span><a href=\"/w/index.php?title=Code_for_Japan&amp;action=edit&amp;section=1\" title=\"節を編集: 概要\">編集</a><span class=\"mw-editsection-bracket\">]</span></span></h2>\\n<p>2013年10月25日設立<sup id=\"cite_ref-団体概要_2-1\" class=\"reference\"><a href=\"#cite_note-団体概要-2\">&#91;2&#93;</a></sup>。団体名は<a href=\"/wiki/%E4%B8%80%E8%88%AC%E7%A4%BE%E5%9B%A3%E6%B3%95%E4%BA%BA\" title=\"一般社団法人\">一般社団法人</a>コード・フォー・ジャパン。<a href=\"/wiki/%E6%9D%B1%E4%BA%AC%E9%83%BD\" title=\"東京都\">東京都</a><a href=\"/wiki/%E6%96%87%E4%BA%AC%E5%8C%BA\" title=\"文京区\">文京区</a><a href=\"/wiki/%E6%9C%AC%E9%83%B7_(%E6%96%87%E4%BA%AC%E5%8C%BA)\" title=\"本郷 (文京区)\">本郷</a>三丁目40番10号の三翔ビル本郷に本部を置いている<sup id=\"cite_ref-団体概要_2-2\" class=\"reference\"><a href=\"#cite_note-団体概要-2\">&#91;2&#93;</a></sup>。Code for Japanのコンセプトは、「ともに考え、ともに作る」である。共創に取り組むことで、市民だけで解決できる社会課題や、市民と行政と連携して解決できる社会の促進を取り組んでいる。Code for Japanは、<a href=\"https://en.wikipedia.org/wiki/Code_for_America\" class=\"extiw\" title=\"en:Code for America\">Code for America</a>の事業を参考に事業活動しているが、日本独自の課題についてはカスタマイズし対応している。<sup id=\"cite_ref-シビックテックイノベーション_4-0\" class=\"reference\"><a href=\"#cite_note-シビックテックイノベーション-4\">&#91;4&#93;</a></sup>民間のICT人材を地方自治体に短期派遣し、オープンデータ活用などにより課題を解決するプログラム「コーポレートフェローシップ」を行っている<sup id=\"cite_ref-5\" class=\"reference\"><a href=\"#cite_note-5\">&#91;5&#93;</a></sup><sup id=\"cite_ref-6\" class=\"reference\"><a href=\"#cite_note-6\">&#91;6&#93;</a></sup><sup id=\"cite_ref-経営情報学会誌_7-0\" class=\"reference\"><a href=\"#cite_note-経営情報学会誌-7\">&#91;7&#93;</a></sup>。また、神戸市や総務省のデータアカデミーと呼ばれる自治体職員向けのデータ利活用研修も実施している。<sup id=\"cite_ref-経営情報学会誌_7-1\" class=\"reference\"><a href=\"#cite_note-経営情報学会誌-7\">&#91;7&#93;</a></sup>2018年11月29日に、<a href=\"/wiki/%E9%9D%99%E5%B2%A1%E7%9C%8C\" title=\"静岡県\">静岡県</a><a href=\"/wiki/%E8%A3%BE%E9%87%8E%E5%B8%82\" title=\"裾野市\">裾野市</a>とデータを利活用した政策立案の推進に関するパートナーシップ協定を締結し、自治体の政策立案の高度化について協業を進めている。<sup id=\"cite_ref-8\" class=\"reference\"><a href=\"#cite_note-8\">&#91;8&#93;</a></sup><sup id=\"cite_ref-9\" class=\"reference\"><a href=\"#cite_note-9\">&#91;9&#93;</a></sup> 各地域への関わりとして、Code for xxxと言われる、各地の名称や、活動名が入ったブリゲードと呼ばれるコミュニティがありお互い連携を図っている。<sup id=\"cite_ref-経営情報学会誌_7-2\" class=\"reference\"><a href=\"#cite_note-経営情報学会誌-7\">&#91;7&#93;</a></sup>\\n</p>\\n<h2><span id=\".E6.B4.BB.E5.8B.95\"></span><span class=\"mw-headline\" id=\"活動\">活動</span><span class=\"mw-editsection\"><span class=\"mw-editsection-bracket\">[</span><a href=\"/w/index.php?title=Code_for_Japan&amp;action=edit&amp;section=2\" title=\"節を編集: 活動\">編集</a><span class=\"mw-editsection-bracket\">]</span></span></h2>\\n<h3><span class=\"mw-headline\" id=\"Code_for_Japan_Summit\">Code for Japan Summit</span><span class=\"mw-editsection\"><span class=\"mw-editsection-bracket\">[</span><a href=\"/w/index.php?title=Code_for_Japan&amp;action=edit&amp;section=3\" title=\"節を編集: Code for Japan Summit\">編集</a><span class=\"mw-editsection-bracket\">]</span></span></h3>\\n<ul><li>年に1度のペースで、市民、自治体職員、<a href=\"/wiki/%E3%82%A8%E3%83%B3%E3%82%B8%E3%83%8B%E3%82%A2\" class=\"mw-redirect\" title=\"エンジニア\">エンジニア</a>、<a href=\"/wiki/%E3%83%87%E3%82%B6%E3%82%A4%E3%83%8A%E3%83%BC\" title=\"デザイナー\">デザイナー</a>など<a href=\"/w/index.php?title=%E3%82%B7%E3%83%93%E3%83%83%E3%82%AF%E3%83%86%E3%83%83%E3%82%AF&amp;action=edit&amp;redlink=1\" class=\"new\" title=\"シビックテック (存在しないページ)\">シビックテック</a>に関わっている人たちのセッションや、海外の事例を共有する場をCode for Japan Summitの形で開催している。<sup id=\"cite_ref-シビックテックイノベーション_4-1\" class=\"reference\"><a href=\"#cite_note-シビックテックイノベーション-4\">&#91;4&#93;</a></sup>\\n<ul><li>2014年 <a href=\"/wiki/%E6%9D%B1%E4%BA%AC%E5%A4%A7%E5%AD%A6\" title=\"東京大学\">東京大学</a>駒場リサーチキャンパスで開催</li>\\n<li>2015年 <a href=\"/wiki/%E8%B1%8A%E5%B3%B6%E5%8C%BA\" title=\"豊島区\">豊島区</a>役所旧庁舎で開催<sup id=\"cite_ref-10\" class=\"reference\"><a href=\"#cite_note-10\">&#91;10&#93;</a></sup></li>\\n<li>2016年 <a href=\"/wiki/%E6%A8%AA%E6%B5%9C%E5%B8%82\" title=\"横浜市\">横浜市</a><a href=\"/wiki/%E9%87%91%E6%B2%A2%E5%8C%BA\" title=\"金沢区\">金沢区</a>庁舎で開催<sup id=\"cite_ref-11\" class=\"reference\"><a href=\"#cite_note-11\">&#91;11&#93;</a></sup><sup id=\"cite_ref-software201702_12-0\" class=\"reference\"><a href=\"#cite_note-software201702-12\">&#91;12&#93;</a></sup>\\n<ul><li>Code for AmericaのMoniqueによるキーノートスピーチでは、地域コミュニティと行政の協働のポイントが語られ、ツールの紹介とともに、You aer not alone.という言葉で締められた。</li>\\n<li>公共システムの開発について、浪江町のフェロー、千葉市役所、神戸市役所などのプレイヤーが発言するなど自治体側からのセッションも複数取り上げられた。</li></ul></li>\\n<li>2017年 <a href=\"/wiki/%E7%A5%9E%E6%88%B8%E5%B8%82\" title=\"神戸市\">神戸市</a>しあわせの村で開催<sup id=\"cite_ref-13\" class=\"reference\"><a href=\"#cite_note-13\">&#91;13&#93;</a></sup></li>\\n<li>2018年 <a href=\"/wiki/%E6%96%B0%E6%BD%9F%E5%B8%82\" title=\"新潟市\">新潟市</a><a href=\"/wiki/%E6%96%B0%E6%BD%9F%E5%9B%BD%E9%9A%9B%E6%83%85%E5%A0%B1%E5%A4%A7%E5%AD%A6\" title=\"新潟国際情報大学\">新潟国際情報大学</a>新潟中央キャンパスで開催<sup id=\"cite_ref-14\" class=\"reference\"><a href=\"#cite_note-14\">&#91;14&#93;</a></sup></li>\\n<li>2019年 <a href=\"/wiki/%E5%8D%83%E8%91%89%E5%B8%82\" title=\"千葉市\">千葉市</a><a href=\"/wiki/%E7%A5%9E%E7%94%B0%E5%A4%96%E8%AA%9E%E5%A4%A7%E5%AD%A6\" title=\"神田外語大学\">神田外語大学</a>で開催<sup id=\"cite_ref-15\" class=\"reference\"><a href=\"#cite_note-15\">&#91;15&#93;</a></sup></li></ul></li></ul>\\n<h3><span id=\".E5.9C.B0.E5.9F.9F.E3.83.95.E3.82.A3.E3.83.BC.E3.83.AB.E3.83.89.E3.83.A9.E3.83.9C\"></span><span class=\"mw-headline\" id=\"地域フィールドラボ\">地域フィールドラボ</span><span class=\"mw-editsection\"><span class=\"mw-editsection-bracket\">[</span><a href=\"/w/index.php?title=Code_for_Japan&amp;action=edit&amp;section=4\" title=\"節を編集: 地域フィールドラボ\">編集</a><span class=\"mw-editsection-bracket\">]</span></span></h3>\\n<ul><li>地域フィールドラボ（旧コーポレートフェロー）は、企業で働いている方が在職のまま、自治体の課題に対して、共創活動を通じて<a href=\"/w/index.php?title=%E3%82%AA%E3%83%BC%E3%83%97%E3%83%B3%E3%82%AC%E3%83%90%E3%83%A1%E3%83%B3%E3%83%88&amp;action=edit&amp;redlink=1\" class=\"new\" title=\"オープンガバメント (存在しないページ)\">オープンガバメント</a>の推進のために、各自治体に派遣できる事業も行である。企業としては自治体職員と共に考え解決する実践の場の研修としての価値があり、自治体としては、民間企業の合理的な考え方、庁内の壁を取り払う効果が狙える。<sup id=\"cite_ref-シビックテックイノベーション_4-2\" class=\"reference\"><a href=\"#cite_note-シビックテックイノベーション-4\">&#91;4&#93;</a></sup><sup id=\"cite_ref-16\" class=\"reference\"><a href=\"#cite_note-16\">&#91;16&#93;</a></sup><sup id=\"cite_ref-経営情報学会誌_7-3\" class=\"reference\"><a href=\"#cite_note-経営情報学会誌-7\">&#91;7&#93;</a></sup>\\n<ul><li>2016年度は、<a href=\"/wiki/%E5%8D%83%E8%91%89%E5%B8%82\" title=\"千葉市\">千葉市</a>、<a href=\"/wiki/%E6%A8%AA%E6%B5%9C%E5%B8%82\" title=\"横浜市\">横浜市</a>、<a href=\"/wiki/%E7%A5%9E%E6%88%B8%E5%B8%82\" title=\"神戸市\">神戸市</a>、<a href=\"/wiki/%E9%AF%96%E6%B1%9F%E5%B8%82\" title=\"鯖江市\">鯖江市</a>などの8自治体に、5社11名を派遣している。</li></ul></li></ul>\\n<h3><span id=\"Code_for_.E9.81.B8.E6.8C.99\"></span><span class=\"mw-headline\" id=\"Code_for_選挙\">Code for 選挙</span><span class=\"mw-editsection\"><span class=\"mw-editsection-bracket\">[</span><a href=\"/w/index.php?title=Code_for_Japan&amp;action=edit&amp;section=5\" title=\"節を編集: Code for 選挙\">編集</a><span class=\"mw-editsection-bracket\">]</span></span></h3>\\n<ul><li>2017年10月10日公示の<a href=\"/wiki/%E8%A1%86%E8%AD%B0%E9%99%A2%E8%AD%B0%E5%93%A1%E7%B7%8F%E9%81%B8%E6%8C%99\" title=\"衆議院議員総選挙\">衆議院議員総選挙</a>で、1180名の候補者の氏名、年齢、経歴、公約、政策、関係する政党や実績を、<a href=\"/wiki/%E3%82%AA%E3%83%BC%E3%83%97%E3%83%B3%E3%83%87%E3%83%BC%E3%82%BF\" title=\"オープンデータ\">オープンデータ</a>で作成するプロジェクトを開催。オープンデータによって、透明性が向上することを目的とし、<a href=\"/wiki/Wikipedia\" class=\"mw-redirect\" title=\"Wikipedia\">Wikipedia</a>に情報を登録した。プロジェクトは、中立的な立場でデータ整備を進めた。2017年度VLED勝手表彰の優秀賞を受賞。<sup id=\"cite_ref-17\" class=\"reference\"><a href=\"#cite_note-17\">&#91;17&#93;</a></sup><sup id=\"cite_ref-vled_18-0\" class=\"reference\"><a href=\"#cite_note-vled-18\">&#91;18&#93;</a></sup></li></ul>\\n<h3><span id=\".E3.83.87.E3.83.BC.E3.82.BF.E3.82.A2.E3.82.AB.E3.83.87.E3.83.9F.E3.83.BC\"></span><span class=\"mw-headline\" id=\"データアカデミー\">データアカデミー</span><span class=\"mw-editsection\"><span class=\"mw-editsection-bracket\">[</span><a href=\"/w/index.php?title=Code_for_Japan&amp;action=edit&amp;section=6\" title=\"節を編集: データアカデミー\">編集</a><span class=\"mw-editsection-bracket\">]</span></span></h3>\\n<p>地方自治体職員を対象としたデータ活用研修である「データアカデミー」を総務省と連携して2017年度より実施中。根拠に基づく政策を進めるために実践的な研修を進めている。<sup id=\"cite_ref-経営情報学会誌_7-4\" class=\"reference\"><a href=\"#cite_note-経営情報学会誌-7\">&#91;7&#93;</a></sup>日本の地域情報化に対する貢献を評され2018年に情報通信月間推進協議会会長表彰のうち情報通信功績賞を受賞している。<sup id=\"cite_ref-soumu_19-0\" class=\"reference\"><a href=\"#cite_note-soumu-19\">&#91;19&#93;</a></sup><sup id=\"cite_ref-20\" class=\"reference\"><a href=\"#cite_note-20\">&#91;20&#93;</a></sup>\\n</p>\\n<h3><span id=\".E3.82.BD.E3.83.BC.E3.82.B7.E3.83.A3.E3.83.AB.E3.83.BB.E3.83.86.E3.82.AF.E3.83.8E.E3.83.AD.E3.82.B8.E3.83.BC.E3.83.BB.E3.82.AA.E3.83.95.E3.82.A3.E3.82.B5.E3.83.BC\"></span><span class=\"mw-headline\" id=\"ソーシャル・テクノロジー・オフィサー\">ソーシャル・テクノロジー・オフィサー</span><span class=\"mw-editsection\"><span class=\"mw-editsection-bracket\">[</span><a href=\"/w/index.php?title=Code_for_Japan&amp;action=edit&amp;section=7\" title=\"節を編集: ソーシャル・テクノロジー・オフィサー\">編集</a><span class=\"mw-editsection-bracket\">]</span></span></h3>\\n<p>社会的課題解決を図るNPO向けに、ICT技術を活用できる人材を創出する取り組みを進めている。<sup id=\"cite_ref-経営情報学会誌_7-5\" class=\"reference\"><a href=\"#cite_note-経営情報学会誌-7\">&#91;7&#93;</a></sup>\\n</p>\\n<h3><span id=\".E3.83.96.E3.83.AA.E3.82.B2.E3.83.BC.E3.83.89.E3.81.AE.E3.83.8D.E3.83.83.E3.83.88.E3.83.AF.E3.83.BC.E3.82.AF.E3.83.BB.E9.80.A3.E6.90.BA\"></span><span class=\"mw-headline\" id=\"ブリゲードのネットワーク・連携\">ブリゲードのネットワーク・連携</span><span class=\"mw-editsection\"><span class=\"mw-editsection-bracket\">[</span><a href=\"/w/index.php?title=Code_for_Japan&amp;action=edit&amp;section=8\" title=\"節を編集: ブリゲードのネットワーク・連携\">編集</a><span class=\"mw-editsection-bracket\">]</span></span></h3>\\n<p>Code for Japanが提供する連携プログラムに参加している各地のコミュニティをブリゲードと呼ぶ。ブリゲードは、テクノロジーを活用し、各地の課題を公民連携しながら主体的に解決することをめざす独立した団体として存在し、Code for Japanの下部組織ではなく水平補完的な関係である。<sup id=\"cite_ref-経営情報学会誌_7-6\" class=\"reference\"><a href=\"#cite_note-経営情報学会誌-7\">&#91;7&#93;</a></sup>Code for Japanは日本各地のブリゲードのネットワーク・連携を推進している。<sup id=\"cite_ref-naist-report_21-0\" class=\"reference\"><a href=\"#cite_note-naist-report-21\">&#91;21&#93;</a></sup><sup id=\"cite_ref-22\" class=\"reference\"><a href=\"#cite_note-22\">&#91;22&#93;</a></sup><sup id=\"cite_ref-経営情報学会誌_7-7\" class=\"reference\"><a href=\"#cite_note-経営情報学会誌-7\">&#91;7&#93;</a></sup>また、ブリゲイド相談会と言う名で、Code for Japan Summitの中でもブリゲード同士が集まって相互に話す場を提供している。<sup id=\"cite_ref-software201702_12-1\" class=\"reference\"><a href=\"#cite_note-software201702-12\">&#91;12&#93;</a></sup>\\n</p>\\n<h2><span id=\".E8.84.9A.E6.B3.A8\"></span><span class=\"mw-headline\" id=\"脚注\">脚注</span><span class=\"mw-editsection\"><span class=\"mw-editsection-bracket\">[</span><a href=\"/w/index.php?title=Code_for_Japan&amp;action=edit&amp;section=9\" title=\"節を編集: 脚注\">編集</a><span class=\"mw-editsection-bracket\">]</span></span></h2>\\n<div class=\"reflist\" style=\"list-style-type: decimal;\">\\n<ol class=\"references\">\\n<li id=\"cite_note-1\"><b><a href=\"#cite_ref-1\">^</a></b> <span class=\"reference-text\"><a rel=\"nofollow\" class=\"external text\" href=\"https://japan.cnet.com/article/35108831/\">「シビックテック」の現状を知る最大規模サミット開催--Code for Japan Summit 2017</a> cnet japan 2018年3月14日閲覧</span>\\n</li>\\n<li id=\"cite_note-団体概要-2\">^ <a href=\"#cite_ref-団体概要_2-0\"><sup><i><b>a</b></i></sup></a> <a href=\"#cite_ref-団体概要_2-1\"><sup><i><b>b</b></i></sup></a> <a href=\"#cite_ref-団体概要_2-2\"><sup><i><b>c</b></i></sup></a> <span class=\"reference-text\"><a rel=\"nofollow\" class=\"external text\" href=\"https://www.code4japan.org/aboutus/\">団体概要</a> Code for Japan</span>\\n</li>\\n<li id=\"cite_note-f-soken-3\"><b><a href=\"#cite_ref-f-soken_3-0\">^</a></b> <span class=\"reference-text\"><cite style=\"font-style:normal\">“<span class=\"PDFlink\"><a rel=\"nofollow\" class=\"external text\" href=\"http://www.fujitsu.com/jp/Images/no452.pdf\">研究レポートNo.452 シビックテックに関する研究</a></span> <span style=\"font-size:smaller\">(<a href=\"/wiki/Portable_Document_Format\" title=\"Portable Document Format\">PDF</a>)</span>”.&#32;  富士通総研.&#32;pp.&#160;24-25&#32;(2018年1月).&#32;<span title=\"\">2018年7月17日</span>閲覧。</cite></span>\\n</li>\\n<li id=\"cite_note-シビックテックイノベーション-4\">^ <a href=\"#cite_ref-シビックテックイノベーション_4-0\"><sup><i><b>a</b></i></sup></a> <a href=\"#cite_ref-シビックテックイノベーション_4-1\"><sup><i><b>b</b></i></sup></a> <a href=\"#cite_ref-シビックテックイノベーション_4-2\"><sup><i><b>c</b></i></sup></a> <span class=\"reference-text\"><cite style=\"font-style:normal\" class=\"citation Journal\">松崎 太亮.&#32;<i>シビックテックイノベーション\\u3000行動する市民エンジニアが社会を変える</i>.&#32;インプレスR&amp;D.</cite><span class=\"Z3988\" title=\"ctx_ver=Z39.88-2004&amp;rft_val_fmt=info%3Aofi%2Ffmt%3Akev%3Amtx%3Abook&amp;rft.genre=book&amp;rft.btitle=%E3%82%B7%E3%83%93%E3%83%83%E3%82%AF%E3%83%86%E3%83%83%E3%82%AF%E3%82%A4%E3%83%8E%E3%83%99%E3%83%BC%E3%82%B7%E3%83%A7%E3%83%B3%E3%80%80%E8%A1%8C%E5%8B%95%E3%81%99%E3%82%8B%E5%B8%82%E6%B0%91%E3%82%A8%E3%83%B3%E3%82%B8%E3%83%8B%E3%82%A2%E3%81%8C%E7%A4%BE%E4%BC%9A%E3%82%92%E5%A4%89%E3%81%88%E3%82%8B&amp;rft.aulast=%E6%9D%BE%E5%B4%8E+%E5%A4%AA%E4%BA%AE&amp;rft.au=%E6%9D%BE%E5%B4%8E+%E5%A4%AA%E4%BA%AE&amp;rft.pub=%E3%82%A4%E3%83%B3%E3%83%97%E3%83%AC%E3%82%B9R%26D&amp;rfr_id=info:sid/ja.wikipedia.org:Code_for_Japan\"><span style=\"display: none;\">&#160;</span></span></span>\\n</li>\\n<li id=\"cite_note-5\"><b><a href=\"#cite_ref-5\">^</a></b> <span class=\"reference-text\"><a rel=\"nofollow\" class=\"external text\" href=\"http://www.nikkeibp.co.jp/atcl/tk/PPP/news/121500123/\">民間5社・11人の</a><a href=\"/wiki/ICT\" class=\"mw-disambig\" title=\"ICT\">ICT</a>人材を8自治体に派遣、コード・フォー・ジャパン 日経BP社 2018年3月14日閲覧</span>\\n</li>\\n<li id=\"cite_note-6\"><b><a href=\"#cite_ref-6\">^</a></b> <span class=\"reference-text\"><a rel=\"nofollow\" class=\"external text\" href=\"http://tech.nikkeibp.co.jp/it/atcl/news/15/010700067/\">人材育成の新手法、コード・フォー・ジャパンが「コーポレートフェローシップ」発表</a> 日経XTECH 2018年3月14日閲覧</span>\\n</li>\\n<li id=\"cite_note-経営情報学会誌-7\">^ <a href=\"#cite_ref-経営情報学会誌_7-0\"><sup><i><b>a</b></i></sup></a> <a href=\"#cite_ref-経営情報学会誌_7-1\"><sup><i><b>b</b></i></sup></a> <a href=\"#cite_ref-経営情報学会誌_7-2\"><sup><i><b>c</b></i></sup></a> <a href=\"#cite_ref-経営情報学会誌_7-3\"><sup><i><b>d</b></i></sup></a> <a href=\"#cite_ref-経営情報学会誌_7-4\"><sup><i><b>e</b></i></sup></a> <a href=\"#cite_ref-経営情報学会誌_7-5\"><sup><i><b>f</b></i></sup></a> <a href=\"#cite_ref-経営情報学会誌_7-6\"><sup><i><b>g</b></i></sup></a> <a href=\"#cite_ref-経営情報学会誌_7-7\"><sup><i><b>h</b></i></sup></a> <span class=\"reference-text\">経営情報学会誌 Vol. 27 No. 3, December 2018 白川 展之 P202-220</span>\\n</li>\\n<li id=\"cite_note-8\"><b><a href=\"#cite_ref-8\">^</a></b> <span class=\"reference-text\">静岡新聞 2018年11月30日</span>\\n</li>\\n<li id=\"cite_note-9\"><b><a href=\"#cite_ref-9\">^</a></b> <span class=\"reference-text\">東京新聞 2018年11月30日</span>\\n</li>\\n<li id=\"cite_note-10\"><b><a href=\"#cite_ref-10\">^</a></b> <span class=\"reference-text\"><a rel=\"nofollow\" class=\"external text\" href=\"http://www.nikkeibp.co.jp/atcl/tk/15/434169/111100053/\">豊島区旧庁舎に延べ1000人が来場、「Code for Japan Summit 2015」</a> 日経BP社 新・公民連携最前線 2018年3月15日閲覧</span>\\n</li>\\n<li id=\"cite_note-11\"><b><a href=\"#cite_ref-11\">^</a></b> <span class=\"reference-text\"><a rel=\"nofollow\" class=\"external text\" href=\"http://www.nikkeibp.co.jp/atcl/tk/PPP/report/121400021/\">豊地域に“つながり”を生み出すITエンジニアとNPOの視点</a> 日経BP社 新・公民連携最前線 2018年3月15日閲覧</span>\\n</li>\\n<li id=\"cite_note-software201702-12\">^ <a href=\"#cite_ref-software201702_12-0\"><sup><i><b>a</b></i></sup></a> <a href=\"#cite_ref-software201702_12-1\"><sup><i><b>b</b></i></sup></a> <span class=\"reference-text\">Software Design 2017年2月号 技術評論社 P178-180</span>\\n</li>\\n<li id=\"cite_note-13\"><b><a href=\"#cite_ref-13\">^</a></b> <span class=\"reference-text\"><a rel=\"nofollow\" class=\"external text\" href=\"https://japan.cnet.com/article/35108831/\">「シビックテック」の現状を知る最大規模サミット開催--Code for Japan Summit 2017</a> cnet Japan 2018年3月15日閲覧</span>\\n</li>\\n<li id=\"cite_note-14\"><b><a href=\"#cite_ref-14\">^</a></b> <span class=\"reference-text\"><a rel=\"nofollow\" class=\"external text\" href=\"http://www.niigata-nippo.co.jp/news/local/20180921420761.html\">草の根ＩＴ で課題解決へ ２２、２３日 新潟でサミット</a> 新潟日報 2018年9月25日閲覧</span>\\n</li>\\n<li id=\"cite_note-15\"><b><a href=\"#cite_ref-15\">^</a></b> <span class=\"reference-text\"><a rel=\"nofollow\" class=\"external text\" href=\"https://ict-enews.net/2019/09/25code-for-japan/\">シビックテック・カンファレンス「Code for Japan Summit」28・29日開催</a> ICT教育ニュース 2019年10月25日閲覧</span>\\n</li>\\n<li id=\"cite_note-16\"><b><a href=\"#cite_ref-16\">^</a></b> <span class=\"reference-text\"><a rel=\"nofollow\" class=\"external text\" href=\"https://codezine.jp/article/detail/8411\">Code for Japan、自治体のIT活用を応募企業が支援する取り組み「コーポレートフェローシップ」を発表、人材育成や新規事業開拓に効果が期待</a> CodeZine 2018年3月15日閲覧</span>\\n</li>\\n<li id=\"cite_note-17\"><b><a href=\"#cite_ref-17\">^</a></b> <span class=\"reference-text\"><a rel=\"nofollow\" class=\"external text\" href=\"http://tech.nikkeibp.co.jp/it/atcl/news/17/101002423/\">衆院選の候補者情報をオープンデータに、有志プロジェクトが進行中</a> 日経XTECH 2018年3月15日閲覧</span>\\n</li>\\n<li id=\"cite_note-vled-18\"><b><a href=\"#cite_ref-vled_18-0\">^</a></b> <span class=\"reference-text\"><cite style=\"font-style:normal\">“<span class=\"PDFlink\"><a rel=\"nofollow\" class=\"external text\" href=\"http://www.vled.or.jp/committee/docs/88253453e9d645f252629312db0f648ad2fe4465.pdf\">2017年度VLED勝手表彰 受賞者一覧</a></span> <span style=\"font-size:smaller\">(<a href=\"/wiki/Portable_Document_Format\" title=\"Portable Document Format\">PDF</a>)</span>”.&#32;<span title=\"\">2018年7月17日</span>閲覧。</cite></span>\\n</li>\\n<li id=\"cite_note-soumu-19\"><b><a href=\"#cite_ref-soumu_19-0\">^</a></b> <span class=\"reference-text\"><cite style=\"font-style:normal\">“<span class=\"PDFlink\"><a rel=\"nofollow\" class=\"external text\" href=\"http://www.soumu.go.jp/main_content/000553208.pdf\">平成３０年度 情報通信月間推進協議会会長表彰</a></span> <span style=\"font-size:smaller\">(<a href=\"/wiki/Portable_Document_Format\" title=\"Portable Document Format\">PDF</a>)</span>”.&#32;<span title=\"\">2018年7月17日</span>閲覧。</cite></span>\\n</li>\\n<li id=\"cite_note-20\"><b><a href=\"#cite_ref-20\">^</a></b> <span class=\"reference-text\">行政＆情報システム 2018年12月号 p47-53</span>\\n</li>\\n<li id=\"cite_note-naist-report-21\"><b><a href=\"#cite_ref-naist-report_21-0\">^</a></b> <span class=\"reference-text\"><cite style=\"font-style:normal\">“<span class=\"PDFlink\"><a rel=\"nofollow\" class=\"external text\" href=\"http://fukitama.info/data/pdf/paper/ismail_codefor_c_201407_dicimo2014.pdf\">Code for X・オープンデータによるアクティブラーニングの試行</a></span> <span style=\"font-size:smaller\">(<a href=\"/wiki/Portable_Document_Format\" title=\"Portable Document Format\">PDF</a>)</span>”.&#32;pp.&#160;2&#32;(2014年7月).&#32;<span title=\"\">2018年7月17日</span>閲覧。</cite><sup class=\"noprint Inline-Template nowrap\">&#91;<i><a href=\"/wiki/Wikipedia:%E5%87%BA%E5%85%B8%E3%82%92%E6%98%8E%E8%A8%98%E3%81%99%E3%82%8B#リンク切れの回避と修復\" title=\"Wikipedia:出典を明記する\"><span title=\"外部リンクがリンク切れとなっています。（2018年12月）\">リンク切れ</span></a></i>&#93;</sup></span>\\n</li>\\n<li id=\"cite_note-22\"><b><a href=\"#cite_ref-22\">^</a></b> <span class=\"reference-text\"><a rel=\"nofollow\" class=\"external text\" href=\"https://www.code4japan.org/brigade/\">Code for Japan Brigadeネットワーク参加団体</a> | Code for Japan</span>\\n</li>\\n</ol></div>\\n<h2><span id=\".E5.85.AC.E5.BC.8F.E3.82.B5.E3.82.A4.E3.83.88\"></span><span class=\"mw-headline\" id=\"公式サイト\">公式サイト</span><span class=\"mw-editsection\"><span class=\"mw-editsection-bracket\">[</span><a href=\"/w/index.php?title=Code_for_Japan&amp;action=edit&amp;section=10\" title=\"節を編集: 公式サイト\">編集</a><span class=\"mw-editsection-bracket\">]</span></span></h2>\\n<ul><li><a rel=\"nofollow\" class=\"external text\" href=\"https://www.code4japan.org/\">コード・フォー・ジャパン</a></li></ul></div>'"
            ]
          },
          "metadata": {
            "tags": []
          },
          "execution_count": 3
        }
      ]
    }
  ]
}