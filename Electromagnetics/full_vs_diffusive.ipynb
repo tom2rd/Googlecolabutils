{
  "nbformat": 4,
  "nbformat_minor": 0,
  "metadata": {
    "kernelspec": {
      "display_name": "Python 3",
      "language": "python",
      "name": "python3"
    },
    "language_info": {
      "codemirror_mode": {
        "name": "ipython",
        "version": 3
      },
      "file_extension": ".py",
      "mimetype": "text/x-python",
      "name": "python",
      "nbconvert_exporter": "python",
      "pygments_lexer": "ipython3",
      "version": "3.7.3"
    },
    "colab": {
      "name": "full_vs_diffusive.ipynb",
      "provenance": [],
      "include_colab_link": true
    }
  },
  "cells": [
    {
      "cell_type": "markdown",
      "metadata": {
        "id": "view-in-github",
        "colab_type": "text"
      },
      "source": [
        "<a href=\"https://colab.research.google.com/github/tom2rd/Googlecolabutils/blob/master/Electromagnetics/full_vs_diffusive.ipynb\" target=\"_parent\"><img src=\"https://colab.research.google.com/assets/colab-badge.svg\" alt=\"Open In Colab\"/></a>"
      ]
    },
    {
      "cell_type": "code",
      "metadata": {
        "id": "NgOL7O-F6PZK",
        "colab_type": "code",
        "colab": {
          "base_uri": "https://localhost:8080/",
          "height": 140
        },
        "outputId": "ca96a5a5-2010-42e3-8fbd-62ffbcfa9742"
      },
      "source": [
        "!pip install empymod"
      ],
      "execution_count": 2,
      "outputs": [
        {
          "output_type": "stream",
          "text": [
            "Collecting empymod\n",
            "\u001b[?25l  Downloading https://files.pythonhosted.org/packages/ad/01/b257911dbc987a440be8972384798a368b41be870526959eebc48142f49c/empymod-1.10.3-py3-none-any.whl (217kB)\n",
            "\r\u001b[K     |█▌                              | 10kB 13.6MB/s eta 0:00:01\r\u001b[K     |███                             | 20kB 1.8MB/s eta 0:00:01\r\u001b[K     |████▌                           | 30kB 2.6MB/s eta 0:00:01\r\u001b[K     |██████                          | 40kB 1.7MB/s eta 0:00:01\r\u001b[K     |███████▌                        | 51kB 2.1MB/s eta 0:00:01\r\u001b[K     |█████████                       | 61kB 2.5MB/s eta 0:00:01\r\u001b[K     |██████████▋                     | 71kB 2.9MB/s eta 0:00:01\r\u001b[K     |████████████                    | 81kB 3.3MB/s eta 0:00:01\r\u001b[K     |█████████████▋                  | 92kB 3.6MB/s eta 0:00:01\r\u001b[K     |███████████████                 | 102kB 2.8MB/s eta 0:00:01\r\u001b[K     |████████████████▋               | 112kB 2.8MB/s eta 0:00:01\r\u001b[K     |██████████████████              | 122kB 2.8MB/s eta 0:00:01\r\u001b[K     |███████████████████▋            | 133kB 2.8MB/s eta 0:00:01\r\u001b[K     |█████████████████████▏          | 143kB 2.8MB/s eta 0:00:01\r\u001b[K     |██████████████████████▋         | 153kB 2.8MB/s eta 0:00:01\r\u001b[K     |████████████████████████▏       | 163kB 2.8MB/s eta 0:00:01\r\u001b[K     |█████████████████████████▋      | 174kB 2.8MB/s eta 0:00:01\r\u001b[K     |███████████████████████████▏    | 184kB 2.8MB/s eta 0:00:01\r\u001b[K     |████████████████████████████▋   | 194kB 2.8MB/s eta 0:00:01\r\u001b[K     |██████████████████████████████▏ | 204kB 2.8MB/s eta 0:00:01\r\u001b[K     |███████████████████████████████▊| 215kB 2.8MB/s eta 0:00:01\r\u001b[K     |████████████████████████████████| 225kB 2.8MB/s \n",
            "\u001b[?25hRequirement already satisfied: numpy in /usr/local/lib/python3.6/dist-packages (from empymod) (1.17.3)\n",
            "Requirement already satisfied: scipy>=1.0.0 in /usr/local/lib/python3.6/dist-packages (from empymod) (1.3.1)\n",
            "Installing collected packages: empymod\n",
            "Successfully installed empymod-1.10.3\n"
          ],
          "name": "stdout"
        }
      ]
    },
    {
      "cell_type": "code",
      "metadata": {
        "id": "DAw4j5Dy6NsX",
        "colab_type": "code",
        "colab": {}
      },
      "source": [
        "%matplotlib inline"
      ],
      "execution_count": 0,
      "outputs": []
    },
    {
      "cell_type": "markdown",
      "metadata": {
        "id": "AbkEtxiD6Nse",
        "colab_type": "text"
      },
      "source": [
        "\n",
        "Full wavefield vs diffusive approx. for a fullspace\n",
        "===================================================\n",
        "\n",
        "Play around to see that the difference is getting bigger for\n",
        "\n",
        "- higher frequencies,\n",
        "- higher eperm/mperm.\n"
      ]
    },
    {
      "cell_type": "code",
      "metadata": {
        "id": "9NrYAPYF6Nsf",
        "colab_type": "code",
        "colab": {}
      },
      "source": [
        "import empymod\n",
        "import numpy as np\n",
        "import matplotlib.pyplot as plt\n",
        "plt.style.use('ggplot')"
      ],
      "execution_count": 0,
      "outputs": []
    },
    {
      "cell_type": "markdown",
      "metadata": {
        "id": "Crt6nDG96Nsj",
        "colab_type": "text"
      },
      "source": [
        "Define model\n",
        "------------\n",
        "\n"
      ]
    },
    {
      "cell_type": "code",
      "metadata": {
        "id": "AzNZkxFZ6Nsk",
        "colab_type": "code",
        "colab": {}
      },
      "source": [
        "x = (np.arange(1051))*10-500\n",
        "rx = np.repeat([x, ], np.size(x), axis=0)\n",
        "ry = rx.transpose()\n",
        "zsrc = 150\n",
        "zrec = 200\n",
        "res = 1/3\n",
        "freq = 0.5\n",
        "ab = 11\n",
        "aniso = np.sqrt(3/.3)\n",
        "perm = 1\n",
        "inp = {\n",
        "    'src': [0, 0, zsrc],\n",
        "    'rec': [rx.ravel(), ry.ravel(), zrec],\n",
        "    'res': res,\n",
        "    'freqtime': freq,\n",
        "    'aniso': aniso,\n",
        "    'ab': ab,\n",
        "    'epermH': perm,\n",
        "    'epermV': perm,\n",
        "    'mpermH': perm,\n",
        "    'mpermV': perm,\n",
        "    'verb': 0\n",
        "}"
      ],
      "execution_count": 0,
      "outputs": []
    },
    {
      "cell_type": "markdown",
      "metadata": {
        "id": "8s2SMEI66Nso",
        "colab_type": "text"
      },
      "source": [
        "Calculation\n",
        "-----------\n",
        "\n"
      ]
    },
    {
      "cell_type": "code",
      "metadata": {
        "id": "Y49w-JNF6Nsp",
        "colab_type": "code",
        "colab": {}
      },
      "source": [
        "# Halfspace\n",
        "hs = empymod.analytical(**inp, solution='dfs')\n",
        "hs = hs.reshape(np.shape(rx))\n",
        "\n",
        "# Fullspace\n",
        "fs = empymod.analytical(**inp)\n",
        "fs = fs.reshape(np.shape(rx))\n",
        "\n",
        "# Relative error (%)\n",
        "amperr = np.abs((fs.amp - hs.amp)/fs.amp)*100\n",
        "phaerr = np.abs((np.angle(fs) - np.angle(hs))/np.angle(fs))*100"
      ],
      "execution_count": 0,
      "outputs": []
    },
    {
      "cell_type": "markdown",
      "metadata": {
        "id": "PkYsbrFZ6Nst",
        "colab_type": "text"
      },
      "source": [
        "Plot\n",
        "----\n",
        "\n"
      ]
    },
    {
      "cell_type": "code",
      "metadata": {
        "id": "6d2Fmfkw6Nsu",
        "colab_type": "code",
        "colab": {
          "base_uri": "https://localhost:8080/",
          "height": 360
        },
        "outputId": "911af19d-a2b7-4e0b-8fb2-b387be8eb754"
      },
      "source": [
        "fig, axs = plt.subplots(figsize=(10, 4.2), nrows=1, ncols=2)\n",
        "\n",
        "# Min and max, properties\n",
        "vmin = 1e-10\n",
        "vmax = 1e0\n",
        "props = {'levels': np.logspace(np.log10(vmin), np.log10(vmax), 50),\n",
        "         'locator': plt.matplotlib.ticker.LogLocator(), 'cmap': 'Greys'}\n",
        "\n",
        "# Plot amplitude error\n",
        "plt.sca(axs[0])\n",
        "plt.title(r'(a) Amplitude')\n",
        "cf1 = plt.contourf(rx/1000, ry/1000, amperr.clip(vmin, vmax), **props)\n",
        "plt.ylabel('Crossline offset (km)')\n",
        "plt.xlabel('Inline offset (km)')\n",
        "plt.xlim(min(x)/1000, max(x)/1000)\n",
        "plt.ylim(min(x)/1000, max(x)/1000)\n",
        "plt.axis('equal')\n",
        "\n",
        "# Plot phase error\n",
        "plt.sca(axs[1])\n",
        "plt.title(r'(b) Phase')\n",
        "cf2 = plt.contourf(rx/1000, ry/1000, phaerr.clip(vmin, vmax), **props)\n",
        "plt.xlabel('Inline offset (km)')\n",
        "plt.xlim(min(x)/1000, max(x)/1000)\n",
        "plt.ylim(min(x)/1000, max(x)/1000)\n",
        "plt.axis('equal')\n",
        "\n",
        "# Title\n",
        "plt.suptitle('Analytical fullspace solution\\nDifference between full ' +\n",
        "             'wavefield and diffusive approximation.', y=1.1)\n",
        "\n",
        "# Plot colorbar\n",
        "cax, kw = plt.matplotlib.colorbar.make_axes(\n",
        "        [axs[0], axs[1]], location='right', fraction=.05, pad=0.05, aspect=20)\n",
        "cb = plt.colorbar(cf2, cax=cax, ticks=10**(-(np.arange(13.)[::-1])+2), **kw)\n",
        "cb.set_label(r'Relative Error $(\\%)$')\n",
        "\n",
        "# Show\n",
        "plt.show()"
      ],
      "execution_count": 7,
      "outputs": [
        {
          "output_type": "display_data",
          "data": {
            "image/png": "[encoded data removed]",
            "text/plain": [
              "<Figure size 720x302.4 with 3 Axes>"
            ]
          },
          "metadata": {
            "tags": []
          }
        }
      ]
    },
    {
      "cell_type": "code",
      "metadata": {
        "id": "AAc3aMMc6Nsy",
        "colab_type": "code",
        "colab": {
          "base_uri": "https://localhost:8080/",
          "height": 105
        },
        "outputId": "5cc2a96f-f04b-4cef-f638-179de1863095"
      },
      "source": [
        "empymod.Report()"
      ],
      "execution_count": 8,
      "outputs": [
        {
          "output_type": "stream",
          "text": [
            "\n",
            "* WARNING :: `empymod.Report` requires `scooby`.\n",
            "             Install it via `pip install scooby`.\n",
            "\n"
          ],
          "name": "stdout"
        },
        {
          "output_type": "execute_result",
          "data": {
            "text/plain": [
              "<empymod.utils.Report at 0x7f02609f9438>"
            ]
          },
          "metadata": {
            "tags": []
          },
          "execution_count": 8
        }
      ]
    }
  ]
}