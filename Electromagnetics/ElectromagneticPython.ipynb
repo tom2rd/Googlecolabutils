{
  "nbformat": 4,
  "nbformat_minor": 0,
  "metadata": {
    "colab": {
      "name": "ElectromagneticPython.ipynb",
      "provenance": [],
      "include_colab_link": true
    },
    "kernelspec": {
      "name": "python3",
      "display_name": "Python 3"
    }
  },
  "cells": [
    {
      "cell_type": "markdown",
      "metadata": {
        "id": "view-in-github",
        "colab_type": "text"
      },
      "source": [
        "<a href=\"https://colab.research.google.com/github/tom2rd/Googlecolabutils/blob/master/Electromagnetics/ElectromagneticPython.ipynb\" target=\"_parent\"><img src=\"https://colab.research.google.com/assets/colab-badge.svg\" alt=\"Open In Colab\"/></a>"
      ]
    },
    {
      "cell_type": "markdown",
      "metadata": {
        "id": "CMWdiu6el-AM",
        "colab_type": "text"
      },
      "source": [
        "#Electromagnetic Python\n",
        "https://github.com/lbolla/EMpy\n",
        "\n",
        "電磁気学で広く使用されている数値アルゴリズムのスイートです。\n",
        "\n",
        "パッケージに含まれるもの：\n",
        "\n",
        "* 等方性および異方性の転送行列アルゴリズム。\n",
        "* 等方性および異方性の厳密な結合波解析（RCWA）アルゴリズム。\n",
        "* よく知られているさまざまなデバイス（マッハツェンダー、リング共振器など）の周波数応答の数値モデル。\n",
        "* このリストは、非常に短いものですが、FDTDと、電磁気学で使用される多くの非常に優れたソフトウェアへのインターフェイスを含むように拡大されることを期待しています。\n",
        "\n",
        "\n",
        "\n",
        "\n",
        "例\n",
        "ソースコードには、より多くの（そしてより最新の）例が用意されています。\n",
        "\n",
        "EMpyの機能の簡単な例をいくつか示します。できるだけ早くより多くが来るでしょう。せっかちな人 は、配布元の例を見ることができます 。\n",
        "\n",
        "* 単層反射防止コーティング\n",
        "* 異方性多層\n",
        "* シングルリングレゾネーター\n",
        "* Nリング共振器\n",
        "* 有限差分完全ベクトルモードソルバー\n",
        "* 格子付き多層\n"
      ]
    },
    {
      "cell_type": "code",
      "metadata": {
        "id": "RKdmnem4luL4",
        "colab_type": "code",
        "outputId": "d1cdca23-dea9-462a-ecb1-589f418b2eaf",
        "colab": {
          "base_uri": "https://localhost:8080/",
          "height": 377
        }
      },
      "source": [
        "!pip install ElectromagneticPython"
      ],
      "execution_count": 0,
      "outputs": [
        {
          "output_type": "stream",
          "text": [
            "Collecting ElectromagneticPython\n",
            "\u001b[?25l  Downloading https://files.pythonhosted.org/packages/d8/39/bac735b78b03b6157adbb65a8df7fa9a5a4c825428dc89228d90ad0d7a4d/ElectroMagneticPython-2.0.0.tar.gz (82kB)\n",
            "\r\u001b[K     |████                            | 10kB 18.3MB/s eta 0:00:01\r\u001b[K     |████████                        | 20kB 3.3MB/s eta 0:00:01\r\u001b[K     |████████████                    | 30kB 4.8MB/s eta 0:00:01\r\u001b[K     |███████████████▉                | 40kB 3.1MB/s eta 0:00:01\r\u001b[K     |███████████████████▉            | 51kB 3.8MB/s eta 0:00:01\r\u001b[K     |███████████████████████▉        | 61kB 4.5MB/s eta 0:00:01\r\u001b[K     |███████████████████████████▊    | 71kB 5.1MB/s eta 0:00:01\r\u001b[K     |███████████████████████████████▊| 81kB 5.8MB/s eta 0:00:01\r\u001b[K     |████████████████████████████████| 92kB 4.1MB/s \n",
            "\u001b[?25hRequirement already satisfied: future in /usr/local/lib/python3.6/dist-packages (from ElectromagneticPython) (0.16.0)\n",
            "Requirement already satisfied: numpy in /usr/local/lib/python3.6/dist-packages (from ElectromagneticPython) (1.17.3)\n",
            "Requirement already satisfied: scipy in /usr/local/lib/python3.6/dist-packages (from ElectromagneticPython) (1.3.1)\n",
            "Requirement already satisfied: matplotlib in /usr/local/lib/python3.6/dist-packages (from ElectromagneticPython) (3.1.1)\n",
            "Requirement already satisfied: python-dateutil>=2.1 in /usr/local/lib/python3.6/dist-packages (from matplotlib->ElectromagneticPython) (2.6.1)\n",
            "Requirement already satisfied: kiwisolver>=1.0.1 in /usr/local/lib/python3.6/dist-packages (from matplotlib->ElectromagneticPython) (1.1.0)\n",
            "Requirement already satisfied: cycler>=0.10 in /usr/local/lib/python3.6/dist-packages (from matplotlib->ElectromagneticPython) (0.10.0)\n",
            "Requirement already satisfied: pyparsing!=2.0.4,!=2.1.2,!=2.1.6,>=2.0.1 in /usr/local/lib/python3.6/dist-packages (from matplotlib->ElectromagneticPython) (2.4.2)\n",
            "Requirement already satisfied: six>=1.5 in /usr/local/lib/python3.6/dist-packages (from python-dateutil>=2.1->matplotlib->ElectromagneticPython) (1.12.0)\n",
            "Requirement already satisfied: setuptools in /usr/local/lib/python3.6/dist-packages (from kiwisolver>=1.0.1->matplotlib->ElectromagneticPython) (41.4.0)\n",
            "Building wheels for collected packages: ElectromagneticPython\n",
            "  Building wheel for ElectromagneticPython (setup.py) ... \u001b[?25l\u001b[?25hdone\n",
            "  Created wheel for ElectromagneticPython: filename=ElectroMagneticPython-2.0.0-cp36-none-any.whl size=68607 sha256=7c5f1ae2470c06dcf6449b138c332e7ada0219a57d83776e2a99c5af67adeed7\n",
            "  Stored in directory: /root/.cache/pip/wheels/39/bf/58/7aa75a00e1c877fdb7d7a39e63cfd141ec4d0e72090cc15c79\n",
            "Successfully built ElectromagneticPython\n",
            "Installing collected packages: ElectromagneticPython\n",
            "Successfully installed ElectromagneticPython-2.0.0\n"
          ],
          "name": "stdout"
        }
      ]
    },
    {
      "cell_type": "code",
      "metadata": {
        "id": "MVqBrkXClz2V",
        "colab_type": "code",
        "outputId": "e148ebc0-66bb-4ae0-c308-56a0e0780409",
        "colab": {
          "base_uri": "https://localhost:8080/",
          "height": 221
        }
      },
      "source": [
        "pip install scikits.bvp1lg"
      ],
      "execution_count": 0,
      "outputs": [
        {
          "output_type": "stream",
          "text": [
            "Collecting scikits.bvp1lg\n",
            "\u001b[?25l  Downloading https://files.pythonhosted.org/packages/82/47/6cee340f5171a9cd590219a1af2b5a53574011884a7d04b0da1fa6cb7713/scikits.bvp1lg-0.2.9.tar.gz (45kB)\n",
            "\r\u001b[K     |███████▏                        | 10kB 19.5MB/s eta 0:00:01\r\u001b[K     |██████████████▍                 | 20kB 3.3MB/s eta 0:00:01\r\u001b[K     |█████████████████████▌          | 30kB 4.7MB/s eta 0:00:01\r\u001b[K     |████████████████████████████▊   | 40kB 3.1MB/s eta 0:00:01\r\u001b[K     |████████████████████████████████| 51kB 2.5MB/s \n",
            "\u001b[?25hRequirement already satisfied: numpy>=1.5 in /usr/local/lib/python3.6/dist-packages (from scikits.bvp1lg) (1.17.3)\n",
            "Requirement already satisfied: scipy>=0.9 in /usr/local/lib/python3.6/dist-packages (from scikits.bvp1lg) (1.3.1)\n",
            "Building wheels for collected packages: scikits.bvp1lg\n",
            "  Building wheel for scikits.bvp1lg (setup.py) ... \u001b[?25l\u001b[?25hdone\n",
            "  Created wheel for scikits.bvp1lg: filename=scikits.bvp1lg-0.2.9-cp36-cp36m-linux_x86_64.whl size=435156 sha256=764c6008558b54665f92150be3fafdc628842f9ad5a158d720c8b60182a71265\n",
            "  Stored in directory: /root/.cache/pip/wheels/af/29/9a/b3ec2f69149f95d32205fb8f45df38e6e8a88100f74495275b\n",
            "Successfully built scikits.bvp1lg\n",
            "Installing collected packages: scikits.bvp1lg\n",
            "Successfully installed scikits.bvp1lg-0.2.9\n"
          ],
          "name": "stdout"
        }
      ]
    },
    {
      "cell_type": "code",
      "metadata": {
        "id": "G1lUZ37TmQfX",
        "colab_type": "code",
        "outputId": "d2038c65-9181-42f8-f053-b9dda43f8c98",
        "colab": {
          "base_uri": "https://localhost:8080/",
          "height": 85
        }
      },
      "source": [
        "%cd sample_data/\n",
        "!ls"
      ],
      "execution_count": 0,
      "outputs": [
        {
          "output_type": "stream",
          "text": [
            "/content/sample_data\n",
            "anscombe.json\t\t      mnist_test.csv\n",
            "california_housing_test.csv   mnist_train_small.csv\n",
            "california_housing_train.csv  README.md\n"
          ],
          "name": "stdout"
        }
      ]
    },
    {
      "cell_type": "markdown",
      "metadata": {
        "id": "MMEjnx4Pm4sE",
        "colab_type": "text"
      },
      "source": [
        ""
      ]
    },
    {
      "cell_type": "code",
      "metadata": {
        "id": "sUS4a4Fqm5X3",
        "colab_type": "code",
        "outputId": "180787bc-b4dc-4ad3-f77e-52caa1795db7",
        "colab": {
          "base_uri": "https://localhost:8080/",
          "height": 1000
        }
      },
      "source": [
        "\"\"\"Rigorous Coupled Wave Analysis example.\"\"\"\n",
        "\n",
        "import numpy\n",
        "import pylab\n",
        "\n",
        "import EMpy\n",
        "from EMpy.materials import (\n",
        "    IsotropicMaterial, AnisotropicMaterial, RefractiveIndex, EpsilonTensor)\n",
        "\n",
        "\n",
        "alpha = 0.\n",
        "delta = 0.\n",
        "# psi = EMpy.utils.deg2rad(0.)  # TM\n",
        "# psi = EMpy.utils.deg2rad(90.)  # TE\n",
        "psi = EMpy.utils.deg2rad(70.)  # hybrid\n",
        "phi = EMpy.utils.deg2rad(90.)\n",
        "\n",
        "LAMBDA = 1016e-9  # grating periodicity\n",
        "n = 2  # orders of diffraction\n",
        "\n",
        "UV6 = IsotropicMaterial(\n",
        "    'UV6',\n",
        "    n0=RefractiveIndex(n0_const=1.560))\n",
        "SiN = AnisotropicMaterial(\n",
        "    'SiN',\n",
        "    epsilon_tensor=EpsilonTensor(\n",
        "        epsilon_tensor_const=EMpy.constants.eps0 * EMpy.utils.euler_rotate(\n",
        "            numpy.diag(numpy.asarray([1.8550, 1.8750, 1.9130]) ** 2),\n",
        "            EMpy.utils.deg2rad(14),\n",
        "            EMpy.utils.deg2rad(25),\n",
        "            EMpy.utils.deg2rad(32))))\n",
        "BPTEOS = IsotropicMaterial(\n",
        "    'BPTEOS',\n",
        "    n0=RefractiveIndex(n0_const=1.448))\n",
        "ARC1 = IsotropicMaterial(\n",
        "    'ARC1', n0=RefractiveIndex(n0_const=1.448))\n",
        "\n",
        "EFF = IsotropicMaterial(\n",
        "    'EFF', n0=RefractiveIndex(n0_const=1.6))\n",
        "\n",
        "multilayer1 = EMpy.utils.Multilayer([\n",
        "    EMpy.utils.Layer(EMpy.materials.Air, numpy.inf),\n",
        "    EMpy.utils.Layer(SiN, 226e-9),\n",
        "    EMpy.utils.Layer(BPTEOS, 226e-9),\n",
        "    EMpy.utils.BinaryGrating(SiN, BPTEOS, .659, LAMBDA, 123e-9),\n",
        "    EMpy.utils.Layer(SiN, 219e-9),\n",
        "    EMpy.utils.Layer(EMpy.materials.SiO2, 2188e-9),\n",
        "    EMpy.utils.Layer(EMpy.materials.Si, numpy.inf),\n",
        "])\n",
        "\n",
        "multilayer2 = EMpy.utils.Multilayer([\n",
        "    EMpy.utils.Layer(EMpy.materials.Air, numpy.inf),\n",
        "    EMpy.utils.Layer(SiN, 226e-9),\n",
        "    EMpy.utils.Layer(BPTEOS, 226e-9),\n",
        "    EMpy.utils.Layer(\n",
        "        IsotropicMaterial(n0=RefractiveIndex(n0_const=1.6)), 123e-9),\n",
        "    EMpy.utils.Layer(SiN, 219e-9),\n",
        "    EMpy.utils.Layer(EMpy.materials.SiO2, 2188e-9),\n",
        "    EMpy.utils.Layer(EMpy.materials.Si, numpy.inf),\n",
        "])\n",
        "\n",
        "wls = numpy.linspace(1.45e-6, 1.75e-6, 301)\n",
        "\n",
        "solution1 = EMpy.RCWA.AnisotropicRCWA(\n",
        "    multilayer1, alpha, delta, psi, phi, n).solve(wls)\n",
        "solution2 = EMpy.RCWA.AnisotropicRCWA(\n",
        "    multilayer2, alpha, delta, psi, phi, n).solve(wls)\n",
        "\n",
        "um = 1e-6\n",
        "pylab.plot(\n",
        "    # wls / um, solution1.DEO1[n, :], 'k.-',\n",
        "    # wls / um, solution1.DEO3[n, :], 'r.-',\n",
        "    wls / um, solution1.DEE1[n, :], 'b.-',\n",
        "    wls / um, solution1.DEE3[n, :], 'g.-',\n",
        "    # wls / um, solution2.DEO1[n, :], 'k--',\n",
        "    # wls / um, solution2.DEO3[n, :], 'r--',\n",
        "    wls / um, solution2.DEE1[n, :], 'b--',\n",
        "    wls / um, solution2.DEE3[n, :], 'g--',\n",
        ")\n",
        "pylab.xlabel('wavelength [um]')\n",
        "pylab.ylabel('diffraction efficiency')\n",
        "pylab.legend(('DEO1', 'DEO3', 'DEE1', 'DEE3'))\n",
        "pylab.axis('tight')\n",
        "pylab.ylim([0, 0.15])\n",
        "pylab.show()"
      ],
      "execution_count": 0,
      "outputs": [
        {
          "output_type": "stream",
          "text": [
            "/usr/local/lib/python3.6/dist-packages/EMpy/RCWA.py:741: LinAlgWarning: Ill-conditioned matrix (rcond=9.20981e-17): result may not be accurate.\n",
            "  x = linsolve(BC_A, BC_b)\n",
            "/usr/local/lib/python3.6/dist-packages/EMpy/RCWA.py:741: LinAlgWarning: Ill-conditioned matrix (rcond=2.68697e-18): result may not be accurate.\n",
            "  x = linsolve(BC_A, BC_b)\n",
            "/usr/local/lib/python3.6/dist-packages/EMpy/RCWA.py:741: LinAlgWarning: Ill-conditioned matrix (rcond=9.24227e-17): result may not be accurate.\n",
            "  x = linsolve(BC_A, BC_b)\n",
            "/usr/local/lib/python3.6/dist-packages/EMpy/RCWA.py:741: LinAlgWarning: Ill-conditioned matrix (rcond=9.76942e-17): result may not be accurate.\n",
            "  x = linsolve(BC_A, BC_b)\n",
            "/usr/local/lib/python3.6/dist-packages/EMpy/RCWA.py:741: LinAlgWarning: Ill-conditioned matrix (rcond=2.84993e-17): result may not be accurate.\n",
            "  x = linsolve(BC_A, BC_b)\n",
            "/usr/local/lib/python3.6/dist-packages/EMpy/RCWA.py:741: LinAlgWarning: Ill-conditioned matrix (rcond=4.44899e-17): result may not be accurate.\n",
            "  x = linsolve(BC_A, BC_b)\n",
            "/usr/local/lib/python3.6/dist-packages/EMpy/RCWA.py:741: LinAlgWarning: Ill-conditioned matrix (rcond=1.10622e-16): result may not be accurate.\n",
            "  x = linsolve(BC_A, BC_b)\n",
            "/usr/local/lib/python3.6/dist-packages/EMpy/RCWA.py:741: LinAlgWarning: Ill-conditioned matrix (rcond=9.76664e-17): result may not be accurate.\n",
            "  x = linsolve(BC_A, BC_b)\n",
            "/usr/local/lib/python3.6/dist-packages/EMpy/RCWA.py:741: LinAlgWarning: Ill-conditioned matrix (rcond=8.78166e-17): result may not be accurate.\n",
            "  x = linsolve(BC_A, BC_b)\n",
            "/usr/local/lib/python3.6/dist-packages/EMpy/RCWA.py:741: LinAlgWarning: Ill-conditioned matrix (rcond=8.19892e-17): result may not be accurate.\n",
            "  x = linsolve(BC_A, BC_b)\n",
            "/usr/local/lib/python3.6/dist-packages/EMpy/RCWA.py:741: LinAlgWarning: Ill-conditioned matrix (rcond=8.0846e-17): result may not be accurate.\n",
            "  x = linsolve(BC_A, BC_b)\n",
            "/usr/local/lib/python3.6/dist-packages/EMpy/RCWA.py:741: LinAlgWarning: Ill-conditioned matrix (rcond=8.43684e-17): result may not be accurate.\n",
            "  x = linsolve(BC_A, BC_b)\n",
            "/usr/local/lib/python3.6/dist-packages/EMpy/RCWA.py:741: LinAlgWarning: Ill-conditioned matrix (rcond=9.18137e-17): result may not be accurate.\n",
            "  x = linsolve(BC_A, BC_b)\n",
            "/usr/local/lib/python3.6/dist-packages/EMpy/RCWA.py:741: LinAlgWarning: Ill-conditioned matrix (rcond=1.02109e-16): result may not be accurate.\n",
            "  x = linsolve(BC_A, BC_b)\n",
            "/usr/local/lib/python3.6/dist-packages/EMpy/RCWA.py:741: LinAlgWarning: Ill-conditioned matrix (rcond=1.08623e-16): result may not be accurate.\n",
            "  x = linsolve(BC_A, BC_b)\n",
            "/usr/local/lib/python3.6/dist-packages/EMpy/RCWA.py:741: LinAlgWarning: Ill-conditioned matrix (rcond=8.8856e-17): result may not be accurate.\n",
            "  x = linsolve(BC_A, BC_b)\n",
            "/usr/local/lib/python3.6/dist-packages/EMpy/RCWA.py:741: LinAlgWarning: Ill-conditioned matrix (rcond=6.7945e-17): result may not be accurate.\n",
            "  x = linsolve(BC_A, BC_b)\n",
            "/usr/local/lib/python3.6/dist-packages/EMpy/RCWA.py:741: LinAlgWarning: Ill-conditioned matrix (rcond=4.60828e-17): result may not be accurate.\n",
            "  x = linsolve(BC_A, BC_b)\n",
            "/usr/local/lib/python3.6/dist-packages/EMpy/RCWA.py:741: LinAlgWarning: Ill-conditioned matrix (rcond=2.34054e-17): result may not be accurate.\n",
            "  x = linsolve(BC_A, BC_b)\n",
            "/usr/local/lib/python3.6/dist-packages/EMpy/RCWA.py:741: LinAlgWarning: Ill-conditioned matrix (rcond=1.37037e-19): result may not be accurate.\n",
            "  x = linsolve(BC_A, BC_b)\n",
            "/usr/local/lib/python3.6/dist-packages/EMpy/RCWA.py:741: LinAlgWarning: Ill-conditioned matrix (rcond=2.32974e-17): result may not be accurate.\n",
            "  x = linsolve(BC_A, BC_b)\n",
            "/usr/local/lib/python3.6/dist-packages/EMpy/RCWA.py:741: LinAlgWarning: Ill-conditioned matrix (rcond=4.58407e-17): result may not be accurate.\n",
            "  x = linsolve(BC_A, BC_b)\n",
            "/usr/local/lib/python3.6/dist-packages/EMpy/RCWA.py:741: LinAlgWarning: Ill-conditioned matrix (rcond=6.77259e-17): result may not be accurate.\n",
            "  x = linsolve(BC_A, BC_b)\n",
            "/usr/local/lib/python3.6/dist-packages/EMpy/RCWA.py:741: LinAlgWarning: Ill-conditioned matrix (rcond=8.92498e-17): result may not be accurate.\n",
            "  x = linsolve(BC_A, BC_b)\n",
            "/usr/local/lib/python3.6/dist-packages/EMpy/RCWA.py:741: LinAlgWarning: Ill-conditioned matrix (rcond=1.09864e-16): result may not be accurate.\n",
            "  x = linsolve(BC_A, BC_b)\n",
            "/usr/local/lib/python3.6/dist-packages/EMpy/RCWA.py:741: LinAlgWarning: Ill-conditioned matrix (rcond=1.09945e-16): result may not be accurate.\n",
            "  x = linsolve(BC_A, BC_b)\n",
            "/usr/local/lib/python3.6/dist-packages/EMpy/RCWA.py:741: LinAlgWarning: Ill-conditioned matrix (rcond=1.07646e-16): result may not be accurate.\n",
            "  x = linsolve(BC_A, BC_b)\n",
            "/usr/local/lib/python3.6/dist-packages/EMpy/RCWA.py:741: LinAlgWarning: Ill-conditioned matrix (rcond=1.04527e-16): result may not be accurate.\n",
            "  x = linsolve(BC_A, BC_b)\n",
            "/usr/local/lib/python3.6/dist-packages/EMpy/RCWA.py:741: LinAlgWarning: Ill-conditioned matrix (rcond=1.01686e-16): result may not be accurate.\n",
            "  x = linsolve(BC_A, BC_b)\n",
            "/usr/local/lib/python3.6/dist-packages/EMpy/RCWA.py:741: LinAlgWarning: Ill-conditioned matrix (rcond=9.84728e-17): result may not be accurate.\n",
            "  x = linsolve(BC_A, BC_b)\n",
            "/usr/local/lib/python3.6/dist-packages/EMpy/RCWA.py:741: LinAlgWarning: Ill-conditioned matrix (rcond=9.59241e-17): result may not be accurate.\n",
            "  x = linsolve(BC_A, BC_b)\n",
            "/usr/local/lib/python3.6/dist-packages/EMpy/RCWA.py:741: LinAlgWarning: Ill-conditioned matrix (rcond=9.32853e-17): result may not be accurate.\n",
            "  x = linsolve(BC_A, BC_b)\n",
            "/usr/local/lib/python3.6/dist-packages/EMpy/RCWA.py:741: LinAlgWarning: Ill-conditioned matrix (rcond=9.01356e-17): result may not be accurate.\n",
            "  x = linsolve(BC_A, BC_b)\n",
            "/usr/local/lib/python3.6/dist-packages/EMpy/RCWA.py:741: LinAlgWarning: Ill-conditioned matrix (rcond=8.73001e-17): result may not be accurate.\n",
            "  x = linsolve(BC_A, BC_b)\n",
            "/usr/local/lib/python3.6/dist-packages/EMpy/RCWA.py:741: LinAlgWarning: Ill-conditioned matrix (rcond=8.48485e-17): result may not be accurate.\n",
            "  x = linsolve(BC_A, BC_b)\n",
            "/usr/local/lib/python3.6/dist-packages/EMpy/RCWA.py:741: LinAlgWarning: Ill-conditioned matrix (rcond=8.17599e-17): result may not be accurate.\n",
            "  x = linsolve(BC_A, BC_b)\n",
            "/usr/local/lib/python3.6/dist-packages/EMpy/RCWA.py:741: LinAlgWarning: Ill-conditioned matrix (rcond=7.94707e-17): result may not be accurate.\n",
            "  x = linsolve(BC_A, BC_b)\n",
            "/usr/local/lib/python3.6/dist-packages/EMpy/RCWA.py:741: LinAlgWarning: Ill-conditioned matrix (rcond=7.70595e-17): result may not be accurate.\n",
            "  x = linsolve(BC_A, BC_b)\n",
            "/usr/local/lib/python3.6/dist-packages/EMpy/RCWA.py:741: LinAlgWarning: Ill-conditioned matrix (rcond=7.45815e-17): result may not be accurate.\n",
            "  x = linsolve(BC_A, BC_b)\n",
            "/usr/local/lib/python3.6/dist-packages/EMpy/RCWA.py:741: LinAlgWarning: Ill-conditioned matrix (rcond=7.2064e-17): result may not be accurate.\n",
            "  x = linsolve(BC_A, BC_b)\n",
            "/usr/local/lib/python3.6/dist-packages/EMpy/RCWA.py:741: LinAlgWarning: Ill-conditioned matrix (rcond=6.89122e-17): result may not be accurate.\n",
            "  x = linsolve(BC_A, BC_b)\n",
            "/usr/local/lib/python3.6/dist-packages/EMpy/RCWA.py:741: LinAlgWarning: Ill-conditioned matrix (rcond=6.67201e-17): result may not be accurate.\n",
            "  x = linsolve(BC_A, BC_b)\n",
            "/usr/local/lib/python3.6/dist-packages/EMpy/RCWA.py:741: LinAlgWarning: Ill-conditioned matrix (rcond=6.42664e-17): result may not be accurate.\n",
            "  x = linsolve(BC_A, BC_b)\n",
            "/usr/local/lib/python3.6/dist-packages/EMpy/RCWA.py:741: LinAlgWarning: Ill-conditioned matrix (rcond=6.15868e-17): result may not be accurate.\n",
            "  x = linsolve(BC_A, BC_b)\n",
            "/usr/local/lib/python3.6/dist-packages/EMpy/RCWA.py:741: LinAlgWarning: Ill-conditioned matrix (rcond=5.93599e-17): result may not be accurate.\n",
            "  x = linsolve(BC_A, BC_b)\n",
            "/usr/local/lib/python3.6/dist-packages/EMpy/RCWA.py:741: LinAlgWarning: Ill-conditioned matrix (rcond=5.69044e-17): result may not be accurate.\n",
            "  x = linsolve(BC_A, BC_b)\n",
            "/usr/local/lib/python3.6/dist-packages/EMpy/RCWA.py:741: LinAlgWarning: Ill-conditioned matrix (rcond=5.44128e-17): result may not be accurate.\n",
            "  x = linsolve(BC_A, BC_b)\n",
            "/usr/local/lib/python3.6/dist-packages/EMpy/RCWA.py:741: LinAlgWarning: Ill-conditioned matrix (rcond=5.19718e-17): result may not be accurate.\n",
            "  x = linsolve(BC_A, BC_b)\n",
            "/usr/local/lib/python3.6/dist-packages/EMpy/RCWA.py:741: LinAlgWarning: Ill-conditioned matrix (rcond=4.95497e-17): result may not be accurate.\n",
            "  x = linsolve(BC_A, BC_b)\n",
            "/usr/local/lib/python3.6/dist-packages/EMpy/RCWA.py:741: LinAlgWarning: Ill-conditioned matrix (rcond=4.69149e-17): result may not be accurate.\n",
            "  x = linsolve(BC_A, BC_b)\n",
            "/usr/local/lib/python3.6/dist-packages/EMpy/RCWA.py:741: LinAlgWarning: Ill-conditioned matrix (rcond=4.47077e-17): result may not be accurate.\n",
            "  x = linsolve(BC_A, BC_b)\n",
            "/usr/local/lib/python3.6/dist-packages/EMpy/RCWA.py:741: LinAlgWarning: Ill-conditioned matrix (rcond=4.25766e-17): result may not be accurate.\n",
            "  x = linsolve(BC_A, BC_b)\n",
            "/usr/local/lib/python3.6/dist-packages/EMpy/RCWA.py:741: LinAlgWarning: Ill-conditioned matrix (rcond=4.00324e-17): result may not be accurate.\n",
            "  x = linsolve(BC_A, BC_b)\n",
            "/usr/local/lib/python3.6/dist-packages/EMpy/RCWA.py:741: LinAlgWarning: Ill-conditioned matrix (rcond=3.76323e-17): result may not be accurate.\n",
            "  x = linsolve(BC_A, BC_b)\n",
            "/usr/local/lib/python3.6/dist-packages/EMpy/RCWA.py:741: LinAlgWarning: Ill-conditioned matrix (rcond=3.56535e-17): result may not be accurate.\n",
            "  x = linsolve(BC_A, BC_b)\n",
            "/usr/local/lib/python3.6/dist-packages/EMpy/RCWA.py:741: LinAlgWarning: Ill-conditioned matrix (rcond=3.34539e-17): result may not be accurate.\n",
            "  x = linsolve(BC_A, BC_b)\n",
            "/usr/local/lib/python3.6/dist-packages/EMpy/RCWA.py:741: LinAlgWarning: Ill-conditioned matrix (rcond=3.13212e-17): result may not be accurate.\n",
            "  x = linsolve(BC_A, BC_b)\n",
            "/usr/local/lib/python3.6/dist-packages/EMpy/RCWA.py:741: LinAlgWarning: Ill-conditioned matrix (rcond=2.88383e-17): result may not be accurate.\n",
            "  x = linsolve(BC_A, BC_b)\n",
            "/usr/local/lib/python3.6/dist-packages/EMpy/RCWA.py:741: LinAlgWarning: Ill-conditioned matrix (rcond=2.70109e-17): result may not be accurate.\n",
            "  x = linsolve(BC_A, BC_b)\n",
            "/usr/local/lib/python3.6/dist-packages/EMpy/RCWA.py:741: LinAlgWarning: Ill-conditioned matrix (rcond=2.4688e-17): result may not be accurate.\n",
            "  x = linsolve(BC_A, BC_b)\n",
            "/usr/local/lib/python3.6/dist-packages/EMpy/RCWA.py:741: LinAlgWarning: Ill-conditioned matrix (rcond=2.2692e-17): result may not be accurate.\n",
            "  x = linsolve(BC_A, BC_b)\n",
            "/usr/local/lib/python3.6/dist-packages/EMpy/RCWA.py:741: LinAlgWarning: Ill-conditioned matrix (rcond=2.06319e-17): result may not be accurate.\n",
            "  x = linsolve(BC_A, BC_b)\n",
            "/usr/local/lib/python3.6/dist-packages/EMpy/RCWA.py:741: LinAlgWarning: Ill-conditioned matrix (rcond=1.82889e-17): result may not be accurate.\n",
            "  x = linsolve(BC_A, BC_b)\n"
          ],
          "name": "stderr"
        },
        {
          "output_type": "display_data",
          "data": {
            "image/png": "[encoded data removed]",
            "text/plain": [
              "<Figure size 432x288 with 1 Axes>"
            ]
          },
          "metadata": {
            "tags": []
          }
        }
      ]
    }
  ]
}