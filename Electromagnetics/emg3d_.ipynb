{
  "nbformat": 4,
  "nbformat_minor": 0,
  "metadata": {
    "colab": {
      "name": "emg3d .ipynb",
      "provenance": [],
      "include_colab_link": true
    },
    "kernelspec": {
      "name": "python3",
      "display_name": "Python 3"
    }
  },
  "cells": [
    {
      "cell_type": "markdown",
      "metadata": {
        "id": "view-in-github",
        "colab_type": "text"
      },
      "source": [
        "<a href=\"https://colab.research.google.com/github/tom2rd/Googlecolabutils/blob/master/Electromagnetics/emg3d_.ipynb\" target=\"_parent\"><img src=\"https://colab.research.google.com/assets/colab-badge.svg\" alt=\"Open In Colab\"/></a>"
      ]
    },
    {
      "cell_type": "markdown",
      "metadata": {
        "id": "_oRhNQvS1PIB",
        "colab_type": "text"
      },
      "source": [
        "#python"
      ]
    },
    {
      "cell_type": "code",
      "metadata": {
        "id": "f9GkN1lR1NVT",
        "colab_type": "code",
        "colab": {
          "base_uri": "https://localhost:8080/",
          "height": 70
        },
        "outputId": "9a87169e-1a04-48ee-9e6f-8468d357e475"
      },
      "source": [
        "!pip install python-scattnlay"
      ],
      "execution_count": 2,
      "outputs": [
        {
          "output_type": "stream",
          "text": [
            "Collecting python-scattnlay\n",
            "  Using cached https://files.pythonhosted.org/packages/ff/2e/325b6c5427a052642c641b0a2d21aa26136c8ea96a5a628060c3db33b020/python-scattnlay-2.3.tar.gz\n",
            "\u001b[31mERROR: Command errored out with exit status 1: python setup.py egg_info Check the logs for full command output.\u001b[0m\n"
          ],
          "name": "stdout"
        }
      ]
    },
    {
      "cell_type": "code",
      "metadata": {
        "id": "jm4L8kiD1_xz",
        "colab_type": "code",
        "colab": {
          "base_uri": "https://localhost:8080/",
          "height": 228
        },
        "outputId": "48cf852e-16e8-4f7d-81da-50bfd21d9d4d"
      },
      "source": [
        "pip install emg3d"
      ],
      "execution_count": 3,
      "outputs": [
        {
          "output_type": "stream",
          "text": [
            "Collecting emg3d\n",
            "\u001b[?25l  Downloading https://files.pythonhosted.org/packages/00/64/14f70f56cbe3992635554248c492645f4e05d817a4836d184486951ecbfd/emg3d-0.9.0-py3-none-any.whl (64kB)\n",
            "\r\u001b[K     |█████                           | 10kB 15.7MB/s eta 0:00:01\r\u001b[K     |██████████                      | 20kB 6.9MB/s eta 0:00:01\r\u001b[K     |███████████████▏                | 30kB 9.4MB/s eta 0:00:01\r\u001b[K     |████████████████████▏           | 40kB 5.8MB/s eta 0:00:01\r\u001b[K     |█████████████████████████▎      | 51kB 7.0MB/s eta 0:00:01\r\u001b[K     |██████████████████████████████▎ | 61kB 7.9MB/s eta 0:00:01\r\u001b[K     |████████████████████████████████| 71kB 4.3MB/s \n",
            "\u001b[?25hRequirement already satisfied: scipy>=1.1.0 in /usr/local/lib/python3.6/dist-packages (from emg3d) (1.3.1)\n",
            "Collecting empymod\n",
            "\u001b[?25l  Downloading https://files.pythonhosted.org/packages/63/06/bdd96d319e656b5c7454ef75a132fd437799d6136e4f4f3910ec3c606e68/empymod-1.10.2-py3-none-any.whl (217kB)\n",
            "\u001b[K     |████████████████████████████████| 225kB 23.8MB/s \n",
            "\u001b[?25hRequirement already satisfied: numba>=0.40.0 in /usr/local/lib/python3.6/dist-packages (from emg3d) (0.40.1)\n",
            "Requirement already satisfied: numpy>=1.15.0 in /usr/local/lib/python3.6/dist-packages (from emg3d) (1.17.3)\n",
            "Requirement already satisfied: llvmlite>=0.25.0dev0 in /usr/local/lib/python3.6/dist-packages (from numba>=0.40.0->emg3d) (0.30.0)\n",
            "Installing collected packages: empymod, emg3d\n",
            "Successfully installed emg3d-0.9.0 empymod-1.10.2\n"
          ],
          "name": "stdout"
        }
      ]
    }
  ]
}