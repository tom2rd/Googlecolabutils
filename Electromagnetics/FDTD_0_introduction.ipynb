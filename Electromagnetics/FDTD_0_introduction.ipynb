{
  "nbformat": 4,
  "nbformat_minor": 0,
  "metadata": {
    "kernelspec": {
      "display_name": "Python 3",
      "language": "python",
      "name": "python3"
    },
    "language_info": {
      "codemirror_mode": {
        "name": "ipython",
        "version": 3
      },
      "file_extension": ".py",
      "mimetype": "text/x-python",
      "name": "python",
      "nbconvert_exporter": "python",
      "pygments_lexer": "ipython3",
      "version": "3.7.1"
    },
    "colab": {
      "name": "FDTD_0_introduction.ipynb",
      "provenance": [],
      "include_colab_link": true
    }
  },
  "cells": [
    {
      "cell_type": "markdown",
      "metadata": {
        "id": "view-in-github",
        "colab_type": "text"
      },
      "source": [
        "<a href=\"https://colab.research.google.com/github/tom2rd/Googlecolabutils/blob/master/Electromagnetics/FDTD_0_introduction.ipynb\" target=\"_parent\"><img src=\"https://colab.research.google.com/assets/colab-badge.svg\" alt=\"Open In Colab\"/></a>"
      ]
    },
    {
      "cell_type": "code",
      "metadata": {
        "id": "Dt0qgF0hSo2W",
        "colab_type": "code",
        "outputId": "34be148d-5726-42e8-f99b-e05dfde2c985",
        "colab": {
          "base_uri": "https://localhost:8080/",
          "height": 85
        }
      },
      "source": [
        "!pip install fdtd"
      ],
      "execution_count": 0,
      "outputs": [
        {
          "output_type": "stream",
          "text": [
            "Collecting fdtd\n",
            "  Downloading https://files.pythonhosted.org/packages/ba/87/a2c62e92087cc39b1b694f870a2812577110d3bc1e46bec2c0e6d51f542d/fdtd-0.0.0-py3-none-any.whl\n",
            "Installing collected packages: fdtd\n",
            "Successfully installed fdtd-0.0.0\n"
          ],
          "name": "stdout"
        }
      ]
    },
    {
      "cell_type": "markdown",
      "metadata": {
        "id": "j9w5L3cBSmGy",
        "colab_type": "text"
      },
      "source": [
        "# fdtd library introduction\n",
        "\n",
        "https://github.com/flaport/fdtd"
      ]
    },
    {
      "cell_type": "markdown",
      "metadata": {
        "id": "hZd9yyYuSmG5",
        "colab_type": "text"
      },
      "source": [
        "## Imports\n",
        "\n",
        "the fdtd library is simply imported as follows:"
      ]
    },
    {
      "cell_type": "code",
      "metadata": {
        "id": "UugQZLjySmG8",
        "colab_type": "code",
        "colab": {}
      },
      "source": [
        "import fdtd"
      ],
      "execution_count": 0,
      "outputs": []
    },
    {
      "cell_type": "markdown",
      "metadata": {
        "id": "Q_FTxvYZSmHF",
        "colab_type": "text"
      },
      "source": [
        "## Setting the backend"
      ]
    },
    {
      "cell_type": "markdown",
      "metadata": {
        "id": "k_40SlyySmHI",
        "colab_type": "text"
      },
      "source": [
        "the fdtd library allows for setting a backend. There exist a Numpy backend and several PyTorch backends. The available backends are:\n",
        "- `\"numpy\"` (defaults to float64 arrays)\n",
        "- `\"torch\"` (defaults to float64 tensors)\n",
        "- `\"torch.float32\"`\n",
        "- `\"torch.float64\"`\n",
        "- `\"torch.cuda\"` (defaults to float64 tensors)\n",
        "- `\"torch.cuda.float32\"`\n",
        "- `\"torch.cuda.float64\"`\n",
        "\n",
        "In general, the `\"numpy\"` backend is preferred for standard CPU calculations with `\"float64\"` precision. In general, `\"float64\"` precision is always preferred for FDTD simulations, however, `\"float32\"` might give a significant performance boost.\n",
        "\n",
        "The `\"cuda\"` backends are only available for computers with a GPU."
      ]
    },
    {
      "cell_type": "code",
      "metadata": {
        "id": "rolQOfwcSmHJ",
        "colab_type": "code",
        "colab": {}
      },
      "source": [
        "fdtd.set_backend(\"numpy\")"
      ],
      "execution_count": 0,
      "outputs": []
    },
    {
      "cell_type": "markdown",
      "metadata": {
        "id": "2oSaJUteSmHP",
        "colab_type": "text"
      },
      "source": [
        "## The FDTD-grid"
      ]
    },
    {
      "cell_type": "markdown",
      "metadata": {
        "id": "wvce_d5KSmHR",
        "colab_type": "text"
      },
      "source": [
        "The FDTD grid defines the simulation region. \n",
        "```python\n",
        "# signature\n",
        "fdtd.Grid(\n",
        "    shape: Tuple[Number, Number, Number],\n",
        "    grid_spacing: float = 155e-9,\n",
        "    permittivity: float = 1.0,\n",
        "    permeability: float = 1.0,\n",
        "    courant_number: float = None,\n",
        ")\n",
        "```\n",
        "\n",
        "A grid is defined by its `shape`, which is just a 3D tuple of `Number`-types (integers or floats). If the shape is given in floats, it denotes the width, height and length of the grid in meters. If the shape is given in integers, it denotes the width, height and length of the grid in terms of the `grid_spacing`. Internally, these numbers will be translated to three integers: `grid.Nx`, `grid.Ny` and `grid.Nz`.\n",
        "\n",
        "A `grid_spacing` can be given. For stability reasons, it is recommended to choose a grid spacing that is at least 10 times smaller than the *smallest* wavelength in the grid. This means that for a grid containing a source with wavelength `1550nm` and a material with refractive index of `3.1`, the recommended minimum `grid_spacing` turns out to be `50pm`\n",
        "\n",
        "For the `permittivity` and `permeability` floats or arrays with the following shapes\n",
        "\n",
        "- `(grid.Nx, grid.Ny, grid.Nz)`\n",
        "- or `(grid.Nx, grid.Ny, grid.Nz, 1)`\n",
        "- or `(grid.Nx, grid.Ny, grid.Nz, 3)`\n",
        "\n",
        "are expected. In the last case, the shape implies the possibility for different permittivity for each of the major axes (so-called *uniaxial* or *biaxial* materials). \n",
        "Internally, these variables will be converted (for performance reasons) to their inverses `grid.inverse_permittivity` array and a `grid.inverse_permeability` array of shape `(grid.Nx, grid.Ny, grid.Nz, 3)`. It is possible to change those arrays after making the grid.\n",
        "\n",
        "Finally, the `courant_number` of the grid determines the relation between the `time_step` of the simulation and the `grid_spacing` of the grid. If not given, it is chosen to be the maximum number allowed by the [Courant-Friedrichs-Lewy Condition](https://en.wikipedia.org/wiki/Courant–Friedrichs–Lewy_condition): `1` for `1D` simulations, `1/√2` for `2D` simulations and `1/√3` for `3D` simulations (the dimensionality will be derived by the shape of the grid). For stability reasons, it is recommended not to change this value."
      ]
    },
    {
      "cell_type": "code",
      "metadata": {
        "id": "VsV1azJRSmHU",
        "colab_type": "code",
        "outputId": "47befbbe-61d0-4d73-fd17-a707e0649301",
        "colab": {
          "base_uri": "https://localhost:8080/",
          "height": 51
        }
      },
      "source": [
        "grid = fdtd.Grid(\n",
        "    shape = (25e-6, 15e-6, 1), # 25um x 15um x 1 (grid_spacing) --> 2D FDTD\n",
        ")\n",
        "\n",
        "print(grid)"
      ],
      "execution_count": 0,
      "outputs": [
        {
          "output_type": "stream",
          "text": [
            "Grid(shape=(161,97,1), grid_spacing=1.55e-07, courant_number=0.70)\n",
            "\n"
          ],
          "name": "stdout"
        }
      ]
    },
    {
      "cell_type": "markdown",
      "metadata": {
        "id": "7srEBKToSmHe",
        "colab_type": "text"
      },
      "source": [
        "## Adding an object to the grid"
      ]
    },
    {
      "cell_type": "markdown",
      "metadata": {
        "id": "w68wxc1xSmHg",
        "colab_type": "text"
      },
      "source": [
        "An other option to locally change the `permittivity` or `permeability` in the grid is to add an `Object` to the grid.\n",
        "```python\n",
        "# signature\n",
        "fdtd.Object(\n",
        "    permittivity: Tensorlike,\n",
        "    name: str = None\n",
        ")\n",
        "```\n",
        "An object defines a part of the grid with modified update equations, allowing to introduce for example absorbing materials or biaxial materials for which mixing between the axes are present through `Pockels coefficients` or many more. In this case we'll make an object with a different `permittivity` than the grid it is in.\n",
        "\n",
        "Just like for the grid, the `Object` expects a `permittivity` to be a floats or an array of the following possible shapes\n",
        "\n",
        "- `(obj.Nx, obj.Ny, obj.Nz)`\n",
        "- or `(obj.Nx, obj.Ny, obj.Nz, 1)`\n",
        "- or `(obj.Nx, obj.Ny, obj.Nz, 3)`\n",
        "\n",
        "Note that the values `obj.Nx`, `obj.Ny` and `obj.Nz` are not given to the object constructor. They are in stead derived from its placing in the grid:"
      ]
    },
    {
      "cell_type": "code",
      "metadata": {
        "id": "mCZSdQyxSmHi",
        "colab_type": "code",
        "colab": {}
      },
      "source": [
        "grid[11:32, 30:84, 0] = fdtd.Object(permittivity=1.7**2, name=\"object\")"
      ],
      "execution_count": 0,
      "outputs": []
    },
    {
      "cell_type": "markdown",
      "metadata": {
        "id": "7tjT5ipeSmHp",
        "colab_type": "text"
      },
      "source": [
        "Several things happen here. First of all, the object is given the space `[11:32, 30:84, 0]` in the grid. Because it is given this space, the object's `Nx`, `Ny` and `Nz` are automatically set. Furthermore, by supplying a name to the object, this name will become available in the grid:"
      ]
    },
    {
      "cell_type": "code",
      "metadata": {
        "id": "-RQtOX4GSmHr",
        "colab_type": "code",
        "outputId": "969f0475-57dc-4d42-a37a-3ac8151164f8",
        "colab": {
          "base_uri": "https://localhost:8080/",
          "height": 68
        }
      },
      "source": [
        "print(grid.object)"
      ],
      "execution_count": 0,
      "outputs": [
        {
          "output_type": "stream",
          "text": [
            "    Object(name='object')\n",
            "        @ x=11:32, y=30:84, z=0:1\n",
            "\n"
          ],
          "name": "stdout"
        }
      ]
    },
    {
      "cell_type": "markdown",
      "metadata": {
        "id": "ethAjANqSmHx",
        "colab_type": "text"
      },
      "source": [
        "We can add a second object to the grid:"
      ]
    },
    {
      "cell_type": "code",
      "metadata": {
        "id": "HLCdieQKSmHy",
        "colab_type": "code",
        "colab": {}
      },
      "source": [
        "grid[13e-6:18e-6, 5e-6:8e-6, 0] = fdtd.Object(permittivity=1.5**2)"
      ],
      "execution_count": 0,
      "outputs": []
    },
    {
      "cell_type": "markdown",
      "metadata": {
        "id": "X4iAeuXhSmH4",
        "colab_type": "text"
      },
      "source": [
        "Here we chose to slice the grid with floating point numbers, which will be replaced by integer `Nx`, `Ny` and `Nz` during the registration of the object. Since we didnt give the object a name, the object won't be available to us as an attribute of the grid. However, it is still available to us via the `grid.objects` list:"
      ]
    },
    {
      "cell_type": "code",
      "metadata": {
        "id": "Cpgxg9bnSmH6",
        "colab_type": "code",
        "outputId": "4cd137d7-9bd3-4e9a-e969-92d3e779225b",
        "colab": {
          "base_uri": "https://localhost:8080/",
          "height": 34
        }
      },
      "source": [
        "print(grid.objects)"
      ],
      "execution_count": 0,
      "outputs": [
        {
          "output_type": "stream",
          "text": [
            "[Object(name='object'), Object(name=None)]\n"
          ],
          "name": "stdout"
        }
      ]
    },
    {
      "cell_type": "markdown",
      "metadata": {
        "id": "1wmxpI2jSmH_",
        "colab_type": "text"
      },
      "source": [
        "This list stores all objects (i.e. of type `fdtd.Object`) in the order that they were added to the grid."
      ]
    },
    {
      "cell_type": "markdown",
      "metadata": {
        "id": "1Tg60Am-SmIB",
        "colab_type": "text"
      },
      "source": [
        "## Adding a source to the grid"
      ]
    },
    {
      "cell_type": "markdown",
      "metadata": {
        "id": "8RWYUZmfSmIC",
        "colab_type": "text"
      },
      "source": [
        "Similarly as to adding an object to the grid, an `fdtd.LineSource` can also be added:\n",
        "```python\n",
        "# signature\n",
        "fdtd.LineSource(\n",
        "    period: Number = 15, # timesteps or seconds\n",
        "    power: float = 1.0,\n",
        "    phase_shift: float = 0.0,\n",
        "    name: str = None,\n",
        ")\n",
        "```\n"
      ]
    },
    {
      "cell_type": "markdown",
      "metadata": {
        "id": "BNfAxUsySmIE",
        "colab_type": "text"
      },
      "source": [
        "Similarly to an `fdtd.Object`, an `fdtd.Source` size is defined by its placement on the grid:"
      ]
    },
    {
      "cell_type": "code",
      "metadata": {
        "id": "V6Br_TMTSmIG",
        "colab_type": "code",
        "colab": {}
      },
      "source": [
        "grid[7.5e-6:8.0e-6, 11.8e-6:13.0e-6, 0] = fdtd.LineSource(\n",
        "    period = 1550e-9 / (3e8), name=\"source\"\n",
        ")"
      ],
      "execution_count": 0,
      "outputs": []
    },
    {
      "cell_type": "markdown",
      "metadata": {
        "id": "_LpTcgSHSmIL",
        "colab_type": "text"
      },
      "source": [
        "However, it is important to note that in this case we are adding a `LineSource`, i.e. the source spans the diagonal of the cube defined by the slices. Internally, these slices will be converted into lists to ensure the expected behavior:"
      ]
    },
    {
      "cell_type": "code",
      "metadata": {
        "id": "ZVdirKX1SmIN",
        "colab_type": "code",
        "outputId": "d575bb38-41b1-4b14-99cf-1281114a0caf",
        "colab": {
          "base_uri": "https://localhost:8080/",
          "height": 68
        }
      },
      "source": [
        "print(grid.source)"
      ],
      "execution_count": 0,
      "outputs": [
        {
          "output_type": "stream",
          "text": [
            "    LineSource(period=14, power=1.0, phase_shift=0.0, name='source')\n",
            "        @ x=[48, ... , 51], y=[76, ... , 83], z=[0, ... , 0]\n",
            "\n"
          ],
          "name": "stdout"
        }
      ]
    },
    {
      "cell_type": "markdown",
      "metadata": {
        "id": "XQjN_yMHSmIS",
        "colab_type": "text"
      },
      "source": [
        "Note that one could have also supplied lists to index the grid in the first place. This feature could be useful to create a `LineSource` of arbitrary shape."
      ]
    },
    {
      "cell_type": "markdown",
      "metadata": {
        "id": "YxUCUzm3SmIU",
        "colab_type": "text"
      },
      "source": [
        "## Adding a detector to the grid"
      ]
    },
    {
      "cell_type": "markdown",
      "metadata": {
        "id": "b2pNXUZCSmIW",
        "colab_type": "text"
      },
      "source": [
        "Adding a detector to the grid works the same as adding a source\n",
        "```python\n",
        "# signature\n",
        "fdtd.LineDetector(\n",
        "    name=None\n",
        ")\n",
        "```"
      ]
    },
    {
      "cell_type": "code",
      "metadata": {
        "id": "QMZVrUyZSmIY",
        "colab_type": "code",
        "colab": {}
      },
      "source": [
        "grid[12e-6, :, 0] = fdtd.LineDetector(name=\"detector\")"
      ],
      "execution_count": 0,
      "outputs": []
    },
    {
      "cell_type": "code",
      "metadata": {
        "id": "sFbVaPuMSmId",
        "colab_type": "code",
        "outputId": "e016ea33-c5dc-4d96-9cfc-e2d7a9ef263f",
        "colab": {
          "base_uri": "https://localhost:8080/",
          "height": 68
        }
      },
      "source": [
        "print(grid.detector)"
      ],
      "execution_count": 0,
      "outputs": [
        {
          "output_type": "stream",
          "text": [
            "    LineDetector(name='detector')\n",
            "        @ x=[77, ... , 77], y=[0, ... , 96], z=[0, ... , 0]\n",
            "\n"
          ],
          "name": "stdout"
        }
      ]
    },
    {
      "cell_type": "markdown",
      "metadata": {
        "id": "F0iX5DJzSmIn",
        "colab_type": "text"
      },
      "source": [
        "## Adding grid boundaries"
      ]
    },
    {
      "cell_type": "markdown",
      "metadata": {
        "id": "AH7tecpASmIq",
        "colab_type": "text"
      },
      "source": [
        "Although, having an object, source and detector to simulate is in principle enough to perform an FDTD simulation, One also needs to define a grid boundary to prevent the fields to be reflected. One of those boundaries that can be added to the grid is a [Perfectly Matched Layer](https://en.wikipedia.org/wiki/Perfectly_matched_layer) or `PML`. These are basically absorbing boundaries.\n",
        "\n",
        "```python\n",
        "fdtd.PML(\n",
        "    a: float = 1e-8, # stability factor\n",
        "    name: str = None\n",
        ")\n",
        "```"
      ]
    },
    {
      "cell_type": "code",
      "metadata": {
        "id": "AHBOy9KZSmIs",
        "colab_type": "code",
        "colab": {}
      },
      "source": [
        "# x boundaries\n",
        "# grid[0, :, :] = fdtd.PeriodicBoundary(name=\"xbounds\")\n",
        "grid[0:10, :, :] = fdtd.PML(name=\"pml_xlow\")\n",
        "grid[-10:, :, :] = fdtd.PML(name=\"pml_xhigh\")\n",
        "\n",
        "# y boundaries\n",
        "# grid[:, 0, :] = fdtd.PeriodicBoundary(name=\"ybounds\")\n",
        "grid[:, 0:10, :] = fdtd.PML(name=\"pml_ylow\")\n",
        "grid[:, -10:, :] = fdtd.PML(name=\"pml_yhigh\")"
      ],
      "execution_count": 0,
      "outputs": []
    },
    {
      "cell_type": "markdown",
      "metadata": {
        "id": "bsnXAeNXSmIy",
        "colab_type": "text"
      },
      "source": [
        "## Grid summary"
      ]
    },
    {
      "cell_type": "markdown",
      "metadata": {
        "id": "MxOxhbocSmI0",
        "colab_type": "text"
      },
      "source": [
        "A simple summary of the grid can be shown by printing out the grid:"
      ]
    },
    {
      "cell_type": "code",
      "metadata": {
        "id": "MVJISihlSmI2",
        "colab_type": "code",
        "outputId": "d453b49f-35de-434a-b386-cd565082d9ad",
        "colab": {
          "base_uri": "https://localhost:8080/",
          "height": 459
        }
      },
      "source": [
        "print(grid)"
      ],
      "execution_count": 0,
      "outputs": [
        {
          "output_type": "stream",
          "text": [
            "Grid(shape=(161,97,1), grid_spacing=1.55e-07, courant_number=0.70)\n",
            "\n",
            "sources:\n",
            "    LineSource(period=14, power=1.0, phase_shift=0.0, name='source')\n",
            "        @ x=[48, ... , 51], y=[76, ... , 83], z=[0, ... , 0]\n",
            "\n",
            "detectors:\n",
            "    LineDetector(name='detector')\n",
            "        @ x=[77, ... , 77], y=[0, ... , 96], z=[0, ... , 0]\n",
            "\n",
            "boundaries:\n",
            "    PML(name='pml_xlow')\n",
            "        @ x=0:10, y=:, z=:\n",
            "    PML(name='pml_xhigh')\n",
            "        @ x=-10:, y=:, z=:\n",
            "    PML(name='pml_ylow')\n",
            "        @ x=:, y=0:10, z=:\n",
            "    PML(name='pml_yhigh')\n",
            "        @ x=:, y=-10:, z=:\n",
            "\n",
            "objects:\n",
            "    Object(name='object')\n",
            "        @ x=11:32, y=30:84, z=0:1\n",
            "    Object(name=None)\n",
            "        @ x=84:116, y=32:52, z=0:1\n",
            "\n"
          ],
          "name": "stdout"
        }
      ]
    },
    {
      "cell_type": "markdown",
      "metadata": {
        "id": "agbL79BVSmI-",
        "colab_type": "text"
      },
      "source": [
        "## Running a simulation\n",
        "Running a simulation is as simple as using the `grid.run` method.\n",
        "```python\n",
        "grid.run(\n",
        "    total_time: Number,\n",
        "    progress_bar: bool = True\n",
        ")\n",
        "```\n",
        "Just like for the the lengths in the grid, the `total_time` of the simulation can be specified as an integer (number of `time_steps`) or as a float (in seconds)."
      ]
    },
    {
      "cell_type": "code",
      "metadata": {
        "id": "nTtUQjH_SmJA",
        "colab_type": "code",
        "outputId": "a7f7abfc-207a-4d33-ee51-58947d6a8938",
        "colab": {
          "base_uri": "https://localhost:8080/",
          "height": 34
        }
      },
      "source": [
        "grid.run(total_time=100)"
      ],
      "execution_count": 0,
      "outputs": [
        {
          "output_type": "stream",
          "text": [
            "100%|██████████| 100/100 [00:00<00:00, 454.51it/s]\n"
          ],
          "name": "stderr"
        }
      ]
    },
    {
      "cell_type": "markdown",
      "metadata": {
        "id": "KCHLlamwSmJa",
        "colab_type": "text"
      },
      "source": [
        "## Grid visualization"
      ]
    },
    {
      "cell_type": "markdown",
      "metadata": {
        "id": "fhiTjiuDSmJd",
        "colab_type": "text"
      },
      "source": [
        "Let's visualize the grid. This can be done with the `grid.visualize` method:\n",
        "\n",
        "```python\n",
        "# signature\n",
        "grid.visualize(\n",
        "    grid,\n",
        "    x=None,\n",
        "    y=None,\n",
        "    z=None,\n",
        "    cmap=\"Blues\",\n",
        "    pbcolor=\"C3\",\n",
        "    pmlcolor=(0, 0, 0, 0.1),\n",
        "    objcolor=(1, 0, 0, 0.1),\n",
        "    srccolor=\"C0\",\n",
        "    detcolor=\"C2\",\n",
        "    show=True,\n",
        ")\n",
        "```\n",
        "This method will by default visualize all objects in the grid, as well as the current power at a certain `x`, `y` **OR** `z`-plane. By setting `show=False`, one can disable the immediate visualization of matplotlib."
      ]
    },
    {
      "cell_type": "code",
      "metadata": {
        "id": "xiOrexeKTn7v",
        "colab_type": "code",
        "outputId": "783c5de5-5f6f-4544-80a9-22c4cedeab29",
        "colab": {
          "base_uri": "https://localhost:8080/",
          "height": 34
        }
      },
      "source": [
        "%cd "
      ],
      "execution_count": 0,
      "outputs": [
        {
          "output_type": "stream",
          "text": [
            "/root\n"
          ],
          "name": "stdout"
        }
      ]
    },
    {
      "cell_type": "code",
      "metadata": {
        "id": "U99gBLKpTvmK",
        "colab_type": "code",
        "colab": {}
      },
      "source": [
        "!ls"
      ],
      "execution_count": 0,
      "outputs": []
    },
    {
      "cell_type": "code",
      "metadata": {
        "id": "wNhouqY6SmJl",
        "colab_type": "code",
        "outputId": "b57ff2c8-21ab-4dac-deb9-edec5e585826",
        "colab": {
          "base_uri": "https://localhost:8080/",
          "height": 320
        }
      },
      "source": [
        "grid.visualize(z=0, show=True)\n",
        "import matplotlib.pyplot as plt\n",
        "plt.savefig(\"grid.png\", dpi=100)"
      ],
      "execution_count": 0,
      "outputs": [
        {
          "output_type": "display_data",
          "data": {
            "image/png": "[encoded data removed]",
            "text/plain": [
              "<Figure size 432x288 with 1 Axes>"
            ]
          },
          "metadata": {
            "tags": []
          }
        },
        {
          "output_type": "display_data",
          "data": {
            "text/plain": [
              "<Figure size 432x288 with 0 Axes>"
            ]
          },
          "metadata": {
            "tags": []
          }
        }
      ]
    }
  ]
}