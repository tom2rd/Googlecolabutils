{
  "nbformat": 4,
  "nbformat_minor": 0,
  "metadata": {
    "colab": {
      "name": "PythonExcel-internet.ipynb",
      "version": "0.3.2",
      "provenance": [],
      "include_colab_link": true
    },
    "kernelspec": {
      "name": "python3",
      "display_name": "Python 3"
    }
  },
  "cells": [
    {
      "cell_type": "markdown",
      "metadata": {
        "id": "view-in-github",
        "colab_type": "text"
      },
      "source": [
        "<a href=\"https://colab.research.google.com/github/tom2rd/Googlecolabutils/blob/master/PythonExcel_internet.ipynb\" target=\"_parent\"><img src=\"https://colab.research.google.com/assets/colab-badge.svg\" alt=\"Open In Colab\"/></a>"
      ]
    },
    {
      "cell_type": "markdown",
      "metadata": {
        "id": "f5z9xB8I_REb",
        "colab_type": "text"
      },
      "source": [
        "# Python でインターネットからエクセルファイルを開く\n",
        "Pandas　と　Urllibだけ\n",
        "\n",
        "参考　\n",
        "\n",
        "pandas excelなどの説明\n",
        "\n",
        "https://qiita.com/hasepy/items/06d5d2e2b6495752442c\n",
        "\n",
        "https://datumstudio.jp/blog/1722\n"
      ]
    },
    {
      "cell_type": "code",
      "metadata": {
        "id": "Smm8F5Eu_Pvk",
        "colab_type": "code",
        "outputId": "b6b128cc-21e1-4dd4-b1f6-9b0e35ba45d3",
        "colab": {
          "base_uri": "https://localhost:8080/",
          "height": 1000
        }
      },
      "source": [
        "import pandas as pd\n",
        "import urllib\n",
        "link = 'https://www.city.inagi.tokyo.jp/kosodate/kodomoshien_center/event/baby.files/201909yanokutiositate.xlsx'\n",
        "socket = urllib.request.urlopen(link)\n",
        "xls = pd.ExcelFile(socket)\n",
        "df = xls.parse(xls.sheet_names[0], header=None, index_col=0, skip_footer=9)\n",
        "df.dropna()"
      ],
      "execution_count": 0,
      "outputs": [
        {
          "output_type": "execute_result",
          "data": {
            "text/html": [
              "<div>\n",
              "<style scoped>\n",
              "    .dataframe tbody tr th:only-of-type {\n",
              "        vertical-align: middle;\n",
              "    }\n",
              "\n",
              "    .dataframe tbody tr th {\n",
              "        vertical-align: top;\n",
              "    }\n",
              "\n",
              "    .dataframe thead th {\n",
              "        text-align: right;\n",
              "    }\n",
              "</style>\n",
              "<table border=\"1\" class=\"dataframe\">\n",
              "  <thead>\n",
              "    <tr style=\"text-align: right;\">\n",
              "      <th></th>\n",
              "      <th>1</th>\n",
              "      <th>2</th>\n",
              "      <th>3</th>\n",
              "      <th>4</th>\n",
              "      <th>5</th>\n",
              "      <th>6</th>\n",
              "    </tr>\n",
              "    <tr>\n",
              "      <th>0</th>\n",
              "      <th></th>\n",
              "      <th></th>\n",
              "      <th></th>\n",
              "      <th></th>\n",
              "      <th></th>\n",
              "      <th></th>\n",
              "    </tr>\n",
              "  </thead>\n",
              "  <tbody>\n",
              "    <tr>\n",
              "      <th>日</th>\n",
              "      <td>月</td>\n",
              "      <td>火</td>\n",
              "      <td>水</td>\n",
              "      <td>木</td>\n",
              "      <td>金</td>\n",
              "      <td>土</td>\n",
              "    </tr>\n",
              "    <tr>\n",
              "      <th>1</th>\n",
              "      <td>2\\n★第二児童館　 ましゅまろ広場\\n♪中島ゆうし保育園　　室内開放\\n◆青葉幼稚園　　園庭開放</td>\n",
              "      <td>3\\n★第二児童館　 ましゅまろ広場\\n♥松葉保育園   園庭開放\\n♪中島ゆうし保育園　　...</td>\n",
              "      <td>4\\n★第二児童館　  出張あそびの広場\\n●第二図書館　　\\n　　　　おひざにだっこのおは...</td>\n",
              "      <td>5\\n●第二図書館　　えほんのじかん\\n♥松葉保育園   園庭開放\\n♪中島ゆうし保育園　　...</td>\n",
              "      <td>6\\n♥松葉保育園   ひまわりの会\\n　  「感触あそび～寒天ゼリー～」\\n♪中島ゆうし保...</td>\n",
              "      <td>7\\n◎チャイルドケアセンター\\n　　　子育てサロン\\n　　　　「フラワー紙をまるめて\\n　...</td>\n",
              "    </tr>\n",
              "    <tr>\n",
              "      <th>8</th>\n",
              "      <td>9\\n★第二児童館　 ましゅまろ広場\\n♪中島ゆうし保育園　　\\n　　室内開放／きてみてゆう...</td>\n",
              "      <td>10\\n★第二児童館　 ましゅまろ広場\\n♥松葉保育園   園庭開放\\n♪中島ゆうし保育園　...</td>\n",
              "      <td>11\\n★第二児童館　 キラキラの日\\n●第二図書館　　\\n　　　　おひざにだっこのおはなし...</td>\n",
              "      <td>12\\n★第二児童館　 \\n　　　　　　子育てサポーターの日\\n♥松葉保育園  \\n　　　　...</td>\n",
              "      <td>13\\n♥松葉保育園   ひまわりの会\\n　　　　　　　　　　　　「どろんこあそび」\\n♪中...</td>\n",
              "      <td>14</td>\n",
              "    </tr>\n",
              "    <tr>\n",
              "      <th>15</th>\n",
              "      <td>16  敬老の日</td>\n",
              "      <td>17\\n★第二児童館　 ましゅまろ広場\\n♥松葉保育園   園庭開放\\n♪中島ゆうし保育園　...</td>\n",
              "      <td>18\\n★第二児童館　  ベビーヨガ・マッサージ\\n　　　　　　　　　　　 ママ・リトルキッ...</td>\n",
              "      <td>19\\n●第二図書館　　えほんのじかん\\n♥松葉保育園   園庭開放\\n♪中島ゆうし保育園　...</td>\n",
              "      <td>20\\n♥松葉保育園   ひまわりの会\\n　　「親子で遊ぼう！ふれあいあそび」\\n♪中島ゆう...</td>\n",
              "      <td>21</td>\n",
              "    </tr>\n",
              "    <tr>\n",
              "      <th>22</th>\n",
              "      <td>23  秋分の日</td>\n",
              "      <td>24\\n★第二児童館　 ましゅまろ広場\\n♥松葉保育園   園庭開放\\n♪中島ゆうし保育園　...</td>\n",
              "      <td>25\\n★第二児童館　  Mamaカフェ\\n●第二図書館　　\\n　　　　おひざにだっこのおは...</td>\n",
              "      <td>26\\n♥松葉保育園   園庭開放\\n♪中島ゆうし保育園　　園庭開放\\n◆青葉幼稚園　　園庭...</td>\n",
              "      <td>27\\n★第二児童館　  出張あそびの広場\\n♪中島ゆうし保育園　　室内開放\\n◆青葉幼稚園...</td>\n",
              "      <td>28\\n◆青葉幼稚園　\\n　　　　　　未就園児運動会</td>\n",
              "    </tr>\n",
              "  </tbody>\n",
              "</table>\n",
              "</div>"
            ],
            "text/plain": [
              "                                                    1  ...                                                  6\n",
              "0                                                      ...                                                   \n",
              "日                                                   月  ...                                                  土\n",
              "1   2\\n★第二児童館　 ましゅまろ広場\\n♪中島ゆうし保育園　　室内開放\\n◆青葉幼稚園　　園庭開放  ...  7\\n◎チャイルドケアセンター\\n　　　子育てサロン\\n　　　　「フラワー紙をまるめて\\n　...\n",
              "8   9\\n★第二児童館　 ましゅまろ広場\\n♪中島ゆうし保育園　　\\n　　室内開放／きてみてゆう...  ...                                                 14\n",
              "15                                           16  敬老の日  ...                                                 21\n",
              "22                                           23  秋分の日  ...                         28\\n◆青葉幼稚園　\\n　　　　　　未就園児運動会\n",
              "\n",
              "[5 rows x 6 columns]"
            ]
          },
          "metadata": {
            "tags": []
          },
          "execution_count": 2
        }
      ]
    },
    {
      "cell_type": "code",
      "metadata": {
        "id": "rj1cwsdKI3gT",
        "colab_type": "code",
        "outputId": "881e2f70-d4cd-498b-a123-64784ca4f24f",
        "colab": {
          "base_uri": "https://localhost:8080/",
          "height": 34
        }
      },
      "source": [
        "df.iloc[1,0]"
      ],
      "execution_count": 0,
      "outputs": [
        {
          "output_type": "execute_result",
          "data": {
            "text/plain": [
              "'月'"
            ]
          },
          "metadata": {
            "tags": []
          },
          "execution_count": 4
        }
      ]
    }
  ]
}