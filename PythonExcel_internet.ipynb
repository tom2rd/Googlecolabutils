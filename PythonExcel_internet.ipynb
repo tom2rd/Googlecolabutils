{
  "nbformat": 4,
  "nbformat_minor": 0,
  "metadata": {
    "colab": {
      "name": "PythonExcel-internet.ipynb",
      "version": "0.3.2",
      "provenance": [],
      "include_colab_link": true
    },
    "kernelspec": {
      "name": "python3",
      "display_name": "Python 3"
    }
  },
  "cells": [
    {
      "cell_type": "markdown",
      "metadata": {
        "id": "view-in-github",
        "colab_type": "text"
      },
      "source": [
        "<a href=\"https://colab.research.google.com/github/tom2rd/Googlecolabutils/blob/master/PythonExcel_internet.ipynb\" target=\"_parent\"><img src=\"https://colab.research.google.com/assets/colab-badge.svg\" alt=\"Open In Colab\"/></a>"
      ]
    },
    {
      "cell_type": "markdown",
      "metadata": {
        "id": "f5z9xB8I_REb",
        "colab_type": "text"
      },
      "source": [
        "# Python でインターネットからエクセルファイルを開く\n",
        "Pandas　と　Urllibだけ\n",
        "\n",
        "参考　\n",
        "\n",
        "pandas excelなどの説明\n",
        "\n",
        "https://qiita.com/hasepy/items/06d5d2e2b6495752442c\n",
        "\n",
        "https://datumstudio.jp/blog/1722\n",
        "\n",
        "Pandas のチートシート\n",
        "https://github.com/pandas-dev/pandas/blob/master/doc/cheatsheet/Pandas_Cheat_Sheet_JA.pdf\n",
        "\n",
        "Pandas　本家\n",
        "https://pandas.pydata.org/\n"
      ]
    },
    {
      "cell_type": "code",
      "metadata": {
        "id": "Smm8F5Eu_Pvk",
        "colab_type": "code",
        "outputId": "89fd4478-85e8-4790-fa7c-ed80057d71b9",
        "colab": {
          "base_uri": "https://localhost:8080/",
          "height": 1000
        }
      },
      "source": [
        "import pandas as pd\n",
        "import urllib\n",
        "link = 'https://www.city.inagi.tokyo.jp/kosodate/kodomoshien_center/event/baby.files/201909yanokutiositate.xlsx'\n",
        "socket = urllib.request.urlopen(link)\n",
        "xls = pd.ExcelFile(socket)\n",
        "df = xls.parse(xls.sheet_names[0], header=None, index_col=None)\n",
        "df"
      ],
      "execution_count": 78,
      "outputs": [
        {
          "output_type": "execute_result",
          "data": {
            "text/html": [
              "<div>\n",
              "<style scoped>\n",
              "    .dataframe tbody tr th:only-of-type {\n",
              "        vertical-align: middle;\n",
              "    }\n",
              "\n",
              "    .dataframe tbody tr th {\n",
              "        vertical-align: top;\n",
              "    }\n",
              "\n",
              "    .dataframe thead th {\n",
              "        text-align: right;\n",
              "    }\n",
              "</style>\n",
              "<table border=\"1\" class=\"dataframe\">\n",
              "  <thead>\n",
              "    <tr style=\"text-align: right;\">\n",
              "      <th></th>\n",
              "      <th>0</th>\n",
              "      <th>1</th>\n",
              "      <th>2</th>\n",
              "      <th>3</th>\n",
              "      <th>4</th>\n",
              "      <th>5</th>\n",
              "      <th>6</th>\n",
              "    </tr>\n",
              "  </thead>\n",
              "  <tbody>\n",
              "    <tr>\n",
              "      <th>0</th>\n",
              "      <td>平成31年度　9月号      　矢野口  ・   押立地域　    　子育て支援事業　  ...</td>\n",
              "      <td>NaN</td>\n",
              "      <td>NaN</td>\n",
              "      <td>NaN</td>\n",
              "      <td>NaN</td>\n",
              "      <td>NaN</td>\n",
              "      <td>NaN</td>\n",
              "    </tr>\n",
              "    <tr>\n",
              "      <th>1</th>\n",
              "      <td>日</td>\n",
              "      <td>月</td>\n",
              "      <td>火</td>\n",
              "      <td>水</td>\n",
              "      <td>木</td>\n",
              "      <td>金</td>\n",
              "      <td>土</td>\n",
              "    </tr>\n",
              "    <tr>\n",
              "      <th>2</th>\n",
              "      <td>1</td>\n",
              "      <td>2\\n★第二児童館　 ましゅまろ広場\\n♪中島ゆうし保育園　　室内開放\\n◆青葉幼稚園　　園庭開放</td>\n",
              "      <td>3\\n★第二児童館　 ましゅまろ広場\\n♥松葉保育園   園庭開放\\n♪中島ゆうし保育園　　...</td>\n",
              "      <td>4\\n★第二児童館　  出張あそびの広場\\n●第二図書館　　\\n　　　　おひざにだっこのおは...</td>\n",
              "      <td>5\\n●第二図書館　　えほんのじかん\\n♥松葉保育園   園庭開放\\n♪中島ゆうし保育園　　...</td>\n",
              "      <td>6\\n♥松葉保育園   ひまわりの会\\n　  「感触あそび～寒天ゼリー～」\\n♪中島ゆうし保...</td>\n",
              "      <td>7\\n◎チャイルドケアセンター\\n　　　子育てサロン\\n　　　　「フラワー紙をまるめて\\n　...</td>\n",
              "    </tr>\n",
              "    <tr>\n",
              "      <th>3</th>\n",
              "      <td>8</td>\n",
              "      <td>9\\n★第二児童館　 ましゅまろ広場\\n♪中島ゆうし保育園　　\\n　　室内開放／きてみてゆう...</td>\n",
              "      <td>10\\n★第二児童館　 ましゅまろ広場\\n♥松葉保育園   園庭開放\\n♪中島ゆうし保育園　...</td>\n",
              "      <td>11\\n★第二児童館　 キラキラの日\\n●第二図書館　　\\n　　　　おひざにだっこのおはなし...</td>\n",
              "      <td>12\\n★第二児童館　 \\n　　　　　　子育てサポーターの日\\n♥松葉保育園  \\n　　　　...</td>\n",
              "      <td>13\\n♥松葉保育園   ひまわりの会\\n　　　　　　　　　　　　「どろんこあそび」\\n♪中...</td>\n",
              "      <td>14</td>\n",
              "    </tr>\n",
              "    <tr>\n",
              "      <th>4</th>\n",
              "      <td>15</td>\n",
              "      <td>16  敬老の日</td>\n",
              "      <td>17\\n★第二児童館　 ましゅまろ広場\\n♥松葉保育園   園庭開放\\n♪中島ゆうし保育園　...</td>\n",
              "      <td>18\\n★第二児童館　  ベビーヨガ・マッサージ\\n　　　　　　　　　　　 ママ・リトルキッ...</td>\n",
              "      <td>19\\n●第二図書館　　えほんのじかん\\n♥松葉保育園   園庭開放\\n♪中島ゆうし保育園　...</td>\n",
              "      <td>20\\n♥松葉保育園   ひまわりの会\\n　　「親子で遊ぼう！ふれあいあそび」\\n♪中島ゆう...</td>\n",
              "      <td>21</td>\n",
              "    </tr>\n",
              "    <tr>\n",
              "      <th>5</th>\n",
              "      <td>22</td>\n",
              "      <td>23  秋分の日</td>\n",
              "      <td>24\\n★第二児童館　 ましゅまろ広場\\n♥松葉保育園   園庭開放\\n♪中島ゆうし保育園　...</td>\n",
              "      <td>25\\n★第二児童館　  Mamaカフェ\\n●第二図書館　　\\n　　　　おひざにだっこのおは...</td>\n",
              "      <td>26\\n♥松葉保育園   園庭開放\\n♪中島ゆうし保育園　　園庭開放\\n◆青葉幼稚園　　園庭...</td>\n",
              "      <td>27\\n★第二児童館　  出張あそびの広場\\n♪中島ゆうし保育園　　室内開放\\n◆青葉幼稚園...</td>\n",
              "      <td>28\\n◆青葉幼稚園　\\n　　　　　　未就園児運動会</td>\n",
              "    </tr>\n",
              "    <tr>\n",
              "      <th>6</th>\n",
              "      <td>29</td>\n",
              "      <td>30\\n★第二児童館　 ましゅまろ広場\\n♪中島ゆうし保育園　　室内開放\\n◆青葉幼稚園　　...</td>\n",
              "      <td>NaN</td>\n",
              "      <td>NaN</td>\n",
              "      <td>NaN</td>\n",
              "      <td>NaN</td>\n",
              "      <td>NaN</td>\n",
              "    </tr>\n",
              "    <tr>\n",
              "      <th>7</th>\n",
              "      <td>※　都合により、内容が変更になる場合がございます。詳細は、各施設にお問合わせください。</td>\n",
              "      <td>NaN</td>\n",
              "      <td>NaN</td>\n",
              "      <td>NaN</td>\n",
              "      <td>NaN</td>\n",
              "      <td>NaN</td>\n",
              "      <td>NaN</td>\n",
              "    </tr>\n",
              "    <tr>\n",
              "      <th>8</th>\n",
              "      <td>NaN</td>\n",
              "      <td>NaN</td>\n",
              "      <td>NaN</td>\n",
              "      <td>NaN</td>\n",
              "      <td>NaN</td>\n",
              "      <td>NaN</td>\n",
              "      <td>NaN</td>\n",
              "    </tr>\n",
              "    <tr>\n",
              "      <th>9</th>\n",
              "      <td>NaN</td>\n",
              "      <td>NaN</td>\n",
              "      <td>NaN</td>\n",
              "      <td>NaN</td>\n",
              "      <td>NaN</td>\n",
              "      <td>NaN</td>\n",
              "      <td>NaN</td>\n",
              "    </tr>\n",
              "    <tr>\n",
              "      <th>10</th>\n",
              "      <td>NaN</td>\n",
              "      <td>NaN</td>\n",
              "      <td>NaN</td>\n",
              "      <td>NaN</td>\n",
              "      <td>NaN</td>\n",
              "      <td>NaN</td>\n",
              "      <td>NaN</td>\n",
              "    </tr>\n",
              "    <tr>\n",
              "      <th>11</th>\n",
              "      <td>NaN</td>\n",
              "      <td>NaN</td>\n",
              "      <td>NaN</td>\n",
              "      <td>NaN</td>\n",
              "      <td>NaN</td>\n",
              "      <td>NaN</td>\n",
              "      <td>NaN</td>\n",
              "    </tr>\n",
              "    <tr>\n",
              "      <th>12</th>\n",
              "      <td>NaN</td>\n",
              "      <td>NaN</td>\n",
              "      <td>NaN</td>\n",
              "      <td>NaN</td>\n",
              "      <td>NaN</td>\n",
              "      <td>NaN</td>\n",
              "      <td>NaN</td>\n",
              "    </tr>\n",
              "    <tr>\n",
              "      <th>13</th>\n",
              "      <td>NaN</td>\n",
              "      <td>NaN</td>\n",
              "      <td>NaN</td>\n",
              "      <td>NaN</td>\n",
              "      <td>NaN</td>\n",
              "      <td>NaN</td>\n",
              "      <td>NaN</td>\n",
              "    </tr>\n",
              "    <tr>\n",
              "      <th>14</th>\n",
              "      <td>NaN</td>\n",
              "      <td></td>\n",
              "      <td>NaN</td>\n",
              "      <td>NaN</td>\n",
              "      <td>NaN</td>\n",
              "      <td>NaN</td>\n",
              "      <td>NaN</td>\n",
              "    </tr>\n",
              "    <tr>\n",
              "      <th>15</th>\n",
              "      <td>NaN</td>\n",
              "      <td>NaN</td>\n",
              "      <td>NaN</td>\n",
              "      <td>NaN</td>\n",
              "      <td>NaN</td>\n",
              "      <td>NaN</td>\n",
              "      <td>NaN</td>\n",
              "    </tr>\n",
              "    <tr>\n",
              "      <th>16</th>\n",
              "      <td>NaN</td>\n",
              "      <td>NaN</td>\n",
              "      <td>NaN</td>\n",
              "      <td>NaN</td>\n",
              "      <td>NaN</td>\n",
              "      <td>NaN</td>\n",
              "      <td>NaN</td>\n",
              "    </tr>\n",
              "    <tr>\n",
              "      <th>17</th>\n",
              "      <td>NaN</td>\n",
              "      <td>NaN</td>\n",
              "      <td>NaN</td>\n",
              "      <td>NaN</td>\n",
              "      <td>NaN</td>\n",
              "      <td>NaN</td>\n",
              "      <td>NaN</td>\n",
              "    </tr>\n",
              "    <tr>\n",
              "      <th>18</th>\n",
              "      <td>NaN</td>\n",
              "      <td>NaN</td>\n",
              "      <td>NaN</td>\n",
              "      <td>NaN</td>\n",
              "      <td>NaN</td>\n",
              "      <td>NaN</td>\n",
              "      <td>NaN</td>\n",
              "    </tr>\n",
              "    <tr>\n",
              "      <th>19</th>\n",
              "      <td>NaN</td>\n",
              "      <td>NaN</td>\n",
              "      <td>NaN</td>\n",
              "      <td>NaN</td>\n",
              "      <td>NaN</td>\n",
              "      <td>NaN</td>\n",
              "      <td>NaN</td>\n",
              "    </tr>\n",
              "    <tr>\n",
              "      <th>20</th>\n",
              "      <td>NaN</td>\n",
              "      <td>NaN</td>\n",
              "      <td>NaN</td>\n",
              "      <td>NaN</td>\n",
              "      <td>NaN</td>\n",
              "      <td>NaN</td>\n",
              "      <td>NaN</td>\n",
              "    </tr>\n",
              "    <tr>\n",
              "      <th>21</th>\n",
              "      <td>NaN</td>\n",
              "      <td>NaN</td>\n",
              "      <td>NaN</td>\n",
              "      <td>NaN</td>\n",
              "      <td>NaN</td>\n",
              "      <td>NaN</td>\n",
              "      <td>NaN</td>\n",
              "    </tr>\n",
              "    <tr>\n",
              "      <th>22</th>\n",
              "      <td>NaN</td>\n",
              "      <td>NaN</td>\n",
              "      <td>NaN</td>\n",
              "      <td>NaN</td>\n",
              "      <td>NaN</td>\n",
              "      <td>NaN</td>\n",
              "      <td>NaN</td>\n",
              "    </tr>\n",
              "  </tbody>\n",
              "</table>\n",
              "</div>"
            ],
            "text/plain": [
              "                                                    0  ...                                                  6\n",
              "0   平成31年度　9月号      　矢野口  ・   押立地域　    　子育て支援事業　  ...  ...                                                NaN\n",
              "1                                                   日  ...                                                  土\n",
              "2                                                   1  ...  7\\n◎チャイルドケアセンター\\n　　　子育てサロン\\n　　　　「フラワー紙をまるめて\\n　...\n",
              "3                                                   8  ...                                                 14\n",
              "4                                                  15  ...                                                 21\n",
              "5                                                  22  ...                         28\\n◆青葉幼稚園　\\n　　　　　　未就園児運動会\n",
              "6                                                  29  ...                                                NaN\n",
              "7         ※　都合により、内容が変更になる場合がございます。詳細は、各施設にお問合わせください。  ...                                                NaN\n",
              "8                                                 NaN  ...                                                NaN\n",
              "9                                                 NaN  ...                                                NaN\n",
              "10                                                NaN  ...                                                NaN\n",
              "11                                                NaN  ...                                                NaN\n",
              "12                                                NaN  ...                                                NaN\n",
              "13                                                NaN  ...                                                NaN\n",
              "14                                                NaN  ...                                                NaN\n",
              "15                                                NaN  ...                                                NaN\n",
              "16                                                NaN  ...                                                NaN\n",
              "17                                                NaN  ...                                                NaN\n",
              "18                                                NaN  ...                                                NaN\n",
              "19                                                NaN  ...                                                NaN\n",
              "20                                                NaN  ...                                                NaN\n",
              "21                                                NaN  ...                                                NaN\n",
              "22                                                NaN  ...                                                NaN\n",
              "\n",
              "[23 rows x 7 columns]"
            ]
          },
          "metadata": {
            "tags": []
          },
          "execution_count": 78
        }
      ]
    },
    {
      "cell_type": "markdown",
      "metadata": {
        "id": "545rKfDyBXtB",
        "colab_type": "text"
      },
      "source": [
        "年度、月　地域　を取り出す　この場合　TitleText[0]が年度"
      ]
    },
    {
      "cell_type": "code",
      "metadata": {
        "id": "rj1cwsdKI3gT",
        "colab_type": "code",
        "outputId": "84bfb9bc-cef9-42cb-df84-c65029a22c6a",
        "colab": {
          "base_uri": "https://localhost:8080/",
          "height": 101
        }
      },
      "source": [
        "TitleText=df.iloc[0,0].split()\n",
        "print(TitleText[0])\n",
        "print(TitleText[1])\n",
        "print(TitleText[2])\n",
        "print(TitleText[4])\n",
        "print(TitleText[5])"
      ],
      "execution_count": 68,
      "outputs": [
        {
          "output_type": "stream",
          "text": [
            "平成31年度\n",
            "9月号\n",
            "矢野口\n",
            "押立地域\n",
            "子育て支援事業\n"
          ],
          "name": "stdout"
        }
      ]
    },
    {
      "cell_type": "markdown",
      "metadata": {
        "id": "f9o-pcXZDHhg",
        "colab_type": "text"
      },
      "source": [
        "月のデータを分割してリストに入れてみる\n",
        "\n",
        "例えば、3行目の3列目のデータには、３日　、場所　"
      ]
    },
    {
      "cell_type": "code",
      "metadata": {
        "id": "OO5NuFLLDQj2",
        "colab_type": "code",
        "colab": {
          "base_uri": "https://localhost:8080/",
          "height": 34
        },
        "outputId": "352293c7-658c-4287-c57a-85ef6cf979f8"
      },
      "source": [
        "C3R3=df.iloc[2,2]\n",
        "C3R3"
      ],
      "execution_count": 77,
      "outputs": [
        {
          "output_type": "execute_result",
          "data": {
            "text/plain": [
              "'3\\n★第二児童館\\u3000 ましゅまろ広場\\n♥松葉保育園   園庭開放\\n♪中島ゆうし保育園\\u3000\\u3000園庭開放\\n◆青葉幼稚園\\u3000\\u3000園庭開放\\n◎チャイルドケアセンター 親子ふれあい広場\\n'"
            ]
          },
          "metadata": {
            "tags": []
          },
          "execution_count": 77
        }
      ]
    },
    {
      "cell_type": "code",
      "metadata": {
        "id": "VPOYXu-QIyAG",
        "colab_type": "code",
        "colab": {
          "base_uri": "https://localhost:8080/",
          "height": 151
        },
        "outputId": "f1ea76e6-a0f9-40c4-d627-5aa5811cd044"
      },
      "source": [
        "df.loc[1]"
      ],
      "execution_count": 86,
      "outputs": [
        {
          "output_type": "execute_result",
          "data": {
            "text/plain": [
              "0    日\n",
              "1    月\n",
              "2    火\n",
              "3    水\n",
              "4    木\n",
              "5    金\n",
              "6    土\n",
              "Name: 1, dtype: object"
            ]
          },
          "metadata": {
            "tags": []
          },
          "execution_count": 86
        }
      ]
    },
    {
      "cell_type": "code",
      "metadata": {
        "id": "v2N2hNmyKiUm",
        "colab_type": "code",
        "colab": {
          "base_uri": "https://localhost:8080/",
          "height": 151
        },
        "outputId": "481cdcce-423d-4d76-c96f-9c68d611884f"
      },
      "source": [
        "df.loc[2]"
      ],
      "execution_count": 93,
      "outputs": [
        {
          "output_type": "execute_result",
          "data": {
            "text/plain": [
              "0                                                    1\n",
              "1    2\\n★第二児童館　 ましゅまろ広場\\n♪中島ゆうし保育園　　室内開放\\n◆青葉幼稚園　　園庭開放\n",
              "2    3\\n★第二児童館　 ましゅまろ広場\\n♥松葉保育園   園庭開放\\n♪中島ゆうし保育園　　...\n",
              "3    4\\n★第二児童館　  出張あそびの広場\\n●第二図書館　　\\n　　　　おひざにだっこのおは...\n",
              "4    5\\n●第二図書館　　えほんのじかん\\n♥松葉保育園   園庭開放\\n♪中島ゆうし保育園　　...\n",
              "5    6\\n♥松葉保育園   ひまわりの会\\n　  「感触あそび～寒天ゼリー～」\\n♪中島ゆうし保...\n",
              "6    7\\n◎チャイルドケアセンター\\n　　　子育てサロン\\n　　　　「フラワー紙をまるめて\\n　...\n",
              "Name: 2, dtype: object"
            ]
          },
          "metadata": {
            "tags": []
          },
          "execution_count": 93
        }
      ]
    }
  ]
}