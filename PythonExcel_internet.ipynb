{
  "nbformat": 4,
  "nbformat_minor": 0,
  "metadata": {
    "colab": {
      "name": "PythonExcel-internet.ipynb",
      "version": "0.3.2",
      "provenance": [],
      "include_colab_link": true
    },
    "kernelspec": {
      "name": "python3",
      "display_name": "Python 3"
    }
  },
  "cells": [
    {
      "cell_type": "markdown",
      "metadata": {
        "id": "view-in-github",
        "colab_type": "text"
      },
      "source": [
        "<a href=\"https://colab.research.google.com/github/tom2rd/Googlecolabutils/blob/master/PythonExcel_internet.ipynb\" target=\"_parent\"><img src=\"https://colab.research.google.com/assets/colab-badge.svg\" alt=\"Open In Colab\"/></a>"
      ]
    },
    {
      "cell_type": "markdown",
      "metadata": {
        "id": "f5z9xB8I_REb",
        "colab_type": "text"
      },
      "source": [
        "# Python でインターネットからエクセルファイルを開く\n",
        "Pandas　と　Urllibだけ\n",
        "\n",
        "参考　\n",
        "\n",
        "pandas excelなどの説明\n",
        "\n",
        "https://qiita.com/hasepy/items/06d5d2e2b6495752442c\n",
        "\n",
        "https://datumstudio.jp/blog/1722\n",
        "\n",
        "Pandas のチートシート\n",
        "https://github.com/pandas-dev/pandas/blob/master/doc/cheatsheet/Pandas_Cheat_Sheet_JA.pdf\n",
        "\n",
        "Pandas　本家\n",
        "https://pandas.pydata.org/\n",
        "\n",
        "文字列配列や文字列の操作\n",
        "https://www.isc.meiji.ac.jp/~mizutani/python/intro3_python.html\n",
        "\n",
        "Pythonの基本の基本\n",
        "https://www.javadrive.jp/python/\n",
        "\n",
        "PandasでDataframeをきちんと作ってデータの取り出しをするのもいいんですが、まずは、文字列や文字列配列の勉強します(笑\n",
        "基本の基本を勉強しようとすると、それだけで、結構な時間かかるので、やりたいことをググればだいたいその方法が出てきます\n",
        "そうやって、全体をやりたいプログラムにしていけばいいと思います（実際、僕もそうやっています）\n"
      ]
    },
    {
      "cell_type": "code",
      "metadata": {
        "id": "Smm8F5Eu_Pvk",
        "colab_type": "code",
        "outputId": "90cd8fac-58aa-4b55-c1eb-c11e1fa08956",
        "colab": {
          "base_uri": "https://localhost:8080/",
          "height": 1000
        }
      },
      "source": [
        "import pandas as pd\n",
        "import urllib\n",
        "link = 'https://www.city.inagi.tokyo.jp/kosodate/kodomoshien_center/event/baby.files/201909yanokutiositate.xlsx'\n",
        "socket = urllib.request.urlopen(link)\n",
        "xls = pd.ExcelFile(socket)\n",
        "df = xls.parse(xls.sheet_names[0], header=None, index_col=None)\n",
        "df"
      ],
      "execution_count": 0,
      "outputs": [
        {
          "output_type": "execute_result",
          "data": {
            "text/html": [
              "<div>\n",
              "<style scoped>\n",
              "    .dataframe tbody tr th:only-of-type {\n",
              "        vertical-align: middle;\n",
              "    }\n",
              "\n",
              "    .dataframe tbody tr th {\n",
              "        vertical-align: top;\n",
              "    }\n",
              "\n",
              "    .dataframe thead th {\n",
              "        text-align: right;\n",
              "    }\n",
              "</style>\n",
              "<table border=\"1\" class=\"dataframe\">\n",
              "  <thead>\n",
              "    <tr style=\"text-align: right;\">\n",
              "      <th></th>\n",
              "      <th>0</th>\n",
              "      <th>1</th>\n",
              "      <th>2</th>\n",
              "      <th>3</th>\n",
              "      <th>4</th>\n",
              "      <th>5</th>\n",
              "      <th>6</th>\n",
              "    </tr>\n",
              "  </thead>\n",
              "  <tbody>\n",
              "    <tr>\n",
              "      <th>0</th>\n",
              "      <td>平成31年度　9月号      　矢野口  ・   押立地域　    　子育て支援事業　  ...</td>\n",
              "      <td>NaN</td>\n",
              "      <td>NaN</td>\n",
              "      <td>NaN</td>\n",
              "      <td>NaN</td>\n",
              "      <td>NaN</td>\n",
              "      <td>NaN</td>\n",
              "    </tr>\n",
              "    <tr>\n",
              "      <th>1</th>\n",
              "      <td>日</td>\n",
              "      <td>月</td>\n",
              "      <td>火</td>\n",
              "      <td>水</td>\n",
              "      <td>木</td>\n",
              "      <td>金</td>\n",
              "      <td>土</td>\n",
              "    </tr>\n",
              "    <tr>\n",
              "      <th>2</th>\n",
              "      <td>1</td>\n",
              "      <td>2\\n★第二児童館　 ましゅまろ広場\\n♪中島ゆうし保育園　　室内開放\\n◆青葉幼稚園　　園庭開放</td>\n",
              "      <td>3\\n★第二児童館　 ましゅまろ広場\\n♥松葉保育園   園庭開放\\n♪中島ゆうし保育園　　...</td>\n",
              "      <td>4\\n★第二児童館　  出張あそびの広場\\n●第二図書館　　\\n　　　　おひざにだっこのおは...</td>\n",
              "      <td>5\\n●第二図書館　　えほんのじかん\\n♥松葉保育園   園庭開放\\n♪中島ゆうし保育園　　...</td>\n",
              "      <td>6\\n♥松葉保育園   ひまわりの会\\n　  「感触あそび～寒天ゼリー～」\\n♪中島ゆうし保...</td>\n",
              "      <td>7\\n◎チャイルドケアセンター\\n　　　子育てサロン\\n　　　　「フラワー紙をまるめて\\n　...</td>\n",
              "    </tr>\n",
              "    <tr>\n",
              "      <th>3</th>\n",
              "      <td>8</td>\n",
              "      <td>9\\n★第二児童館　 ましゅまろ広場\\n♪中島ゆうし保育園　　\\n　　室内開放／きてみてゆう...</td>\n",
              "      <td>10\\n★第二児童館　 ましゅまろ広場\\n♥松葉保育園   園庭開放\\n♪中島ゆうし保育園　...</td>\n",
              "      <td>11\\n★第二児童館　 キラキラの日\\n●第二図書館　　\\n　　　　おひざにだっこのおはなし...</td>\n",
              "      <td>12\\n★第二児童館　 \\n　　　　　　子育てサポーターの日\\n♥松葉保育園  \\n　　　　...</td>\n",
              "      <td>13\\n♥松葉保育園   ひまわりの会\\n　　　　　　　　　　　　「どろんこあそび」\\n♪中...</td>\n",
              "      <td>14</td>\n",
              "    </tr>\n",
              "    <tr>\n",
              "      <th>4</th>\n",
              "      <td>15</td>\n",
              "      <td>16  敬老の日</td>\n",
              "      <td>17\\n★第二児童館　 ましゅまろ広場\\n♥松葉保育園   園庭開放\\n♪中島ゆうし保育園　...</td>\n",
              "      <td>18\\n★第二児童館　  ベビーヨガ・マッサージ\\n　　　　　　　　　　　 ママ・リトルキッ...</td>\n",
              "      <td>19\\n●第二図書館　　えほんのじかん\\n♥松葉保育園   園庭開放\\n♪中島ゆうし保育園　...</td>\n",
              "      <td>20\\n♥松葉保育園   ひまわりの会\\n　　「親子で遊ぼう！ふれあいあそび」\\n♪中島ゆう...</td>\n",
              "      <td>21</td>\n",
              "    </tr>\n",
              "    <tr>\n",
              "      <th>5</th>\n",
              "      <td>22</td>\n",
              "      <td>23  秋分の日</td>\n",
              "      <td>24\\n★第二児童館　 ましゅまろ広場\\n♥松葉保育園   園庭開放\\n♪中島ゆうし保育園　...</td>\n",
              "      <td>25\\n★第二児童館　  Mamaカフェ\\n●第二図書館　　\\n　　　　おひざにだっこのおは...</td>\n",
              "      <td>26\\n♥松葉保育園   園庭開放\\n♪中島ゆうし保育園　　園庭開放\\n◆青葉幼稚園　　園庭...</td>\n",
              "      <td>27\\n★第二児童館　  出張あそびの広場\\n♪中島ゆうし保育園　　室内開放\\n◆青葉幼稚園...</td>\n",
              "      <td>28\\n◆青葉幼稚園　\\n　　　　　　未就園児運動会</td>\n",
              "    </tr>\n",
              "    <tr>\n",
              "      <th>6</th>\n",
              "      <td>29</td>\n",
              "      <td>30\\n★第二児童館　 ましゅまろ広場\\n♪中島ゆうし保育園　　室内開放\\n◆青葉幼稚園　　...</td>\n",
              "      <td>NaN</td>\n",
              "      <td>NaN</td>\n",
              "      <td>NaN</td>\n",
              "      <td>NaN</td>\n",
              "      <td>NaN</td>\n",
              "    </tr>\n",
              "    <tr>\n",
              "      <th>7</th>\n",
              "      <td>※　都合により、内容が変更になる場合がございます。詳細は、各施設にお問合わせください。</td>\n",
              "      <td>NaN</td>\n",
              "      <td>NaN</td>\n",
              "      <td>NaN</td>\n",
              "      <td>NaN</td>\n",
              "      <td>NaN</td>\n",
              "      <td>NaN</td>\n",
              "    </tr>\n",
              "    <tr>\n",
              "      <th>8</th>\n",
              "      <td>NaN</td>\n",
              "      <td>NaN</td>\n",
              "      <td>NaN</td>\n",
              "      <td>NaN</td>\n",
              "      <td>NaN</td>\n",
              "      <td>NaN</td>\n",
              "      <td>NaN</td>\n",
              "    </tr>\n",
              "    <tr>\n",
              "      <th>9</th>\n",
              "      <td>NaN</td>\n",
              "      <td>NaN</td>\n",
              "      <td>NaN</td>\n",
              "      <td>NaN</td>\n",
              "      <td>NaN</td>\n",
              "      <td>NaN</td>\n",
              "      <td>NaN</td>\n",
              "    </tr>\n",
              "    <tr>\n",
              "      <th>10</th>\n",
              "      <td>NaN</td>\n",
              "      <td>NaN</td>\n",
              "      <td>NaN</td>\n",
              "      <td>NaN</td>\n",
              "      <td>NaN</td>\n",
              "      <td>NaN</td>\n",
              "      <td>NaN</td>\n",
              "    </tr>\n",
              "    <tr>\n",
              "      <th>11</th>\n",
              "      <td>NaN</td>\n",
              "      <td>NaN</td>\n",
              "      <td>NaN</td>\n",
              "      <td>NaN</td>\n",
              "      <td>NaN</td>\n",
              "      <td>NaN</td>\n",
              "      <td>NaN</td>\n",
              "    </tr>\n",
              "    <tr>\n",
              "      <th>12</th>\n",
              "      <td>NaN</td>\n",
              "      <td>NaN</td>\n",
              "      <td>NaN</td>\n",
              "      <td>NaN</td>\n",
              "      <td>NaN</td>\n",
              "      <td>NaN</td>\n",
              "      <td>NaN</td>\n",
              "    </tr>\n",
              "    <tr>\n",
              "      <th>13</th>\n",
              "      <td>NaN</td>\n",
              "      <td>NaN</td>\n",
              "      <td>NaN</td>\n",
              "      <td>NaN</td>\n",
              "      <td>NaN</td>\n",
              "      <td>NaN</td>\n",
              "      <td>NaN</td>\n",
              "    </tr>\n",
              "    <tr>\n",
              "      <th>14</th>\n",
              "      <td>NaN</td>\n",
              "      <td></td>\n",
              "      <td>NaN</td>\n",
              "      <td>NaN</td>\n",
              "      <td>NaN</td>\n",
              "      <td>NaN</td>\n",
              "      <td>NaN</td>\n",
              "    </tr>\n",
              "    <tr>\n",
              "      <th>15</th>\n",
              "      <td>NaN</td>\n",
              "      <td>NaN</td>\n",
              "      <td>NaN</td>\n",
              "      <td>NaN</td>\n",
              "      <td>NaN</td>\n",
              "      <td>NaN</td>\n",
              "      <td>NaN</td>\n",
              "    </tr>\n",
              "    <tr>\n",
              "      <th>16</th>\n",
              "      <td>NaN</td>\n",
              "      <td>NaN</td>\n",
              "      <td>NaN</td>\n",
              "      <td>NaN</td>\n",
              "      <td>NaN</td>\n",
              "      <td>NaN</td>\n",
              "      <td>NaN</td>\n",
              "    </tr>\n",
              "    <tr>\n",
              "      <th>17</th>\n",
              "      <td>NaN</td>\n",
              "      <td>NaN</td>\n",
              "      <td>NaN</td>\n",
              "      <td>NaN</td>\n",
              "      <td>NaN</td>\n",
              "      <td>NaN</td>\n",
              "      <td>NaN</td>\n",
              "    </tr>\n",
              "    <tr>\n",
              "      <th>18</th>\n",
              "      <td>NaN</td>\n",
              "      <td>NaN</td>\n",
              "      <td>NaN</td>\n",
              "      <td>NaN</td>\n",
              "      <td>NaN</td>\n",
              "      <td>NaN</td>\n",
              "      <td>NaN</td>\n",
              "    </tr>\n",
              "    <tr>\n",
              "      <th>19</th>\n",
              "      <td>NaN</td>\n",
              "      <td>NaN</td>\n",
              "      <td>NaN</td>\n",
              "      <td>NaN</td>\n",
              "      <td>NaN</td>\n",
              "      <td>NaN</td>\n",
              "      <td>NaN</td>\n",
              "    </tr>\n",
              "    <tr>\n",
              "      <th>20</th>\n",
              "      <td>NaN</td>\n",
              "      <td>NaN</td>\n",
              "      <td>NaN</td>\n",
              "      <td>NaN</td>\n",
              "      <td>NaN</td>\n",
              "      <td>NaN</td>\n",
              "      <td>NaN</td>\n",
              "    </tr>\n",
              "    <tr>\n",
              "      <th>21</th>\n",
              "      <td>NaN</td>\n",
              "      <td>NaN</td>\n",
              "      <td>NaN</td>\n",
              "      <td>NaN</td>\n",
              "      <td>NaN</td>\n",
              "      <td>NaN</td>\n",
              "      <td>NaN</td>\n",
              "    </tr>\n",
              "    <tr>\n",
              "      <th>22</th>\n",
              "      <td>NaN</td>\n",
              "      <td>NaN</td>\n",
              "      <td>NaN</td>\n",
              "      <td>NaN</td>\n",
              "      <td>NaN</td>\n",
              "      <td>NaN</td>\n",
              "      <td>NaN</td>\n",
              "    </tr>\n",
              "  </tbody>\n",
              "</table>\n",
              "</div>"
            ],
            "text/plain": [
              "                                                    0  ...                                                  6\n",
              "0   平成31年度　9月号      　矢野口  ・   押立地域　    　子育て支援事業　  ...  ...                                                NaN\n",
              "1                                                   日  ...                                                  土\n",
              "2                                                   1  ...  7\\n◎チャイルドケアセンター\\n　　　子育てサロン\\n　　　　「フラワー紙をまるめて\\n　...\n",
              "3                                                   8  ...                                                 14\n",
              "4                                                  15  ...                                                 21\n",
              "5                                                  22  ...                         28\\n◆青葉幼稚園　\\n　　　　　　未就園児運動会\n",
              "6                                                  29  ...                                                NaN\n",
              "7         ※　都合により、内容が変更になる場合がございます。詳細は、各施設にお問合わせください。  ...                                                NaN\n",
              "8                                                 NaN  ...                                                NaN\n",
              "9                                                 NaN  ...                                                NaN\n",
              "10                                                NaN  ...                                                NaN\n",
              "11                                                NaN  ...                                                NaN\n",
              "12                                                NaN  ...                                                NaN\n",
              "13                                                NaN  ...                                                NaN\n",
              "14                                                NaN  ...                                                NaN\n",
              "15                                                NaN  ...                                                NaN\n",
              "16                                                NaN  ...                                                NaN\n",
              "17                                                NaN  ...                                                NaN\n",
              "18                                                NaN  ...                                                NaN\n",
              "19                                                NaN  ...                                                NaN\n",
              "20                                                NaN  ...                                                NaN\n",
              "21                                                NaN  ...                                                NaN\n",
              "22                                                NaN  ...                                                NaN\n",
              "\n",
              "[23 rows x 7 columns]"
            ]
          },
          "metadata": {
            "tags": []
          },
          "execution_count": 95
        }
      ]
    },
    {
      "cell_type": "markdown",
      "metadata": {
        "id": "xdNd-rD1dlzZ",
        "colab_type": "text"
      },
      "source": [
        "# データの取り出し方　\n",
        "ハンドリング方法を勉強します(笑)"
      ]
    },
    {
      "cell_type": "markdown",
      "metadata": {
        "id": "545rKfDyBXtB",
        "colab_type": "text"
      },
      "source": [
        "年度、月　地域　を取り出す　この場合　TitleText[0]が年度"
      ]
    },
    {
      "cell_type": "code",
      "metadata": {
        "id": "rj1cwsdKI3gT",
        "colab_type": "code",
        "outputId": "d1a0739a-decf-43b3-a82c-71dbea9d9939",
        "colab": {
          "base_uri": "https://localhost:8080/",
          "height": 101
        }
      },
      "source": [
        "TitleText=df.iloc[0,0].split()\n",
        "print(TitleText[0])\n",
        "print(TitleText[1])\n",
        "print(TitleText[2])\n",
        "print(TitleText[4])\n",
        "print(TitleText[5])"
      ],
      "execution_count": 0,
      "outputs": [
        {
          "output_type": "stream",
          "text": [
            "平成31年度\n",
            "9月号\n",
            "矢野口\n",
            "押立地域\n",
            "子育て支援事業\n"
          ],
          "name": "stdout"
        }
      ]
    },
    {
      "cell_type": "markdown",
      "metadata": {
        "id": "f9o-pcXZDHhg",
        "colab_type": "text"
      },
      "source": [
        "月のデータを分割してリストに入れてみる\n",
        "\n",
        "例えば、3行目の3列目のデータには、３日　、場所　"
      ]
    },
    {
      "cell_type": "code",
      "metadata": {
        "id": "OO5NuFLLDQj2",
        "colab_type": "code",
        "outputId": "9180dbfa-bef7-43c6-943c-aa252e33d67d",
        "colab": {
          "base_uri": "https://localhost:8080/",
          "height": 34
        }
      },
      "source": [
        "C3R3=df.iloc[2,2]\n",
        "C3R3"
      ],
      "execution_count": 0,
      "outputs": [
        {
          "output_type": "execute_result",
          "data": {
            "text/plain": [
              "'3\\n★第二児童館\\u3000 ましゅまろ広場\\n♥松葉保育園   園庭開放\\n♪中島ゆうし保育園\\u3000\\u3000園庭開放\\n◆青葉幼稚園\\u3000\\u3000園庭開放\\n◎チャイルドケアセンター 親子ふれあい広場\\n'"
            ]
          },
          "metadata": {
            "tags": []
          },
          "execution_count": 97
        }
      ]
    },
    {
      "cell_type": "markdown",
      "metadata": {
        "id": "SVfwc1CJbPVR",
        "colab_type": "text"
      },
      "source": [
        "曜日が入っている行を取り出す"
      ]
    },
    {
      "cell_type": "code",
      "metadata": {
        "id": "VPOYXu-QIyAG",
        "colab_type": "code",
        "outputId": "0f33ccba-2730-4ed9-af73-90b5673ead05",
        "colab": {
          "base_uri": "https://localhost:8080/",
          "height": 151
        }
      },
      "source": [
        "df.loc[1]"
      ],
      "execution_count": 0,
      "outputs": [
        {
          "output_type": "execute_result",
          "data": {
            "text/plain": [
              "0    日\n",
              "1    月\n",
              "2    火\n",
              "3    水\n",
              "4    木\n",
              "5    金\n",
              "6    土\n",
              "Name: 1, dtype: object"
            ]
          },
          "metadata": {
            "tags": []
          },
          "execution_count": 98
        }
      ]
    },
    {
      "cell_type": "markdown",
      "metadata": {
        "id": "PGjM7Z9PbIwd",
        "colab_type": "text"
      },
      "source": [
        "２行目から６行目を表示する"
      ]
    },
    {
      "cell_type": "code",
      "metadata": {
        "id": "v2N2hNmyKiUm",
        "colab_type": "code",
        "outputId": "64e0417a-1ed0-4249-fb8e-d7f3954bf597",
        "colab": {
          "base_uri": "https://localhost:8080/",
          "height": 430
        }
      },
      "source": [
        "df.loc[2:6]"
      ],
      "execution_count": 0,
      "outputs": [
        {
          "output_type": "execute_result",
          "data": {
            "text/html": [
              "<div>\n",
              "<style scoped>\n",
              "    .dataframe tbody tr th:only-of-type {\n",
              "        vertical-align: middle;\n",
              "    }\n",
              "\n",
              "    .dataframe tbody tr th {\n",
              "        vertical-align: top;\n",
              "    }\n",
              "\n",
              "    .dataframe thead th {\n",
              "        text-align: right;\n",
              "    }\n",
              "</style>\n",
              "<table border=\"1\" class=\"dataframe\">\n",
              "  <thead>\n",
              "    <tr style=\"text-align: right;\">\n",
              "      <th></th>\n",
              "      <th>0</th>\n",
              "      <th>1</th>\n",
              "      <th>2</th>\n",
              "      <th>3</th>\n",
              "      <th>4</th>\n",
              "      <th>5</th>\n",
              "      <th>6</th>\n",
              "    </tr>\n",
              "  </thead>\n",
              "  <tbody>\n",
              "    <tr>\n",
              "      <th>2</th>\n",
              "      <td>1</td>\n",
              "      <td>2\\n★第二児童館　 ましゅまろ広場\\n♪中島ゆうし保育園　　室内開放\\n◆青葉幼稚園　　園庭開放</td>\n",
              "      <td>3\\n★第二児童館　 ましゅまろ広場\\n♥松葉保育園   園庭開放\\n♪中島ゆうし保育園　　...</td>\n",
              "      <td>4\\n★第二児童館　  出張あそびの広場\\n●第二図書館　　\\n　　　　おひざにだっこのおは...</td>\n",
              "      <td>5\\n●第二図書館　　えほんのじかん\\n♥松葉保育園   園庭開放\\n♪中島ゆうし保育園　　...</td>\n",
              "      <td>6\\n♥松葉保育園   ひまわりの会\\n　  「感触あそび～寒天ゼリー～」\\n♪中島ゆうし保...</td>\n",
              "      <td>7\\n◎チャイルドケアセンター\\n　　　子育てサロン\\n　　　　「フラワー紙をまるめて\\n　...</td>\n",
              "    </tr>\n",
              "    <tr>\n",
              "      <th>3</th>\n",
              "      <td>8</td>\n",
              "      <td>9\\n★第二児童館　 ましゅまろ広場\\n♪中島ゆうし保育園　　\\n　　室内開放／きてみてゆう...</td>\n",
              "      <td>10\\n★第二児童館　 ましゅまろ広場\\n♥松葉保育園   園庭開放\\n♪中島ゆうし保育園　...</td>\n",
              "      <td>11\\n★第二児童館　 キラキラの日\\n●第二図書館　　\\n　　　　おひざにだっこのおはなし...</td>\n",
              "      <td>12\\n★第二児童館　 \\n　　　　　　子育てサポーターの日\\n♥松葉保育園  \\n　　　　...</td>\n",
              "      <td>13\\n♥松葉保育園   ひまわりの会\\n　　　　　　　　　　　　「どろんこあそび」\\n♪中...</td>\n",
              "      <td>14</td>\n",
              "    </tr>\n",
              "    <tr>\n",
              "      <th>4</th>\n",
              "      <td>15</td>\n",
              "      <td>16  敬老の日</td>\n",
              "      <td>17\\n★第二児童館　 ましゅまろ広場\\n♥松葉保育園   園庭開放\\n♪中島ゆうし保育園　...</td>\n",
              "      <td>18\\n★第二児童館　  ベビーヨガ・マッサージ\\n　　　　　　　　　　　 ママ・リトルキッ...</td>\n",
              "      <td>19\\n●第二図書館　　えほんのじかん\\n♥松葉保育園   園庭開放\\n♪中島ゆうし保育園　...</td>\n",
              "      <td>20\\n♥松葉保育園   ひまわりの会\\n　　「親子で遊ぼう！ふれあいあそび」\\n♪中島ゆう...</td>\n",
              "      <td>21</td>\n",
              "    </tr>\n",
              "    <tr>\n",
              "      <th>5</th>\n",
              "      <td>22</td>\n",
              "      <td>23  秋分の日</td>\n",
              "      <td>24\\n★第二児童館　 ましゅまろ広場\\n♥松葉保育園   園庭開放\\n♪中島ゆうし保育園　...</td>\n",
              "      <td>25\\n★第二児童館　  Mamaカフェ\\n●第二図書館　　\\n　　　　おひざにだっこのおは...</td>\n",
              "      <td>26\\n♥松葉保育園   園庭開放\\n♪中島ゆうし保育園　　園庭開放\\n◆青葉幼稚園　　園庭...</td>\n",
              "      <td>27\\n★第二児童館　  出張あそびの広場\\n♪中島ゆうし保育園　　室内開放\\n◆青葉幼稚園...</td>\n",
              "      <td>28\\n◆青葉幼稚園　\\n　　　　　　未就園児運動会</td>\n",
              "    </tr>\n",
              "    <tr>\n",
              "      <th>6</th>\n",
              "      <td>29</td>\n",
              "      <td>30\\n★第二児童館　 ましゅまろ広場\\n♪中島ゆうし保育園　　室内開放\\n◆青葉幼稚園　　...</td>\n",
              "      <td>NaN</td>\n",
              "      <td>NaN</td>\n",
              "      <td>NaN</td>\n",
              "      <td>NaN</td>\n",
              "      <td>NaN</td>\n",
              "    </tr>\n",
              "  </tbody>\n",
              "</table>\n",
              "</div>"
            ],
            "text/plain": [
              "    0  ...                                                  6\n",
              "2   1  ...  7\\n◎チャイルドケアセンター\\n　　　子育てサロン\\n　　　　「フラワー紙をまるめて\\n　...\n",
              "3   8  ...                                                 14\n",
              "4  15  ...                                                 21\n",
              "5  22  ...                         28\\n◆青葉幼稚園　\\n　　　　　　未就園児運動会\n",
              "6  29  ...                                                NaN\n",
              "\n",
              "[5 rows x 7 columns]"
            ]
          },
          "metadata": {
            "tags": []
          },
          "execution_count": 99
        }
      ]
    },
    {
      "cell_type": "markdown",
      "metadata": {
        "id": "t3R2OpoUbTqp",
        "colab_type": "text"
      },
      "source": [
        "nan が入っているところは除いて、日にち順に、データを配列に入れていく\n",
        "\n",
        ".appendを使っていれていくので、最初は0から入るので、配列の番号‐1が日にちになった配列ができる"
      ]
    },
    {
      "cell_type": "code",
      "metadata": {
        "id": "gmnGaMrbDwa_",
        "colab_type": "code",
        "outputId": "c32e22d1-08b9-4f6e-d771-f255045969c8",
        "colab": {
          "base_uri": "https://localhost:8080/",
          "height": 558
        }
      },
      "source": [
        "evlist=[] \n",
        "for i in range(2,7):\n",
        " dd=df.loc[i]\n",
        " for j in range(7):\n",
        "    if str(dd[j]) != 'nan':\n",
        "      evlist.append(dd[j])\n",
        "print(len(evlist))\n",
        "evlist"
      ],
      "execution_count": 0,
      "outputs": [
        {
          "output_type": "stream",
          "text": [
            "30\n"
          ],
          "name": "stdout"
        },
        {
          "output_type": "execute_result",
          "data": {
            "text/plain": [
              "[1,\n",
              " '2\\n★第二児童館\\u3000 ましゅまろ広場\\n♪中島ゆうし保育園\\u3000\\u3000室内開放\\n◆青葉幼稚園\\u3000\\u3000園庭開放',\n",
              " '3\\n★第二児童館\\u3000 ましゅまろ広場\\n♥松葉保育園   園庭開放\\n♪中島ゆうし保育園\\u3000\\u3000園庭開放\\n◆青葉幼稚園\\u3000\\u3000園庭開放\\n◎チャイルドケアセンター 親子ふれあい広場\\n',\n",
              " '4\\n★第二児童館\\u3000  出張あそびの広場\\n●第二図書館\\u3000\\u3000\\n\\u3000\\u3000\\u3000\\u3000おひざにだっこのおはなし会\\n',\n",
              " '5\\n●第二図書館\\u3000\\u3000えほんのじかん\\n♥松葉保育園   園庭開放\\n♪中島ゆうし保育園\\u3000\\u3000園庭開放\\n◆青葉幼稚園\\u3000\\u3000園庭開放',\n",
              " '6\\n♥松葉保育園   ひまわりの会\\n\\u3000  「感触あそび～寒天ゼリー～」\\n♪中島ゆうし保育園  室内開放\\u3000\\u3000\\u3000\\u3000\\u3000\\u3000\\u3000\\u3000\\u3000\\n◆青葉幼稚園\\u3000\\u3000園庭開放',\n",
              " '7\\n◎チャイルドケアセンター\\n\\u3000\\u3000\\u3000子育てサロン\\n\\u3000\\u3000\\u3000\\u3000「フラワー紙をまるめて\\n\\u3000\\u3000\\u3000\\u3000\\u3000\\u3000\\u3000\\u3000\\u3000ぶどうをつくろう」',\n",
              " 8,\n",
              " '9\\n★第二児童館\\u3000 ましゅまろ広場\\n♪中島ゆうし保育園\\u3000\\u3000\\n\\u3000\\u3000室内開放／きてみてゆうし\\n\\u3000\\u3000\\u3000\\u3000\\u3000\\u3000\\u3000\\u3000\\u3000（第四文化センター）\\n◆青葉幼稚園\\u3000\\u3000園庭開放',\n",
              " '10\\n★第二児童館\\u3000 ましゅまろ広場\\n♥松葉保育園   園庭開放\\n♪中島ゆうし保育園\\u3000\\u3000園庭開放\\n◆青葉幼稚園\\u3000\\u3000園庭開放\\n◎チャイルドケアセンター 親子ふれあい広場',\n",
              " '11\\n★第二児童館\\u3000 キラキラの日\\n●第二図書館\\u3000\\u3000\\n\\u3000\\u3000\\u3000\\u3000おひざにだっこのおはなし会\\n♪中島ゆうし保育園\\u3000\\u3000つくしの会\\n',\n",
              " '12\\n★第二児童館\\u3000 \\n\\u3000\\u3000\\u3000\\u3000\\u3000\\u3000子育てサポーターの日\\n♥松葉保育園  \\n\\u3000\\u3000\\u3000\\u3000 園庭開放／親子deランチ\\n♪中島ゆうし保育園\\u3000\\u3000園庭開放\\n◆青葉幼稚園\\u3000\\u3000園庭開放',\n",
              " '13\\n♥松葉保育園   ひまわりの会\\n\\u3000\\u3000\\u3000\\u3000\\u3000\\u3000\\u3000\\u3000\\u3000\\u3000\\u3000\\u3000「どろんこあそび」\\n♪中島ゆうし保育園\\u3000\\u3000室内開放\\n◆青葉幼稚園\\u3000\\u3000園庭開放',\n",
              " 14,\n",
              " 15,\n",
              " '16  敬老の日',\n",
              " '17\\n★第二児童館\\u3000 ましゅまろ広場\\n♥松葉保育園   園庭開放\\n♪中島ゆうし保育園\\u3000\\u3000園庭開放\\n◆青葉幼稚園\\u3000\\u3000園庭開放\\n■梨花幼稚園   園庭開放\\n◎チャイルドケアセンター 親子ふれあい広場',\n",
              " '18\\n★第二児童館\\u3000  ベビーヨガ・マッサージ\\n\\u3000\\u3000\\u3000\\u3000\\u3000\\u3000\\u3000\\u3000\\u3000\\u3000\\u3000 ママ・リトルキッズヨガ\\n●第二図書館\\u3000\\u3000\\n\\u3000\\u3000\\u3000\\u3000おひざにだっこのおはなし会\\n♪中島ゆうし保育園\\u3000\\u3000すぎなの会\\n',\n",
              " '19\\n●第二図書館\\u3000\\u3000えほんのじかん\\n♥松葉保育園   園庭開放\\n♪中島ゆうし保育園\\u3000\\u3000園庭開放\\n◆青葉幼稚園\\u3000\\u3000園庭開放',\n",
              " '20\\n♥松葉保育園   ひまわりの会\\n\\u3000\\u3000「親子で遊ぼう！ふれあいあそび」\\n♪中島ゆうし保育園\\u3000\\u3000室内開放\\n◆青葉幼稚園\\u3000\\u3000園庭開放',\n",
              " 21,\n",
              " 22,\n",
              " '23  秋分の日',\n",
              " '24\\n★第二児童館\\u3000 ましゅまろ広場\\n♥松葉保育園   園庭開放\\n♪中島ゆうし保育園\\u3000\\u3000園庭開放\\n■梨花幼稚園   園庭開放\\n◎チャイルドケアセンター 親子ふれあい広場',\n",
              " '25\\n★第二児童館\\u3000  Mamaカフェ\\n●第二図書館\\u3000\\u3000\\n\\u3000\\u3000\\u3000\\u3000おひざにだっこのおはなし会\\n',\n",
              " '26\\n♥松葉保育園   園庭開放\\n♪中島ゆうし保育園\\u3000\\u3000園庭開放\\n◆青葉幼稚園\\u3000\\u3000園庭開放\\n◎矢の口幼稚園\\u3000ちゅうりっぷくらぶ',\n",
              " '27\\n★第二児童館\\u3000  出張あそびの広場\\n♪中島ゆうし保育園\\u3000\\u3000室内開放\\n◆青葉幼稚園\\u3000\\u3000園庭開放',\n",
              " '28\\n◆青葉幼稚園\\u3000\\n\\u3000\\u3000\\u3000\\u3000\\u3000\\u3000未就園児運動会',\n",
              " 29,\n",
              " '30\\n★第二児童館\\u3000 ましゅまろ広場\\n♪中島ゆうし保育園\\u3000\\u3000室内開放\\n◆青葉幼稚園\\u3000\\u3000園庭開放']"
            ]
          },
          "metadata": {
            "tags": []
          },
          "execution_count": 126
        }
      ]
    },
    {
      "cell_type": "markdown",
      "metadata": {
        "id": "3amn7J2keIwZ",
        "colab_type": "text"
      },
      "source": [
        "曜日を入れてしまう\n",
        "\n",
        "今回は、文字列にして、空白を区切り文字としておいて、結合して配列に追加していってみる"
      ]
    },
    {
      "cell_type": "code",
      "metadata": {
        "id": "O_PMX3ckeuR9",
        "colab_type": "code",
        "outputId": "b7c99a43-78d5-48a5-c479-dd912484ceb0",
        "colab": {
          "base_uri": "https://localhost:8080/",
          "height": 541
        }
      },
      "source": [
        "evlist=[] \n",
        "cc=df.loc[1]\n",
        "for i in range(2,7):\n",
        " dd=df.loc[i]\n",
        " for j in range(7):\n",
        "    if str(dd[j]) != 'nan':\n",
        "      evlist.append(str(cc[j]) + \" \" + str(dd[j]))\n",
        "evlist"
      ],
      "execution_count": 0,
      "outputs": [
        {
          "output_type": "execute_result",
          "data": {
            "text/plain": [
              "['日 1',\n",
              " '月 2\\n★第二児童館\\u3000 ましゅまろ広場\\n♪中島ゆうし保育園\\u3000\\u3000室内開放\\n◆青葉幼稚園\\u3000\\u3000園庭開放',\n",
              " '火 3\\n★第二児童館\\u3000 ましゅまろ広場\\n♥松葉保育園   園庭開放\\n♪中島ゆうし保育園\\u3000\\u3000園庭開放\\n◆青葉幼稚園\\u3000\\u3000園庭開放\\n◎チャイルドケアセンター 親子ふれあい広場\\n',\n",
              " '水 4\\n★第二児童館\\u3000  出張あそびの広場\\n●第二図書館\\u3000\\u3000\\n\\u3000\\u3000\\u3000\\u3000おひざにだっこのおはなし会\\n',\n",
              " '木 5\\n●第二図書館\\u3000\\u3000えほんのじかん\\n♥松葉保育園   園庭開放\\n♪中島ゆうし保育園\\u3000\\u3000園庭開放\\n◆青葉幼稚園\\u3000\\u3000園庭開放',\n",
              " '金 6\\n♥松葉保育園   ひまわりの会\\n\\u3000  「感触あそび～寒天ゼリー～」\\n♪中島ゆうし保育園  室内開放\\u3000\\u3000\\u3000\\u3000\\u3000\\u3000\\u3000\\u3000\\u3000\\n◆青葉幼稚園\\u3000\\u3000園庭開放',\n",
              " '土 7\\n◎チャイルドケアセンター\\n\\u3000\\u3000\\u3000子育てサロン\\n\\u3000\\u3000\\u3000\\u3000「フラワー紙をまるめて\\n\\u3000\\u3000\\u3000\\u3000\\u3000\\u3000\\u3000\\u3000\\u3000ぶどうをつくろう」',\n",
              " '日 8',\n",
              " '月 9\\n★第二児童館\\u3000 ましゅまろ広場\\n♪中島ゆうし保育園\\u3000\\u3000\\n\\u3000\\u3000室内開放／きてみてゆうし\\n\\u3000\\u3000\\u3000\\u3000\\u3000\\u3000\\u3000\\u3000\\u3000（第四文化センター）\\n◆青葉幼稚園\\u3000\\u3000園庭開放',\n",
              " '火 10\\n★第二児童館\\u3000 ましゅまろ広場\\n♥松葉保育園   園庭開放\\n♪中島ゆうし保育園\\u3000\\u3000園庭開放\\n◆青葉幼稚園\\u3000\\u3000園庭開放\\n◎チャイルドケアセンター 親子ふれあい広場',\n",
              " '水 11\\n★第二児童館\\u3000 キラキラの日\\n●第二図書館\\u3000\\u3000\\n\\u3000\\u3000\\u3000\\u3000おひざにだっこのおはなし会\\n♪中島ゆうし保育園\\u3000\\u3000つくしの会\\n',\n",
              " '木 12\\n★第二児童館\\u3000 \\n\\u3000\\u3000\\u3000\\u3000\\u3000\\u3000子育てサポーターの日\\n♥松葉保育園  \\n\\u3000\\u3000\\u3000\\u3000 園庭開放／親子deランチ\\n♪中島ゆうし保育園\\u3000\\u3000園庭開放\\n◆青葉幼稚園\\u3000\\u3000園庭開放',\n",
              " '金 13\\n♥松葉保育園   ひまわりの会\\n\\u3000\\u3000\\u3000\\u3000\\u3000\\u3000\\u3000\\u3000\\u3000\\u3000\\u3000\\u3000「どろんこあそび」\\n♪中島ゆうし保育園\\u3000\\u3000室内開放\\n◆青葉幼稚園\\u3000\\u3000園庭開放',\n",
              " '土 14',\n",
              " '日 15',\n",
              " '月 16  敬老の日',\n",
              " '火 17\\n★第二児童館\\u3000 ましゅまろ広場\\n♥松葉保育園   園庭開放\\n♪中島ゆうし保育園\\u3000\\u3000園庭開放\\n◆青葉幼稚園\\u3000\\u3000園庭開放\\n■梨花幼稚園   園庭開放\\n◎チャイルドケアセンター 親子ふれあい広場',\n",
              " '水 18\\n★第二児童館\\u3000  ベビーヨガ・マッサージ\\n\\u3000\\u3000\\u3000\\u3000\\u3000\\u3000\\u3000\\u3000\\u3000\\u3000\\u3000 ママ・リトルキッズヨガ\\n●第二図書館\\u3000\\u3000\\n\\u3000\\u3000\\u3000\\u3000おひざにだっこのおはなし会\\n♪中島ゆうし保育園\\u3000\\u3000すぎなの会\\n',\n",
              " '木 19\\n●第二図書館\\u3000\\u3000えほんのじかん\\n♥松葉保育園   園庭開放\\n♪中島ゆうし保育園\\u3000\\u3000園庭開放\\n◆青葉幼稚園\\u3000\\u3000園庭開放',\n",
              " '金 20\\n♥松葉保育園   ひまわりの会\\n\\u3000\\u3000「親子で遊ぼう！ふれあいあそび」\\n♪中島ゆうし保育園\\u3000\\u3000室内開放\\n◆青葉幼稚園\\u3000\\u3000園庭開放',\n",
              " '土 21',\n",
              " '日 22',\n",
              " '月 23  秋分の日',\n",
              " '火 24\\n★第二児童館\\u3000 ましゅまろ広場\\n♥松葉保育園   園庭開放\\n♪中島ゆうし保育園\\u3000\\u3000園庭開放\\n■梨花幼稚園   園庭開放\\n◎チャイルドケアセンター 親子ふれあい広場',\n",
              " '水 25\\n★第二児童館\\u3000  Mamaカフェ\\n●第二図書館\\u3000\\u3000\\n\\u3000\\u3000\\u3000\\u3000おひざにだっこのおはなし会\\n',\n",
              " '木 26\\n♥松葉保育園   園庭開放\\n♪中島ゆうし保育園\\u3000\\u3000園庭開放\\n◆青葉幼稚園\\u3000\\u3000園庭開放\\n◎矢の口幼稚園\\u3000ちゅうりっぷくらぶ',\n",
              " '金 27\\n★第二児童館\\u3000  出張あそびの広場\\n♪中島ゆうし保育園\\u3000\\u3000室内開放\\n◆青葉幼稚園\\u3000\\u3000園庭開放',\n",
              " '土 28\\n◆青葉幼稚園\\u3000\\n\\u3000\\u3000\\u3000\\u3000\\u3000\\u3000未就園児運動会',\n",
              " '日 29',\n",
              " '月 30\\n★第二児童館\\u3000 ましゅまろ広場\\n♪中島ゆうし保育園\\u3000\\u3000室内開放\\n◆青葉幼稚園\\u3000\\u3000園庭開放']"
            ]
          },
          "metadata": {
            "tags": []
          },
          "execution_count": 101
        }
      ]
    },
    {
      "cell_type": "markdown",
      "metadata": {
        "id": "GCcIlbbXjFXb",
        "colab_type": "text"
      },
      "source": [
        "\\u3000 は全角空白文字なので、気持ち悪いので、半角空白に変換する"
      ]
    },
    {
      "cell_type": "code",
      "metadata": {
        "id": "bwjP06wEjPZ5",
        "colab_type": "code",
        "outputId": "16e398a4-cb45-46f6-b2cf-89eefe734c7b",
        "colab": {
          "base_uri": "https://localhost:8080/",
          "height": 34
        }
      },
      "source": [
        "str(evlist[3]).replace('\\u3000',' ')"
      ],
      "execution_count": 0,
      "outputs": [
        {
          "output_type": "execute_result",
          "data": {
            "text/plain": [
              "'水 4\\n★第二児童館   出張あそびの広場\\n●第二図書館  \\n    おひざにだっこのおはなし会\\n'"
            ]
          },
          "metadata": {
            "tags": []
          },
          "execution_count": 117
        }
      ]
    },
    {
      "cell_type": "markdown",
      "metadata": {
        "id": "BAqguHXig2Sn",
        "colab_type": "text"
      },
      "source": [
        "今は一配列に、曜日　空白　日　¥n　入ったり入らなかったり　そのあとに予定が入っている　\n",
        "それを、分解してみる"
      ]
    },
    {
      "cell_type": "code",
      "metadata": {
        "id": "nMmkNNaODv1K",
        "colab_type": "code",
        "outputId": "6eb0ceed-0fa0-4919-b5eb-34e63f2bf015",
        "colab": {
          "base_uri": "https://localhost:8080/",
          "height": 252
        }
      },
      "source": [
        "str(evlist[16]).replace('\\u3000',' ').split()"
      ],
      "execution_count": 0,
      "outputs": [
        {
          "output_type": "execute_result",
          "data": {
            "text/plain": [
              "['火',\n",
              " '17',\n",
              " '★第二児童館',\n",
              " 'ましゅまろ広場',\n",
              " '♥松葉保育園',\n",
              " '園庭開放',\n",
              " '♪中島ゆうし保育園',\n",
              " '園庭開放',\n",
              " '◆青葉幼稚園',\n",
              " '園庭開放',\n",
              " '■梨花幼稚園',\n",
              " '園庭開放',\n",
              " '◎チャイルドケアセンター',\n",
              " '親子ふれあい広場']"
            ]
          },
          "metadata": {
            "tags": []
          },
          "execution_count": 118
        }
      ]
    },
    {
      "cell_type": "markdown",
      "metadata": {
        "id": "Bos5T406hJDi",
        "colab_type": "text"
      },
      "source": [
        "0番に曜日、1番に日が入っているので、それだけ取り出すには？"
      ]
    },
    {
      "cell_type": "code",
      "metadata": {
        "id": "4eg8-3UUhaaB",
        "colab_type": "code",
        "outputId": "9e54c73c-16d8-41b3-feba-180877b612c6",
        "colab": {
          "base_uri": "https://localhost:8080/",
          "height": 34
        }
      },
      "source": [
        "str(evlist[16]).replace('\\u3000',' ').split()[0:2]"
      ],
      "execution_count": 0,
      "outputs": [
        {
          "output_type": "execute_result",
          "data": {
            "text/plain": [
              "['火', '17']"
            ]
          },
          "metadata": {
            "tags": []
          },
          "execution_count": 119
        }
      ]
    },
    {
      "cell_type": "markdown",
      "metadata": {
        "id": "NcoR0RKehqiS",
        "colab_type": "text"
      },
      "source": [
        "2番目以降に、予定が入っているので、それだけを取り出すには？"
      ]
    },
    {
      "cell_type": "code",
      "metadata": {
        "id": "-z3zYo6jh0yJ",
        "colab_type": "code",
        "outputId": "1a5ce662-d0fa-4be6-a66e-9a96f0542742",
        "colab": {
          "base_uri": "https://localhost:8080/",
          "height": 218
        }
      },
      "source": [
        "str(evlist[16]).replace('\\u3000',' ').split()[2::]"
      ],
      "execution_count": 0,
      "outputs": [
        {
          "output_type": "execute_result",
          "data": {
            "text/plain": [
              "['★第二児童館',\n",
              " 'ましゅまろ広場',\n",
              " '♥松葉保育園',\n",
              " '園庭開放',\n",
              " '♪中島ゆうし保育園',\n",
              " '園庭開放',\n",
              " '◆青葉幼稚園',\n",
              " '園庭開放',\n",
              " '■梨花幼稚園',\n",
              " '園庭開放',\n",
              " '◎チャイルドケアセンター',\n",
              " '親子ふれあい広場']"
            ]
          },
          "metadata": {
            "tags": []
          },
          "execution_count": 120
        }
      ]
    },
    {
      "cell_type": "markdown",
      "metadata": {
        "id": "4_-keOUiiiMI",
        "colab_type": "text"
      },
      "source": [
        "\\n が何か意味ありそう？ 1個目（0番目）以降を取り出すと、場所と何をやるか？が取り出せる？"
      ]
    },
    {
      "cell_type": "code",
      "metadata": {
        "id": "FSlYIHAvimjZ",
        "colab_type": "code",
        "outputId": "62fff95f-22eb-41ba-a019-ed7a3134fa47",
        "colab": {
          "base_uri": "https://localhost:8080/",
          "height": 118
        }
      },
      "source": [
        "str(evlist[16]).replace('\\u3000',' ').split('\\n')[1::]"
      ],
      "execution_count": 0,
      "outputs": [
        {
          "output_type": "execute_result",
          "data": {
            "text/plain": [
              "['★第二児童館  ましゅまろ広場',\n",
              " '♥松葉保育園   園庭開放',\n",
              " '♪中島ゆうし保育園  園庭開放',\n",
              " '◆青葉幼稚園  園庭開放',\n",
              " '■梨花幼稚園   園庭開放',\n",
              " '◎チャイルドケアセンター 親子ふれあい広場']"
            ]
          },
          "metadata": {
            "tags": []
          },
          "execution_count": 125
        }
      ]
    }
  ]
}