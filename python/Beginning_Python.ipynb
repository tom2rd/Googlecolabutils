{
  "nbformat": 4,
  "nbformat_minor": 0,
  "metadata": {
    "colab": {
      "name": "Beginning_Python.ipynb",
      "provenance": [],
      "include_colab_link": true
    },
    "kernelspec": {
      "name": "python3",
      "display_name": "Python 3"
    }
  },
  "cells": [
    {
      "cell_type": "markdown",
      "metadata": {
        "id": "view-in-github",
        "colab_type": "text"
      },
      "source": [
        "<a href=\"https://colab.research.google.com/github/tom2rd/Googlecolabutils/blob/master/python/Beginning_Python.ipynb\" target=\"_parent\"><img src=\"https://colab.research.google.com/assets/colab-badge.svg\" alt=\"Open In Colab\"/></a>"
      ]
    },
    {
      "cell_type": "markdown",
      "metadata": {
        "id": "Y6D0z5dFQqRx",
        "colab_type": "text"
      },
      "source": [
        "#簡単な Python Language チュートリアル"
      ]
    },
    {
      "cell_type": "markdown",
      "metadata": {
        "id": "_ArUdwg9QqRy",
        "colab_type": "text"
      },
      "source": [
        "P.D. Nation and J.R. Johansson\n",
        "\n",
        "For more information about QuTiP see [http://qutip.org](http://qutip.org) \n",
        "\n",
        "Python3系の基礎を知るのにとてもいい教材だと思ったので、上記のチュートリアルを[Tetsuya Tominaga](https://tom2rd.sakura.ne.jp/wp)が改変・日本語化しています。"
      ]
    },
    {
      "cell_type": "markdown",
      "metadata": {
        "id": "OcFMIRxSQqRz",
        "colab_type": "text"
      },
      "source": [
        "## Python を使った 簡単な計算"
      ]
    },
    {
      "cell_type": "markdown",
      "metadata": {
        "id": "c_UUby5pQqR0",
        "colab_type": "text"
      },
      "source": [
        "最初のステップとして、基本的な計算機として使ってみます。加算、減算、乗算はすべて、方程式を紙に書き留めるのと同じように機能します"
      ]
    },
    {
      "cell_type": "code",
      "metadata": {
        "id": "19Fgf8BKQqR0",
        "colab_type": "code",
        "outputId": "deaa73d4-4660-4884-f24d-864f57dcc392",
        "colab": {
          "base_uri": "https://localhost:8080/",
          "height": 34
        }
      },
      "source": [
        "10+5"
      ],
      "execution_count": 0,
      "outputs": [
        {
          "output_type": "execute_result",
          "data": {
            "text/plain": [
              "15"
            ]
          },
          "metadata": {
            "tags": []
          },
          "execution_count": 3
        }
      ]
    },
    {
      "cell_type": "code",
      "metadata": {
        "id": "CeGNoYIJQqR3",
        "colab_type": "code",
        "outputId": "1b93396f-7195-4937-dc38-2c0b7d6570d5",
        "colab": {
          "base_uri": "https://localhost:8080/",
          "height": 34
        }
      },
      "source": [
        "10-157"
      ],
      "execution_count": 0,
      "outputs": [
        {
          "output_type": "execute_result",
          "data": {
            "text/plain": [
              "-147"
            ]
          },
          "metadata": {
            "tags": []
          },
          "execution_count": 4
        }
      ]
    },
    {
      "cell_type": "code",
      "metadata": {
        "id": "Cd5kN_B_QqR5",
        "colab_type": "code",
        "outputId": "07b2e66a-1769-4ea6-88e4-290f7ddb73ea",
        "colab": {
          "base_uri": "https://localhost:8080/",
          "height": 34
        }
      },
      "source": [
        "4/3"
      ],
      "execution_count": 0,
      "outputs": [
        {
          "output_type": "execute_result",
          "data": {
            "text/plain": [
              "1.3333333333333333"
            ]
          },
          "metadata": {
            "tags": []
          },
          "execution_count": 5
        }
      ]
    },
    {
      "cell_type": "code",
      "metadata": {
        "id": "rryrpF-XQqR7",
        "colab_type": "code",
        "outputId": "2f1e1a20-d46d-4b3a-d7f0-68a5f5472cbe",
        "colab": {
          "base_uri": "https://localhost:8080/",
          "height": 34
        }
      },
      "source": [
        "(50-4)*10/5"
      ],
      "execution_count": 0,
      "outputs": [
        {
          "output_type": "execute_result",
          "data": {
            "text/plain": [
              "92.0"
            ]
          },
          "metadata": {
            "tags": []
          },
          "execution_count": 6
        }
      ]
    },
    {
      "cell_type": "markdown",
      "metadata": {
        "id": "bCU2a18cQqR8",
        "colab_type": "text"
      },
      "source": [
        "べき乗計算, $4^{4}$, の書き方は少し違いますね"
      ]
    },
    {
      "cell_type": "code",
      "metadata": {
        "id": "vx8nmUtuQqR9",
        "colab_type": "code",
        "outputId": "90139843-72d4-4493-c102-f773d8baba14",
        "colab": {
          "base_uri": "https://localhost:8080/",
          "height": 34
        }
      },
      "source": [
        "4**4"
      ],
      "execution_count": 0,
      "outputs": [
        {
          "output_type": "execute_result",
          "data": {
            "text/plain": [
              "256"
            ]
          },
          "metadata": {
            "tags": []
          },
          "execution_count": 7
        }
      ]
    },
    {
      "cell_type": "markdown",
      "metadata": {
        "id": "DbPfdJK3QqR_",
        "colab_type": "text"
      },
      "source": [
        "これを数学的に $4^{4.0}$.と同等の方法で表現することもできます。ただし、コンピューターの内部では、結果は上記の答えと同じように扱われません。（浮動小数点と整数の関係などは、この下にあります）"
      ]
    },
    {
      "cell_type": "code",
      "metadata": {
        "id": "hhklTCfUQqSA",
        "colab_type": "code",
        "outputId": "9de4c82c-aa99-46ff-a1a2-c5593cda04df",
        "colab": {
          "base_uri": "https://localhost:8080/",
          "height": 34
        }
      },
      "source": [
        "4**4.0"
      ],
      "execution_count": 0,
      "outputs": [
        {
          "output_type": "execute_result",
          "data": {
            "text/plain": [
              "256.0"
            ]
          },
          "metadata": {
            "tags": []
          },
          "execution_count": 8
        }
      ]
    },
    {
      "cell_type": "markdown",
      "metadata": {
        "id": "Rs2MQXbWQqSC",
        "colab_type": "text"
      },
      "source": [
        "##整数 Integers vs. 浮動小数点 Floating Point Numbers"
      ]
    },
    {
      "cell_type": "markdown",
      "metadata": {
        "id": "0WMhJ_WcQqSC",
        "colab_type": "text"
      },
      "source": [
        "コンピューターに保存されているすべての情報は、0と1で構成されるバイナリ形式で表現する必要があります (例えば. $461\\rightarrow 111001101$)。  0または1はそれぞれ**ビット**と呼ばれ、$ N $ビットが与えられると、$[0,2^{N-1}]$の範囲内の整数を格納できます  なお、$ -1 $は、数値が正か負かを定義するために最初のビットが予約されているためです  \n",
        "\n",
        "ただし、固定ビット数を指定すると、任意の数を正確に格納することは不可能です。したがって、乱数が与えられた場合、その数値が2倍に正確に割り切れない限り、乱数とバイナリビット表現の間の変換は最終的に精度の低下につながり、** roundoff error **。となります。\n",
        "\n"
      ]
    },
    {
      "cell_type": "markdown",
      "metadata": {
        "id": "YxeJpcrgQqSD",
        "colab_type": "text"
      },
      "source": [
        "コンピューター内で数値を扱う場合、考慮すべき2つの異なるタイプの数値があります。:\n",
        "\n",
        "\n",
        "- **整数　Integers** - (1,2,4,-586,..) **固定小数点数**と呼ばれるものです。固定小数点という用語は、数値の小数点以下の桁数が固定されていることを意味します（整数の場合はゼロ）。これらの数値は、コンピューターに正確に保存できます。\n",
        "\n",
        "\n",
        "- **倍精度/浮動小数点　Doubles/Floats** - (3.141,0.21,-0.1,..) これらは**浮動小数点数**で、科学表記法と同等のバイナリです。例えば $c=2.99792458\\times 10^{8}$.  倍精度（倍精度数とも呼ばれる）は、64ビットを使用して書き込まれる浮動小数点数であり、一般に、小数点以下15桁または16桁まで正確です。浮動小数点数（または単精度の数値）は32ビットを使用し、小数点以下6〜7桁まで有効です。 **精度の必要な科学計算では、常に整数と二重（64ビット）数値の組み合わせが必要です**。"
      ]
    },
    {
      "cell_type": "code",
      "metadata": {
        "id": "SZ4g1j2EQqSD",
        "colab_type": "code",
        "outputId": "f175570d-3de1-4438-8ea8-b1dfaa6605df",
        "colab": {
          "base_uri": "https://localhost:8080/",
          "height": 34
        }
      },
      "source": [
        "7+0.000000000000001"
      ],
      "execution_count": 4,
      "outputs": [
        {
          "output_type": "execute_result",
          "data": {
            "text/plain": [
              "7.000000000000001"
            ]
          },
          "metadata": {
            "tags": []
          },
          "execution_count": 4
        }
      ]
    },
    {
      "cell_type": "code",
      "metadata": {
        "id": "HeeqKhnQQqSF",
        "colab_type": "code",
        "outputId": "739023d0-690c-4fbb-e44d-7c5bd4a9841c",
        "colab": {
          "base_uri": "https://localhost:8080/",
          "height": 34
        }
      },
      "source": [
        "7+0.0000000000000001"
      ],
      "execution_count": 3,
      "outputs": [
        {
          "output_type": "execute_result",
          "data": {
            "text/plain": [
              "7.0"
            ]
          },
          "metadata": {
            "tags": []
          },
          "execution_count": 3
        }
      ]
    },
    {
      "cell_type": "code",
      "metadata": {
        "id": "yO8xTGhpQqSH",
        "colab_type": "code",
        "outputId": "bfc4b43e-da26-4843-9e9b-13dce0e498f1",
        "colab": {
          "base_uri": "https://localhost:8080/",
          "height": 34
        }
      },
      "source": [
        "0.1+0.2"
      ],
      "execution_count": 2,
      "outputs": [
        {
          "output_type": "execute_result",
          "data": {
            "text/plain": [
              "0.30000000000000004"
            ]
          },
          "metadata": {
            "tags": []
          },
          "execution_count": 2
        }
      ]
    },
    {
      "cell_type": "markdown",
      "metadata": {
        "id": "0CmJOqQQQqSK",
        "colab_type": "text"
      },
      "source": [
        "この最後の例は、コンピューターが10進数（浮動小数点数）を正確に保存しないという事実を明確に強調しています。浮動小数点数の精度の低下は、**機械精度**、$\\epsilon_{\\rm m}$, それは、次のような最小の正数であると定義されます\n",
        "\n",
        "$$1_{\\rm c}+\\epsilon_{\\rm m}\\neq 1_{\\rm c}$$\n",
        "\n",
        "where the subscript on $1_{\\rm c}$ is meant to remind you that this is a computer number.  Therefore, for any arbitrary number $N$ is related to its floating-point equivalent $N_{\\rm c}$ by\n",
        "\n",
        "$$N_{\\rm c}=N\\pm \\epsilon, \\ \\ \\forall~|\\epsilon|< \\epsilon_{\\rm m}.$$\n",
        "\n",
        "**ここ重要**　-2の因数ではないすべての倍精度10進数には、小数点以下15桁にエラーがあります。注意を怠ると、数値解法にエラーが生じる可能性があります。"
      ]
    },
    {
      "cell_type": "markdown",
      "metadata": {
        "id": "I5WRM1hcQqSL",
        "colab_type": "text"
      },
      "source": [
        "##NumPy（計算用数字ライブラリ）を使って Python を賢くしよう"
      ]
    },
    {
      "cell_type": "markdown",
      "metadata": {
        "id": "MU38wN9xQqSL",
        "colab_type": "text"
      },
      "source": [
        "Python自体は、単純な算術演算以外の数学はサポートが限定されています。そのため、NumPyモジュールの関数を使用して、より印象的で高速な計算を行います。 NumPyのすべてではないが多くの関数をロードするには、次のコマンドを実行します"
      ]
    },
    {
      "cell_type": "code",
      "metadata": {
        "id": "HS2n0xB3QqSM",
        "colab_type": "code",
        "colab": {}
      },
      "source": [
        "from numpy import *"
      ],
      "execution_count": 0,
      "outputs": []
    },
    {
      "cell_type": "markdown",
      "metadata": {
        "id": "on7ZcfTGQqSO",
        "colab_type": "text"
      },
      "source": [
        "ここでは、NumPyモジュールからすべての基本機能（*が意味するもの）を取得するようPythonに依頼しています。より印象的な計算ができるようになりました：\n",
        "$$ e^{2.34} \\\\  \\sqrt{5} \\\\ sin(5\\pi)/5\\pi \\\\ \\pi $$\n"
      ]
    },
    {
      "cell_type": "code",
      "metadata": {
        "id": "Yow9T90qQqSO",
        "colab_type": "code",
        "outputId": "88762dc5-ca52-462e-f80e-b44427d8380c",
        "colab": {
          "base_uri": "https://localhost:8080/",
          "height": 34
        }
      },
      "source": [
        "exp(2.34)"
      ],
      "execution_count": 8,
      "outputs": [
        {
          "output_type": "execute_result",
          "data": {
            "text/plain": [
              "10.381236562731843"
            ]
          },
          "metadata": {
            "tags": []
          },
          "execution_count": 8
        }
      ]
    },
    {
      "cell_type": "code",
      "metadata": {
        "id": "eibZI0JvQqSQ",
        "colab_type": "code",
        "outputId": "3372a766-4583-4ee0-a2ab-239640563e61",
        "colab": {
          "base_uri": "https://localhost:8080/",
          "height": 34
        }
      },
      "source": [
        "sqrt(5)"
      ],
      "execution_count": 10,
      "outputs": [
        {
          "output_type": "execute_result",
          "data": {
            "text/plain": [
              "2.23606797749979"
            ]
          },
          "metadata": {
            "tags": []
          },
          "execution_count": 10
        }
      ]
    },
    {
      "cell_type": "code",
      "metadata": {
        "id": "goPwfylQQqST",
        "colab_type": "code",
        "outputId": "b81dfbc2-9f4c-47ab-ffca-a615237ca734",
        "colab": {
          "base_uri": "https://localhost:8080/",
          "height": 34
        }
      },
      "source": [
        "sinc(0.5)"
      ],
      "execution_count": 11,
      "outputs": [
        {
          "output_type": "execute_result",
          "data": {
            "text/plain": [
              "0.6366197723675814"
            ]
          },
          "metadata": {
            "tags": []
          },
          "execution_count": 11
        }
      ]
    },
    {
      "cell_type": "code",
      "metadata": {
        "id": "vNXNPze7usxL",
        "colab_type": "code",
        "colab": {
          "base_uri": "https://localhost:8080/",
          "height": 34
        },
        "outputId": "56f4aa27-586b-4562-c4b6-ab8bba35a508"
      },
      "source": [
        "pi"
      ],
      "execution_count": 9,
      "outputs": [
        {
          "output_type": "execute_result",
          "data": {
            "text/plain": [
              "3.141592653589793"
            ]
          },
          "metadata": {
            "tags": []
          },
          "execution_count": 9
        }
      ]
    },
    {
      "cell_type": "markdown",
      "metadata": {
        "id": "eLtwdCQAQqSV",
        "colab_type": "text"
      },
      "source": [
        "##Variables ：変数"
      ]
    },
    {
      "cell_type": "markdown",
      "metadata": {
        "id": "MiMKhon7QqSV",
        "colab_type": "text"
      },
      "source": [
        "\n",
        "計算の数値と結果を保存できるようにするには、「=」記号を使用して変数を定義する必要があります。"
      ]
    },
    {
      "cell_type": "code",
      "metadata": {
        "id": "96AxBj1BQqSW",
        "colab_type": "code",
        "outputId": "c757c70e-5a75-4a87-b086-e5ba4d4dc06b",
        "colab": {
          "base_uri": "https://localhost:8080/",
          "height": 34
        }
      },
      "source": [
        "radius=5\n",
        "area=pi*radius**2\n",
        "area"
      ],
      "execution_count": 13,
      "outputs": [
        {
          "output_type": "execute_result",
          "data": {
            "text/plain": [
              "78.53981633974483"
            ]
          },
          "metadata": {
            "tags": []
          },
          "execution_count": 13
        }
      ]
    },
    {
      "cell_type": "markdown",
      "metadata": {
        "id": "KTk6T39KQqSY",
        "colab_type": "text"
      },
      "source": [
        "変数名は　```=```　記号の左側で定義され、その値は右側で定義されています。ここでは、NumPyによって事前定義されている　```pi```　変数も使用しました。その後、変数を他の式で使用できます。\n",
        "\n",
        "定義済みの変数が　 ```=```　の左側で再び使用される場合、元の値が置き換えられます。"
      ]
    },
    {
      "cell_type": "code",
      "metadata": {
        "id": "TCWxJWhhQqSZ",
        "colab_type": "code",
        "outputId": "d3495d14-6651-4512-a035-3b3d5a020e50",
        "colab": {
          "base_uri": "https://localhost:8080/",
          "height": 34
        }
      },
      "source": [
        "x=10\n",
        "x=(x**2+25)/10\n",
        "x"
      ],
      "execution_count": 14,
      "outputs": [
        {
          "output_type": "execute_result",
          "data": {
            "text/plain": [
              "12.5"
            ]
          },
          "metadata": {
            "tags": []
          },
          "execution_count": 14
        }
      ]
    },
    {
      "cell_type": "markdown",
      "metadata": {
        "id": "M12ST9C4QqSc",
        "colab_type": "text"
      },
      "source": [
        "これは数学の方程式とは異なります $10x=x^{2}+25$ の方程式だと この解は $x=5$.  \n",
        "したがって、コンピュータープログラムの 　```=```　記号は、数学的に同じではないことに注意してください。"
      ]
    },
    {
      "cell_type": "markdown",
      "metadata": {
        "id": "x-aLy3zkQqSd",
        "colab_type": "text"
      },
      "source": [
        "\n",
        "最初に定義せずに変数を使用しようとするとどうなりますか？試してみよう："
      ]
    },
    {
      "cell_type": "code",
      "metadata": {
        "id": "91MsxBtHQqSd",
        "colab_type": "code",
        "outputId": "12a95f80-64bf-4bd5-d5df-aa29f6859a72",
        "colab": {
          "base_uri": "https://localhost:8080/",
          "height": 171
        }
      },
      "source": [
        "weight"
      ],
      "execution_count": 15,
      "outputs": [
        {
          "output_type": "error",
          "ename": "NameError",
          "evalue": "ignored",
          "traceback": [
            "\u001b[0;31m---------------------------------------------------------------------------\u001b[0m",
            "\u001b[0;31mNameError\u001b[0m                                 Traceback (most recent call last)",
            "\u001b[0;32m<ipython-input-15-2779763037a2>\u001b[0m in \u001b[0;36m<module>\u001b[0;34m()\u001b[0m\n\u001b[0;32m----> 1\u001b[0;31m \u001b[0mweight\u001b[0m\u001b[0;34m\u001b[0m\u001b[0;34m\u001b[0m\u001b[0m\n\u001b[0m",
            "\u001b[0;31mNameError\u001b[0m: name 'weight' is not defined"
          ]
        }
      ]
    },
    {
      "cell_type": "markdown",
      "metadata": {
        "id": "fWn2yAoKQqSg",
        "colab_type": "text"
      },
      "source": [
        "Pythonでは、「weight」が定義されていないというエラーが表示されます。さらに、Python言語で予約されており、変数として使用できない単語がいくつかあります。\n",
        "\n",
        "    and, as, assert, break, class, continue, def, del, elif, else, except, \n",
        "    exec, finally, for, from, global, if, import, in, is, lambda, not, or,\n",
        "    pass, print, raise, return, try, while, with, yield\n",
        "    \n",
        "上記の予約語以外の変数は、英字とアンダースコア文字 \"$\\_$\" で始まり、その前に英数字と\"$\\_$\" の任意の組み合わせが続くものであれば何でもかまいません。大文字または小文字を使用すると、2つの異なる変数が得られることに注意してください。"
      ]
    },
    {
      "cell_type": "code",
      "metadata": {
        "id": "oIJP2uJTQqSh",
        "colab_type": "code",
        "outputId": "77031781-8b58-46b5-edfd-af51008dc5e2",
        "colab": {
          "base_uri": "https://localhost:8080/",
          "height": 34
        }
      },
      "source": [
        "_freq = 8\n",
        "Oscillator_Energy = 10\n",
        "_freq*Oscillator_Energy"
      ],
      "execution_count": 16,
      "outputs": [
        {
          "output_type": "execute_result",
          "data": {
            "text/plain": [
              "80"
            ]
          },
          "metadata": {
            "tags": []
          },
          "execution_count": 16
        }
      ]
    },
    {
      "cell_type": "markdown",
      "metadata": {
        "id": "zN8L-WjMQqSl",
        "colab_type": "text"
      },
      "source": [
        "###変数 Variables　のルール"
      ]
    },
    {
      "cell_type": "markdown",
      "metadata": {
        "id": "u_zuV6AXQqSm",
        "colab_type": "text"
      },
      "source": [
        "Pythonで変数を定義する方法は多数ありますが、変数をすべて同じ方法で定義することをお勧めします。このクラスでは、すべての変数が小文字のみを使用します。\n"
      ]
    },
    {
      "cell_type": "code",
      "metadata": {
        "id": "KEm_-j-fQqSm",
        "colab_type": "code",
        "colab": {}
      },
      "source": [
        "speed_of_light = 2.9979*10**8\n",
        "spring_constant = sqrt(2/5)"
      ],
      "execution_count": 0,
      "outputs": []
    },
    {
      "cell_type": "markdown",
      "metadata": {
        "id": "CoGkTxthQqSo",
        "colab_type": "text"
      },
      "source": [
        "また、変数が表す物理量に対応する変数名を使用することをお勧めします。"
      ]
    },
    {
      "cell_type": "markdown",
      "metadata": {
        "id": "Os8UZqiqQqSp",
        "colab_type": "text"
      },
      "source": [
        "##Strings：文字列"
      ]
    },
    {
      "cell_type": "markdown",
      "metadata": {
        "id": "HIIV0-x5QqSq",
        "colab_type": "text"
      },
      "source": [
        "多くの場合、変数とともにテキストを印刷したり、ユーザーに入力を求めたり、単語や文字自体を変数として実際に使用したい場合があります（例：DNA分析）。これらはすべて**文字列**を使用して実現できます。このクラスにはすでに1つの文字列があります。"
      ]
    },
    {
      "cell_type": "code",
      "metadata": {
        "id": "3yObzzSBQqSq",
        "colab_type": "code",
        "outputId": "195c1a5e-59e2-4a63-e079-5a8f194c919e",
        "colab": {
          "base_uri": "https://localhost:8080/",
          "height": 34
        }
      },
      "source": [
        "'Hello Class'"
      ],
      "execution_count": 0,
      "outputs": [
        {
          "output_type": "execute_result",
          "data": {
            "text/plain": [
              "'Hello Class'"
            ]
          },
          "metadata": {
            "tags": []
          },
          "execution_count": 19
        }
      ]
    },
    {
      "cell_type": "markdown",
      "metadata": {
        "id": "MIhVXy9RQqSs",
        "colab_type": "text"
      },
      "source": [
        "double quotes　を使っても同じです"
      ]
    },
    {
      "cell_type": "code",
      "metadata": {
        "id": "7cpZ6qnyQqSs",
        "colab_type": "code",
        "outputId": "a14bd4fa-b99d-4cb5-8f4f-5926563d8c23",
        "colab": {
          "base_uri": "https://localhost:8080/",
          "height": 34
        }
      },
      "source": [
        "\"Hello Class\""
      ],
      "execution_count": 0,
      "outputs": [
        {
          "output_type": "execute_result",
          "data": {
            "text/plain": [
              "'Hello Class'"
            ]
          },
          "metadata": {
            "tags": []
          },
          "execution_count": 20
        }
      ]
    },
    {
      "cell_type": "markdown",
      "metadata": {
        "id": "bVhm0DB6QqSu",
        "colab_type": "text"
      },
      "source": [
        "文字列自体に引用符記号を使用する場合は、2つのタイプを混在させる必要があります"
      ]
    },
    {
      "cell_type": "code",
      "metadata": {
        "id": "xUTZo2TfQqSv",
        "colab_type": "code",
        "outputId": "28e15d9f-6a3f-4d10-94ec-7333a242e402",
        "colab": {
          "base_uri": "https://localhost:8080/",
          "height": 34
        }
      },
      "source": [
        "\"How was Hwajung's birthday party?\""
      ],
      "execution_count": 0,
      "outputs": [
        {
          "output_type": "execute_result",
          "data": {
            "text/plain": [
              "\"How was Hwajung's birthday party?\""
            ]
          },
          "metadata": {
            "tags": []
          },
          "execution_count": 21
        }
      ]
    },
    {
      "cell_type": "markdown",
      "metadata": {
        "id": "jV2iw5FCQqSw",
        "colab_type": "text"
      },
      "source": [
        "整数と倍精度で行ったように、変数に文字列を割り当てることができ、2つの文字列を追加することもできます。"
      ]
    },
    {
      "cell_type": "code",
      "metadata": {
        "id": "cxYP4tYaQqSx",
        "colab_type": "code",
        "outputId": "2a94431a-0c8d-424c-c66c-b1365aaae393",
        "colab": {
          "base_uri": "https://localhost:8080/",
          "height": 34
        }
      },
      "source": [
        "a = \"I like \" # この文字列の末尾に空白スペースがあります。\n",
        "b = \"chicken and HOF\"\n",
        "a+b"
      ],
      "execution_count": 0,
      "outputs": [
        {
          "output_type": "execute_result",
          "data": {
            "text/plain": [
              "'I like chicken and HOF'"
            ]
          },
          "metadata": {
            "tags": []
          },
          "execution_count": 22
        }
      ]
    },
    {
      "cell_type": "markdown",
      "metadata": {
        "id": "_jolsrQ3QqS0",
        "colab_type": "text"
      },
      "source": [
        "変数「a」の文字列の末尾の空白スペースは、「like」と「chicken」の間にスペースを提供します。"
      ]
    },
    {
      "cell_type": "markdown",
      "metadata": {
        "id": "AdgqwKPVQqS1",
        "colab_type": "text"
      },
      "source": [
        "文字列と整数または小数点を含むものを一緒に出力したい場合、組み込みの ```print```関数を使用してこれを実現できます。"
      ]
    },
    {
      "cell_type": "code",
      "metadata": {
        "id": "r6QpmwYvQqS2",
        "colab_type": "code",
        "outputId": "ac55a068-72f2-4b0a-bcca-5814e404f7b2",
        "colab": {
          "base_uri": "https://localhost:8080/",
          "height": 34
        }
      },
      "source": [
        "temp=23\n",
        "text=\"The temperature right now is\"\n",
        "print(text,temp)"
      ],
      "execution_count": 0,
      "outputs": [
        {
          "output_type": "stream",
          "text": [
            "The temperature right now is 23\n"
          ],
          "name": "stdout"
        }
      ]
    },
    {
      "cell_type": "markdown",
      "metadata": {
        "id": "Gw8mw8mEQqS4",
        "colab_type": "text"
      },
      "source": [
        "print関数が2つの入力引数の間にスペースを自動的に配置する方法に注目してください。 ```print```関数は任意の数の文字列、整数、ダブル、または他の変数を自動的に取り、それらを文字列に変換してからユーザーに表示します。"
      ]
    },
    {
      "cell_type": "markdown",
      "metadata": {
        "id": "B9ZoRH03QqS4",
        "colab_type": "text"
      },
      "source": [
        "##Lists：リスト（配列）"
      ]
    },
    {
      "cell_type": "markdown",
      "metadata": {
        "id": "rZ2hfZCaQqS5",
        "colab_type": "text"
      },
      "source": [
        "多くの場合、多くの変数を1つのオブジェクトにグループ化します。 Pythonでは、これはリストデータ型変数を使用して実現されます。"
      ]
    },
    {
      "cell_type": "code",
      "metadata": {
        "id": "ptyz9RmSQqS5",
        "colab_type": "code",
        "colab": {}
      },
      "source": [
        "shopping_list=['eggs', 'bread', 'milk', 'bananas']"
      ],
      "execution_count": 0,
      "outputs": []
    },
    {
      "cell_type": "markdown",
      "metadata": {
        "id": "M0ojyrkMQqS8",
        "colab_type": "text"
      },
      "source": [
        "リスト内の単一の変数にアクセスする場合は、角括弧内の変数に対応する**インデックス**を使用する必要があります。"
      ]
    },
    {
      "cell_type": "code",
      "metadata": {
        "id": "9fJBvZ6LQqS8",
        "colab_type": "code",
        "outputId": "0e3b1a2b-b591-4cc6-fd68-13cd46ca2aef",
        "colab": {
          "base_uri": "https://localhost:8080/",
          "height": 34
        }
      },
      "source": [
        "shopping_list[2]"
      ],
      "execution_count": 19,
      "outputs": [
        {
          "output_type": "execute_result",
          "data": {
            "text/plain": [
              "'milk'"
            ]
          },
          "metadata": {
            "tags": []
          },
          "execution_count": 19
        }
      ]
    },
    {
      "cell_type": "markdown",
      "metadata": {
        "id": "40ERju2HQqS-",
        "colab_type": "text"
      },
      "source": [
        "「milk」文字列は、インデックス番号$ 2 $を使用してアクセスできることがわかります。ただし、この変数は実際にはリストの3番目の文字列であることがわかります。この矛盾は、Python（Cコードなど）がリスト内の最初の要素、または他の多変数データ構造をインデックス$ 0 $にあると見なすためです。"
      ]
    },
    {
      "cell_type": "code",
      "metadata": {
        "id": "mm1U3DfhQqS-",
        "colab_type": "code",
        "outputId": "62faa65d-4018-40eb-b144-207c68294fa7",
        "colab": {
          "base_uri": "https://localhost:8080/",
          "height": 34
        }
      },
      "source": [
        "shopping_list[0]"
      ],
      "execution_count": 20,
      "outputs": [
        {
          "output_type": "execute_result",
          "data": {
            "text/plain": [
              "'eggs'"
            ]
          },
          "metadata": {
            "tags": []
          },
          "execution_count": 20
        }
      ]
    },
    {
      "cell_type": "markdown",
      "metadata": {
        "id": "SuIbVs_NQqTA",
        "colab_type": "text"
      },
      "source": [
        "これは覚えておくことが重要であり、自然になる前に慣れる必要があります。リストの要素に後ろから前にアクセスしたい場合、負のインデックスを使用できます"
      ]
    },
    {
      "cell_type": "code",
      "metadata": {
        "id": "FDWj193MQqTB",
        "colab_type": "code",
        "outputId": "54ddc3e4-45df-4bc5-c30a-81673c729c7f",
        "colab": {
          "base_uri": "https://localhost:8080/",
          "height": 34
        }
      },
      "source": [
        "shopping_list[-1]"
      ],
      "execution_count": 21,
      "outputs": [
        {
          "output_type": "execute_result",
          "data": {
            "text/plain": [
              "'bananas'"
            ]
          },
          "metadata": {
            "tags": []
          },
          "execution_count": 21
        }
      ]
    },
    {
      "cell_type": "code",
      "metadata": {
        "id": "IRk3m4dpQqTD",
        "colab_type": "code",
        "outputId": "e46190ff-7eca-435a-a06c-51abb114bc2d",
        "colab": {
          "base_uri": "https://localhost:8080/",
          "height": 34
        }
      },
      "source": [
        "shopping_list[-2]"
      ],
      "execution_count": 22,
      "outputs": [
        {
          "output_type": "execute_result",
          "data": {
            "text/plain": [
              "'milk'"
            ]
          },
          "metadata": {
            "tags": []
          },
          "execution_count": 22
        }
      ]
    },
    {
      "cell_type": "markdown",
      "metadata": {
        "id": "_ch-E51uQqTF",
        "colab_type": "text"
      },
      "source": [
        "リスト変数が与えられ、リスト内にいくつの要素があるかを知りたい場合、リストの長さを与える整数を返す ```len```関数を使用できます。"
      ]
    },
    {
      "cell_type": "code",
      "metadata": {
        "id": "6QJx7_7CQqTF",
        "colab_type": "code",
        "outputId": "c3304b7e-e83d-41ea-c4ad-f82fd002ebea",
        "colab": {
          "base_uri": "https://localhost:8080/",
          "height": 34
        }
      },
      "source": [
        "len(shopping_list)"
      ],
      "execution_count": 23,
      "outputs": [
        {
          "output_type": "execute_result",
          "data": {
            "text/plain": [
              "4"
            ]
          },
          "metadata": {
            "tags": []
          },
          "execution_count": 23
        }
      ]
    },
    {
      "cell_type": "markdown",
      "metadata": {
        "id": "WUB9UGaIQqTH",
        "colab_type": "text"
      },
      "source": [
        "要素を追加または削除してリストの長さを変更したい場合は、それぞれ ```append```および``` remove```を使用できます。"
      ]
    },
    {
      "cell_type": "code",
      "metadata": {
        "id": "rmQLRQnSQqTH",
        "colab_type": "code",
        "outputId": "5378dd66-b42f-4616-b9fb-573bd1a4d495",
        "colab": {}
      },
      "source": [
        "shopping_list.append('apples')\n",
        "shopping_list"
      ],
      "execution_count": 0,
      "outputs": [
        {
          "output_type": "execute_result",
          "data": {},
          "metadata": {
            "tags": []
          },
          "execution_count": 32
        }
      ]
    },
    {
      "cell_type": "code",
      "metadata": {
        "id": "jo2Y33q8QqTK",
        "colab_type": "code",
        "outputId": "1339a0d0-5c16-481a-b166-3f12809a9561",
        "colab": {}
      },
      "source": [
        "shopping_list.remove('bread')\n",
        "shopping_list"
      ],
      "execution_count": 0,
      "outputs": [
        {
          "output_type": "execute_result",
          "data": {},
          "metadata": {
            "tags": []
          },
          "execution_count": 33
        }
      ]
    },
    {
      "cell_type": "markdown",
      "metadata": {
        "id": "561h_jm-QqTO",
        "colab_type": "text"
      },
      "source": [
        "リストは、各要素に同じタイプのデータを持つ必要がないことに注意してください！必要なデータタイプを混在させることができます。"
      ]
    },
    {
      "cell_type": "code",
      "metadata": {
        "id": "1y-12q0zQqTQ",
        "colab_type": "code",
        "outputId": "28e59e5d-fdff-4453-eb3c-bf18179d88ab",
        "colab": {}
      },
      "source": [
        "various_things=[1, \"hello\", -1.234, [-1, -2, -3]]\n",
        "various_things"
      ],
      "execution_count": 0,
      "outputs": [
        {
          "output_type": "execute_result",
          "data": {},
          "metadata": {
            "tags": []
          },
          "execution_count": 34
        }
      ]
    },
    {
      "cell_type": "markdown",
      "metadata": {
        "id": "tlrvkhgRQqTS",
        "colab_type": "text"
      },
      "source": [
        "これらの要素はすべて通常の方法でアクセスできます"
      ]
    },
    {
      "cell_type": "code",
      "metadata": {
        "id": "EIWWiJ_JQqTS",
        "colab_type": "code",
        "outputId": "9feb1aac-970b-49c3-f08f-f5d83a1c48f4",
        "colab": {}
      },
      "source": [
        "various_things[0]"
      ],
      "execution_count": 0,
      "outputs": [
        {
          "output_type": "execute_result",
          "data": {},
          "metadata": {
            "tags": []
          },
          "execution_count": 35
        }
      ]
    },
    {
      "cell_type": "code",
      "metadata": {
        "id": "MFXwJX_vQqTU",
        "colab_type": "code",
        "outputId": "e51a398e-de67-4f58-8d47-f93af9868c70",
        "colab": {}
      },
      "source": [
        "various_things[-1]"
      ],
      "execution_count": 0,
      "outputs": [
        {
          "output_type": "execute_result",
          "data": {},
          "metadata": {
            "tags": []
          },
          "execution_count": 36
        }
      ]
    },
    {
      "cell_type": "code",
      "metadata": {
        "id": "x7nP0vHLQqTV",
        "colab_type": "code",
        "outputId": "760f49d5-e766-414f-918b-f8ee18d0084e",
        "colab": {}
      },
      "source": [
        "various_things[3][1]"
      ],
      "execution_count": 0,
      "outputs": [
        {
          "output_type": "execute_result",
          "data": {},
          "metadata": {
            "tags": []
          },
          "execution_count": 37
        }
      ]
    },
    {
      "cell_type": "markdown",
      "metadata": {
        "id": "Hw2jHhs7QqTX",
        "colab_type": "text"
      },
      "source": [
        "##リストの反復処理(itelating) とPythonインデントルール"
      ]
    },
    {
      "cell_type": "markdown",
      "metadata": {
        "id": "kIuuIObqQqTY",
        "colab_type": "text"
      },
      "source": [
        "リストを使用する最も重要な理由の1つは、多くの場合、各要素に対して同じタイプの操作を一度に1つずつ行いたいためです。この方法でリストをたどることは反復と呼ばれ、forコマンドを使用してPythonで実行されます。"
      ]
    },
    {
      "cell_type": "code",
      "metadata": {
        "id": "eQBL7s9aQqTY",
        "colab_type": "code",
        "outputId": "65c0c94d-9d6c-4328-9eb8-ede2d61f9bc9",
        "colab": {}
      },
      "source": [
        "items=['four calling birds', 'three french hens', \n",
        "        'two turtle doves', 'a partridge in a pear tree']\n",
        "for thing in items:\n",
        "    print(thing)"
      ],
      "execution_count": 0,
      "outputs": [
        {
          "output_type": "stream",
          "text": [
            "four calling birds\n",
            "three french hens\n",
            "two turtle doves\n",
            "a partridge in a pear tree\n"
          ],
          "name": "stdout"
        }
      ]
    },
    {
      "cell_type": "markdown",
      "metadata": {
        "id": "OKqS9W35QqTb",
        "colab_type": "text"
      },
      "source": [
        "ここで、「thing」は、リスト「items」内の各アイテムの値を取得し、print に送信される変数です。この変数は自由に呼び出すことができます。"
      ]
    },
    {
      "cell_type": "code",
      "metadata": {
        "id": "71vi8WO4QqTb",
        "colab_type": "code",
        "outputId": "0110fcb4-fb8f-4abe-b55f-408c822735b4",
        "colab": {}
      },
      "source": [
        "for variable in items:\n",
        "    print(variable)"
      ],
      "execution_count": 0,
      "outputs": [
        {
          "output_type": "stream",
          "text": [
            "four calling birds\n",
            "three french hens\n",
            "two turtle doves\n",
            "a partridge in a pear tree\n"
          ],
          "name": "stdout"
        }
      ]
    },
    {
      "cell_type": "markdown",
      "metadata": {
        "id": "_30L1OnpQqTd",
        "colab_type": "text"
      },
      "source": [
        "次に注意すべき重要なことは、コロン「：」の後にprint ステートメントがインデントされていることです。コロンの後のこのインデントはPythonプログラミング言語で必要であり、**ブロック**と呼ばれるコードのセクションを表します。 print関数を意図していなかった場合、Pythonは私たちに怒鳴ります。"
      ]
    },
    {
      "cell_type": "code",
      "metadata": {
        "id": "QSx4f6j6QqTe",
        "colab_type": "code",
        "outputId": "c04771d7-c7e6-48ea-81f3-ce0449209f2e",
        "colab": {
          "base_uri": "https://localhost:8080/",
          "height": 136
        }
      },
      "source": [
        "for variable in items:\n",
        "print(variable)"
      ],
      "execution_count": 24,
      "outputs": [
        {
          "output_type": "error",
          "ename": "IndentationError",
          "evalue": "ignored",
          "traceback": [
            "\u001b[0;36m  File \u001b[0;32m\"<ipython-input-24-c9e73e0a9788>\"\u001b[0;36m, line \u001b[0;32m2\u001b[0m\n\u001b[0;31m    print(variable)\u001b[0m\n\u001b[0m        ^\u001b[0m\n\u001b[0;31mIndentationError\u001b[0m\u001b[0;31m:\u001b[0m expected an indented block\n"
          ]
        }
      ]
    },
    {
      "cell_type": "markdown",
      "metadata": {
        "id": "TJsRip5cQqTf",
        "colab_type": "text"
      },
      "source": [
        "ブロックは、プログラミング言語の標準的な部分であり、コンピューターコードの編成とフロー制御に使用されます。上記の例でインデントされているものはすべて、リスト内の各アイテムに対して実行されます"
      ]
    },
    {
      "cell_type": "code",
      "metadata": {
        "id": "57alSV9cQqTg",
        "colab_type": "code",
        "outputId": "042be26d-fa87-4092-c511-47340a3482bf",
        "colab": {}
      },
      "source": [
        "for variable in items:\n",
        "    print(\"My true love gave to me\", variable)"
      ],
      "execution_count": 0,
      "outputs": [
        {
          "output_type": "stream",
          "text": [
            "My true love gave to me four calling birds\n",
            "My true love gave to me three french hens\n",
            "My true love gave to me two turtle doves\n",
            "My true love gave to me a partridge in a pear tree\n"
          ],
          "name": "stdout"
        }
      ]
    },
    {
      "cell_type": "markdown",
      "metadata": {
        "id": "gMJTHY8cQqTi",
        "colab_type": "text"
      },
      "source": [
        "##Slicing Lists リスト配列の切り出し"
      ]
    },
    {
      "cell_type": "markdown",
      "metadata": {
        "id": "xlKwXEg3QqTj",
        "colab_type": "text"
      },
      "source": [
        "リストから特定の要素を取得する場合は、スライスを使用して要素に簡単にアクセスできます。スライスは、リスト、文字列、および後で説明する配列などの任意のシーケンスで使用できます。 shopping_listリストを検討してください。"
      ]
    },
    {
      "cell_type": "code",
      "metadata": {
        "id": "8v-I_IXwQqTj",
        "colab_type": "code",
        "colab": {}
      },
      "source": [
        "shopping_list=['eggs', 'bread', 'milk', 'bananas', 'apples']"
      ],
      "execution_count": 0,
      "outputs": []
    },
    {
      "cell_type": "markdown",
      "metadata": {
        "id": "dwb8Oks5QqTn",
        "colab_type": "text"
      },
      "source": [
        "最初の要素を取得するために、単一のインデックスを使用しました"
      ]
    },
    {
      "cell_type": "code",
      "metadata": {
        "id": "MbI1HmzRQqTn",
        "colab_type": "code",
        "outputId": "0e1a2b22-d386-4277-afb7-2e0ddb69d8b2",
        "colab": {}
      },
      "source": [
        "shopping_list[0]"
      ],
      "execution_count": 0,
      "outputs": [
        {
          "output_type": "execute_result",
          "data": {},
          "metadata": {
            "tags": []
          },
          "execution_count": 43
        }
      ]
    },
    {
      "cell_type": "markdown",
      "metadata": {
        "id": "hRqb_jcdQqTo",
        "colab_type": "text"
      },
      "source": [
        "ただし、リストの最初の3つの要素を取得する場合は、次のように使用できます。"
      ]
    },
    {
      "cell_type": "code",
      "metadata": {
        "id": "0ofnEAC-QqTo",
        "colab_type": "code",
        "outputId": "a4d7c2c2-08ad-4977-a886-9a4c52381b18",
        "colab": {}
      },
      "source": [
        "shopping_list[0:3]"
      ],
      "execution_count": 0,
      "outputs": [
        {
          "output_type": "execute_result",
          "data": {},
          "metadata": {
            "tags": []
          },
          "execution_count": 44
        }
      ]
    },
    {
      "cell_type": "markdown",
      "metadata": {
        "id": "ITreUqssQqTq",
        "colab_type": "text"
      },
      "source": [
        "以下を使用して、最後の2つの要素を取得することもできます。"
      ]
    },
    {
      "cell_type": "code",
      "metadata": {
        "id": "9W9Om4_qQqTr",
        "colab_type": "code",
        "outputId": "d331f4f9-1433-4f90-dfff-042c568e6fa7",
        "colab": {}
      },
      "source": [
        "shopping_list[-2:]"
      ],
      "execution_count": 0,
      "outputs": [
        {
          "output_type": "execute_result",
          "data": {},
          "metadata": {
            "tags": []
          },
          "execution_count": 45
        }
      ]
    },
    {
      "cell_type": "markdown",
      "metadata": {
        "id": "BYE6H6LPQqTt",
        "colab_type": "text"
      },
      "source": [
        "または、ステップサイズを使用することを示す3番目の引数を角かっこで使用すると、さらに複雑になり、すべての偶数要素を取得できます。"
      ]
    },
    {
      "cell_type": "code",
      "metadata": {
        "id": "c776w2MRQqTt",
        "colab_type": "code",
        "outputId": "41a879a9-d5c6-4758-bfe3-eb3ee11eeeda",
        "colab": {}
      },
      "source": [
        "shopping_list[0::2]"
      ],
      "execution_count": 0,
      "outputs": [
        {
          "output_type": "execute_result",
          "data": {},
          "metadata": {
            "tags": []
          },
          "execution_count": 46
        }
      ]
    },
    {
      "cell_type": "markdown",
      "metadata": {
        "id": "ZWKNs4gvQqTw",
        "colab_type": "text"
      },
      "source": [
        "##Conditional Statements"
      ]
    },
    {
      "cell_type": "markdown",
      "metadata": {
        "id": "RcoJSkwLQqTx",
        "colab_type": "text"
      },
      "source": [
        "たとえば、2つの異なる整数aとbが等しいかどうかを確認するにはどうすればよいですか？または、a≥bかどうかをどのように知るのですか？これは、条件ステートメントを使用して実現されます。ブール論理の基本操作は、「等しい」（==）、「等しくない」（！=）、「より大きい」（>）、「より大きいか等しい」（> =）、「より小さい」（<）です。 、および「以下」（<=）。これらの条件はすべて2つの変数で動作し、単純なブール値のTrueまたはFalseの答えを返します。例えば"
      ]
    },
    {
      "cell_type": "code",
      "metadata": {
        "id": "-LfMoCtZQqTx",
        "colab_type": "code",
        "outputId": "49d6dd39-f095-4377-c0b5-691960667797",
        "colab": {}
      },
      "source": [
        "a=5 ; b=8\n",
        "a>b"
      ],
      "execution_count": 0,
      "outputs": [
        {
          "output_type": "execute_result",
          "data": {},
          "metadata": {
            "tags": []
          },
          "execution_count": 47
        }
      ]
    },
    {
      "cell_type": "code",
      "metadata": {
        "id": "RY1-C13SQqT1",
        "colab_type": "code",
        "outputId": "3c2c10c5-edc2-4942-ed55-9f4ab5296d95",
        "colab": {}
      },
      "source": [
        "c=0\n",
        "c<=0,c>=0"
      ],
      "execution_count": 0,
      "outputs": [
        {
          "output_type": "execute_result",
          "data": {},
          "metadata": {
            "tags": []
          },
          "execution_count": 48
        }
      ]
    },
    {
      "cell_type": "code",
      "metadata": {
        "id": "q_g01C04QqT2",
        "colab_type": "code",
        "outputId": "e249e35a-72b3-4631-e6bb-9bccbeca8059",
        "colab": {}
      },
      "source": [
        "a=5;b=6\n",
        "a==b,a!=b"
      ],
      "execution_count": 0,
      "outputs": [
        {
          "output_type": "execute_result",
          "data": {},
          "metadata": {
            "tags": []
          },
          "execution_count": 49
        }
      ]
    },
    {
      "cell_type": "markdown",
      "metadata": {
        "id": "fx6OkQfTQqT4",
        "colab_type": "text"
      },
      "source": [
        "Pythonでは、 ```1```と``` 0```はそれぞれ ```True```と``` False```と同じであることに注意することが重要です。"
      ]
    },
    {
      "cell_type": "code",
      "metadata": {
        "id": "w5w-6iqyQqT4",
        "colab_type": "code",
        "outputId": "25674892-92c5-4a75-cd8a-58d93ee28d2f",
        "colab": {}
      },
      "source": [
        "True==1,False==0"
      ],
      "execution_count": 0,
      "outputs": [
        {
          "output_type": "execute_result",
          "data": {},
          "metadata": {
            "tags": []
          },
          "execution_count": 50
        }
      ]
    },
    {
      "cell_type": "markdown",
      "metadata": {
        "id": "Fv09LbBRQqT5",
        "colab_type": "text"
      },
      "source": [
        "複数の条件文を組み合わせることもできます"
      ]
    },
    {
      "cell_type": "code",
      "metadata": {
        "id": "VinG8Nt3QqT5",
        "colab_type": "code",
        "outputId": "7003019f-6a37-43f0-8a1a-add0fe7fc7bd",
        "colab": {}
      },
      "source": [
        "a=-1;b=4;c=10;d=11\n",
        "a<b<c!=d"
      ],
      "execution_count": 0,
      "outputs": [
        {
          "output_type": "execute_result",
          "data": {},
          "metadata": {
            "tags": []
          },
          "execution_count": 51
        }
      ]
    },
    {
      "cell_type": "markdown",
      "metadata": {
        "id": "xb0VukeUQqT7",
        "colab_type": "text"
      },
      "source": [
        "これらの操作は、リストと文字列でも使用できます。"
      ]
    },
    {
      "cell_type": "code",
      "metadata": {
        "id": "WN91nK8pQqT-",
        "colab_type": "code",
        "outputId": "3f532f82-8d73-41d7-a1d0-d48939b062b1",
        "colab": {}
      },
      "source": [
        "[4,5,6]>=[4,5,7]"
      ],
      "execution_count": 0,
      "outputs": [
        {
          "output_type": "execute_result",
          "data": {},
          "metadata": {
            "tags": []
          },
          "execution_count": 52
        }
      ]
    },
    {
      "cell_type": "code",
      "metadata": {
        "id": "wkjNbEpMQqUA",
        "colab_type": "code",
        "outputId": "4657ca2d-1452-49c1-8f76-32fee75f175f",
        "colab": {}
      },
      "source": [
        "[4,5,6]<=[4,5,7]"
      ],
      "execution_count": 0,
      "outputs": [
        {
          "output_type": "execute_result",
          "data": {},
          "metadata": {
            "tags": []
          },
          "execution_count": 53
        }
      ]
    },
    {
      "cell_type": "code",
      "metadata": {
        "id": "PCKU5BjsQqUB",
        "colab_type": "code",
        "outputId": "dd51b7ea-59bc-4821-fa4b-687798787f9e",
        "colab": {}
      },
      "source": [
        "'today'=='Today'"
      ],
      "execution_count": 0,
      "outputs": [
        {
          "output_type": "execute_result",
          "data": {},
          "metadata": {
            "tags": []
          },
          "execution_count": 54
        }
      ]
    },
    {
      "cell_type": "markdown",
      "metadata": {
        "id": "zXOjhrpdQqUD",
        "colab_type": "text"
      },
      "source": [
        "###Conditional Statements and Flow Control　条件分岐"
      ]
    },
    {
      "cell_type": "markdown",
      "metadata": {
        "id": "eLAvXhizQqUD",
        "colab_type": "text"
      },
      "source": [
        "これらの条件ステートメントの主な目的は、Pythonプログラムのフローを制御することです。条件ステートメントの結果は、if / elseおよびwhileステートメントを使用してプログラムを制御するために使用できます。"
      ]
    },
    {
      "cell_type": "code",
      "metadata": {
        "id": "ASq0N5aMQqUF",
        "colab_type": "code",
        "outputId": "10c41bab-7e2f-4380-a5b4-3b84f164df56",
        "colab": {
          "base_uri": "https://localhost:8080/",
          "height": 34
        }
      },
      "source": [
        "today='friday'\n",
        "if today=='friday':\n",
        "    print('We have class today :(') # this is a code block\n",
        "else:\n",
        "    print('No class today :)') # this is also a code block"
      ],
      "execution_count": 25,
      "outputs": [
        {
          "output_type": "stream",
          "text": [
            "We have class today :(\n"
          ],
          "name": "stdout"
        }
      ]
    },
    {
      "cell_type": "markdown",
      "metadata": {
        "id": "Qfx9uif5QqUG",
        "colab_type": "text"
      },
      "source": [
        "```if```ステートメントの下のコードブロックは、条件付きの``` today == 'friday'```が ```True```を返す場合にのみ実行されます。条件が ```False```の場合、``` else```ステートメント内のコードブロックが実行されます。 ```if```の後に``elif``ステートメントを使用して、複数の条件をチェックすることもできます。"
      ]
    },
    {
      "cell_type": "code",
      "metadata": {
        "id": "MQ02QGKFQqUG",
        "colab_type": "code",
        "outputId": "64f61d9a-af27-4daf-fba1-12a02a91f52f",
        "colab": {}
      },
      "source": [
        "today='thursday'\n",
        "if today=='friday':\n",
        "    print('We have class today :(')\n",
        "elif today=='thursday':\n",
        "    print('Our assignment is due today :(')\n",
        "else:\n",
        "    print('No class today :)')"
      ],
      "execution_count": 0,
      "outputs": [
        {
          "output_type": "stream",
          "text": [
            "Our assignment is due today :(\n"
          ],
          "name": "stdout"
        }
      ]
    },
    {
      "cell_type": "markdown",
      "metadata": {
        "id": "oh3xCJ0zQqUI",
        "colab_type": "text"
      },
      "source": [
        "他の重要なフロー制御式は** ```while```ループ**で、ループの先頭の条件ステートメントが``` False```になるまでコードのブロックを繰り返し実行します。"
      ]
    },
    {
      "cell_type": "code",
      "metadata": {
        "id": "dkf8YqJoQqUJ",
        "colab_type": "code",
        "outputId": "6fa6d374-10ed-429a-a53c-3cb67d92f0b1",
        "colab": {}
      },
      "source": [
        "n=0\n",
        "while n<=10: #evaluate code block until n>10\n",
        "    print('The current value of n is:',n)\n",
        "    n=n+1 #increase the value of n by 1"
      ],
      "execution_count": 0,
      "outputs": [
        {
          "output_type": "stream",
          "text": [
            "The current value of n is: 0\n",
            "The current value of n is: 1\n",
            "The current value of n is: 2\n",
            "The current value of n is: 3\n",
            "The current value of n is: 4\n",
            "The current value of n is: 5\n",
            "The current value of n is: 6\n",
            "The current value of n is: 7\n",
            "The current value of n is: 8\n",
            "The current value of n is: 9\n",
            "The current value of n is: 10\n"
          ],
          "name": "stdout"
        }
      ]
    },
    {
      "cell_type": "markdown",
      "metadata": {
        "id": "ituniAjrQqUL",
        "colab_type": "text"
      },
      "source": [
        "```while```ループを使用するときは、条件が永遠に``` True```でないことを確認する必要があります。そうしないと、プログラムは終了しない**無限ループ**になります。"
      ]
    },
    {
      "cell_type": "markdown",
      "metadata": {
        "id": "ezKgXCtFQqUL",
        "colab_type": "text"
      },
      "source": [
        "###Example: Even and Odd Numbers　偶数と奇数"
      ]
    },
    {
      "cell_type": "markdown",
      "metadata": {
        "id": "D5r2gGUUQqUM",
        "colab_type": "text"
      },
      "source": [
        "[1,10]の間の特定の数が偶数か奇数かを判断しましょう。"
      ]
    },
    {
      "cell_type": "code",
      "metadata": {
        "id": "e0SoykpaQqUM",
        "colab_type": "code",
        "outputId": "c925155c-52bb-4536-d5e8-165732cc1da5",
        "colab": {}
      },
      "source": [
        "for n in [1,2,3,4,5,6,7,8,9,10]:\n",
        "    if remainder(n,2)==0:\n",
        "        print(n,'is even')\n",
        "    else:\n",
        "        print(n,'is odd')"
      ],
      "execution_count": 0,
      "outputs": [
        {
          "output_type": "stream",
          "text": [
            "1 is odd\n",
            "2 is even\n",
            "3 is odd\n",
            "4 is even\n",
            "5 is odd\n",
            "6 is even\n",
            "7 is odd\n",
            "8 is even\n",
            "9 is odd\n",
            "10 is even\n"
          ],
          "name": "stdout"
        }
      ]
    },
    {
      "cell_type": "markdown",
      "metadata": {
        "id": "mnNvUNrjQqUP",
        "colab_type": "text"
      },
      "source": [
        "整数の長いシーケンスでリストを入力するのは非常に面倒です。幸いなことに、Pythonにはrangeという組み込み関数があり、整数のシーケンスを非常に簡単に作成できます。たとえば、上記の例は次のようになります"
      ]
    },
    {
      "cell_type": "code",
      "metadata": {
        "id": "8j1p9OYxQqUP",
        "colab_type": "code",
        "outputId": "ecfa630d-78ef-4fc4-dd22-494c7b6f95a8",
        "colab": {}
      },
      "source": [
        "for n in range(1,11):\n",
        "    if remainder(n,2)==0:\n",
        "        print(n,'is even')\n",
        "    else:\n",
        "        print(n,'is odd')"
      ],
      "execution_count": 0,
      "outputs": [
        {
          "output_type": "stream",
          "text": [
            "1 is odd\n",
            "2 is even\n",
            "3 is odd\n",
            "4 is even\n",
            "5 is odd\n",
            "6 is even\n",
            "7 is odd\n",
            "8 is even\n",
            "9 is odd\n",
            "10 is even\n"
          ],
          "name": "stdout"
        }
      ]
    },
    {
      "cell_type": "markdown",
      "metadata": {
        "id": "RL2j19SOQqUQ",
        "colab_type": "text"
      },
      "source": [
        "範囲が$ 11 $になっても範囲関数は$ 10 $にしかカウントされないことに注意してください。 ```range```を使用する場合、エンドポイントは生成されたシーケンスの*決して*部分ではありません。 ```range```関数を1つではなくゼロから開始したい場合は、単に``` range（11） ```と書くことができます。また、任意のステップで進むシーケンスを作成できます。"
      ]
    },
    {
      "cell_type": "code",
      "metadata": {
        "id": "e_uXmwJUQqUQ",
        "colab_type": "code",
        "outputId": "050e7496-c6d9-4293-957e-d7559920f6c9",
        "colab": {}
      },
      "source": [
        "for n in range(0,11,2):\n",
        "    print(n)"
      ],
      "execution_count": 0,
      "outputs": [
        {
          "output_type": "stream",
          "text": [
            "0\n",
            "2\n",
            "4\n",
            "6\n",
            "8\n",
            "10\n"
          ],
          "name": "stdout"
        }
      ]
    },
    {
      "cell_type": "markdown",
      "metadata": {
        "id": "ERz8_E7nQqUS",
        "colab_type": "text"
      },
      "source": [
        "\n",
        "```range```関数は整数のリストを返しませんが、**ジェネレータ**と呼ばれるものです。一般的に、 ```range```関数は``` for```コマンドと組み合わせてのみ使用すべきです。"
      ]
    },
    {
      "cell_type": "markdown",
      "metadata": {
        "id": "6xtsNuFdQqUS",
        "colab_type": "text"
      },
      "source": [
        "###Example: Fibonacci Sequence"
      ]
    },
    {
      "cell_type": "markdown",
      "metadata": {
        "id": "tRDstIsvQqUT",
        "colab_type": "text"
      },
      "source": [
        "Let us follow the Python documentation and calculate the first ten numbers in the Fibonacci sequence:"
      ]
    },
    {
      "cell_type": "code",
      "metadata": {
        "id": "pIMF6awWQqUT",
        "colab_type": "code",
        "outputId": "00c7d326-4e48-46ca-b915-1be80b09b1bd",
        "colab": {}
      },
      "source": [
        "n = 10\n",
        "fib = [0,1]\n",
        "for i in range(2,n):\n",
        "    fib.append(fib[i-1]+fib[i-2])\n",
        "print(fib)"
      ],
      "execution_count": 0,
      "outputs": [
        {
          "output_type": "stream",
          "text": [
            "[0, 1, 1, 2, 3, 5, 8, 13, 21, 34]\n"
          ],
          "name": "stdout"
        }
      ]
    },
    {
      "cell_type": "markdown",
      "metadata": {
        "id": "YJKSQoZQQqUW",
        "colab_type": "text"
      },
      "source": [
        "We can also write this using a ```while``` loop if we wanted to."
      ]
    },
    {
      "cell_type": "code",
      "metadata": {
        "id": "JQ-c1NgnQqUW",
        "colab_type": "code",
        "outputId": "a9e664d9-9231-477c-e994-9156c185d396",
        "colab": {}
      },
      "source": [
        "n = 2\n",
        "fib = [0,1]\n",
        "while n<10:\n",
        "    fib.append(fib[n-1]+fib[n-2])\n",
        "    n = n+1\n",
        "print(fib)"
      ],
      "execution_count": 0,
      "outputs": [
        {
          "output_type": "stream",
          "text": [
            "[0, 1, 1, 2, 3, 5, 8, 13, 21, 34]\n"
          ],
          "name": "stdout"
        }
      ]
    },
    {
      "cell_type": "markdown",
      "metadata": {
        "id": "-IZVQ2F6QqUY",
        "colab_type": "text"
      },
      "source": [
        "##Writing Scripts and Functions"
      ]
    },
    {
      "cell_type": "markdown",
      "metadata": {
        "id": "xctSL23cQqUY",
        "colab_type": "text"
      },
      "source": [
        "これまで小さなコードスニペットを実行してきましたが、実際のプログラミングは実際には行っていません。 Pythonはスクリプト言語であることを思い出してください。したがって、ほとんどの場合、さまざまな複雑なタスクを実行する定数、変数、データ構造、関数、コメントなどのコレクションを含む**スクリプト**を作成します。"
      ]
    },
    {
      "cell_type": "markdown",
      "metadata": {
        "id": "OhXoFPRGQqUY",
        "colab_type": "text"
      },
      "source": [
        "### Scripts"
      ]
    },
    {
      "cell_type": "markdown",
      "metadata": {
        "id": "nPOV9ec1QqUY",
        "colab_type": "text"
      },
      "source": [
        "Pythonスクリプトファイルは、拡張子が.pyで終わるPythonコードを含むテキストファイルに他なりません。 Pythonスクリプトは、Pythonプログラムとも呼ばれます。エディターを開くと、Pythonコマンドを入力できる空のウィンドウが表示されます。"
      ]
    },
    {
      "cell_type": "markdown",
      "metadata": {
        "id": "fYP3xmYKQqUZ",
        "colab_type": "text"
      },
      "source": [
        "スクリプトの記述を始める前に、スクリプトを記述するための最適な形式について最初に説明しましょう。"
      ]
    },
    {
      "cell_type": "code",
      "metadata": {
        "id": "vWlAMk1gQqUZ",
        "colab_type": "code",
        "outputId": "503ee141-388a-4a36-b059-91578c84af96",
        "colab": {}
      },
      "source": [
        "# This is an example script for the P461 class\n",
        "# Here we will calculate the series expansion\n",
        "# for sin(x) up to an arbitrary order N.\n",
        "#\n",
        "# Paul Nation, 02/03/2014\n",
        "\n",
        "from numpy import *\n",
        "from scipy.misc import factorial\n",
        "\n",
        "N = 5        # The order of the series expansion\n",
        "x = pi/4.    # The point at which we want to evaluate sine\n",
        "\n",
        "ans = 0.0\n",
        "for k in range(N+1):\n",
        "    ans = ans+(-1)**k*x**(1+2*k)/factorial(1+2*k)\n",
        "print(\"Series approximation:\",ans)\n",
        "print(\"Error:\",sin(x)-ans)"
      ],
      "execution_count": 0,
      "outputs": [
        {
          "output_type": "stream",
          "text": [
            "Series approximation: 0.70710678118\n",
            "Error: 6.92801371827e-12\n"
          ],
          "name": "stdout"
        }
      ]
    },
    {
      "cell_type": "markdown",
      "metadata": {
        "id": "3kFdTUgzQqUa",
        "colab_type": "text"
      },
      "source": [
        "スクリプトには4つの主要な部分があることがわかります。まず、スクリプトの機能と作成日時を説明するコメントのセクションがあります。 Pythonでは、すべてのコメントは＃記号で始まります。この記号の後のすべてはコンピューターによって無視されます。次に、他のパッケージから必要な機能をロードするスクリプトのセクションがあります。 3番目は、スクリプトで使用されるすべての定数を定義するセクションです。定数とは何かを説明するコメントもここに追加する必要があります。最後に、コードの本体はこれらのセクションの後に続きます。"
      ]
    },
    {
      "cell_type": "markdown",
      "metadata": {
        "id": "8Ebi-t4KQqUb",
        "colab_type": "text"
      },
      "source": [
        "###Functions"
      ]
    },
    {
      "cell_type": "markdown",
      "metadata": {
        "id": "17X-6znMQqUb",
        "colab_type": "text"
      },
      "source": [
        "プログラミング言語**関数**の最も重要な部分の1つを見ることができました。関数は、特定のタスクを実行するコードのブロックです。通常、関数は「入力引数」を取り、これらの入力に対して操作を実行してから、1つ以上の結果を「返します」。関数は繰り返し使用でき、他の関数の内部から「呼び出す」こともできます。関数を使用して$ sin（x）$のスクリプトを書き直し、各部分を説明しましょう。"
      ]
    },
    {
      "cell_type": "code",
      "metadata": {
        "id": "qmlqsUR_QqUb",
        "colab_type": "code",
        "outputId": "f93c7422-0d1f-43b4-a303-8e05cae4155d",
        "colab": {}
      },
      "source": [
        "from numpy import *\n",
        "from scipy.misc import factorial\n",
        "\n",
        "N=5        # The order of the series expansion\n",
        "x=pi/4.    # The point at which we want to evaluate sine\n",
        "\n",
        "def sine_series(x,N):\n",
        "    ans=0.0\n",
        "    for k in range(N+1):\n",
        "        ans=ans+(-1)**k*x**(1+2*k)/factorial(1+2*k)\n",
        "    return ans\n",
        "\n",
        "result = sine_series(x,N)\n",
        "print(\"Series approximation:\",result)\n",
        "print(\"Error:\",sin(x)-result)"
      ],
      "execution_count": 0,
      "outputs": [
        {
          "output_type": "stream",
          "text": [
            "Series approximation: 0.70710678118\n",
            "Error: 6.92801371827e-12\n"
          ],
          "name": "stdout"
        }
      ]
    },
    {
      "cell_type": "markdown",
      "metadata": {
        "id": "fgjqa8AXQqUd",
        "colab_type": "text"
      },
      "source": [
        "関数は、短い「定義」であるキーワード ```def```を使用して作成され、関数の名前の後に括弧で囲まれた入力引数が続くことがわかります。関数によって呼び出されるコードのブロックの後、 ```return```キーワードは、出力として与えられる変数やデータ構造を指定します。したがって、一般的な関数呼び出しは"
      ]
    },
    {
      "cell_type": "code",
      "metadata": {
        "id": "MYO0_-p5QqUe",
        "colab_type": "code",
        "colab": {}
      },
      "source": [
        "def function_name(arg1,arg2):\n",
        "    \"Block of code to run\"\n",
        "    \"...\"\n",
        "    return result"
      ],
      "execution_count": 0,
      "outputs": []
    },
    {
      "cell_type": "markdown",
      "metadata": {
        "id": "owgVmKBKQqUf",
        "colab_type": "text"
      },
      "source": [
        "繰り返しますが、関数内のコロン（:)の後はすべてインデントする必要があります。関数を使用する利点は、Pythonスクリプトの上部近くの定数を変更するだけで、同じコードを何度も使用できることです。\n",
        "\n",
        "関数内で定義される変数は**ローカル変数**と呼ばれ、関数内のコードブロックに対してのみ定義されます。前の例では、 ```k```はローカル変数でした。入力引数と戻り引数は、ローカル変数ではありません。関数の実行が完了すると、ローカル変数はメモリから消去されます。したがって、関数から何かを取得したい場合は、完了時に値を返す必要があります。"
      ]
    },
    {
      "cell_type": "markdown",
      "metadata": {
        "id": "nnH94bghQqUf",
        "colab_type": "text"
      },
      "source": [
        "関数の最後に複数のものを返したい場合は、異なる項目をコンマで区切るだけです。"
      ]
    },
    {
      "cell_type": "code",
      "metadata": {
        "id": "0XtEaq_lQqUf",
        "colab_type": "code",
        "outputId": "bb1cadc2-c069-41d4-8d62-0014f42a75e7",
        "colab": {}
      },
      "source": [
        "from numpy.random import random\n",
        "from pylab import *\n",
        "\n",
        "N=100 # Number of points to generate\n",
        "\n",
        "def random_coordinates(N):\n",
        "    x_coords=[]\n",
        "    y_coords=[]\n",
        "    for n in range(N):\n",
        "        xnew,ynew=random(2)\n",
        "        x_coords.append(xnew)\n",
        "        y_coords.append(ynew)\n",
        "    return x_coords,y_coords\n",
        "\n",
        "xc,yc=random_coordinates(N)\n",
        "plot(xc,yc,'ro',markersize=8)\n",
        "show()"
      ],
      "execution_count": 0,
      "outputs": [
        {
          "output_type": "display_data",
          "data": {},
          "metadata": {
            "tags": []
          }
        }
      ]
    },
    {
      "cell_type": "code",
      "metadata": {
        "id": "mukVYjMAQqUg",
        "colab_type": "code",
        "outputId": "803cdcf5-b323-4aa5-c00b-76efc0310ff8",
        "colab": {}
      },
      "source": [
        "from numpy.random import random\n",
        "from pylab import *\n",
        "\n",
        "N = 20 # Number of points to generate\n",
        "\n",
        "def random_coordinates(N):\n",
        "    x_coords = []\n",
        "    y_coords = []\n",
        "    for n in range(N):\n",
        "        xnew,ynew = random(2)\n",
        "        x_coords.append(xnew)\n",
        "        y_coords.append(ynew)\n",
        "    return x_coords,y_coords\n",
        "\n",
        "def dist2d(x1,y1,x2,y2):\n",
        "    return sqrt((x1-x2)**2+(y1-y2)**2)\n",
        "\n",
        "def max_dist(xc,yc):\n",
        "    max_dist = 0.0\n",
        "    num_points = len(xc)\n",
        "    for ii in range(num_points):\n",
        "        for jj in range(num_points):\n",
        "            dist = dist2d(xc[ii],yc[ii],xc[jj],yc[jj])\n",
        "            if dist > max_dist:\n",
        "                max_dist = dist\n",
        "                xvals = [xc[ii],xc[jj]]\n",
        "                yvals = [yc[ii],yc[jj]]\n",
        "    return max_dist, xvals, yvals\n",
        "\n",
        "xc,yc = random_coordinates(N)\n",
        "max_dist,pnt1,pnt2 = max_dist(xc,yc)\n",
        "plot(xc,yc,'ro',markersize=8)\n",
        "plot(pnt1,pnt2,'b-',lw=2)\n",
        "show()"
      ],
      "execution_count": 0,
      "outputs": [
        {
          "output_type": "display_data",
          "data": {},
          "metadata": {
            "tags": []
          }
        }
      ]
    },
    {
      "cell_type": "markdown",
      "metadata": {
        "id": "tu_qGVVMQqUh",
        "colab_type": "text"
      },
      "source": [
        "明らかにこの最後の例はより複雑で、特に、どのような機能を理解するのは難しいです。独自の関数であっても、スクリプトでドキュメントとコメントを提供しない限り、関数の動作を忘れることがよくあります。ここでは、max_dist関数を見て、Pythonで関数を適切に文書化する方法を説明します。"
      ]
    },
    {
      "cell_type": "code",
      "metadata": {
        "id": "RmAthMMoQqUh",
        "colab_type": "code",
        "colab": {}
      },
      "source": [
        "def max_dist(xc,yc):\n",
        "    \"\"\"\n",
        "    Finds the maximum distance between any two points\n",
        "    in a collection of 2D points.  The points corresponding \n",
        "    to this distance are also returned.\n",
        "    \n",
        "    Parameters\n",
        "    ----------\n",
        "    xc : list\n",
        "        List of x-coordinates\n",
        "    yc : list\n",
        "        List of y-coordinates\n",
        "    \n",
        "    Returns\n",
        "    -------\n",
        "    max_dist : float\n",
        "        Maximum distance\n",
        "    xvals : list\n",
        "        x-coodinates of two points\n",
        "    yvals : list\n",
        "        y-coordinates of two points\n",
        "    \n",
        "    \"\"\"\n",
        "    max_dist=0.0       #initialize max_dist\n",
        "    num_points=len(xc) #number of points in collection\n",
        "    for ii in range(num_points):\n",
        "        for jj in range(num_points):\n",
        "            dist=dist2d(xc[ii],yc[ii],xc[jj],yc[jj])\n",
        "            if dist>max_dist:\n",
        "                max_dist=dist\n",
        "                xvals=[xc[ii],xc[jj]]\n",
        "                yvals=[yc[ii],yc[jj]]\n",
        "    return max_dist, xvals, yvals"
      ],
      "execution_count": 0,
      "outputs": []
    },
    {
      "cell_type": "markdown",
      "metadata": {
        "id": "BoQER-xRQqUj",
        "colab_type": "text"
      },
      "source": [
        "```\"\"\" ... \"\"\"`''の間にあるすべてのものは**docstring**と呼ばれ、特定の関数に精通していい人にその関数が何をするかについて詳細な説明を与えます。入力として受け取るパラメーター、および返す値。また、ローカル変数の隣にコメントを入れて、ユーザーがこれらのそれぞれの目的を理解できるようにすることもお勧めします。最初は多くの作業のように思えますが、docstringを作成することで、将来、より優れたプログラマーになるでしょう。"
      ]
    },
    {
      "cell_type": "markdown",
      "metadata": {
        "id": "OjBuKlaeQqUj",
        "colab_type": "text"
      },
      "source": [
        "<h1 align=\"center\">End of Tutorial</h1> \n",
        "<h3 align=\"center\"><a href=\"http://qutip.org/tutorials.html\">Return to QuTiP tutorials page</a></h3> "
      ]
    },
    {
      "cell_type": "code",
      "metadata": {
        "id": "58yYQorSQqUm",
        "colab_type": "code",
        "colab": {}
      },
      "source": [
        ""
      ],
      "execution_count": 0,
      "outputs": []
    }
  ]
}