{
  "nbformat": 4,
  "nbformat_minor": 0,
  "metadata": {
    "colab": {
      "name": "Matplot_pyplot_JP_example0.ipynb",
      "provenance": [],
      "include_colab_link": true
    },
    "kernelspec": {
      "name": "python3",
      "display_name": "Python 3"
    }
  },
  "cells": [
    {
      "cell_type": "markdown",
      "metadata": {
        "id": "view-in-github",
        "colab_type": "text"
      },
      "source": [
        "<a href=\"https://colab.research.google.com/github/tom2rd/Googlecolabutils/blob/master/Matplot_pyplot_JP_example0.ipynb\" target=\"_parent\"><img src=\"https://colab.research.google.com/assets/colab-badge.svg\" alt=\"Open In Colab\"/></a>"
      ]
    },
    {
      "cell_type": "markdown",
      "metadata": {
        "id": "2rVqWuu9WUzt",
        "colab_type": "text"
      },
      "source": [
        "\n",
        "---\n",
        "# Matplotlib pyplot tutorial 日本語\n",
        "* API\n",
        " * https://matplotlib.org/3.1.1/api/_as_gen/matplotlib.pyplot.html\n",
        "* Tutorial\n",
        " * https://matplotlib.org/tutorials/index.html\n",
        "\n",
        "---\n"
      ]
    },
    {
      "cell_type": "markdown",
      "metadata": {
        "id": "t9tNTDMSYVlS",
        "colab_type": "text"
      },
      "source": [
        "# 日本語化\n",
        "\n",
        "```\n",
        "!pip install japanize_matplotlib\n",
        "\n",
        "import matplotlib.pyplot as plt\n",
        "import japanize_matplotlib #日本語化matplotlib\n",
        "import seaborn as sns #フォントの設定のためseabornを使う\n",
        "\n",
        "sns.set(font=\"IPAexGothic\") #日本語フォント設定\n",
        "```\n",
        "\n"
      ]
    },
    {
      "cell_type": "code",
      "metadata": {
        "id": "QaZxb-hII8kl",
        "colab_type": "code",
        "colab": {}
      },
      "source": [
        "!pip install japanize_matplotlib"
      ],
      "execution_count": 0,
      "outputs": []
    },
    {
      "cell_type": "code",
      "metadata": {
        "id": "S-w6nysdgy9p",
        "colab_type": "code",
        "colab": {}
      },
      "source": [
        "import matplotlib.pyplot as plt\n",
        "import japanize_matplotlib #日本語化matplotlib\n",
        "import seaborn as sns\n",
        "\n",
        "sns.set(font=\"IPAexGothic\") #日本語フォント設定"
      ],
      "execution_count": 0,
      "outputs": []
    },
    {
      "cell_type": "code",
      "metadata": {
        "id": "zvG2WW8zg4k6",
        "colab_type": "code",
        "outputId": "55a11037-22d4-4602-b24d-8d988a4ec666",
        "colab": {
          "base_uri": "https://localhost:8080/",
          "height": 316
        }
      },
      "source": [
        "ax = plt.plot(figsize=(10,5))\n",
        "plt.title('折れ線グラフ', fontsize=30)"
      ],
      "execution_count": 3,
      "outputs": [
        {
          "output_type": "execute_result",
          "data": {
            "text/plain": [
              "Text(0.5, 1.0, '折れ線グラフ')"
            ]
          },
          "metadata": {
            "tags": []
          },
          "execution_count": 3
        },
        {
          "output_type": "display_data",
          "data": {
            "image/png": "[encoded data removed]",
            "text/plain": [
              "<Figure size 432x288 with 1 Axes>"
            ]
          },
          "metadata": {
            "tags": []
          }
        }
      ]
    },
    {
      "cell_type": "code",
      "metadata": {
        "id": "vqFXnf6Aehtq",
        "colab_type": "code",
        "outputId": "2c146b72-4d5d-44fc-f0de-f31323164ffc",
        "colab": {
          "base_uri": "https://localhost:8080/",
          "height": 299
        }
      },
      "source": [
        "plt.plot([1, 2, 3, 4])\n",
        "plt.xlabel('X軸のタイトル')\n",
        "plt.title('グラフタイトル')\n",
        "plt.show()"
      ],
      "execution_count": 5,
      "outputs": [
        {
          "output_type": "display_data",
          "data": {
            "image/png": "[encoded data removed]",
            "text/plain": [
              "<Figure size 432x288 with 1 Axes>"
            ]
          },
          "metadata": {
            "tags": []
          }
        }
      ]
    },
    {
      "cell_type": "markdown",
      "metadata": {
        "id": "-L3dMH4eMhdl",
        "colab_type": "text"
      },
      "source": [
        "\n",
        "\n",
        "---\n",
        "\n",
        "\n",
        "\n",
        "---\n",
        "\n",
        "\n",
        "\n",
        "---\n",
        "\n"
      ]
    }
  ]
}