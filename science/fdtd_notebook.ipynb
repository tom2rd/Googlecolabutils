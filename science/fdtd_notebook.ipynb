{
  "nbformat": 4,
  "nbformat_minor": 0,
  "metadata": {
    "colab": {
      "name": "fdtd_notebook.ipynb",
      "provenance": [],
      "toc_visible": true,
      "include_colab_link": true
    },
    "kernelspec": {
      "name": "python3",
      "display_name": "Python 3"
    },
    "accelerator": "GPU"
  },
  "cells": [
    {
      "cell_type": "markdown",
      "metadata": {
        "id": "view-in-github",
        "colab_type": "text"
      },
      "source": [
        "<a href=\"https://colab.research.google.com/github/tom2rd/Googlecolabutils/blob/master/science/fdtd_notebook.ipynb\" target=\"_parent\"><img src=\"https://colab.research.google.com/assets/colab-badge.svg\" alt=\"Open In Colab\"/></a>"
      ]
    },
    {
      "cell_type": "markdown",
      "metadata": {
        "id": "X2236u0rkJ7P",
        "colab_type": "text"
      },
      "source": [
        "# 準備"
      ]
    },
    {
      "cell_type": "markdown",
      "metadata": {
        "id": "c-9m8r4ekdnO",
        "colab_type": "text"
      },
      "source": [
        "## 各ライブラリのインポート"
      ]
    },
    {
      "cell_type": "code",
      "metadata": {
        "id": "5sHRpTghkGPd",
        "colab_type": "code",
        "colab": {}
      },
      "source": [
        "import sys\n",
        "import numpy as np\n",
        "import matplotlib.pyplot as plt\n",
        "import matplotlib.path as Path\n",
        "import matplotlib.patches as patches\n",
        "from matplotlib import cm\n",
        "from scipy import signal\n",
        "from scipy.stats import norm"
      ],
      "execution_count": 0,
      "outputs": []
    },
    {
      "cell_type": "markdown",
      "metadata": {
        "id": "ZVdUcMeqGGPi",
        "colab_type": "text"
      },
      "source": [
        "### 媒質の特性\n",
        "* 大気密度$\\rho$と音速$C$と体積弾性率$\\kappa$の３つのパラメータを用いる\n",
        "* それぞれの関係は次式で表される\n",
        "\n",
        "\\begin{equation}\n",
        "C = \\sqrt{\\frac{\\kappa}{\\rho}} \\\\\n",
        "(C:音速{\\rm [m/s]}, \\rho: 大気密度{\\rm [kg/m^3]}, \\kappa: 体積弾性率{\\rm [Pa]([kg/ms^2])})\n",
        "\\end{equation}\n",
        "\n",
        "* 常温付近の音速と温度の関係\n",
        "\n",
        "\\begin{equation}\n",
        "C = 331.5 + 0.60t \\\\\n",
        "(t: 温度[{}^\\circ C])\n",
        "\\end{equation}\n",
        "\n",
        "*  傾き(0.60)は温度によって変化(0${}^\\circ$Cで0.607)し，切片(331.5)は比熱，大気圧，媒質密度によって変化 \\\\\n",
        "\n",
        "* 大気密度は温度，大気圧から次式によって求められる\n",
        "\\begin{equation}\n",
        "\\rho = \\frac{1.293P}{1+t/273.15} \\\\\n",
        "(P: 大気圧[{\\rm atm}])\n",
        "\\end{equation}"
      ]
    },
    {
      "cell_type": "code",
      "metadata": {
        "id": "dVG5uKthGY-v",
        "colab_type": "code",
        "outputId": "9b76b4b6-9e40-4e91-fbc2-b71c3dbbb50b",
        "colab": {
          "base_uri": "https://localhost:8080/",
          "height": 68
        }
      },
      "source": [
        "temperature = 15 \n",
        "atm = 1.013 \n",
        "C = 331.5 + 0.60 * temperature \n",
        "\n",
        "Ro = (1.293 * atm)/(1+(temperature/273.15))  \n",
        "K=Ro*C*C\n",
        "\n",
        "print(\"sound velocity: \"+str(C)+\" [m/s]\")\n",
        "print(\"atmosphere density: \" +str(round(Ro, 3))+ \" [kg/m^3]\")\n",
        "print(\"bulk module: \" +str(round(K, 0))+ \" [Pa]\")"
      ],
      "execution_count": 0,
      "outputs": [
        {
          "output_type": "stream",
          "text": [
            "sound velocity: 340.5 [m/s]\n",
            "atmosphere density: 1.242 [kg/m^3]\n",
            "bulk module: 143954.0 [Pa]\n"
          ],
          "name": "stdout"
        }
      ]
    },
    {
      "cell_type": "markdown",
      "metadata": {
        "id": "LNel4vJukhP-",
        "colab_type": "text"
      },
      "source": [
        "## パラメータの設定\n",
        "### CFL条件とシミュレーション空間設定\n",
        "* Courant-Friedrichs-Lewy Condition\n",
        "* 情報を伝播させる速さが実際の音が伝わる速さより遅くならないようにするための条件\n",
        "* 情報が伝播する速さは空間分解能を時間分解能を割った時の商，音の伝わる速さは音速になる\n",
        "\\begin{equation}\n",
        "\\frac{\\Delta x}{\\Delta t}>C\n",
        "\\end{equation}\n",
        "* 空間的に細かく追跡する場合は時間幅を狭くする必要があるため所望する時間までの計算時間が増加\n"
      ]
    },
    {
      "cell_type": "code",
      "metadata": {
        "id": "qKYtbamdklnf",
        "colab_type": "code",
        "outputId": "d1f843c9-9549-4ced-a4f0-164e39d84cad",
        "colab": {
          "base_uri": "https://localhost:8080/",
          "height": 68
        }
      },
      "source": [
        "# space discrete width [1/m]\n",
        "dx = 0.01\n",
        "dy = dx\n",
        "\n",
        "# time discrete width [1/s]\n",
        "dt = 0.00001\n",
        "\n",
        "# sampling rate [Hz]\n",
        "fs = 1/dt\n",
        "print(\"sampling rate: \" + str(round(fs)) + \" [Hz]\")\n",
        "\n",
        "# position of a sound source\n",
        "sx = 0.3\n",
        "sy = 0.4\n",
        "\n",
        "# position of a sound receiving point\n",
        "mx = 1.0\n",
        "my = 1.0\n",
        "\n",
        "# number of calculation\n",
        "time = 2000\n",
        "sec = time*dt\n",
        "print(\"calclate time: \" + str(round(sec, 6)) + \" [sec]\")\n",
        "\n",
        "# CFL condition\n",
        "if dx/dt > C:\n",
        "    print(\"CFL condition: OK \")\n",
        "else :\n",
        "    print(\"CFL condition: NG\")"
      ],
      "execution_count": 0,
      "outputs": [
        {
          "output_type": "stream",
          "text": [
            "sampling rate: 100000 [Hz]\n",
            "calclate time: 0.02 [sec]\n",
            "CFL condition: OK \n"
          ],
          "name": "stdout"
        }
      ]
    },
    {
      "cell_type": "markdown",
      "metadata": {
        "id": "mdVgG77JGcgP",
        "colab_type": "text"
      },
      "source": [
        "### 吸音率をもとにした音響インピーダンス設定\n",
        "*  境界面上における音圧を$p$，粒子速度を$u$，そのときのノーマル音響インピーダンス$Z$は次式によって表される\n",
        "* 材料表面における音圧と表面に垂直な粒子速度成分の比\n",
        "\\begin{equation}\n",
        "Z = \\frac{p}{u}\n",
        "\\end{equation}\n",
        "\n",
        "* 吸音材料に角度$\\theta$で音が入射したときのノーマル音響インピーダンス$Z_n$\n",
        "\\begin{equation}\n",
        "Z_n = \\frac{\\rho c}{{\\rm cos}\\theta}\\cdot\\frac{p_i+p_o}{p_i-p_o}\n",
        "\\end{equation}\n"
      ]
    },
    {
      "cell_type": "code",
      "metadata": {
        "id": "66M5cyNVGikM",
        "colab_type": "code",
        "colab": {}
      },
      "source": [
        "# 音響インピーダンス設定\n",
        "ab = 0.00001 # 吸音率\n",
        "Z = Ro*C*((1 + np.sqrt(1-ab)) / (1 - np.sqrt(1-ab)))"
      ],
      "execution_count": 0,
      "outputs": []
    },
    {
      "cell_type": "markdown",
      "metadata": {
        "id": "qizhyZZXmAfv",
        "colab_type": "text"
      },
      "source": [
        "## 室形状設定\n",
        "以下の7つの室形状から一つ選択してから，境界インデックスの生成をする"
      ]
    },
    {
      "cell_type": "markdown",
      "metadata": {
        "id": "oeDiYRsWl3CK",
        "colab_type": "text"
      },
      "source": [
        "### 矩形室（4 [m] × 3 [m]）(1/7)"
      ]
    },
    {
      "cell_type": "code",
      "metadata": {
        "id": "n24woRiSlu5w",
        "colab_type": "code",
        "colab": {}
      },
      "source": [
        "verts = np.array([\n",
        "    [-2,  1.5], # left, top\n",
        "    [-2, -1.5], # left, bottom\n",
        "    [ 2, -1.5], # right, bottom\n",
        "    [ 2,  1.5], # right, top\n",
        "    [-2,  1.5]  # return to start point\n",
        "    ])\n",
        "codes = np.array([1, 2, 2, 2, 79]) # 1:MOVETO, 2:LINETO, 79:CLOSEPOLY"
      ],
      "execution_count": 0,
      "outputs": []
    },
    {
      "cell_type": "markdown",
      "metadata": {
        "id": "L8ttgFKO5Ivv",
        "colab_type": "text"
      },
      "source": [
        "### 下辺が「く」（4 [m] × 3 [m]）(2/7)"
      ]
    },
    {
      "cell_type": "code",
      "metadata": {
        "id": "k9UU1sC45PjA",
        "colab_type": "code",
        "colab": {}
      },
      "source": [
        "verts = np.array([\n",
        "    [-2,  1.5], # left, top\n",
        "    [-2, -1.5], # left, bottom\n",
        "    [0, 0],   # KU point\n",
        "    [ 2, -1.5], # right, bottom\n",
        "    [ 2,  1.5], # right, top\n",
        "    [-2,  1.5]  # return to start point\n",
        "    ])\n",
        "codes = np.array([1, 2, 2, 2, 2, 79]) # 1:MOVETO, 2:LINETO, 3:CURVETO 79:CLOSEPOLY"
      ],
      "execution_count": 0,
      "outputs": []
    },
    {
      "cell_type": "markdown",
      "metadata": {
        "id": "viEI1UZozHcf",
        "colab_type": "text"
      },
      "source": [
        "### 下辺が曲面（4 [m] × 3 [m]）(3/7)"
      ]
    },
    {
      "cell_type": "code",
      "metadata": {
        "id": "NziDhrHrmD6u",
        "colab_type": "code",
        "colab": {}
      },
      "source": [
        "verts = np.array([\n",
        "    [-2,  1.5], # left, top\n",
        "    [-2, -1.5], # left, bottom\n",
        "    [0, 1.0],   # curve point\n",
        "    [ 2, -1.5], # right, bottom\n",
        "    [ 2,  1.5], # right, top\n",
        "    [-2,  1.5]  # return to start point\n",
        "    ])\n",
        "codes = np.array([1, 2, 3, 2, 2, 79]) # 1:MOVETO, 2:LINETO, 3:CURVETO 79:CLOSEPOLY"
      ],
      "execution_count": 0,
      "outputs": []
    },
    {
      "cell_type": "markdown",
      "metadata": {
        "id": "gSZYZCMrPnnL",
        "colab_type": "text"
      },
      "source": [
        "### 左辺がギザギザ（4 [m] × 3 [m]）(4/7)"
      ]
    },
    {
      "cell_type": "code",
      "metadata": {
        "id": "ile4WUJXPtW_",
        "colab_type": "code",
        "colab": {}
      },
      "source": [
        "verts = np.array([\n",
        "    [-2,  1.5], # left, top\n",
        "    [-1.75, 1.25],\n",
        "    [-2, 1.0],\n",
        "    [-1.75, 0.75],\n",
        "    [-2, 0.5],\n",
        "    [-1.75, 0.25],\n",
        "    [-2, 0],\n",
        "    [-1.75, -0.25],\n",
        "    [-2, -0.5],\n",
        "    [-1.75, -0.75],\n",
        "    [-2, -1],\n",
        "    [-1.75, -1.25],\n",
        "    [-2, -1.5],\n",
        "    [-2, -1.5], # left, bottom\n",
        "    [ 2, -1.5], # right, bottom\n",
        "    [ 2,  1.5], # right, top\n",
        "    [-2,  1.5]  # return to start point\n",
        "    ])\n",
        "codes = np.array([1, 2, 2, 2, 2, 2, 2, 2, 2, 2, 2, 2, 2, 2, 2, 2, 79]) # 1:MOVETO, 2:LINETO, 3:CURVETO 79:CLOSEPOLY"
      ],
      "execution_count": 0,
      "outputs": []
    },
    {
      "cell_type": "markdown",
      "metadata": {
        "id": "CS-2wkFCZHLE",
        "colab_type": "text"
      },
      "source": [
        "### 左辺が細かくギザギザ（4 [m] × 3 [m]）(5/7)"
      ]
    },
    {
      "cell_type": "code",
      "metadata": {
        "id": "IkT6W0-XuzwD",
        "colab_type": "code",
        "colab": {}
      },
      "source": [
        "verts = np.array([\n",
        "    [-2,  1.5], # left, top\n",
        "    [-1.8, 1.375], #\n",
        "    [-2, 1.25],\n",
        "    [-1.8, 1.125], #\n",
        "    [-2, 1.0],\n",
        "    [-1.8, 0.875], #\n",
        "    [-2, 0.75],\n",
        "    [-1.8, 0.625], #\n",
        "    [-2, 0.5],\n",
        "    [-1.8, 0.375], #\n",
        "    [-2, 0.25],\n",
        "    [-1.8, 0.125], #\n",
        "    [-2, 0.0],\n",
        "    [-1.8, -0.125], #\n",
        "    [-2, -0.25],\n",
        "    [-1.8, -0.375], #\n",
        "    [-2, -0.5],\n",
        "    [-1.8, -0.625], #\n",
        "    [-2, -0.75],\n",
        "    [-1.8, -0.875], #\n",
        "    [-2, -1.0],\n",
        "    [-1.8, -1.125], #\n",
        "    [-2, -1.25],\n",
        "    [-1.8, -1.375], #\n",
        "    [-2, -1.5],\n",
        "    [-2, -1.5], # left, bottom\n",
        "    [ 2, -1.5], # right, bottom\n",
        "    [ 2,  1.5], # right, top\n",
        "    [-2,  1.5]  # return to start point\n",
        "    ])\n",
        "codes = np.array([1, 2, 2, 2, 2, 2, 2, 2, 2, 2, 2, 2, 2, 2, 2, 2, 2, 2, 2, 2, 2, 2, 2, 2, 2, 2, 2, 2, 79])"
      ],
      "execution_count": 0,
      "outputs": []
    },
    {
      "cell_type": "markdown",
      "metadata": {
        "id": "54h7ktKjj-mK",
        "colab_type": "text"
      },
      "source": [
        "### 矩形室（4 [m] × 3 [m]）+ 突起 (6/7)"
      ]
    },
    {
      "cell_type": "code",
      "metadata": {
        "id": "zfnpcUJSkDkb",
        "colab_type": "code",
        "colab": {}
      },
      "source": [
        "verts = np.array([\n",
        "    [-2,  1.5], # left, top\n",
        "    [-2, -1.5], # left, bottom\n",
        "    [-0.1, -1.5], # wall, left, bottom\n",
        "    [-0.1, -0.5], # wall, left, top\n",
        "    [0.1, -0.5], # wall, right, top\n",
        "    [0.1, -1.5], # wall ,right, bottom\n",
        "    [ 2, -1.5], # right, bottom\n",
        "    [ 2,  1.5], # right, top\n",
        "    [-2,  1.5]  # return to start point\n",
        "    ])\n",
        "codes = np.array([1, 2, 2, 2, 2, 2, 2, 2, 79]) # 1:MOVETO, 2:LINETO, 79:CLOSEPOLY"
      ],
      "execution_count": 0,
      "outputs": []
    },
    {
      "cell_type": "markdown",
      "metadata": {
        "id": "_7jLG8T6w2Ci",
        "colab_type": "text"
      },
      "source": [
        "### 矩形室（4 [m] × 3 [m]）+ 大きめの突起 (7/7)\n"
      ]
    },
    {
      "cell_type": "code",
      "metadata": {
        "id": "IANgqXFiw8Vq",
        "colab_type": "code",
        "colab": {}
      },
      "source": [
        "verts = np.array([\n",
        "    [-2,  1.5], # left, top\n",
        "    [-2, -1.5], # left, bottom\n",
        "    [-0.1, -1.5], # wall, left, bottom\n",
        "    [-0.1, 1.0], # wall, left, top\n",
        "    [0.1, 1.0], # wall, right, top\n",
        "    [0.1, -1.5], # wall ,right, bottom\n",
        "    [ 2, -1.5], # right, bottom\n",
        "    [ 2,  1.5], # right, top\n",
        "    [-2,  1.5]  # return to start point\n",
        "    ])\n",
        "codes = np.array([1, 2, 2, 2, 2, 2, 2, 2, 79]) # 1:MOVETO, 2:LINETO, 79:CLOSEPOLY"
      ],
      "execution_count": 0,
      "outputs": []
    },
    {
      "cell_type": "markdown",
      "metadata": {
        "id": "OVDI_OVOpAdH",
        "colab_type": "text"
      },
      "source": [
        "### 室形状表示"
      ]
    },
    {
      "cell_type": "code",
      "metadata": {
        "id": "3sZjWa3x0DYE",
        "colab_type": "code",
        "colab": {}
      },
      "source": [
        "pth = Path.Path(verts, codes)\n",
        "patch = patches.PathPatch(pth, facecolor='none', lw=2, ls='--')\n",
        "plt.gca().add_patch(patch)\n",
        "plt.xlim(-3,3)\n",
        "plt.ylim(-2,2)\n",
        "plt.axis('equal')\n",
        "plt.show()"
      ],
      "execution_count": 0,
      "outputs": []
    },
    {
      "cell_type": "markdown",
      "metadata": {
        "id": "_DwpnHvWmM5m",
        "colab_type": "text"
      },
      "source": [
        "### 境界インデックス生成\n",
        "\n",
        "1. 頂点の最大値を取得\n",
        "1. 最小値から最大値の間を空間解像度幅で分割した数列を作成\n",
        "1. ↑で求めた数列の長さを使って矩形のグリッドを生成\n",
        "1. ↑のグリッドのすべての座標にて内外の境界を判別，記録"
      ]
    },
    {
      "cell_type": "code",
      "metadata": {
        "id": "tBjHoWE1mL_m",
        "colab_type": "code",
        "colab": {}
      },
      "source": [
        "# 1 obtain max(min) value\n",
        "pth = Path.Path(verts, codes)\n",
        "x_min = min(verts[:,0])\n",
        "x_max = max(verts[:,0])\n",
        "y_min = min(verts[:,1])\n",
        "y_max = max(verts[:,1])\n",
        "\n",
        "# 2 generate target rectangle area\n",
        "x = np.arange(x_min+0.5*dx, x_max+0.5*dx, dx)\n",
        "y = np.arange(y_min+0.5*dy, y_max+0.5*dy, dy)\n",
        "\n",
        "X = len(x)\n",
        "Y = len(y)\n",
        "\n",
        "bools = np.zeros((X,Y), dtype=\"bool\")\n",
        "\n",
        "# 3 generate boundary list\n",
        "for j in range(Y):\n",
        "    points = [[x[i], y[j]] for i in range(X)]\n",
        "    bools[:,j] = pth.contains_points(points)\n",
        "\n",
        "# 4 determine the boundaries inside and outside\n",
        "boundary_x_in = []\n",
        "boundary_x_out = []\n",
        "for i in range(X-1):\n",
        "    for j in range(Y):\n",
        "        if(bools[i,j] == 0 and bools[i+1,j] == 1):\n",
        "            boundary_x_in.append([i+1,j])\n",
        "        elif(bools[i,j] == 1 and bools[i+1,j] == 0):\n",
        "            boundary_x_out.append([i,j])\n",
        "boundary_x_in = np.array(boundary_x_in)\n",
        "boundary_x_out = np.array(boundary_x_out)\n",
        "\n",
        "boundary_y_in = []\n",
        "boundary_y_out = []\n",
        "for i in range(X):\n",
        "    for j in range(Y-1):\n",
        "        if(bools[i,j] == 0 and bools[i,j+1] == 1):\n",
        "            boundary_y_in.append([i,j+1])\n",
        "        elif(bools[i,j] == 1 and bools[i,j+1] == 0):\n",
        "            boundary_y_out.append([i,j])\n",
        "boundary_y_in = np.array(boundary_y_in)\n",
        "boundary_y_out = np.array(boundary_y_out)"
      ],
      "execution_count": 0,
      "outputs": []
    },
    {
      "cell_type": "markdown",
      "metadata": {
        "id": "5dJTZ6RomX6f",
        "colab_type": "text"
      },
      "source": [
        "## 音源の生成\n",
        "どちらかを実行\n",
        "### 正弦パルスによる音圧の初期化\n",
        "* 音響分野でよく用いられるものは数セルにわたってなめらかな分布をもつ初期条件を与える手法\n",
        "\n",
        "\\begin{equation}\n",
        "  p(r)= \\begin{cases}\n",
        "    0.5+0.5\\cos \\frac{\\pi r}{R} & r\\leqq R \\\\\n",
        "    0 & r > R\n",
        "    \\end{cases}\n",
        "\\end{equation}\n",
        "\n",
        "* 急激な変化を伴うもの（インパルス信号など）は解析結果に大きな誤差を与える危険性有り\n",
        "\n",
        "### 点音源の差分化\n",
        "* 点音源での音圧を，点音源から放出される体積速度$Q(t)$で表現\n",
        "\n",
        "\\begin{equation}\n",
        "  \\frac{1}{\\rho_{0}c^2}\\frac{\\partial p}{\\partial t} =\n",
        "  -{\\rm div}u + \\frac{Q(t)}{V}\n",
        "\\end{equation}\n",
        "\n",
        "* 上式を差分化\n",
        "\n",
        "\\begin{equation}\n",
        "  p^{n+1} = p^n + \\rho_{0}c^2 \\frac{Q(n+\\frac{1}{2}\\Delta t)}{V} \\Delta t\n",
        "\\end{equation}\n",
        "\n",
        "* 体積速度波形$Q(n)$を与えることによって点音源を作成できる\n",
        "* $Q(n)$にガウシアンパルスを用いた場合，受音点のセルの音圧を観測することによりインパルス応答を得られる\n",
        "* 以下がガウシアンパルスの式\n",
        "\n",
        "\\begin{equation}\n",
        "  Q(\\tau) = \\begin{cases}\n",
        "    e^{-\\alpha(\\tau - \\tau_{0})^2} & 0 \\leqq \\tau \\leqq 2\\tau_{0} \\\\\n",
        "    0 & その他\n",
        "  \\end{cases}\n",
        "\\end{equation}"
      ]
    },
    {
      "cell_type": "markdown",
      "metadata": {
        "id": "0eAZCCW6viTm",
        "colab_type": "text"
      },
      "source": [
        "### 正弦パルスを用いた音源の生成 (1/2)"
      ]
    },
    {
      "cell_type": "code",
      "metadata": {
        "id": "T9pUFQM7i3jF",
        "colab_type": "code",
        "colab": {}
      },
      "source": [
        "ang = np.arange(-np.pi, np.pi,2.*np.pi/50.)\n",
        "sig = np.cos(ang)\n",
        "sig += 1"
      ],
      "execution_count": 0,
      "outputs": []
    },
    {
      "cell_type": "markdown",
      "metadata": {
        "id": "Ky9MZADUhaW8",
        "colab_type": "text"
      },
      "source": [
        "### ガウス分布を用いた音源の生成 (2/2)"
      ]
    },
    {
      "cell_type": "code",
      "metadata": {
        "id": "s_v-O8qygc9j",
        "colab_type": "code",
        "colab": {}
      },
      "source": [
        "ang = np.arange(-np.pi,np.pi,2.*np.pi/50.)\n",
        "sig = norm.pdf(ang)\n",
        "sig *= 4"
      ],
      "execution_count": 0,
      "outputs": []
    },
    {
      "cell_type": "markdown",
      "metadata": {
        "id": "X4FjPm5svx8G",
        "colab_type": "text"
      },
      "source": [
        "### 音源の波形と周波数特性"
      ]
    },
    {
      "cell_type": "code",
      "metadata": {
        "id": "XZ7MvXm9v1Sv",
        "colab_type": "code",
        "outputId": "818e718b-0a6d-47c3-a626-74f59f402f3a",
        "colab": {
          "base_uri": "https://localhost:8080/",
          "height": 291
        }
      },
      "source": [
        "plt.subplot(2,1,1)\n",
        "plt.plot(sig)\n",
        "plt.xlabel(\"Sample\")\n",
        "plt.ylabel(\"Relative Sound Pressure\")\n",
        "\n",
        "plt.subplot(2,1,2)\n",
        "plt.magnitude_spectrum(sig, Fs=fs, scale='dB')\n",
        "\n",
        "plt.show()"
      ],
      "execution_count": 0,
      "outputs": [
        {
          "output_type": "display_data",
          "data": {
            "image/png": "[encoded data removed]",
            "text/plain": [
              "<Figure size 432x288 with 2 Axes>"
            ]
          },
          "metadata": {
            "tags": []
          }
        }
      ]
    },
    {
      "cell_type": "markdown",
      "metadata": {
        "id": "YfnDWqetmhuv",
        "colab_type": "text"
      },
      "source": [
        "## 計算用アレイの定義・初期化"
      ]
    },
    {
      "cell_type": "code",
      "metadata": {
        "id": "WHD9A6q6mmaH",
        "colab_type": "code",
        "colab": {}
      },
      "source": [
        "P = np.zeros((X,Y),\"float64\")\n",
        "\n",
        "Ux = np.zeros((X+1,Y),\"float64\")\n",
        "\n",
        "Uy = np.zeros((X,Y+1),\"float64\")"
      ],
      "execution_count": 0,
      "outputs": []
    },
    {
      "cell_type": "markdown",
      "metadata": {
        "id": "MZNbfZQirYbW",
        "colab_type": "text"
      },
      "source": [
        "# 実行部"
      ]
    },
    {
      "cell_type": "markdown",
      "metadata": {
        "id": "g85kC9YGAmzX",
        "colab_type": "text"
      },
      "source": [
        "## 受音点，音源"
      ]
    },
    {
      "cell_type": "code",
      "metadata": {
        "id": "QTRUnhZuAyZs",
        "colab_type": "code",
        "colab": {}
      },
      "source": [
        "micx = (mx - x_min)/dx\n",
        "micy = (my - y_min)/dy\n",
        "mic = []\n",
        "\n",
        "ssx = (sx - x_min)/dx\n",
        "ssy = (sy - y_min)/dy"
      ],
      "execution_count": 0,
      "outputs": []
    },
    {
      "cell_type": "markdown",
      "metadata": {
        "id": "gt6gt_BDmxJ-",
        "colab_type": "text"
      },
      "source": [
        "## 逐次計算"
      ]
    },
    {
      "cell_type": "code",
      "metadata": {
        "id": "HBJTOP3SmFuB",
        "colab_type": "code",
        "outputId": "93528fbd-8ea1-48e9-96bc-68478dabb742",
        "colab": {
          "base_uri": "https://localhost:8080/",
          "height": 34
        }
      },
      "source": [
        "for t in range(time):\n",
        "    sys.stdout.flush()\n",
        "    sys.stdout.write(\"\\r{}\".format(\"calculating: \"+str(t+1)+\"/\"+str(time)))\n",
        "    if t<len(sig):\n",
        "        P[int(ssx),int(ssy)] += sig[t]\n",
        "\n",
        "    Ux[1:X,:]=Ux[1:X,:]-dt/Ro/dx*(P[1:X,:]-P[:X-1,:])  # x軸の粒子速度更新\n",
        "    Uy[:,1:Y]=Uy[:,1:Y]-dt/Ro/dy*(P[:,1:Y]-P[:,:Y-1])  # y      〃\n",
        "\n",
        "    A=dt/(Ro*dx)\n",
        "    # particle velocity at x-axis at boundary\n",
        "    for n in range(len(boundary_x_in)):\n",
        "        Ux[boundary_x_in[n,0], boundary_x_in[n,1]] = P[boundary_x_in[n,0], boundary_x_in[n,1]]/-Z\n",
        "    for n in range(len(boundary_x_out)):\n",
        "        Ux[boundary_x_out[n,0]+1, boundary_x_out[n,1]] = 0.0\n",
        "    \n",
        "    # particle velocity at y-axis at boundary\n",
        "    for n in range(len(boundary_y_in)):\n",
        "        Uy[boundary_y_in[n,0], boundary_y_in[n,1]] = 0.0\n",
        "    for n in range(len(boundary_y_out)):\n",
        "        Uy[boundary_y_out[n,0], boundary_y_out[n,1]+1] = 0.0\n",
        "\n",
        "    # updating sound pressure\n",
        "    P[:X,:Y] = P[:X,:Y]-K*dt/dx*(Ux[1:X+1,:]-Ux[:X,:]) \\\n",
        "                -K*dt/dy*(Uy[:,1:Y+1]-Uy[:,:Y])\n",
        "    \n",
        "    if t > 100:\n",
        "        mic.append(P[int(micx), int(micy)])"
      ],
      "execution_count": 0,
      "outputs": [
        {
          "output_type": "stream",
          "text": [
            "calculating: 2000/2000"
          ],
          "name": "stdout"
        }
      ]
    },
    {
      "cell_type": "markdown",
      "metadata": {
        "id": "7Dz56bzKm3MG",
        "colab_type": "text"
      },
      "source": [
        "## 可視化"
      ]
    },
    {
      "cell_type": "markdown",
      "metadata": {
        "id": "sZA96X2hCjuw",
        "colab_type": "text"
      },
      "source": [
        "### 音場"
      ]
    },
    {
      "cell_type": "code",
      "metadata": {
        "id": "RJrjQgfym7AQ",
        "colab_type": "code",
        "outputId": "e0256fcb-1514-4908-b6c8-31daa260a644",
        "colab": {
          "base_uri": "https://localhost:8080/",
          "height": 269
        }
      },
      "source": [
        "yy, xx = np.meshgrid(y,x)\n",
        "plt.pcolor(xx, yy, P, cmap=cm.jet)\n",
        "\n",
        "patch = patches.PathPatch(pth, facecolor='none', lw=2, ls='--')\n",
        "plt.gca().add_patch(patch)\n",
        "plt.axis('equal')\n",
        "plt.clim(-0.05, 0.05)\n",
        "plt.colorbar()\n",
        "plt.plot(sx, sy, 'o', lw=2, color='black', ms=10)\n",
        "plt.plot(mx, my, '^', lw=2, color='black', ms=10)\n",
        "plt.show()"
      ],
      "execution_count": 0,
      "outputs": [
        {
          "output_type": "display_data",
          "data": {
            "image/png": "[encoded data removed]",
            "text/plain": [
              "<Figure size 432x288 with 2 Axes>"
            ]
          },
          "metadata": {
            "tags": []
          }
        }
      ]
    },
    {
      "cell_type": "markdown",
      "metadata": {
        "id": "ZxQF-LMcCogJ",
        "colab_type": "text"
      },
      "source": [
        "### マイクロホン位置での音圧"
      ]
    },
    {
      "cell_type": "code",
      "metadata": {
        "id": "eLnpKPIeCsqd",
        "colab_type": "code",
        "outputId": "cd073c81-c270-418e-cd27-558c441e2dc1",
        "colab": {
          "base_uri": "https://localhost:8080/",
          "height": 283
        }
      },
      "source": [
        "plt.xlabel(\"Sample\")\n",
        "plt.ylabel(\"Amplitude\")\n",
        "plt.plot(mic);"
      ],
      "execution_count": 0,
      "outputs": [
        {
          "output_type": "display_data",
          "data": {
            "image/png": "[encoded data removed]",
            "text/plain": [
              "<Figure size 432x288 with 1 Axes>"
            ]
          },
          "metadata": {
            "tags": []
          }
        }
      ]
    },
    {
      "cell_type": "markdown",
      "metadata": {
        "id": "pMjQltqAd5Y4",
        "colab_type": "text"
      },
      "source": [
        "# license information\n",
        "\n",
        "\n",
        "\n",
        "OpenAcoustics: The Open Source Collection for Computational Acoustics\n",
        "\n",
        "               Copyright (C) 2008-2016 The OpenAcoustics Team\n",
        "\n",
        "    This program is free software; you can redistribute it and/or modify\n",
        "    it under the terms of the GNU General Public License as published by\n",
        "    the Free Software Foundation; either version 2 of the License, or\n",
        "    (at your option) any later version.\n",
        "\n",
        "    This program is distributed in the hope that it will be useful,\n",
        "    but WITHOUT ANY WARRANTY; without even the implied warranty of\n",
        "    MERCHANTABILITY or FITNESS FOR A PARTICULAR PURPOSE.  See the\n",
        "    GNU General Public License for more details.\n",
        "\n",
        "    You should have received a copy of the GNU General Public License along\n",
        "    with this program; if not, write to the Free Software Foundation, Inc.,\n",
        "    51 Franklin Street, Fifth Floor, Boston, MA 02110-1301 USA."
      ]
    },
    {
      "cell_type": "markdown",
      "metadata": {
        "id": "KsaEeFgseGYe",
        "colab_type": "text"
      },
      "source": [
        "# Change Log\n",
        "fdtd_notebook.ipynb  \n",
        "\n",
        "The format is based on [Keep a Changelog](https://keepachangelog.com/en/1.0.0/),  \n",
        "and this project adheres to [Semantic Versioning](https://semver.org/spec/v2.0.0.html).\n",
        "\n",
        "## [Unreleased]\n",
        "\n",
        "## [0.0.1] - 2019-06-03\n",
        "\n",
        "### Added\n",
        "\n",
        "- some variations of room shape \n",
        "- a variation of sound source (like a gaussian pulse)\n",
        "- some description about FDTD method\n",
        "- license.txt\n",
        "\n",
        "### Changed\n",
        "\n",
        "- converted python 2 to 3 (.ipynb)"
      ]
    }
  ]
}