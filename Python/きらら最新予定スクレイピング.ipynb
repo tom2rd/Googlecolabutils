{
  "nbformat": 4,
  "nbformat_minor": 0,
  "metadata": {
    "colab": {
      "name": "きらら最新予定スクレイピング.ipynb",
      "provenance": [],
      "include_colab_link": true
    },
    "kernelspec": {
      "name": "python3",
      "display_name": "Python 3"
    }
  },
  "cells": [
    {
      "cell_type": "markdown",
      "metadata": {
        "id": "view-in-github",
        "colab_type": "text"
      },
      "source": [
        "<a href=\"https://colab.research.google.com/github/tom2rd/Googlecolabutils/blob/master/Python/%E3%81%8D%E3%82%89%E3%82%89%E6%9C%80%E6%96%B0%E4%BA%88%E5%AE%9A%E3%82%B9%E3%82%AF%E3%83%AC%E3%82%A4%E3%83%94%E3%83%B3%E3%82%B0.ipynb\" target=\"_parent\"><img src=\"https://colab.research.google.com/assets/colab-badge.svg\" alt=\"Open In Colab\"/></a>"
      ]
    },
    {
      "cell_type": "markdown",
      "metadata": {
        "id": "RpFxX6AiqIw6",
        "colab_type": "text"
      },
      "source": [
        ""
      ]
    },
    {
      "cell_type": "markdown",
      "metadata": {
        "id": "C8YWyCyZqIwW",
        "colab_type": "text"
      },
      "source": [
        "## もし、僕だったら、HPのトップ -> 子育て広場の予定 URLを取ってきて、アクセス　->　きららの広場　＊月の予定　-＞それからパースを考える\n",
        "\n",
        "まずは、ブログのトップに入る。　そして、子育て広場の予定のURLを取ってきて、そこにアクセスする。次に、きららの広場　〇月の予定　って言葉に着目して、一番上に出てきた　月の予定　のURLを取ってきて、そこにアクセスする。\n",
        "\n",
        "そうすると、〇月の予定のページだけになる\n",
        "\n",
        "その中（ソース）を見てみると、div class=\"entry-body-text\" の中に、欲しい情報が入っていそうなことが分かる。\n",
        "---\n",
        "その　classの中のテキストを見てみると、pで囲まれているところが、欲しい情報っぽい？？\n",
        "\n",
        "\n",
        "\n",
        "\n"
      ]
    },
    {
      "cell_type": "code",
      "metadata": {
        "id": "xTWvwDysUVrl",
        "colab_type": "code",
        "colab": {
          "base_uri": "https://localhost:8080/",
          "height": 369
        },
        "outputId": "aa18e857-0ea1-4ed4-9da0-4f583244ca60"
      },
      "source": [
        "# きららのweb情報を入手する\n",
        "# とみながの方法　サンプル　　\n",
        "import requests\n",
        "from bs4 import BeautifulSoup\n",
        "\n",
        "# Webページを取得して解析する\n",
        "load_url = \"https://blog.goo.ne.jp/kirara_kodaira/\"\n",
        "load_urlo=\"https://blog.goo.ne.jp\"\n",
        "html = requests.get(load_url)\n",
        "soup = BeautifulSoup(html.content, \"html.parser\")\n",
        "\n",
        "alists=soup.find_all('a')\n",
        "for alist in alists:\n",
        " if str(alist).find(\"子育て広場の予定\")!=-1:\n",
        "  #print(str(alist).find(\"子育て広場の予定\"))\n",
        "  #print(alist)\n",
        "  st=int(str(alist).find(\"/kirara_kodaira/\"))\n",
        "  sp=int(str(alist).find('\">'))\n",
        "  #print(alist[int(str(alist).find(\"/kirara_kodaira/\"))::int(str(alist).find('\">'))])\n",
        "  #print(str(alist)[st:sp])\n",
        "  load_url_a=str(alist)[st:sp]\n",
        "  load_url_yotei=load_urlo+load_url_a\n",
        "  #print(load_url_yotei)\n",
        "#\n",
        "# 子育て広場の予定をBS\n",
        "# 月の予定　を検索して、それに合致したところのURLを取得\n",
        "\n",
        "html = requests.get(load_url_yotei)\n",
        "soup = BeautifulSoup(html.content, \"html.parser\")\n",
        "\n",
        "alists=soup.find_all('a')\n",
        "\n",
        "for alist in alists:\n",
        "   if str(alist).find(\"月の予定\")!=-1:\n",
        "     #print(alist)\n",
        "     url1=alist.get(\"href\")\n",
        "     month_name = alist.get_text()\n",
        "     #print(url1,month_name)\n",
        "     break\n",
        "#最新の１個で止める\n",
        "\n",
        "#次は最新の予定のURLに行ってテキストを取ってくる\n",
        "\n",
        "html = requests.get(url1)\n",
        "soup = BeautifulSoup(html.content, \"html.parser\")\n",
        "\n",
        "alists=soup.find(class_=\"entry-body-text\").find_all(\"p\")\n",
        "i=0\n",
        "for alist in alists:\n",
        " print(i,alist.text)\n",
        " #print(i,alist)\n",
        " i=i+1"
      ],
      "execution_count": 11,
      "outputs": [
        {
          "output_type": "stream",
          "text": [
            "<a href=\"/kirara_kodaira/c/71125a8f4f055a9c541fcee7ec6ffe57\"><span class=\"mod-cat-name\">子育て広場の予定</span></a>\n",
            "0 白梅(きらら広場）　1日(火)11:00～12:30　場所が戻りました！白梅学園大学J棟ホール　自由遊び&誕生会&わらべうた、広いホールで走り回れます。\n",
            "1 ベビー三小　17日(木)10:00～11:45、第一会議室　お茶を飲んでホッとひと息する時間があります。\n",
            "2 18日(金)ベビー中央　10:00～12:00　中央公民館　和室つつじ　今月は、第3金曜日です。　和室のお部屋で、あかちゃんと、いっしょに、おしゃべりしましょう。出入り自由です。\n",
            "3  29日(火)だっこ　10:00〜12:00　中野産婦人科医院ホール(津田町)　大きな窓の明るい部屋の中、おもちゃ・わらべ唄で遊びましょう。\n",
            "4 29日(火)はなこ　10:00～12:00　鈴木公民館　和室　わらべ歌、大型絵本読み聞かせ。　\n",
            "5 きらら毎月イベント \n",
            "6  絵本と育ばなちょこっとわらべうた　\n",
            "7 4日(金)10:30～12:00　きらら事務所\n",
            "8  読み聞かせ＆おしゃべり。親子でのんびり過ごしましょう！\n",
            "9 参加無料、出入りも自由です。\n",
            "10  ベビー☆ママのふれあい体操\n",
            "11  0歳～1歳前後の赤ちゃんとママのふれあいの場です。\n",
            "12 31日(木)　大沼公民館・和室\n",
            "13 （受付１０：１５～）\n",
            "14 　 10：30～11：00　体操\n",
            "15 　 11：00～11：45　おしゃべりタイム　\n",
            "16 ・参加費 100円・持ち物 バスタオル　・予約はいりません。予防接種直後はご遠慮ください。\n",
            "17  　　　　\n",
            "18 　　 \n"
          ],
          "name": "stdout"
        }
      ]
    },
    {
      "cell_type": "code",
      "metadata": {
        "id": "q0vEuctvUZ3k",
        "colab_type": "code",
        "colab": {
          "base_uri": "https://localhost:8080/",
          "height": 371
        },
        "outputId": "af50c1c0-4a5e-4faf-c0d6-3b2ef22e2a62"
      },
      "source": [
        "i=0\n",
        "for alist in alists:\n",
        " #print(i,alist.text)\n",
        " print(i,alist)\n",
        " i=i+1"
      ],
      "execution_count": 10,
      "outputs": [
        {
          "output_type": "stream",
          "text": [
            "0 <p><img src=\"https://blogimg.goo.ne.jp/img_emoji/m_0237.gif\"/>白梅(きらら広場）<br/>　1日(火)11:00～12:30<br/>　場所が戻りました！白梅学園大学J棟ホール<br/>　自由遊び&amp;誕生会&amp;わらべうた、広いホールで走り回れます。</p>\n",
            "1 <p><img src=\"https://blogimg.goo.ne.jp/img_emoji/hamster_1.gif\"/><span>ベビー三小</span><br/><span>　17日(木)10:00～11:45、第一会議室</span><br/><span>　お茶を飲んでホッとひと息する時間があります。</span></p>\n",
            "2 <p><img src=\"https://blogimg.goo.ne.jp/img_emoji/hiyo_eye.gif\"/>18日(金)ベビー中央　10:00～12:00<br/>　中央公民館　和室つつじ<br/>　今月は、第3金曜日です。<br/>　和室のお部屋で、あかちゃんと、いっしょに、おしゃべりしましょう。出入り自由です。</p>\n",
            "3 <p align=\"left\"> <img src=\"https://blogimg.goo.ne.jp/img_emoji/m_0235.gif\"/>29日(火)だっこ　10:00〜12:00<br/>　中野産婦人科医院ホール(津田町)<br/>　大きな窓の明るい部屋の中、おもちゃ・わらべ唄で遊びましょう。</p>\n",
            "4 <p><img src=\"https://blogimg.goo.ne.jp/img_emoji/hawaii_plumeria.gif\"/>29日(火)はなこ　10:00～12:00<br/>　鈴木公民館　和室<br/>　わらべ歌、大型絵本読み聞かせ。<br/>　</p>\n",
            "5 <p><img src=\"https://blogimg.goo.ne.jp/img_emoji/m_0234.gif\"/>きらら毎月イベント <img src=\"https://blogimg.goo.ne.jp/img_emoji/m_0234.gif\"/></p>\n",
            "6 <p><img src=\"https://blogimg.goo.ne.jp/img_emoji/m_0070.gif\"/> 絵本と育ばな<img src=\"https://blogimg.goo.ne.jp/img_emoji/m_0146.gif\"/>ちょこっとわらべうた　</p>\n",
            "7 <p><img src=\"https://blogimg.goo.ne.jp/img_emoji/m_0213.gif\"/>4日(金)10:30～12:00　きらら事務所</p>\n",
            "8 <p> 読み聞かせ＆おしゃべり。親子でのんびり過ごしましょう！</p>\n",
            "9 <p>参加無料、出入りも自由です。<img src=\"https://blogimg.goo.ne.jp/img_emoji/hearts_pink.gif\"/></p>\n",
            "10 <p><img src=\"https://blogimg.goo.ne.jp/img_emoji/hiyob_uru.gif\"/> ベビー☆ママのふれあい体操<img src=\"https://blogimg.goo.ne.jp/img_emoji/hiyob_en.gif\"/></p>\n",
            "11 <p> 0歳～1歳前後の赤ちゃんとママのふれあいの場です。</p>\n",
            "12 <p><img src=\"https://blogimg.goo.ne.jp/img_emoji/m_0244.gif\"/>31日(木)　大沼公民館・和室</p>\n",
            "13 <p>（受付１０：１５～）</p>\n",
            "14 <p>　 10：30～11：00　体操</p>\n",
            "15 <p>　 11：00～11：45　おしゃべりタイム　</p>\n",
            "16 <p>・参加費 100円<br/><br/>・持ち物 バスタオル　<br/><br/>・予約はいりません。<img src=\"https://blogimg.goo.ne.jp/img_emoji/m_0220.gif\"/>予防接種直後はご遠慮ください。</p>\n",
            "17 <p> <img src=\"https://blogimg.goo.ne.jp/img_emoji/clover.gif\"/>　<img src=\"https://blogimg.goo.ne.jp/img_emoji/clover.gif\"/>　<img src=\"https://blogimg.goo.ne.jp/img_emoji/clover.gif\"/>　<img src=\"https://blogimg.goo.ne.jp/img_emoji/clover.gif\"/>　<img src=\"https://blogimg.goo.ne.jp/img_emoji/clover.gif\"/></p>\n",
            "18 <p>　　 </p>\n"
          ],
          "name": "stdout"
        }
      ]
    },
    {
      "cell_type": "markdown",
      "metadata": {
        "id": "Ngg16t23qfDe",
        "colab_type": "text"
      },
      "source": [
        "もし、ここから予定を作成しようと、すると。。　この人の文章の特徴を利用する。\n",
        "\n",
        "上の行番号1から4までは、１行でイベント内容がまとまっています。なので、例えば、「きらら毎月イベント」までは、１行ごとにイベントとして、日　時間　場所を取ってくるようにスライスする。\n",
        "それ以降は、<p><img src=\"　という文字がなんとなく、イベントの最初（区切り）を示しているよう。その言葉の間にあるものを一塊にすると、一個のイベント情報になる。と思います。"
      ]
    }
  ]
}