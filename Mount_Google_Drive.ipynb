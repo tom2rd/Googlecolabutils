{
  "nbformat": 4,
  "nbformat_minor": 0,
  "metadata": {
    "colab": {
      "name": "Mount Google Drive.ipynb",
      "version": "0.3.2",
      "provenance": [],
      "toc_visible": true,
      "include_colab_link": true
    },
    "kernelspec": {
      "name": "python3",
      "display_name": "Python 3"
    }
  },
  "cells": [
    {
      "cell_type": "markdown",
      "metadata": {
        "id": "view-in-github",
        "colab_type": "text"
      },
      "source": [
        "<a href=\"https://colab.research.google.com/github/tom2rd/Googlecolabutils/blob/master/Mount_Google_Drive.ipynb\" target=\"_parent\"><img src=\"https://colab.research.google.com/assets/colab-badge.svg\" alt=\"Open In Colab\"/></a>"
      ]
    },
    {
      "cell_type": "markdown",
      "metadata": {
        "id": "oK1JPQqyQSDK",
        "colab_type": "text"
      },
      "source": [
        "#Mount Google Drive \n",
        "下記を実行すると、google の認証手順（認証しますか？というのが出てきて、Keyが発行されます。そのKeyを入れると認証されます）を踏んで、Googleドライブにマウントすると、'My Drive'　というトップディレクトリがマウントされます。\n",
        "\n",
        "http://portaltan.hatenablog.com/entry/2018/11/01/175955"
      ]
    },
    {
      "cell_type": "code",
      "metadata": {
        "id": "YKKeW89eBw1M",
        "colab_type": "code",
        "colab": {
          "base_uri": "https://localhost:8080/",
          "height": 51
        },
        "outputId": "bfca13da-2b59-412a-e7f9-69c9d018bc7f"
      },
      "source": [
        "from google.colab import drive\n",
        "drive.mount('/gdrive')\n",
        "%cd /gdrive"
      ],
      "execution_count": 13,
      "outputs": [
        {
          "output_type": "stream",
          "text": [
            "Drive already mounted at /gdrive; to attempt to forcibly remount, call drive.mount(\"/gdrive\", force_remount=True).\n",
            "/gdrive\n"
          ],
          "name": "stdout"
        }
      ]
    },
    {
      "cell_type": "markdown",
      "metadata": {
        "id": "ooSlHQwxQ2iD",
        "colab_type": "text"
      },
      "source": [
        "#Change Directory の仕方\n",
        "cd My Drive/Colab Notebooks\n",
        "python で、Shellコマンドを直接さわる方法　\n",
        "このやり方だと、わかりやすい。。"
      ]
    },
    {
      "cell_type": "code",
      "metadata": {
        "id": "oK9jUjmAB8hY",
        "colab_type": "code",
        "colab": {}
      },
      "source": [
        "# ../　一つ上のディレクトリ　 や　./　このディレクトリ　が　 \n",
        "import os\n",
        "os.chdir('../My Drive/Colab Notebooks/') "
      ],
      "execution_count": 0,
      "outputs": []
    },
    {
      "cell_type": "code",
      "metadata": {
        "id": "O5fg6GdVPjZh",
        "colab_type": "code",
        "colab": {
          "base_uri": "https://localhost:8080/",
          "height": 445
        },
        "outputId": "c8c7842e-6b54-44a5-8b55-deecef7aea5a"
      },
      "source": [
        "# pwd や ls で確認してみます\n",
        "!pwd\n",
        "!ls -la"
      ],
      "execution_count": 29,
      "outputs": [
        {
          "output_type": "stream",
          "text": [
            "/gdrive/My Drive/Colab Notebooks\n",
            "total 8488\n",
            "-rw------- 1 root root 2706629 May 28 09:30  7a96b715e75297c7543b391572368ab0.0.png\n",
            "-rw------- 1 root root  457079 May 23 02:37 'BERT End to End (Fine-tuning + Predicting) with Cloud TPU: Sentence and Sentence-Pair Classification Tasks のコピー'\n",
            "-rw------- 1 root root 2355984 May 28 09:30  c6140ff001f7ff588da3492d40b523b1.0.png\n",
            "-rw------- 1 root root   19305 May 29 02:46  Comfirmlibraries2.ipynb\n",
            "-rw------- 1 root root     322 May 24 07:10  Googlecolabfiles.ipynb\n",
            "-rw------- 1 root root   62097 May 23 15:48  GoogleDriveSpreadSheetimport.ipynb\n",
            "-rw------- 1 root root 2830626 May 23 05:07  JanomeSummy.ipynb\n",
            "-rw------- 1 root root    5500 May 28 11:51  logo.png\n",
            "-rw------- 1 root root   29898 Apr 18 13:33  meep.ipynb\n",
            "-rw------- 1 root root   15215 May 29 07:34 'Mount Google Drive.ipynb'\n",
            "-rw------- 1 root root     312 May 28 06:57  OpenCV.ipynb\n",
            "-rw------- 1 root root   14963 May 24 16:25  Pytorch-seq2seq-test.ipynb\n",
            "-rw------- 1 root root   66446 May 15 09:02 'samplesearch.ipynb のコピー'\n",
            "-rw------- 1 root root   57954 May 17 01:38 'samplesearchtranslate.ipynb のコピー'\n",
            "drwx------ 2 root root    4096 May 29 07:35  testdir\n",
            "-rw------- 1 root root   27716 May 22 01:35  textsummarization.ipynb\n",
            "-rw------- 1 root root     229 Feb 20  2018  Untitled\n",
            "-rw------- 1 root root     321 Mar 28 12:32  Untitled0.ipynb\n",
            "-rw------- 1 root root     287 Feb 20  2018 'Untitled (1)'\n",
            "-rw------- 1 root root   30973 Mar 28 12:47  Untitled1.ipynb\n",
            "-rw------- 1 root root     383 Apr 18  2018 'Untitled (2)'\n",
            "-rw------- 1 root root     287 Jun  8  2018 'Untitled (3)'\n"
          ],
          "name": "stdout"
        }
      ]
    },
    {
      "cell_type": "markdown",
      "metadata": {
        "id": "DTH2AmsTQT5D",
        "colab_type": "text"
      },
      "source": [
        "なぬ？　cd は　！でなく、%のようです。"
      ]
    },
    {
      "cell_type": "code",
      "metadata": {
        "id": "f0hBqRlvQP_K",
        "colab_type": "code",
        "colab": {
          "base_uri": "https://localhost:8080/",
          "height": 34
        },
        "outputId": "fa0a86ce-cf50-4f2a-a59a-89347f45744d"
      },
      "source": [
        "%cd .."
      ],
      "execution_count": 17,
      "outputs": [
        {
          "output_type": "stream",
          "text": [
            "/gdrive/My Drive\n"
          ],
          "name": "stdout"
        }
      ]
    },
    {
      "cell_type": "markdown",
      "metadata": {
        "id": "R3bLsrpIRAiT",
        "colab_type": "text"
      },
      "source": [
        "# ローカル環境とのファイルのやりとり\n",
        "\n",
        "これできないとしんどいですね。"
      ]
    },
    {
      "cell_type": "code",
      "metadata": {
        "id": "EO2VGDVuQeoD",
        "colab_type": "code",
        "colab": {}
      },
      "source": [
        "from google.colab import files"
      ],
      "execution_count": 0,
      "outputs": []
    },
    {
      "cell_type": "code",
      "metadata": {
        "id": "nbD0Ssl7R4vQ",
        "colab_type": "code",
        "colab": {}
      },
      "source": [
        "#ファイルアップロード\n",
        "uploaded = files.upload()"
      ],
      "execution_count": 0,
      "outputs": []
    },
    {
      "cell_type": "code",
      "metadata": {
        "id": "hvQqsfiOcrdZ",
        "colab_type": "code",
        "colab": {}
      },
      "source": [
        "#ファイルダウンロード　ファイル名は変えてね\n",
        "files.download('{ファイル名}')"
      ],
      "execution_count": 0,
      "outputs": []
    },
    {
      "cell_type": "markdown",
      "metadata": {
        "id": "hvS526hPdcBk",
        "colab_type": "text"
      },
      "source": [
        "#その他の取り込み方など\n",
        "wget でインターネットから取り込めます\n",
        "ファイル操作などは、cat cp unzip gitcloneとかのコマンドも動きます"
      ]
    },
    {
      "cell_type": "code",
      "metadata": {
        "id": "ebNSUnfleIZd",
        "colab_type": "code",
        "colab": {}
      },
      "source": [
        "# wget　Google ドライブをマウントしてあると、Googleドライブの中にファイルができます。\n",
        "!wget https://tom2rd.sakura.ne.jp/wp/wp-content/uploads/2016/12/2016-12-06-4.png"
      ],
      "execution_count": 0,
      "outputs": []
    },
    {
      "cell_type": "code",
      "metadata": {
        "id": "inusH_EgeTzd",
        "colab_type": "code",
        "colab": {
          "base_uri": "https://localhost:8080/",
          "height": 34
        },
        "outputId": "62d21351-f0fe-4980-d7ed-6ff3a890799b"
      },
      "source": [
        "!ls 2016-12-06-4.png"
      ],
      "execution_count": 23,
      "outputs": [
        {
          "output_type": "stream",
          "text": [
            "2016-12-06-4.png\n"
          ],
          "name": "stdout"
        }
      ]
    },
    {
      "cell_type": "markdown",
      "metadata": {
        "id": "wm9KD0oBfRBK",
        "colab_type": "text"
      },
      "source": [
        "mkdir は　!　ですが、runは%、Writefileは%%"
      ]
    },
    {
      "cell_type": "code",
      "metadata": {
        "id": "geLMdr-4fW2u",
        "colab_type": "code",
        "colab": {}
      },
      "source": [
        "!mkdir ./testdir\n"
      ],
      "execution_count": 0,
      "outputs": []
    },
    {
      "cell_type": "markdown",
      "metadata": {
        "id": "xEs5gvPwhZUr",
        "colab_type": "text"
      },
      "source": [
        "このまま動かさない方がいいですけど、こんなコマンド類が動きます"
      ]
    },
    {
      "cell_type": "code",
      "metadata": {
        "id": "Oo8AT3Kcdi8o",
        "colab_type": "code",
        "colab": {}
      },
      "source": [
        "# git clone　フォルダ作ってからの方がいいですよ。\n",
        "!git clone https://xxx/xxx.git\n",
        "\n",
        "# pip コマンドは一応効きます。が。。。時々、入らないやつがあります。kaggle-api　は大丈夫でした。\n",
        "!pip install kaggle-api\n",
        "\n",
        "# .7z形式を扱う場合　apt-get も　聞くけど、\n",
        "!apt-get -y install p7zip-full\n",
        "\n",
        "# ファイルの解凍等\n",
        "!unzip xxx.zip\n",
        "!7z x xxx.7z\n",
        "!tar -zxvf xxx.tar.gz\n",
        "\n",
        "#　file の編集\n",
        "!cat xxx.py\n",
        "\n",
        "#　コマンドでのファイル書き込み\n",
        "%%writefile xxx.py\n",
        "\n",
        "#　Pythonプロクラムを動かす　これできるのは面白いけど。。Notebookじゃないですね（笑）\n",
        "%run xxx.py"
      ],
      "execution_count": 0,
      "outputs": []
    },
    {
      "cell_type": "markdown",
      "metadata": {
        "id": "-_MhstUfh-Pl",
        "colab_type": "text"
      },
      "source": [
        "GoogleドライブにおいたファイルをOpenCVで読み込んで、画像を表示させる。cv2_imshow だということに注意！！\n",
        "\n",
        "その他は、https://karaage.hatenadiary.jp/entry/2018/12/17/073000を参照しましょう。"
      ]
    },
    {
      "cell_type": "code",
      "metadata": {
        "id": "JYhbzj_RCJax",
        "colab_type": "code",
        "colab": {}
      },
      "source": [
        "import cv2\n",
        "import numpy as np\n",
        "from matplotlib import pyplot as plt\n",
        "font = cv2.FONT_HERSHEY_COMPLEX\n",
        "from google.colab.patches import cv2_imshow"
      ],
      "execution_count": 0,
      "outputs": []
    },
    {
      "cell_type": "code",
      "metadata": {
        "id": "ZJ7wNLFvQrkC",
        "colab_type": "code",
        "colab": {}
      },
      "source": [
        "img = cv2.imread(\"ファイル名\", cv2.IMREAD_COLOR )\n",
        "cv2_imshow(img)"
      ],
      "execution_count": 0,
      "outputs": []
    },
    {
      "cell_type": "markdown",
      "metadata": {
        "id": "0FcL29MXXAho",
        "colab_type": "text"
      },
      "source": [
        "# ファイル操作の方法でした"
      ]
    }
  ]
}