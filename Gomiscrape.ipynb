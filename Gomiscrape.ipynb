{
  "nbformat": 4,
  "nbformat_minor": 0,
  "metadata": {
    "colab": {
      "name": "Gomiscrape.ipynb",
      "version": "0.3.2",
      "provenance": [],
      "collapsed_sections": [],
      "include_colab_link": true
    },
    "kernelspec": {
      "name": "python3",
      "display_name": "Python 3"
    }
  },
  "cells": [
    {
      "cell_type": "markdown",
      "metadata": {
        "id": "view-in-github",
        "colab_type": "text"
      },
      "source": [
        "<a href=\"https://colab.research.google.com/github/tom2rd/Googlecolabutils/blob/master/Gomiscrape.ipynb\" target=\"_parent\"><img src=\"https://colab.research.google.com/assets/colab-badge.svg\" alt=\"Open In Colab\"/></a>"
      ]
    },
    {
      "cell_type": "markdown",
      "metadata": {
        "id": "w8LrYhTeUwgk",
        "colab_type": "text"
      },
      "source": [
        "# ５３Calのカレンダーから、Pythonでゴミを出す\n",
        "Beautifulsoup と CSVのライブラリーを使っています。\n"
      ]
    },
    {
      "cell_type": "code",
      "metadata": {
        "id": "PT5m3Dn9LwTC",
        "colab_type": "code",
        "colab": {}
      },
      "source": [
        "import urllib.request\n",
        "from bs4 import BeautifulSoup\n",
        "\n",
        "html = urllib.request.urlopen(\"http://www.53cal.jp/areacalendar/?city=1130130&area=1130130112\")\n",
        "soup = BeautifulSoup(html)"
      ],
      "execution_count": 0,
      "outputs": []
    },
    {
      "cell_type": "markdown",
      "metadata": {
        "id": "MOTGVX4PVKpa",
        "colab_type": "text"
      },
      "source": [
        "ソースを見ると、Tableのcalboxというクラスにデータが収容されていたので、そのデータを取ってきています。"
      ]
    },
    {
      "cell_type": "code",
      "metadata": {
        "id": "-p3XGoZo_Wlc",
        "colab_type": "code",
        "colab": {
          "base_uri": "https://localhost:8080/",
          "height": 119
        },
        "outputId": "f6a37512-cdb2-47dc-dd69-6742f4d0329a"
      },
      "source": [
        "import csv\n",
        "\n",
        "table = soup.findAll(\"table\", {\"class\":\"calbox\"})[0]\n",
        "rows = table.find_all(\"tr\")\n",
        "# print(table)\n",
        "#print(rows)\n",
        "\n",
        "with open(\"egomi.csv\", \"w\", encoding='utf-8') as file:\n",
        "    writer = csv.writer(file)\n",
        "    for row in rows:\n",
        "        csvRow = []\n",
        "        for cell in row.findAll(['td', 'th']):\n",
        "            csvRow.append(cell.get_text().replace('\\n',''))\n",
        "        writer.writerow(csvRow)\n",
        "        print(csvRow)"
      ],
      "execution_count": 13,
      "outputs": [
        {
          "output_type": "stream",
          "text": [
            "['', '', '', '', '', '', '']\n",
            "['', '燃やすごみ', 'ビン・有害性資源・金属製のなべ等', '段ボール、新聞紙', '燃やすごみ', 'プラスチック製容器包装', '']\n",
            "['', '燃やすごみ', '燃やさないごみカン', '古布類、ふとん、雑誌(本)・雑がみ、シュレッダーくず', '燃やすごみ', 'プラスチック製容器包装ペットボトル', '']\n",
            "['', '敬老の日燃やすごみ', 'ビン・有害性資源・金属製のなべ等', '段ボール、新聞紙', '燃やすごみ', 'プラスチック製容器包装', '']\n",
            "['', '秋分の日燃やすごみ', 'カン', '古布類、ふとん、雑誌(本)・雑がみ、シュレッダーくず', '燃やすごみ', 'プラスチック製容器包装ペットボトル', '']\n",
            "['', '燃やすごみ', '\\xa0', '\\xa0', '\\xa0', '\\xa0', '\\xa0']\n"
          ],
          "name": "stdout"
        }
      ]
    },
    {
      "cell_type": "markdown",
      "metadata": {
        "id": "ofKSMym6VWNK",
        "colab_type": "text"
      },
      "source": [
        "# 参考情報"
      ]
    },
    {
      "cell_type": "code",
      "metadata": {
        "id": "ZO_hCheiyrYz",
        "colab_type": "code",
        "outputId": "cb7fb452-7e0b-4e10-9f0b-d1442d9cdae5",
        "colab": {
          "base_uri": "https://localhost:8080/",
          "height": 34
        }
      },
      "source": [
        "soup.title.string"
      ],
      "execution_count": 2,
      "outputs": [
        {
          "output_type": "execute_result",
          "data": {
            "text/plain": [
              "'ゴミ収集日お知らせサービス53cal(ゴミカレ)\\u3000ゴミの日メールをお届けします：小平市鈴木町のクリーンカレンダー'"
            ]
          },
          "metadata": {
            "tags": []
          },
          "execution_count": 2
        }
      ]
    },
    {
      "cell_type": "code",
      "metadata": {
        "id": "eHwtIkH0OVxb",
        "colab_type": "code",
        "outputId": "0e3c93df-5313-4517-ab47-12474a87e0a6",
        "colab": {
          "base_uri": "https://localhost:8080/",
          "height": 459
        }
      },
      "source": [
        "soup.find_all(id='cal_kind')"
      ],
      "execution_count": 0,
      "outputs": [
        {
          "output_type": "execute_result",
          "data": {
            "text/plain": [
              "[<div id=\"cal_kind\">燃やすごみ</div>,\n",
              " <div id=\"cal_kind\">プラスチック製容器包装</div>,\n",
              " <div id=\"cal_kind\">ペットボトル</div>,\n",
              " <div id=\"cal_kind\">燃やすごみ</div>,\n",
              " <div id=\"cal_kind\">ビン・有害性資源・金属製のなべ等</div>,\n",
              " <div id=\"cal_kind\">段ボール、新聞紙</div>,\n",
              " <div id=\"cal_kind\">燃やすごみ</div>,\n",
              " <div id=\"cal_kind\">プラスチック製容器包装</div>,\n",
              " <div id=\"cal_kind\">燃やすごみ</div>,\n",
              " <div id=\"cal_kind\">燃やさないごみ</div>,\n",
              " <div id=\"cal_kind\">カン</div>,\n",
              " <div id=\"cal_kind\">古布類、ふとん、雑誌(本)・雑がみ、シュレッダーくず</div>,\n",
              " <div id=\"cal_kind\">燃やすごみ</div>,\n",
              " <div id=\"cal_kind\">プラスチック製容器包装</div>,\n",
              " <div id=\"cal_kind\">ペットボトル</div>,\n",
              " <div id=\"cal_kind\">燃やすごみ</div>,\n",
              " <div id=\"cal_kind\">ビン・有害性資源・金属製のなべ等</div>,\n",
              " <div id=\"cal_kind\">段ボール、新聞紙</div>,\n",
              " <div id=\"cal_kind\">燃やすごみ</div>,\n",
              " <div id=\"cal_kind\">プラスチック製容器包装</div>,\n",
              " <div id=\"cal_kind\">燃やすごみ</div>,\n",
              " <div id=\"cal_kind\">カン</div>,\n",
              " <div id=\"cal_kind\">古布類、ふとん、雑誌(本)・雑がみ、シュレッダーくず</div>,\n",
              " <div id=\"cal_kind\">燃やすごみ</div>,\n",
              " <div id=\"cal_kind\">プラスチック製容器包装</div>,\n",
              " <div id=\"cal_kind\">ペットボトル</div>]"
            ]
          },
          "metadata": {
            "tags": []
          },
          "execution_count": 15
        }
      ]
    },
    {
      "cell_type": "code",
      "metadata": {
        "id": "LNQYK_Ocya5M",
        "colab_type": "code",
        "outputId": "6976d195-8af5-40d7-a059-8f12f8d735cf",
        "colab": {
          "base_uri": "https://localhost:8080/",
          "height": 459
        }
      },
      "source": [
        "soup.select('div[id=\"cal_kind\"]')"
      ],
      "execution_count": 0,
      "outputs": [
        {
          "output_type": "execute_result",
          "data": {
            "text/plain": [
              "[<div id=\"cal_kind\">燃やすごみ</div>,\n",
              " <div id=\"cal_kind\">プラスチック製容器包装</div>,\n",
              " <div id=\"cal_kind\">ペットボトル</div>,\n",
              " <div id=\"cal_kind\">燃やすごみ</div>,\n",
              " <div id=\"cal_kind\">ビン・有害性資源・金属製のなべ等</div>,\n",
              " <div id=\"cal_kind\">段ボール、新聞紙</div>,\n",
              " <div id=\"cal_kind\">燃やすごみ</div>,\n",
              " <div id=\"cal_kind\">プラスチック製容器包装</div>,\n",
              " <div id=\"cal_kind\">燃やすごみ</div>,\n",
              " <div id=\"cal_kind\">燃やさないごみ</div>,\n",
              " <div id=\"cal_kind\">カン</div>,\n",
              " <div id=\"cal_kind\">古布類、ふとん、雑誌(本)・雑がみ、シュレッダーくず</div>,\n",
              " <div id=\"cal_kind\">燃やすごみ</div>,\n",
              " <div id=\"cal_kind\">プラスチック製容器包装</div>,\n",
              " <div id=\"cal_kind\">ペットボトル</div>,\n",
              " <div id=\"cal_kind\">燃やすごみ</div>,\n",
              " <div id=\"cal_kind\">ビン・有害性資源・金属製のなべ等</div>,\n",
              " <div id=\"cal_kind\">段ボール、新聞紙</div>,\n",
              " <div id=\"cal_kind\">燃やすごみ</div>,\n",
              " <div id=\"cal_kind\">プラスチック製容器包装</div>,\n",
              " <div id=\"cal_kind\">燃やすごみ</div>,\n",
              " <div id=\"cal_kind\">カン</div>,\n",
              " <div id=\"cal_kind\">古布類、ふとん、雑誌(本)・雑がみ、シュレッダーくず</div>,\n",
              " <div id=\"cal_kind\">燃やすごみ</div>,\n",
              " <div id=\"cal_kind\">プラスチック製容器包装</div>,\n",
              " <div id=\"cal_kind\">ペットボトル</div>]"
            ]
          },
          "metadata": {
            "tags": []
          },
          "execution_count": 21
        }
      ]
    },
    {
      "cell_type": "code",
      "metadata": {
        "id": "6_dP9CA7zZQ3",
        "colab_type": "code",
        "outputId": "7a35ecc2-b4f2-4125-a328-ea8247d40ef0",
        "colab": {
          "base_uri": "https://localhost:8080/",
          "height": 459
        }
      },
      "source": [
        "gomi_part = soup.find_all(\"div\", id=\"cal_kind\") \n",
        "gomi_list = []\n",
        "for div_tag in gomi_part:\n",
        " gomi_list.append(div_tag.text)\n",
        "len(gomi_list)\n",
        "gomi_list"
      ],
      "execution_count": 0,
      "outputs": [
        {
          "output_type": "execute_result",
          "data": {
            "text/plain": [
              "['燃やすごみ',\n",
              " 'プラスチック製容器包装',\n",
              " 'ペットボトル',\n",
              " '燃やすごみ',\n",
              " 'ビン・有害性資源・金属製のなべ等',\n",
              " '段ボール、新聞紙',\n",
              " '燃やすごみ',\n",
              " 'プラスチック製容器包装',\n",
              " '燃やすごみ',\n",
              " '燃やさないごみ',\n",
              " 'カン',\n",
              " '古布類、ふとん、雑誌(本)・雑がみ、シュレッダーくず',\n",
              " '燃やすごみ',\n",
              " 'プラスチック製容器包装',\n",
              " 'ペットボトル',\n",
              " '燃やすごみ',\n",
              " 'ビン・有害性資源・金属製のなべ等',\n",
              " '段ボール、新聞紙',\n",
              " '燃やすごみ',\n",
              " 'プラスチック製容器包装',\n",
              " '燃やすごみ',\n",
              " 'カン',\n",
              " '古布類、ふとん、雑誌(本)・雑がみ、シュレッダーくず',\n",
              " '燃やすごみ',\n",
              " 'プラスチック製容器包装',\n",
              " 'ペットボトル']"
            ]
          },
          "metadata": {
            "tags": []
          },
          "execution_count": 32
        }
      ]
    },
    {
      "cell_type": "code",
      "metadata": {
        "id": "kmnVhcvYQXCB",
        "colab_type": "code",
        "outputId": "4cbf2462-8ee4-4582-d76e-53fb8a749ffc",
        "colab": {
          "base_uri": "https://localhost:8080/",
          "height": 1000
        }
      },
      "source": [
        "soup.select(\"#areacalendar\")"
      ],
      "execution_count": 0,
      "outputs": [
        {
          "output_type": "execute_result",
          "data": {
            "text/plain": [
              "[<div id=\"areacalendar\">\n",
              " <div id=\"calendar\">\n",
              " <div id=\"cal_tt\"><div id=\"cal_year\"><table border=\"0\" cellpadding=\"0\" cellspacing=\"0\"><tr><td><img alt=\"\" height=\"44\" src=\"/images/cal_2019.png\" width=\"80\"/></td><td><img alt=\"\" height=\"44\" src=\"/images/cal_8.png\" width=\"215\"/></td></tr></table></div><div id=\"cal_month\"><table summary=\"カレンダー見出し\">\n",
              " <tr>\n",
              " <th colspan=\"7\">\n",
              " </th>\n",
              " </tr>\n",
              " <tr>\n",
              " <th align=\"right\" colspan=\"7\">\n",
              " <a href=\"?city=1130130&amp;area=1130130112\"><img alt=\"当月\" height=\"15\" id=\"cal_now\" name=\"cal_now\" onmouseout=\"MM_swapImgRestore()\" onmouseover=\"MM_swapImage('cal_now','','/images/cal_now_a.gif',1)\" src=\"/images/cal_now.gif\" width=\"30\"/></a> <img alt=\"\" height=\"15\" src=\"/images/cal_arrow.gif\" width=\"26\"/> <a href=\"?city=1130130&amp;area=1130130112&amp;yy=2019&amp;mm=9\"><img alt=\"翌月\" height=\"15\" id=\"cal_next\" name=\"cal_next\" onmouseout=\"MM_swapImgRestore()\" onmouseover=\"MM_swapImage('cal_next','','/images/cal_next_a.gif',1)\" src=\"/images/cal_next.gif\" width=\"30\"/></a></th>\n",
              " </tr>\n",
              " </table>\n",
              " </div></div><div id=\"cal_bg\"><table border=\"1\" cellpadding=\"0\" cellspacing=\"0\" class=\"calbox\" summary=\"カレンダー\">\n",
              " <tr>\n",
              " <th class=\"sunday\"><img src=\"/images/cal_sun.gif\"/></th>\n",
              " <th class=\"weekday\"><img src=\"/images/cal_mon.gif\"/></th>\n",
              " <th class=\"weekday\"><img src=\"/images/cal_tue.gif\"/></th>\n",
              " <th class=\"weekday\"><img src=\"/images/cal_wed.gif\"/></th>\n",
              " <th class=\"weekday\"><img src=\"/images/cal_thu.gif\"/></th>\n",
              " <th class=\"weekday\"><img src=\"/images/cal_fri.gif\"/></th>\n",
              " <th class=\"saturday\"><img src=\"/images/cal_sat.gif\"/></th>\n",
              " </tr>\n",
              " <tr>\n",
              " <td class=\"otherday\">\n",
              "  </td><td class=\"otherday\">\n",
              "  </td><td class=\"otherday\">\n",
              "  </td><td class=\"otherday\">\n",
              "  </td><td class=\"theday\">\n",
              " <p><img align=\"left\" src=\"/images/1.png\"/><br clear=\"left\"/><a style=\"text-decoration:none;\" title=\"燃やすごみ\"></a></p><div id=\"cal_kind\">燃やすごみ</div></td>\n",
              " <td class=\"theday\">\n",
              " <p><img align=\"left\" src=\"/images/2.png\"/><br clear=\"left\"/><a style=\"text-decoration:none;\" title=\"プラスチック製容器包装\n",
              " ペットボトル\"></a></p><div id=\"cal_kind\">プラスチック製容器包装</div><div id=\"cal_kind\">ペットボトル</div></td>\n",
              " <td class=\"saturday\">\n",
              " <p><img align=\"left\" src=\"/images/3b.png\"/><br clear=\"left\"/><a style=\"text-decoration:none;\" title=\"\"></a></p></td>\n",
              " </tr>\n",
              " <tr>\n",
              " <td class=\"sunday\">\n",
              " <p><img align=\"left\" src=\"/images/4r.png\"/><br clear=\"left\"/><a style=\"text-decoration:none;\" title=\"\"></a></p></td>\n",
              " <td class=\"theday\">\n",
              " <p><img align=\"left\" src=\"/images/5.png\"/><br clear=\"left\"/><a style=\"text-decoration:none;\" title=\"燃やすごみ\"></a></p><div id=\"cal_kind\">燃やすごみ</div></td>\n",
              " <td class=\"theday\">\n",
              " <p><img align=\"left\" src=\"/images/6.png\"/><br clear=\"left\"/><a style=\"text-decoration:none;\" title=\"ビン・有害性資源・金属製のなべ等\"></a></p><div id=\"cal_kind\">ビン・有害性資源・金属製のなべ等</div></td>\n",
              " <td class=\"theday\">\n",
              " <p><img align=\"left\" src=\"/images/7.png\"/><br clear=\"left\"/><a style=\"text-decoration:none;\" title=\"段ボール、新聞紙\"></a></p><div id=\"cal_kind\">段ボール、新聞紙</div></td>\n",
              " <td class=\"theday\">\n",
              " <p><img align=\"left\" src=\"/images/8.png\"/><br clear=\"left\"/><a style=\"text-decoration:none;\" title=\"燃やすごみ\"></a></p><div id=\"cal_kind\">燃やすごみ</div></td>\n",
              " <td class=\"theday\">\n",
              " <p><img align=\"left\" src=\"/images/9.png\"/><br clear=\"left\"/><a style=\"text-decoration:none;\" title=\"プラスチック製容器包装\"></a></p><div id=\"cal_kind\">プラスチック製容器包装</div></td>\n",
              " <td class=\"saturday\">\n",
              " <p><img align=\"left\" src=\"/images/10b.png\"/><br clear=\"left\"/><a style=\"text-decoration:none;\" title=\"\"></a></p></td>\n",
              " </tr>\n",
              " <tr>\n",
              " <td class=\"sunday\">\n",
              " <p><img align=\"left\" src=\"/images/11r.png\"/><br/>山の日<br clear=\"left\"/><a style=\"text-decoration:none;\" title=\"\"></a></p></td>\n",
              " <td class=\"theday_sun\">\n",
              " <p><img align=\"left\" src=\"/images/12r.png\"/><br/>振替休日<br clear=\"left\"/><a style=\"text-decoration:none;\" title=\"燃やすごみ\"></a></p><div id=\"cal_kind\">燃やすごみ</div></td>\n",
              " <td class=\"theday\">\n",
              " <p><img align=\"left\" src=\"/images/13.png\"/><br clear=\"left\"/><a style=\"text-decoration:none;\" title=\"燃やさないごみ\n",
              " カン\"></a></p><div id=\"cal_kind\">燃やさないごみ</div><div id=\"cal_kind\">カン</div></td>\n",
              " <td class=\"theday\">\n",
              " <p><img align=\"left\" src=\"/images/14.png\"/><br clear=\"left\"/><a style=\"text-decoration:none;\" title=\"古布類、ふとん、雑誌(本)・雑がみ、シュレッダーくず\"></a></p><div id=\"cal_kind\">古布類、ふとん、雑誌(本)・雑がみ、シュレッダーくず</div></td>\n",
              " <td class=\"theday\">\n",
              " <p><img align=\"left\" src=\"/images/15.png\"/><br clear=\"left\"/><a style=\"text-decoration:none;\" title=\"燃やすごみ\"></a></p><div id=\"cal_kind\">燃やすごみ</div></td>\n",
              " <td class=\"theday\">\n",
              " <p><img align=\"left\" src=\"/images/16.png\"/><br clear=\"left\"/><a style=\"text-decoration:none;\" title=\"プラスチック製容器包装\n",
              " ペットボトル\"></a></p><div id=\"cal_kind\">プラスチック製容器包装</div><div id=\"cal_kind\">ペットボトル</div></td>\n",
              " <td class=\"saturday\">\n",
              " <p><img align=\"left\" src=\"/images/17b.png\"/><br clear=\"left\"/><a style=\"text-decoration:none;\" title=\"\"></a></p></td>\n",
              " </tr>\n",
              " <tr>\n",
              " <td class=\"sunday\">\n",
              " <p><img align=\"left\" src=\"/images/18r.png\"/><br clear=\"left\"/><a style=\"text-decoration:none;\" title=\"\"></a></p></td>\n",
              " <td class=\"theday\">\n",
              " <p><img align=\"left\" src=\"/images/19.png\"/><br clear=\"left\"/><a style=\"text-decoration:none;\" title=\"燃やすごみ\"></a></p><div id=\"cal_kind\">燃やすごみ</div></td>\n",
              " <td class=\"theday\">\n",
              " <p><img align=\"left\" src=\"/images/20.png\"/><br clear=\"left\"/><a style=\"text-decoration:none;\" title=\"ビン・有害性資源・金属製のなべ等\"></a></p><div id=\"cal_kind\">ビン・有害性資源・金属製のなべ等</div></td>\n",
              " <td class=\"theday\">\n",
              " <p><img align=\"left\" src=\"/images/21.png\"/><br clear=\"left\"/><a style=\"text-decoration:none;\" title=\"段ボール、新聞紙\"></a></p><div id=\"cal_kind\">段ボール、新聞紙</div></td>\n",
              " <td class=\"theday\">\n",
              " <p><img align=\"left\" src=\"/images/22.png\"/><br clear=\"left\"/><a style=\"text-decoration:none;\" title=\"燃やすごみ\"></a></p><div id=\"cal_kind\">燃やすごみ</div></td>\n",
              " <td class=\"theday\">\n",
              " <p><img align=\"left\" src=\"/images/23.png\"/><br clear=\"left\"/><a style=\"text-decoration:none;\" title=\"プラスチック製容器包装\"></a></p><div id=\"cal_kind\">プラスチック製容器包装</div></td>\n",
              " <td class=\"saturday\">\n",
              " <p><img align=\"left\" src=\"/images/24b.png\"/><br clear=\"left\"/><a style=\"text-decoration:none;\" title=\"\"></a></p></td>\n",
              " </tr>\n",
              " <tr>\n",
              " <td class=\"sunday\">\n",
              " <p><img align=\"left\" src=\"/images/25r.png\"/><br clear=\"left\"/><a style=\"text-decoration:none;\" title=\"\"></a></p></td>\n",
              " <td class=\"theday\">\n",
              " <p><img align=\"left\" src=\"/images/26.png\"/><br clear=\"left\"/><a style=\"text-decoration:none;\" title=\"燃やすごみ\"></a></p><div id=\"cal_kind\">燃やすごみ</div></td>\n",
              " <td class=\"today\">\n",
              " <p><img align=\"left\" src=\"/images/27.png\"/><br clear=\"left\"/><a style=\"text-decoration:none;\" title=\"カン\"></a></p><div id=\"cal_kind\">カン</div></td>\n",
              " <td class=\"theday\">\n",
              " <p><img align=\"left\" src=\"/images/28.png\"/><br clear=\"left\"/><a style=\"text-decoration:none;\" title=\"古布類、ふとん、雑誌(本)・雑がみ、シュレッダーくず\"></a></p><div id=\"cal_kind\">古布類、ふとん、雑誌(本)・雑がみ、シュレッダーくず</div></td>\n",
              " <td class=\"theday\">\n",
              " <p><img align=\"left\" src=\"/images/29.png\"/><br clear=\"left\"/><a style=\"text-decoration:none;\" title=\"燃やすごみ\"></a></p><div id=\"cal_kind\">燃やすごみ</div></td>\n",
              " <td class=\"theday\">\n",
              " <p><img align=\"left\" src=\"/images/30.png\"/><br clear=\"left\"/><a style=\"text-decoration:none;\" title=\"プラスチック製容器包装\n",
              " ペットボトル\"></a></p><div id=\"cal_kind\">プラスチック製容器包装</div><div id=\"cal_kind\">ペットボトル</div></td>\n",
              " <td class=\"saturday\">\n",
              " <p><img align=\"left\" src=\"/images/31b.png\"/><br clear=\"left\"/><a style=\"text-decoration:none;\" title=\"\"></a></p></td>\n",
              " </tr>\n",
              " </table>\n",
              " </div><img alt=\"\" height=\"6\" src=\"/images/cal_u.gif\" width=\"685\"/><div class=\"comment\">ゴミカレのカレンダーは小平市のホームページ掲載情報をもとに掲載しております。<br/>自治体の掲載情報と異なる場合は「<a href=\"mailto:53cal-query@53cal.jp?subject=[53cal]問い合わせ(掲載情報:1130130112)\">53cal-query@53cal.jp</a>」までご連絡をお願いいたします。</div>\n",
              " <div class=\"comment\"></div>\n",
              " <div class=\"comment\"></div>\n",
              " </div>\n",
              " <div id=\"gomical_parts\"><br/>\n",
              " <div id=\"gomical_parts_text\">\n",
              " </div>\n",
              " <table class=\"frame\">\n",
              " </table>\n",
              " </div>\n",
              " </div>]"
            ]
          },
          "metadata": {
            "tags": []
          },
          "execution_count": 34
        }
      ]
    }
  ]
}