{
  "nbformat": 4,
  "nbformat_minor": 0,
  "metadata": {
    "colab": {
      "name": "Twitter_API_sample.ipynb",
      "provenance": [],
      "include_colab_link": true
    },
    "kernelspec": {
      "name": "python3",
      "display_name": "Python 3"
    }
  },
  "cells": [
    {
      "cell_type": "markdown",
      "metadata": {
        "id": "view-in-github",
        "colab_type": "text"
      },
      "source": [
        "<a href=\"https://colab.research.google.com/github/tom2rd/Googlecolabutils/blob/master/Twitter_API_sample.ipynb\" target=\"_parent\"><img src=\"https://colab.research.google.com/assets/colab-badge.svg\" alt=\"Open In Colab\"/></a>"
      ]
    },
    {
      "cell_type": "markdown",
      "metadata": {
        "id": "y8mMD92AuxCY",
        "colab_type": "text"
      },
      "source": [
        "#Twitter APIでデータ取得\n",
        "Twitter APIでデータ取得\n",
        "* Twitter module\n",
        " * https://github.com/sixohsix/twitter/tree/master\n",
        "* Tweepy module\n",
        " * https://kurozumi.github.io/tweepy/index.html#\n",
        "\n",
        "Twitter API の　KEY と　Securetの取得は\n",
        "* https://developer.twitter.com/"
      ]
    },
    {
      "cell_type": "code",
      "metadata": {
        "id": "PoLeSIHLus6B",
        "colab_type": "code",
        "colab": {}
      },
      "source": [
        "!pip install twitter\n",
        "!pip install tweepy"
      ],
      "execution_count": 0,
      "outputs": []
    },
    {
      "cell_type": "markdown",
      "metadata": {
        "id": "1Wxc1mJNvLN_",
        "colab_type": "text"
      },
      "source": [
        "API の認証　"
      ]
    },
    {
      "cell_type": "code",
      "metadata": {
        "id": "hzL9eS8mvNBN",
        "colab_type": "code",
        "colab": {}
      },
      "source": [
        "from twitter import *\n",
        "\n",
        "# put your keys\n",
        "CONSUMER_KEY = 'XXXXX'\n",
        "CONSUMER_SECRET = 'XXXXX'\n",
        "ACCESS_TOKEN = 'XXXXX'\n",
        "ACCESS_TOKEN_SECRET = 'XXXXX'\n",
        "\n",
        "auth = OAuth(ACCESS_TOKEN,ACCESS_TOKEN_SECRET,CONSUMER_KEY,CONSUMER_SECRET)\n",
        "twitter = Twitter(auth = auth)\n",
        "twitter"
      ],
      "execution_count": 0,
      "outputs": []
    },
    {
      "cell_type": "markdown",
      "metadata": {
        "id": "GHV0rX7Nv_ab",
        "colab_type": "text"
      },
      "source": [
        "トレンド取得"
      ]
    },
    {
      "cell_type": "code",
      "metadata": {
        "id": "pVf-5__YwBnU",
        "colab_type": "code",
        "colab": {}
      },
      "source": [
        "# id23424856 means JPN\n",
        "results = twitter.trends.place(_id = 23424856)\n",
        "#print(results)\n",
        "list_trend = []\n",
        "for result in results:\n",
        "  for trend in result['trends']:\n",
        "    list_trend.append(trend['name'])\n",
        "print(list_trend)"
      ],
      "execution_count": 0,
      "outputs": []
    },
    {
      "cell_type": "code",
      "metadata": {
        "id": "vFJzCxh9QQHC",
        "colab_type": "code",
        "colab": {}
      },
      "source": [
        "# Home timeline 取得 1つめを表示\n",
        "results = twitter.statuses.home_timeline()\n",
        "results[0]"
      ],
      "execution_count": 0,
      "outputs": []
    },
    {
      "cell_type": "markdown",
      "metadata": {
        "id": "d2WOCoUORrcc",
        "colab_type": "text"
      },
      "source": [
        "抽出"
      ]
    },
    {
      "cell_type": "code",
      "metadata": {
        "id": "lPcNdxVzzPzf",
        "colab_type": "code",
        "colab": {}
      },
      "source": [
        "#レスポンスから、ユーザー名　ツイート内容　言語　を取得\n",
        "print(results[0]['user']['name'])\n",
        "print(results[0]['text'])\n",
        "print(results[0]['lang'])\n"
      ],
      "execution_count": 0,
      "outputs": []
    },
    {
      "cell_type": "code",
      "metadata": {
        "id": "VXINeRY5Ynx_",
        "colab_type": "code",
        "colab": {}
      },
      "source": [
        "# コマンドラインのヘルプを取得　（追加の認証が必要でした）\n",
        "!twitter -h"
      ],
      "execution_count": 0,
      "outputs": []
    },
    {
      "cell_type": "code",
      "metadata": {
        "id": "QN39-8u5SPwu",
        "colab_type": "code",
        "colab": {}
      },
      "source": [
        "#特定ユーザーのツイートの取得\n",
        "results = twitter.statuses.user_timeline(screen_name=\"tom2rd\")\n",
        "results[0]"
      ],
      "execution_count": 0,
      "outputs": []
    },
    {
      "cell_type": "code",
      "metadata": {
        "id": "F-B9C82igvRj",
        "colab_type": "code",
        "colab": {}
      },
      "source": [
        "# Search\n",
        "twitter.search.tweets(q=\"#pycon\", tweet_mode='extended')"
      ],
      "execution_count": 0,
      "outputs": []
    },
    {
      "cell_type": "code",
      "metadata": {
        "id": "o8OxyCqsnXTy",
        "colab_type": "code",
        "colab": {}
      },
      "source": [
        "twitter.search.tweets(q='tom2rd', geocode='35.7271559,139.4387704,10km')"
      ],
      "execution_count": 0,
      "outputs": []
    },
    {
      "cell_type": "markdown",
      "metadata": {
        "id": "m9BnP5roe-wn",
        "colab_type": "text"
      },
      "source": [
        "\n",
        "\n",
        "---\n",
        "\n",
        "\n",
        "\n",
        "---\n",
        "\n"
      ]
    },
    {
      "cell_type": "markdown",
      "metadata": {
        "id": "KTJ4rE734o37",
        "colab_type": "text"
      },
      "source": [
        "# Tweepy\n",
        "* Doc\n",
        "* https://kurozumi.github.io/tweepy/index.html"
      ]
    },
    {
      "cell_type": "markdown",
      "metadata": {
        "id": "Sml6hzoCRuy3",
        "colab_type": "text"
      },
      "source": [
        "キーワード検索（トレンドから）"
      ]
    },
    {
      "cell_type": "code",
      "metadata": {
        "id": "hg5jhHFz4q5H",
        "colab_type": "code",
        "colab": {}
      },
      "source": [
        "import tweepy\n",
        "\n",
        "auth = tweepy.OAuthHandler(CONSUMER_KEY, CONSUMER_SECRET)\n",
        "auth.set_access_token(ACCESS_TOKEN, ACCESS_TOKEN_SECRET)\n",
        "api = tweepy.API(auth)\n",
        "\n",
        "words = list_trend\n",
        "count = 100\n",
        "\n",
        "list_text = []\n",
        "for word in words:\n",
        "    tweets = api.search(q=word, count=count)\n",
        "    for tweet in tweets:\n",
        "        list_text.append(tweet.text)\n",
        "        print(tweet.text)"
      ],
      "execution_count": 0,
      "outputs": []
    },
    {
      "cell_type": "markdown",
      "metadata": {
        "id": "UpVm_DWbjTvP",
        "colab_type": "text"
      },
      "source": [
        "https://developer.twitter.com/en/docs/tweets/search/api-reference/get-search-tweets"
      ]
    },
    {
      "cell_type": "code",
      "metadata": {
        "id": "sbU0DKrMnpmc",
        "colab_type": "code",
        "colab": {}
      },
      "source": [
        "api.search(q='tom2rd', geocode='35.7271559,139.4387704,10km')\n",
        "#api.search(q='エリカ',count='10')"
      ],
      "execution_count": 0,
      "outputs": []
    }
  ]
}