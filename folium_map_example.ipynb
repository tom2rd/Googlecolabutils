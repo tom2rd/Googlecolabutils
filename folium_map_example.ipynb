{
  "nbformat": 4,
  "nbformat_minor": 0,
  "metadata": {
    "colab": {
      "name": "folium_map_example.ipynb",
      "provenance": [],
      "toc_visible": true,
      "include_colab_link": true
    },
    "kernelspec": {
      "name": "python3",
      "display_name": "Python 3"
    }
  },
  "cells": [
    {
      "cell_type": "markdown",
      "metadata": {
        "id": "view-in-github",
        "colab_type": "text"
      },
      "source": [
        "<a href=\"https://colab.research.google.com/github/tom2rd/Googlecolabutils/blob/master/folium_map_example.ipynb\" target=\"_parent\"><img src=\"https://colab.research.google.com/assets/colab-badge.svg\" alt=\"Open In Colab\"/></a>"
      ]
    },
    {
      "cell_type": "markdown",
      "metadata": {
        "id": "HJqgZYyZFuam",
        "colab_type": "text"
      },
      "source": [
        "# Folium \n",
        "Python data, leaflet.js maps\n",
        "* 本家\n",
        " * https://python-visualization.github.io/folium/\n",
        " * https://github.com/python-visualization/folium/tree/master/examples\n",
        "   * 例が沢山あります\n",
        "   * JupyterNotebook での例\n",
        "   * https://nbviewer.jupyter.org/github/python-visualization/folium/tree/master/examples/\n",
        "* チートシート\n",
        " * https://www.andrewchallis.co.uk/portfolio/python-a-folium-cheatsheet/\n",
        " * https://andrewchallis.co.uk/wp-content/uploads/2017/12/Folium.pdf\n",
        "\n",
        "* 簡単な使い方\n",
        " * https://qiita.com/pork_steak/items/f551fa09794831100faa\n",
        "* 本格的な使い方\n",
        " * https://takaishikawa42.hatenablog.com/entry/2019/01/11/234716\n",
        "\n",
        "* Google colab で使っている例\n",
        " * https://tech.actindi.net/2018/09/28/083000\n",
        "\n",
        "* Python のGEO/GIS関係のライブラリー例\n",
        " * https://www.gis-py.com/entry/2018/12/26/170327\n",
        "\n"
      ]
    },
    {
      "cell_type": "markdown",
      "metadata": {
        "id": "4DKIrTpSOliq",
        "colab_type": "text"
      },
      "source": [
        "\n",
        "\n",
        "---\n",
        "\n"
      ]
    },
    {
      "cell_type": "markdown",
      "metadata": {
        "id": "YvFnUVBDIZLY",
        "colab_type": "text"
      },
      "source": [
        "folium はじめから入ってました（笑）"
      ]
    },
    {
      "cell_type": "code",
      "metadata": {
        "id": "WmvnBFEDFaWn",
        "colab_type": "code",
        "colab": {}
      },
      "source": [
        "# !pip install folium"
      ],
      "execution_count": 0,
      "outputs": []
    },
    {
      "cell_type": "markdown",
      "metadata": {
        "id": "IOsLP01VIePf",
        "colab_type": "text"
      },
      "source": [
        "シェー公園の位置を出してみる\n",
        "https://www.google.co.jp/maps/place/%E8%8A%B1%E5%8D%97%E7%AC%AC%EF%BC%91%E5%85%90%E7%AB%A5%E5%85%AC%E5%9C%92/@35.7237788,139.5104503,19z/data=!4m5!3m4!1s0x0:0x9a77393fadb67882!8m2!3d35.7243479!4d139.5107432?hl=ja"
      ]
    },
    {
      "cell_type": "code",
      "metadata": {
        "id": "YpuVx6BfKZCo",
        "colab_type": "code",
        "colab": {}
      },
      "source": [
        "import folium"
      ],
      "execution_count": 0,
      "outputs": []
    },
    {
      "cell_type": "code",
      "metadata": {
        "id": "Uw08vVehEYGN",
        "colab_type": "code",
        "colab": {
          "base_uri": "https://localhost:8080/",
          "height": 544
        },
        "outputId": "7816925b-9760-4b74-a024-77fda10ef438"
      },
      "source": [
        "# ズームレベル20で、中心座標にして、地図を作る\n",
        "m = folium.Map(location=[35.7243645,139.5105908], zoom_start=20)\n",
        "#マーカーに、ポップアップと、クリックミーを付ける\n",
        "folium.Marker([35.7243645,139.5105908],popup='シェー公園',tooltip='click me').add_to(m)\n",
        "#セーブする\n",
        "m.save(\"sheeePark.html\")\n",
        "#表示する\n",
        "m"
      ],
      "execution_count": 12,
      "outputs": [
        {
          "output_type": "execute_result",
          "data": {
            "text/html": [
              "<div style=\"width:100%;\"><div style=\"position:relative;width:100%;height:0;padding-bottom:60%;\"><iframe src=\"data:text/html;charset=utf-8;base64,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\" style=\"position:absolute;width:100%;height:100%;left:0;top:0;border:none !important;\" allowfullscreen webkitallowfullscreen mozallowfullscreen></iframe></div></div>"
            ],
            "text/plain": [
              "<folium.folium.Map at 0x7faa113af438>"
            ]
          },
          "metadata": {
            "tags": []
          },
          "execution_count": 12
        }
      ]
    },
    {
      "cell_type": "code",
      "metadata": {
        "id": "qpYQYWUgO-P-",
        "colab_type": "code",
        "colab": {
          "base_uri": "https://localhost:8080/",
          "height": 425
        },
        "outputId": "f2420e15-62f4-4fcc-d71f-efaed359ef9d"
      },
      "source": [
        "# htmlを見てみる\n",
        "!ls\n",
        "!more sheeePark.html"
      ],
      "execution_count": 13,
      "outputs": [
        {
          "output_type": "stream",
          "text": [
            "megane.html  sample_data  sheeePark.html\n",
            "<!DOCTYPE html>\n",
            "<head>    \n",
            "    <meta http-equiv=\"content-type\" content=\"text/html; charset=UTF-8\" />\n",
            "    <script>L_PREFER_CANVAS=false; L_NO_TOUCH=false; L_DISABLE_3D=false;</script\n",
            ">\n",
            "    <script src=\"https://cdn.jsdelivr.net/npm/leaflet@1.4.0/dist/leaflet.js\"></s\n",
            "cript>\n",
            "    <script src=\"https://code.jquery.com/jquery-1.12.4.min.js\"></script>\n",
            "    <script src=\"https://maxcdn.bootstrapcdn.com/bootstrap/3.2.0/js/bootstrap.mi\n",
            "n.js\"></script>\n",
            "    <script src=\"https://cdnjs.cloudflare.com/ajax/libs/Leaflet.awesome-markers/\n",
            "2.0.2/leaflet.awesome-markers.js\"></script>\n",
            "    <link rel=\"stylesheet\" href=\"https://cdn.jsdelivr.net/npm/leaflet@1.4.0/dist\n",
            "/leaflet.css\"/>\n",
            "    <link rel=\"stylesheet\" href=\"https://maxcdn.bootstrapcdn.com/bootstrap/3.2.0\n",
            "/css/bootstrap.min.css\"/>\n",
            "    <link rel=\"stylesheet\" href=\"https://maxcdn.bootstrapcdn.com/bootstrap/3.2.0\n",
            "/css/bootstrap-theme.min.css\"/>\n",
            "    <link rel=\"stylesheet\" href=\"https://maxcdn.bootstrapcdn.com/font-awesome/4.\n",
            "6.3/css/font-awesome.min.css\"/>\n",
            "    <link rel=\"stylesheet\" href=\"https://cdnjs.cloudflare.com/ajax/libs/Leaflet.\n",
            "awesome-markers/2.0.2/leaflet.awesome-markers.css\"/>\n",
            "    <link rel=\"stylesheet\" href=\"https://rawcdn.githack.com/python-visualization\n",
            "\u001b[K"
          ],
          "name": "stdout"
        }
      ]
    },
    {
      "cell_type": "markdown",
      "metadata": {
        "id": "WymEkXb9Vszc",
        "colab_type": "text"
      },
      "source": [
        "ファイルダウンロードして、おいて見ました。\n",
        "\n"
      ]
    },
    {
      "cell_type": "code",
      "metadata": {
        "id": "rNFE6m-KUxFn",
        "colab_type": "code",
        "colab": {}
      },
      "source": [
        "from google.colab import files\n",
        "\n",
        "files.download('sheeePark.html')"
      ],
      "execution_count": 0,
      "outputs": []
    },
    {
      "cell_type": "markdown",
      "metadata": {
        "id": "WIc4EcSsPZG3",
        "colab_type": "text"
      },
      "source": [
        "地図だけなら、このHTMLをサーバーに置けば表示できますね。\n",
        "https://tom2rd.sakura.ne.jp/hanakotech/parkmap/sheeePark.html"
      ]
    },
    {
      "cell_type": "markdown",
      "metadata": {
        "id": "ZFgk6y4auEYr",
        "colab_type": "text"
      },
      "source": [
        "Marker \n",
        "\n",
        "* 以下のプラグインを入れるといろいろマーカーがいじれるらしい\n",
        "* https://nbviewer.jupyter.org/github/python-visualization/folium/blob/master/examples/Plugins.ipynb\n",
        "* https://github.com/marslan390/BeautifyMarker\n",
        "\n",
        "Marker Iconは、こちらのフォント類が使えます\n",
        "* https://glyphsearch.com/?library=font-awesome\n",
        "\n",
        "他の例\n",
        "* https://leafletjs.com/examples/custom-icons/\n"
      ]
    },
    {
      "cell_type": "code",
      "metadata": {
        "id": "BgbNobBKXKLQ",
        "colab_type": "code",
        "colab": {
          "base_uri": "https://localhost:8080/",
          "height": 544
        },
        "outputId": "662537ad-1af7-400f-ed39-decf976c6f1a"
      },
      "source": [
        "from folium import plugins\n",
        "# ズームレベル20で、中心座標にして、地図を作る\n",
        "m = folium.Map(location=[35.7243645,139.5105908], zoom_start=20)\n",
        "#マーカーに、ポップアップと、クリックミーを付ける\n",
        "folium.Marker([35.7243645,139.5105908],\n",
        "              popup='<h2>シェー公園</h2>',\n",
        "              tooltip=\"シェー公園\",\n",
        "              icon=folium.plugins.BeautifyIcon(icon='tree')).add_to(m)\n",
        "#セーブする\n",
        "m.save(\"sheeePark.html\")\n",
        "#表示する\n",
        "m"
      ],
      "execution_count": 30,
      "outputs": [
        {
          "output_type": "execute_result",
          "data": {
            "text/html": [
              "<div style=\"width:100%;\"><div style=\"position:relative;width:100%;height:0;padding-bottom:60%;\"><iframe src=\"data:text/html;charset=utf-8;base64,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\" style=\"position:absolute;width:100%;height:100%;left:0;top:0;border:none !important;\" allowfullscreen webkitallowfullscreen mozallowfullscreen></iframe></div></div>"
            ],
            "text/plain": [
              "<folium.folium.Map at 0x7faa105db8d0>"
            ]
          },
          "metadata": {
            "tags": []
          },
          "execution_count": 30
        }
      ]
    },
    {
      "cell_type": "markdown",
      "metadata": {
        "id": "9mCBEJY71AxV",
        "colab_type": "text"
      },
      "source": [
        "Float image を追加\n",
        "\n",
        "* いろんなアセットが使えます \n",
        "*  https://github.com/SECOORA/static_assets\n"
      ]
    },
    {
      "cell_type": "code",
      "metadata": {
        "id": "idu6Nia52UZh",
        "colab_type": "code",
        "colab": {
          "base_uri": "https://localhost:8080/",
          "height": 544
        },
        "outputId": "13ebd185-c475-4bb2-8091-c3bba8a1359f"
      },
      "source": [
        "import os\n",
        "from folium.plugins import FloatImage\n",
        "\n",
        "url = ('https://raw.githubusercontent.com/SECOORA/static_assets/'\n",
        "       'master/maps/img/rose.png')\n",
        "m = folium.Map(location=[35.7243645,139.5105908], zoom_start=20)\n",
        "#マーカーに、ポップアップと、クリックミーを付ける\n",
        "folium.Marker([35.7243645,139.5105908],\n",
        "              popup='<h2>シェー公園</h2>',\n",
        "              tooltip=\"シェー公園\",\n",
        "              icon=folium.plugins.BeautifyIcon(icon='tree')).add_to(m)\n",
        "FloatImage(url, bottom=40, left=65).add_to(m)\n",
        "\n",
        "#セーブする\n",
        "m.save('sheePark.html')\n",
        "m"
      ],
      "execution_count": 32,
      "outputs": [
        {
          "output_type": "execute_result",
          "data": {
            "text/html": [
              "<div style=\"width:100%;\"><div style=\"position:relative;width:100%;height:0;padding-bottom:60%;\"><iframe src=\"data:text/html;charset=utf-8;base64,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\" style=\"position:absolute;width:100%;height:100%;left:0;top:0;border:none !important;\" allowfullscreen webkitallowfullscreen mozallowfullscreen></iframe></div></div>"
            ],
            "text/plain": [
              "<folium.folium.Map at 0x7faa10597908>"
            ]
          },
          "metadata": {
            "tags": []
          },
          "execution_count": 32
        }
      ]
    },
    {
      "cell_type": "markdown",
      "metadata": {
        "id": "RivbKydc5Vfx",
        "colab_type": "text"
      },
      "source": [
        "Dual map も書ける\n",
        "\n",
        "https://nbviewer.jupyter.org/github/python-visualization/folium/blob/master/examples/plugin-DualMap.ipynb"
      ]
    },
    {
      "cell_type": "code",
      "metadata": {
        "id": "y9H5IJD_5aAz",
        "colab_type": "code",
        "colab": {
          "base_uri": "https://localhost:8080/",
          "height": 544
        },
        "outputId": "6f581918-852d-4da7-87e6-53c96873648a"
      },
      "source": [
        "m = folium.plugins.DualMap(location=(35.7243645,139.5105908), tiles='cartodbpositron', zoom_start=16)\n",
        "\n",
        "fg_both = folium.FeatureGroup(name='markers_both').add_to(m)\n",
        "fg_1 = folium.FeatureGroup(name='markers_1').add_to(m.m1)\n",
        "fg_2 = folium.FeatureGroup(name='markers_2').add_to(m.m2)\n",
        "\n",
        "icon_red = folium.Icon(color='red')\n",
        "folium.Marker((35.7243645,139.5105908), tooltip='both', icon=icon_red).add_to(fg_both)\n",
        "folium.Marker((35.7243645,139.5116918), tooltip='1').add_to(fg_1)\n",
        "folium.Marker((35.7243645,139.5105938), tooltip='2').add_to(fg_2)\n",
        "\n",
        "folium.LayerControl(collapsed=False).add_to(m)\n",
        "m.save('sheePark2.html')\n",
        "m"
      ],
      "execution_count": 37,
      "outputs": [
        {
          "output_type": "execute_result",
          "data": {
            "text/html": [
              "<div style=\"width:100%;\"><div style=\"position:relative;width:100%;height:0;padding-bottom:60%;\"><iframe src=\"data:text/html;charset=utf-8;base64,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\" style=\"position:absolute;width:100%;height:100%;left:0;top:0;border:none !important;\" allowfullscreen webkitallowfullscreen mozallowfullscreen></iframe></div></div>"
            ],
            "text/plain": [
              "<folium.plugins.dual_map.DualMap at 0x7faa105bb1d0>"
            ]
          },
          "metadata": {
            "tags": []
          },
          "execution_count": 37
        }
      ]
    },
    {
      "cell_type": "markdown",
      "metadata": {
        "id": "qj9VGsPU7nbZ",
        "colab_type": "text"
      },
      "source": [
        "これもHTMLができるので、そのまま出すのも便利かも\n",
        "\n",
        "https://tom2rd.sakura.ne.jp/hanakotech/parkmap/sheePark2.html"
      ]
    }
  ]
}