{
  "nbformat": 4,
  "nbformat_minor": 0,
  "metadata": {
    "colab": {
      "name": "folium_map_example.ipynb",
      "provenance": [],
      "toc_visible": true,
      "include_colab_link": true
    },
    "kernelspec": {
      "name": "python3",
      "display_name": "Python 3"
    }
  },
  "cells": [
    {
      "cell_type": "markdown",
      "metadata": {
        "id": "view-in-github",
        "colab_type": "text"
      },
      "source": [
        "<a href=\"https://colab.research.google.com/github/tom2rd/Googlecolabutils/blob/master/folium_map_example.ipynb\" target=\"_parent\"><img src=\"https://colab.research.google.com/assets/colab-badge.svg\" alt=\"Open In Colab\"/></a>"
      ]
    },
    {
      "cell_type": "markdown",
      "metadata": {
        "id": "HJqgZYyZFuam",
        "colab_type": "text"
      },
      "source": [
        "# Folium \n",
        "Python data, leaflet.js maps\n",
        "* 本家\n",
        " * https://python-visualization.github.io/folium/\n",
        " * https://github.com/python-visualization/folium/tree/master/examples\n",
        "   * 例が沢山あります\n",
        "   * JupyterNotebook での例\n",
        "   * https://nbviewer.jupyter.org/github/python-visualization/folium/tree/master/examples/\n",
        "* チートシート\n",
        " * https://www.andrewchallis.co.uk/portfolio/python-a-folium-cheatsheet/\n",
        " * https://andrewchallis.co.uk/wp-content/uploads/2017/12/Folium.pdf\n",
        "\n",
        "* 簡単な使い方\n",
        " * https://qiita.com/pork_steak/items/f551fa09794831100faa\n",
        "* 本格的な使い方\n",
        " * https://takaishikawa42.hatenablog.com/entry/2019/01/11/234716\n",
        "\n",
        "* Google colab で使っている例\n",
        " * https://tech.actindi.net/2018/09/28/083000\n",
        "\n",
        "* Python のGEO/GIS関係のライブラリー例\n",
        " * https://www.gis-py.com/entry/2018/12/26/170327\n",
        "\n"
      ]
    },
    {
      "cell_type": "markdown",
      "metadata": {
        "id": "4DKIrTpSOliq",
        "colab_type": "text"
      },
      "source": [
        "\n",
        "\n",
        "---\n",
        "\n"
      ]
    },
    {
      "cell_type": "markdown",
      "metadata": {
        "id": "YvFnUVBDIZLY",
        "colab_type": "text"
      },
      "source": [
        "folium はじめから入ってました（笑）"
      ]
    },
    {
      "cell_type": "code",
      "metadata": {
        "id": "WmvnBFEDFaWn",
        "colab_type": "code",
        "colab": {}
      },
      "source": [
        "# !pip install folium"
      ],
      "execution_count": 0,
      "outputs": []
    },
    {
      "cell_type": "markdown",
      "metadata": {
        "id": "IOsLP01VIePf",
        "colab_type": "text"
      },
      "source": [
        "シェー公園の位置を出してみる\n",
        "https://www.google.co.jp/maps/place/%E8%8A%B1%E5%8D%97%E7%AC%AC%EF%BC%91%E5%85%90%E7%AB%A5%E5%85%AC%E5%9C%92/@35.7237788,139.5104503,19z/data=!4m5!3m4!1s0x0:0x9a77393fadb67882!8m2!3d35.7243479!4d139.5107432?hl=ja"
      ]
    },
    {
      "cell_type": "code",
      "metadata": {
        "id": "YpuVx6BfKZCo",
        "colab_type": "code",
        "colab": {}
      },
      "source": [
        "import folium"
      ],
      "execution_count": 0,
      "outputs": []
    },
    {
      "cell_type": "code",
      "metadata": {
        "id": "Uw08vVehEYGN",
        "colab_type": "code",
        "outputId": "7816925b-9760-4b74-a024-77fda10ef438",
        "colab": {
          "base_uri": "https://localhost:8080/",
          "height": 544
        }
      },
      "source": [
        "# ズームレベル20で、中心座標にして、地図を作る\n",
        "m = folium.Map(location=[35.7243645,139.5105908], zoom_start=20)\n",
        "#マーカーに、ポップアップと、クリックミーを付ける\n",
        "folium.Marker([35.7243645,139.5105908],popup='シェー公園',tooltip='click me').add_to(m)\n",
        "#セーブする\n",
        "m.save(\"sheeePark.html\")\n",
        "#表示する\n",
        "m"
      ],
      "execution_count": 0,
      "outputs": [
        {
          "output_type": "execute_result",
          "data": {
            "text/html": [
              "<div style=\"width:100%;\"><div style=\"position:relative;width:100%;height:0;padding-bottom:60%;\"><iframe src=\"data:text/html;charset=utf-8;base64,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\" style=\"position:absolute;width:100%;height:100%;left:0;top:0;border:none !important;\" allowfullscreen webkitallowfullscreen mozallowfullscreen></iframe></div></div>"
            ],
            "text/plain": [
              "<folium.folium.Map at 0x7faa113af438>"
            ]
          },
          "metadata": {
            "tags": []
          },
          "execution_count": 12
        }
      ]
    },
    {
      "cell_type": "code",
      "metadata": {
        "id": "qpYQYWUgO-P-",
        "colab_type": "code",
        "outputId": "f2420e15-62f4-4fcc-d71f-efaed359ef9d",
        "colab": {
          "base_uri": "https://localhost:8080/",
          "height": 425
        }
      },
      "source": [
        "# htmlを見てみる\n",
        "!ls\n",
        "!more sheeePark.html"
      ],
      "execution_count": 0,
      "outputs": [
        {
          "output_type": "stream",
          "text": [
            "megane.html  sample_data  sheeePark.html\n",
            "<!DOCTYPE html>\n",
            "<head>    \n",
            "    <meta http-equiv=\"content-type\" content=\"text/html; charset=UTF-8\" />\n",
            "    <script>L_PREFER_CANVAS=false; L_NO_TOUCH=false; L_DISABLE_3D=false;</script\n",
            ">\n",
            "    <script src=\"https://cdn.jsdelivr.net/npm/leaflet@1.4.0/dist/leaflet.js\"></s\n",
            "cript>\n",
            "    <script src=\"https://code.jquery.com/jquery-1.12.4.min.js\"></script>\n",
            "    <script src=\"https://maxcdn.bootstrapcdn.com/bootstrap/3.2.0/js/bootstrap.mi\n",
            "n.js\"></script>\n",
            "    <script src=\"https://cdnjs.cloudflare.com/ajax/libs/Leaflet.awesome-markers/\n",
            "2.0.2/leaflet.awesome-markers.js\"></script>\n",
            "    <link rel=\"stylesheet\" href=\"https://cdn.jsdelivr.net/npm/leaflet@1.4.0/dist\n",
            "/leaflet.css\"/>\n",
            "    <link rel=\"stylesheet\" href=\"https://maxcdn.bootstrapcdn.com/bootstrap/3.2.0\n",
            "/css/bootstrap.min.css\"/>\n",
            "    <link rel=\"stylesheet\" href=\"https://maxcdn.bootstrapcdn.com/bootstrap/3.2.0\n",
            "/css/bootstrap-theme.min.css\"/>\n",
            "    <link rel=\"stylesheet\" href=\"https://maxcdn.bootstrapcdn.com/font-awesome/4.\n",
            "6.3/css/font-awesome.min.css\"/>\n",
            "    <link rel=\"stylesheet\" href=\"https://cdnjs.cloudflare.com/ajax/libs/Leaflet.\n",
            "awesome-markers/2.0.2/leaflet.awesome-markers.css\"/>\n",
            "    <link rel=\"stylesheet\" href=\"https://rawcdn.githack.com/python-visualization\n",
            "\u001b[K"
          ],
          "name": "stdout"
        }
      ]
    },
    {
      "cell_type": "markdown",
      "metadata": {
        "id": "WymEkXb9Vszc",
        "colab_type": "text"
      },
      "source": [
        "ファイルダウンロードして、おいて見ました。\n",
        "\n"
      ]
    },
    {
      "cell_type": "code",
      "metadata": {
        "id": "rNFE6m-KUxFn",
        "colab_type": "code",
        "colab": {}
      },
      "source": [
        "from google.colab import files\n",
        "\n",
        "files.download('sheePark2.html')"
      ],
      "execution_count": 0,
      "outputs": []
    },
    {
      "cell_type": "markdown",
      "metadata": {
        "id": "WIc4EcSsPZG3",
        "colab_type": "text"
      },
      "source": [
        "地図だけなら、このHTMLをサーバーに置けば表示できますね。\n",
        "https://tom2rd.sakura.ne.jp/hanakotech/parkmap/sheeePark.html"
      ]
    },
    {
      "cell_type": "markdown",
      "metadata": {
        "id": "ZFgk6y4auEYr",
        "colab_type": "text"
      },
      "source": [
        "Marker \n",
        "\n",
        "* 以下のプラグインを入れるといろいろマーカーがいじれるらしい\n",
        "* https://nbviewer.jupyter.org/github/python-visualization/folium/blob/master/examples/Plugins.ipynb\n",
        "* https://github.com/marslan390/BeautifyMarker\n",
        "\n",
        "Marker Iconは、こちらのフォント類が使えます\n",
        "* https://glyphsearch.com/?library=font-awesome\n",
        "\n",
        "他の例\n",
        "* https://leafletjs.com/examples/custom-icons/\n"
      ]
    },
    {
      "cell_type": "code",
      "metadata": {
        "id": "BgbNobBKXKLQ",
        "colab_type": "code",
        "outputId": "52dbe25c-9d95-41e9-a5ec-ad26a244a16f",
        "colab": {
          "base_uri": "https://localhost:8080/",
          "height": 658
        }
      },
      "source": [
        "from folium import plugins\n",
        "# ズームレベル20で、中心座標にして、地図を作る\n",
        "m = folium.Map(location=[35.7243645,139.5105908], zoom_start=20)\n",
        "#マーカーに、ポップアップと、クリックミーを付ける\n",
        "folium.Marker([35.7243645,139.5105908],\n",
        "              popup='<h2>シェー公園</h2>',\n",
        "              tooltip=\"シェー公園\",\n",
        "              icon=folium.plugins.BeautifyIcon(icon='tree')).add_to(m)\n",
        "#セーブする\n",
        "m.save(\"sheeePark.html\")\n",
        "#表示する\n",
        "m"
      ],
      "execution_count": 4,
      "outputs": [
        {
          "output_type": "execute_result",
          "data": {
            "text/html": [
              "<div style=\"width:100%;\"><div style=\"position:relative;width:100%;height:0;padding-bottom:60%;\"><iframe src=\"data:text/html;charset=utf-8;base64,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\" style=\"position:absolute;width:100%;height:100%;left:0;top:0;border:none !important;\" allowfullscreen webkitallowfullscreen mozallowfullscreen></iframe></div></div>"
            ],
            "text/plain": [
              "<folium.folium.Map at 0x7f19d1dd0dd8>"
            ]
          },
          "metadata": {
            "tags": []
          },
          "execution_count": 4
        }
      ]
    },
    {
      "cell_type": "markdown",
      "metadata": {
        "id": "9mCBEJY71AxV",
        "colab_type": "text"
      },
      "source": [
        "Float image を追加\n",
        "\n",
        "* いろんなアセットが使えます \n",
        "*  https://github.com/SECOORA/static_assets\n"
      ]
    },
    {
      "cell_type": "code",
      "metadata": {
        "id": "idu6Nia52UZh",
        "colab_type": "code",
        "outputId": "4e1ab75b-3342-4fc4-b7a3-d7efe2f5f4f7",
        "colab": {
          "base_uri": "https://localhost:8080/",
          "height": 658
        }
      },
      "source": [
        "import os\n",
        "from folium.plugins import FloatImage\n",
        "\n",
        "url = ('https://raw.githubusercontent.com/SECOORA/static_assets/'\n",
        "       'master/maps/img/rose.png')\n",
        "m = folium.Map(location=[35.7243645,139.5105908], zoom_start=20)\n",
        "#マーカーに、ポップアップと、クリックミーを付ける\n",
        "folium.Marker([35.7243645,139.5105908],\n",
        "              popup='<h2>シェー公園</h2>',\n",
        "              tooltip=\"シェー公園\",\n",
        "              icon=folium.plugins.BeautifyIcon(icon='tree')).add_to(m)\n",
        "FloatImage(url, bottom=40, left=65).add_to(m)\n",
        "\n",
        "#セーブする\n",
        "m.save('sheePark.html')\n",
        "m"
      ],
      "execution_count": 5,
      "outputs": [
        {
          "output_type": "execute_result",
          "data": {
            "text/html": [
              "<div style=\"width:100%;\"><div style=\"position:relative;width:100%;height:0;padding-bottom:60%;\"><iframe src=\"data:text/html;charset=utf-8;base64,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\" style=\"position:absolute;width:100%;height:100%;left:0;top:0;border:none !important;\" allowfullscreen webkitallowfullscreen mozallowfullscreen></iframe></div></div>"
            ],
            "text/plain": [
              "<folium.folium.Map at 0x7f19d1d295c0>"
            ]
          },
          "metadata": {
            "tags": []
          },
          "execution_count": 5
        }
      ]
    },
    {
      "cell_type": "markdown",
      "metadata": {
        "id": "RivbKydc5Vfx",
        "colab_type": "text"
      },
      "source": [
        "Dual map も書ける\n",
        "\n",
        "https://nbviewer.jupyter.org/github/python-visualization/folium/blob/master/examples/plugin-DualMap.ipynb"
      ]
    },
    {
      "cell_type": "code",
      "metadata": {
        "id": "y9H5IJD_5aAz",
        "colab_type": "code",
        "outputId": "bdb95940-4ac9-4677-cb2f-cad5b4cdc344",
        "colab": {
          "base_uri": "https://localhost:8080/",
          "height": 658
        }
      },
      "source": [
        "m = folium.plugins.DualMap(location=(35.7243645,139.5105908),tiles=None, zoom_start=16)\n",
        "\n",
        "fg_both = folium.FeatureGroup(name='markers_both').add_to(m)\n",
        "fg_1 = folium.FeatureGroup(name='markers_1').add_to(m.m1)\n",
        "fg_2 = folium.FeatureGroup(name='markers_2').add_to(m.m2)\n",
        "folium.TileLayer('openstreetmap').add_to(m.m1)\n",
        "folium.TileLayer('cartodbpositron').add_to(m.m2)\n",
        "\n",
        "icon_red = folium.Icon(color='red')\n",
        "folium.Marker((35.7243645,139.5105908), tooltip='both', icon=icon_red).add_to(fg_both)\n",
        "folium.Marker((35.7243645,139.5116918), tooltip='1').add_to(fg_1)\n",
        "folium.Marker((35.7243645,139.5105938), tooltip='2').add_to(fg_2)\n",
        "\n",
        "\n",
        "folium.LayerControl(collapsed=False).add_to(m)\n",
        "m.save('sheePark2.html')\n",
        "m"
      ],
      "execution_count": 8,
      "outputs": [
        {
          "output_type": "execute_result",
          "data": {
            "text/html": [
              "<div style=\"width:100%;\"><div style=\"position:relative;width:100%;height:0;padding-bottom:60%;\"><iframe src=\"data:text/html;charset=utf-8;base64,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\" style=\"position:absolute;width:100%;height:100%;left:0;top:0;border:none !important;\" allowfullscreen webkitallowfullscreen mozallowfullscreen></iframe></div></div>"
            ],
            "text/plain": [
              "<folium.plugins.dual_map.DualMap at 0x7f19d261a0b8>"
            ]
          },
          "metadata": {
            "tags": []
          },
          "execution_count": 8
        }
      ]
    },
    {
      "cell_type": "markdown",
      "metadata": {
        "id": "qj9VGsPU7nbZ",
        "colab_type": "text"
      },
      "source": [
        "これもHTMLができるので、そのまま出すのも便利かも\n",
        "\n",
        "https://tom2rd.sakura.ne.jp/hanakotech/parkmap/sheePark2.html"
      ]
    }
  ]
}